{
 "cells": [
  {
   "cell_type": "code",
   "execution_count": 279,
   "metadata": {},
   "outputs": [],
   "source": [
    "import numpy as np\n",
    "import pandas as pd\n",
    "import re\n",
    "from matplotlib import pyplot as plt\n",
    "from sklearn.model_selection import train_test_split\n",
    "from sklearn import preprocessing"
   ]
  },
  {
   "cell_type": "code",
   "execution_count": 271,
   "metadata": {},
   "outputs": [],
   "source": [
    "def remove_Outliers(churn_dataset_filtered_train):\n",
    "    nrows = churn_dataset_filtered_train.shape[0]\n",
    "    indexes_to_be_dropped = []\n",
    "    for i in range(0,nrows):\n",
    "        count = 0\n",
    "        for col in churn_dataset_filtered_train.columns:\n",
    "            if churn_dataset_filtered_train[col].iloc[[i]].values[0] >np.mean(churn_dataset_filtered_train[col])+2*np.std(churn_dataset_filtered_train[col]):\n",
    "                count = count+1\n",
    "            if count >10:\n",
    "                indexes_to_be_dropped.append(i)\n",
    "                break\n",
    "    return indexes_to_be_dropped"
   ]
  },
  {
   "cell_type": "code",
   "execution_count": 4,
   "metadata": {},
   "outputs": [],
   "source": [
    "#This function checks the validity of float,it is specifically used for the various float columns to check if the strings are\n",
    "#valid floating point strings\n",
    "def isFloat(s):\n",
    "    if re.match(\"^\\d+\\.\\d+$\", s) is None:\n",
    "        if re.match(\"^\\d+\",s) is None:\n",
    "            return False\n",
    "        else:\n",
    "            return True\n",
    "    return True"
   ]
  },
  {
   "cell_type": "code",
   "execution_count": 160,
   "metadata": {},
   "outputs": [],
   "source": [
    "def isStrictlyFloat(s):\n",
    "    if re.match(\"^\\d+\\.\\d+$\", s) is None:\n",
    "        return False\n",
    "    else:\n",
    "        return True"
   ]
  },
  {
   "cell_type": "code",
   "execution_count": 6,
   "metadata": {},
   "outputs": [],
   "source": [
    "#This function visualizes boxplots\n",
    "def BoxPlot(churn_dataset_filtered_train,attributes):\n",
    "    for attribute in attributes:\n",
    "        cf = churn_dataset_filtered_train[~churn_dataset_filtered_train[attribute].isna()]\n",
    "        churned_std_og_t2t = cf[cf['churn'] ==1]\n",
    "        nonchurned_std_og_t2t = cf[cf['churn'] ==0]\n",
    "        plt.boxplot(churned_std_og_t2t[attribute])\n",
    "        plt.show()\n",
    "        print(np.median(churned_std_og_t2t[attribute]))\n",
    "        print(np.mean(churned_std_og_t2t[attribute]))\n",
    "        plt.boxplot(nonchurned_std_og_t2t[attribute])\n",
    "        plt.show()\n",
    "        print(np.median(nonchurned_std_og_t2t[attribute]))\n",
    "        print(np.mean(nonchurned_std_og_t2t[attribute]))"
   ]
  },
  {
   "cell_type": "code",
   "execution_count": 7,
   "metadata": {},
   "outputs": [],
   "source": [
    "#This function imputes with the median\n",
    "def ImputeMedian(churn_dataset_filtered_train,attributes):\n",
    "    for attribute in attributes:\n",
    "        cf = churn_dataset_filtered_train[~churn_dataset_filtered_train[attribute].isna()]\n",
    "        notna_notchurn_loc_og_t2m_mou = cf[(cf['churn']==0)]\n",
    "        notna_churn_loc_og_t2m_mou = cf[(cf['churn']==1)]\n",
    "        churn_dataset_filtered_train.loc[((churn_dataset_filtered_train['churn'] ==1) &(churn_dataset_filtered_train[attribute].isna())),[attribute]]=np.median(notna_churn_loc_og_t2m_mou[attribute])\n",
    "        churn_dataset_filtered_train.loc[((churn_dataset_filtered_train['churn'] ==0 )&(churn_dataset_filtered_train[attribute].isna())),[attribute]]=np.median(notna_notchurn_loc_og_t2m_mou[attribute])\n",
    "        cf2 = churn_dataset_filtered_train[attribute]\n",
    "        #churn_dataset_filtered_train = churn_dataset_filtered_train[churn_dataset_filtered_train[attribute]<np.percentile(list(cf2),98.5)]\n",
    "    return churn_dataset_filtered_train"
   ]
  },
  {
   "cell_type": "code",
   "execution_count": 8,
   "metadata": {},
   "outputs": [],
   "source": [
    "telecom_churn_data = pd.read_csv('telecom_churn_data.csv')"
   ]
  },
  {
   "cell_type": "code",
   "execution_count": 9,
   "metadata": {},
   "outputs": [
    {
     "data": {
      "text/plain": [
       "(99999, 226)"
      ]
     },
     "execution_count": 9,
     "metadata": {},
     "output_type": "execute_result"
    }
   ],
   "source": [
    "telecom_churn_data.shape"
   ]
  },
  {
   "cell_type": "code",
   "execution_count": 10,
   "metadata": {},
   "outputs": [
    {
     "data": {
      "text/plain": [
       "99999"
      ]
     },
     "execution_count": 10,
     "metadata": {},
     "output_type": "execute_result"
    }
   ],
   "source": [
    "len(telecom_churn_data['mobile_number'].unique())"
   ]
  },
  {
   "cell_type": "markdown",
   "metadata": {},
   "source": [
    "The data set has 99999 rows and the number of unique mobile number is too 99999 hence each row corresponds to a unique mobile number"
   ]
  },
  {
   "cell_type": "markdown",
   "metadata": {},
   "source": [
    "The next step to do would be identify the data of interest,the high value customers ,so for that lets look at total_rech_amt_6 and total_rech_amt_7"
   ]
  },
  {
   "cell_type": "code",
   "execution_count": 11,
   "metadata": {},
   "outputs": [
    {
     "name": "stdout",
     "output_type": "stream",
     "text": [
      "0\n",
      "0\n",
      "0\n",
      "0\n"
     ]
    }
   ],
   "source": [
    "print(sum(telecom_churn_data['total_rech_amt_6'].isna()))\n",
    "print(sum(telecom_churn_data['total_rech_amt_7'].isna()))\n",
    "print(sum(telecom_churn_data['total_rech_num_7'].isna()))\n",
    "print(sum(telecom_churn_data['total_rech_num_6'].isna()))"
   ]
  },
  {
   "cell_type": "code",
   "execution_count": 12,
   "metadata": {},
   "outputs": [],
   "source": [
    "filter_amt_6 = list(filter(lambda x:isFloat(str(x)),telecom_churn_data['total_rech_amt_6']))\n",
    "filter_amt_7 = list(filter(lambda x:isFloat(str(x)),telecom_churn_data['total_rech_amt_7']))\n",
    "filter_rech_6 = list(filter(lambda x:isFloat(str(x)),telecom_churn_data['total_rech_num_6']))\n",
    "filter_rech_7 = list(filter(lambda x:isFloat(str(x)),telecom_churn_data['total_rech_num_7']))"
   ]
  },
  {
   "cell_type": "code",
   "execution_count": 13,
   "metadata": {},
   "outputs": [
    {
     "name": "stdout",
     "output_type": "stream",
     "text": [
      "99999\n",
      "99999\n",
      "99999\n",
      "99999\n"
     ]
    }
   ],
   "source": [
    "#len(filter_amt_6.to_list())\n",
    "print(len(filter_amt_6))\n",
    "print(len(filter_amt_7))\n",
    "print(len(filter_rech_6))\n",
    "print(len(filter_rech_7))"
   ]
  },
  {
   "cell_type": "markdown",
   "metadata": {},
   "source": [
    "None of the columns pertaining to recharge amounts of first 2 months and none of the columns pertaining to number of times recharged have values other than floating point and all of them have 99999 values in total with no nan values.Hence data quality is verified "
   ]
  },
  {
   "cell_type": "code",
   "execution_count": 14,
   "metadata": {},
   "outputs": [],
   "source": [
    "#telecom_churn_data['avg_recharge_amt'] = telecom_churn_data.apply(lambda row:((telecom_churn_data['total_rech_amt_6']+telecom_churn_data['total_rech_amt_7'])/(telecom_churn_data['total_rech_num_6']+telecom_churn_data['total_rech_num_7'])),axis =1)\n",
    "telecom_churn_data['avg_recharge_amt'] = 0"
   ]
  },
  {
   "cell_type": "code",
   "execution_count": 15,
   "metadata": {},
   "outputs": [
    {
     "data": {
      "text/plain": [
       "(1607, 227)"
      ]
     },
     "execution_count": 15,
     "metadata": {},
     "output_type": "execute_result"
    }
   ],
   "source": [
    "zeros_data = telecom_churn_data[(telecom_churn_data['total_rech_num_6'] ==0)]\n",
    "zeros_data.shape"
   ]
  },
  {
   "cell_type": "code",
   "execution_count": 16,
   "metadata": {},
   "outputs": [
    {
     "name": "stdout",
     "output_type": "stream",
     "text": [
      "0\n"
     ]
    }
   ],
   "source": [
    "print(sum(zeros_data['total_rech_amt_6']>0))\n"
   ]
  },
  {
   "cell_type": "code",
   "execution_count": 17,
   "metadata": {},
   "outputs": [
    {
     "name": "stdout",
     "output_type": "stream",
     "text": [
      "0\n"
     ]
    }
   ],
   "source": [
    "zeros_data = telecom_churn_data[(telecom_churn_data['total_rech_num_7'] ==0)]\n",
    "print(sum(zeros_data['total_rech_amt_7']>0))"
   ]
  },
  {
   "cell_type": "markdown",
   "metadata": {},
   "source": [
    "The above code was to check that if the total recharge done is zero for months 6 and 7 then\n",
    "the number of times  recharge done should too be zero.Its perfect that way"
   ]
  },
  {
   "cell_type": "code",
   "execution_count": 18,
   "metadata": {},
   "outputs": [],
   "source": [
    "telecom_churn_data.loc[(((telecom_churn_data['count_rech_2g_6']==0)|(telecom_churn_data['count_rech_2g_6'].isna()))&(telecom_churn_data['date_of_last_rech_data_6'].isna())&((telecom_churn_data['count_rech_3g_6']==0)|(telecom_churn_data['count_rech_3g_6'].isna()))&((telecom_churn_data['av_rech_amt_data_6']==0)|(telecom_churn_data['av_rech_amt_data_6'].isna()))),['av_rech_amt_data_6','count_rech_3g_6','count_rech_2g_6']] = 0"
   ]
  },
  {
   "cell_type": "code",
   "execution_count": 19,
   "metadata": {},
   "outputs": [
    {
     "name": "stdout",
     "output_type": "stream",
     "text": [
      "0\n",
      "0\n",
      "0\n"
     ]
    }
   ],
   "source": [
    "print(sum(telecom_churn_data['av_rech_amt_data_6'].isna()))\n",
    "print(sum(telecom_churn_data['count_rech_2g_6'].isna()))\n",
    "print(sum(telecom_churn_data['count_rech_3g_6'].isna()))"
   ]
  },
  {
   "cell_type": "code",
   "execution_count": 20,
   "metadata": {},
   "outputs": [],
   "source": [
    "telecom_churn_data.loc[(((telecom_churn_data['count_rech_2g_7']==0)|(telecom_churn_data['count_rech_2g_7'].isna()))&(telecom_churn_data['date_of_last_rech_data_7'].isna())&((telecom_churn_data['count_rech_3g_7']==0)|(telecom_churn_data['count_rech_3g_7'].isna()))&((telecom_churn_data['av_rech_amt_data_7']==0)|(telecom_churn_data['av_rech_amt_data_7'].isna()))),['av_rech_amt_data_7','count_rech_3g_7','count_rech_2g_7']] = 0"
   ]
  },
  {
   "cell_type": "code",
   "execution_count": 21,
   "metadata": {},
   "outputs": [
    {
     "name": "stdout",
     "output_type": "stream",
     "text": [
      "0\n",
      "0\n",
      "0\n"
     ]
    }
   ],
   "source": [
    "print(sum(telecom_churn_data['av_rech_amt_data_7'].isna()))\n",
    "print(sum(telecom_churn_data['count_rech_2g_7'].isna()))\n",
    "print(sum(telecom_churn_data['count_rech_3g_7'].isna()))"
   ]
  },
  {
   "cell_type": "code",
   "execution_count": 22,
   "metadata": {},
   "outputs": [],
   "source": [
    "telecom_churn_data.loc[(((telecom_churn_data['count_rech_2g_8']==0)|(telecom_churn_data['count_rech_2g_8'].isna()))&(telecom_churn_data['date_of_last_rech_data_8'].isna())&((telecom_churn_data['count_rech_3g_8']==0)|(telecom_churn_data['count_rech_3g_8'].isna()))&((telecom_churn_data['av_rech_amt_data_8']==0)|(telecom_churn_data['av_rech_amt_data_8'].isna()))),['av_rech_amt_data_8','count_rech_3g_8','count_rech_2g_8']] = 0"
   ]
  },
  {
   "cell_type": "code",
   "execution_count": 23,
   "metadata": {},
   "outputs": [
    {
     "name": "stdout",
     "output_type": "stream",
     "text": [
      "0\n",
      "0\n",
      "0\n"
     ]
    }
   ],
   "source": [
    "print(sum(telecom_churn_data['av_rech_amt_data_8'].isna()))\n",
    "print(sum(telecom_churn_data['count_rech_2g_8'].isna()))\n",
    "print(sum(telecom_churn_data['count_rech_3g_8'].isna()))"
   ]
  },
  {
   "cell_type": "code",
   "execution_count": 24,
   "metadata": {},
   "outputs": [],
   "source": [
    "telecom_churn_data['total_data_rech_month_6'] = (telecom_churn_data['count_rech_2g_6']+telecom_churn_data['count_rech_3g_6'])*telecom_churn_data['av_rech_amt_data_6']\n",
    "telecom_churn_data['total_data_rech_month_7'] = (telecom_churn_data['count_rech_2g_7']+telecom_churn_data['count_rech_3g_7'])*telecom_churn_data['av_rech_amt_data_7']"
   ]
  },
  {
   "cell_type": "code",
   "execution_count": 25,
   "metadata": {},
   "outputs": [
    {
     "name": "stdout",
     "output_type": "stream",
     "text": [
      "0\n",
      "0\n"
     ]
    }
   ],
   "source": [
    "print(sum(telecom_churn_data['total_data_rech_month_6'].isna()))\n",
    "print(sum(telecom_churn_data['total_data_rech_month_7'].isna()))"
   ]
  },
  {
   "cell_type": "code",
   "execution_count": 26,
   "metadata": {},
   "outputs": [],
   "source": [
    "#telecom_churn_data['avg_recharge_amt'] = telecom_churn_data.apply(lambda row:((telecom_churn_data['total_rech_amt_6']+telecom_churn_data['total_rech_amt_7'])/(telecom_churn_data['total_rech_num_6']+telecom_churn_data['total_rech_num_7'])),axis =1)\n",
    "telecom_churn_data['avg_recharge_amt'] = (telecom_churn_data['total_rech_amt_6']+telecom_churn_data['total_rech_amt_7']+telecom_churn_data['total_data_rech_month_6']+telecom_churn_data['total_data_rech_month_7'])/(2)\n",
    "#telecom_churn_data.loc[telecom_churn_data['avg_recharge_amt'].isna(),['avg_recharge_amt'] ] =0"
   ]
  },
  {
   "cell_type": "code",
   "execution_count": 27,
   "metadata": {},
   "outputs": [
    {
     "data": {
      "text/plain": [
       "0"
      ]
     },
     "execution_count": 27,
     "metadata": {},
     "output_type": "execute_result"
    }
   ],
   "source": [
    "sum(telecom_churn_data['avg_recharge_amt'].isna())"
   ]
  },
  {
   "cell_type": "code",
   "execution_count": 28,
   "metadata": {},
   "outputs": [
    {
     "data": {
      "text/plain": [
       "(99999,)"
      ]
     },
     "execution_count": 28,
     "metadata": {},
     "output_type": "execute_result"
    }
   ],
   "source": [
    "telecom_churn_data['avg_recharge_amt'].head()\n",
    "telecom_churn_data['avg_recharge_amt'].shape"
   ]
  },
  {
   "cell_type": "code",
   "execution_count": 29,
   "metadata": {},
   "outputs": [
    {
     "data": {
      "text/plain": [
       "478.0"
      ]
     },
     "execution_count": 29,
     "metadata": {},
     "output_type": "execute_result"
    }
   ],
   "source": [
    "np.percentile(list(telecom_churn_data['avg_recharge_amt']),70)"
   ]
  },
  {
   "cell_type": "code",
   "execution_count": 30,
   "metadata": {},
   "outputs": [],
   "source": [
    "high_value_customers = telecom_churn_data[telecom_churn_data['avg_recharge_amt']>np.percentile(list(telecom_churn_data['avg_recharge_amt']),70)]"
   ]
  },
  {
   "cell_type": "code",
   "execution_count": 31,
   "metadata": {},
   "outputs": [
    {
     "data": {
      "text/plain": [
       "(29953, 229)"
      ]
     },
     "execution_count": 31,
     "metadata": {},
     "output_type": "execute_result"
    }
   ],
   "source": [
    "high_value_customers.shape"
   ]
  },
  {
   "cell_type": "code",
   "execution_count": 32,
   "metadata": {},
   "outputs": [
    {
     "name": "stderr",
     "output_type": "stream",
     "text": [
      "C:\\Users\\Jabir_shabbir\\Anaconda3\\lib\\site-packages\\ipykernel_launcher.py:1: SettingWithCopyWarning: \n",
      "A value is trying to be set on a copy of a slice from a DataFrame.\n",
      "Try using .loc[row_indexer,col_indexer] = value instead\n",
      "\n",
      "See the caveats in the documentation: http://pandas.pydata.org/pandas-docs/stable/user_guide/indexing.html#returning-a-view-versus-a-copy\n",
      "  \"\"\"Entry point for launching an IPython kernel.\n"
     ]
    }
   ],
   "source": [
    "high_value_customers['churn'] = 0"
   ]
  },
  {
   "cell_type": "code",
   "execution_count": 33,
   "metadata": {},
   "outputs": [
    {
     "name": "stderr",
     "output_type": "stream",
     "text": [
      "C:\\Users\\Jabir_shabbir\\Anaconda3\\lib\\site-packages\\pandas\\core\\indexing.py:494: SettingWithCopyWarning: \n",
      "A value is trying to be set on a copy of a slice from a DataFrame.\n",
      "Try using .loc[row_indexer,col_indexer] = value instead\n",
      "\n",
      "See the caveats in the documentation: http://pandas.pydata.org/pandas-docs/stable/user_guide/indexing.html#returning-a-view-versus-a-copy\n",
      "  self.obj[item] = s\n"
     ]
    }
   ],
   "source": [
    "high_value_customers.loc[((high_value_customers['total_ic_mou_9']==0)&(high_value_customers['total_og_mou_9']==0)&(high_value_customers['vol_2g_mb_9']==0)&(high_value_customers['vol_3g_mb_9']==0)),['churn']] = 1"
   ]
  },
  {
   "cell_type": "code",
   "execution_count": 34,
   "metadata": {},
   "outputs": [
    {
     "data": {
      "text/plain": [
       "2433"
      ]
     },
     "execution_count": 34,
     "metadata": {},
     "output_type": "execute_result"
    }
   ],
   "source": [
    "sum(high_value_customers['churn'])"
   ]
  },
  {
   "cell_type": "code",
   "execution_count": 35,
   "metadata": {},
   "outputs": [
    {
     "data": {
      "text/plain": [
       "Index(['mobile_number', 'circle_id', 'loc_og_t2o_mou', 'std_og_t2o_mou',\n",
       "       'loc_ic_t2o_mou', 'last_date_of_month_6', 'last_date_of_month_7',\n",
       "       'last_date_of_month_8', 'last_date_of_month_9', 'arpu_6',\n",
       "       ...\n",
       "       'fb_user_9', 'aon', 'aug_vbc_3g', 'jul_vbc_3g', 'jun_vbc_3g',\n",
       "       'sep_vbc_3g', 'avg_recharge_amt', 'total_data_rech_month_6',\n",
       "       'total_data_rech_month_7', 'churn'],\n",
       "      dtype='object', length=230)"
      ]
     },
     "execution_count": 35,
     "metadata": {},
     "output_type": "execute_result"
    }
   ],
   "source": [
    "high_value_customers.columns"
   ]
  },
  {
   "cell_type": "markdown",
   "metadata": {},
   "source": [
    "Drop off all the columns ending with _9 after identifying churners."
   ]
  },
  {
   "cell_type": "code",
   "execution_count": 36,
   "metadata": {},
   "outputs": [],
   "source": [
    "cols = list(filter( lambda x: (\"_9\" not in x) ,high_value_customers.columns))"
   ]
  },
  {
   "cell_type": "code",
   "execution_count": 37,
   "metadata": {},
   "outputs": [],
   "source": [
    "churn_dataset = high_value_customers[cols]"
   ]
  },
  {
   "cell_type": "code",
   "execution_count": 38,
   "metadata": {},
   "outputs": [
    {
     "data": {
      "text/html": [
       "<div>\n",
       "<style scoped>\n",
       "    .dataframe tbody tr th:only-of-type {\n",
       "        vertical-align: middle;\n",
       "    }\n",
       "\n",
       "    .dataframe tbody tr th {\n",
       "        vertical-align: top;\n",
       "    }\n",
       "\n",
       "    .dataframe thead th {\n",
       "        text-align: right;\n",
       "    }\n",
       "</style>\n",
       "<table border=\"1\" class=\"dataframe\">\n",
       "  <thead>\n",
       "    <tr style=\"text-align: right;\">\n",
       "      <th></th>\n",
       "      <th>mobile_number</th>\n",
       "      <th>circle_id</th>\n",
       "      <th>loc_og_t2o_mou</th>\n",
       "      <th>std_og_t2o_mou</th>\n",
       "      <th>loc_ic_t2o_mou</th>\n",
       "      <th>last_date_of_month_6</th>\n",
       "      <th>last_date_of_month_7</th>\n",
       "      <th>last_date_of_month_8</th>\n",
       "      <th>arpu_6</th>\n",
       "      <th>arpu_7</th>\n",
       "      <th>...</th>\n",
       "      <th>fb_user_8</th>\n",
       "      <th>aon</th>\n",
       "      <th>aug_vbc_3g</th>\n",
       "      <th>jul_vbc_3g</th>\n",
       "      <th>jun_vbc_3g</th>\n",
       "      <th>sep_vbc_3g</th>\n",
       "      <th>avg_recharge_amt</th>\n",
       "      <th>total_data_rech_month_6</th>\n",
       "      <th>total_data_rech_month_7</th>\n",
       "      <th>churn</th>\n",
       "    </tr>\n",
       "  </thead>\n",
       "  <tbody>\n",
       "    <tr>\n",
       "      <td>0</td>\n",
       "      <td>7000842753</td>\n",
       "      <td>109</td>\n",
       "      <td>0.0</td>\n",
       "      <td>0.0</td>\n",
       "      <td>0.0</td>\n",
       "      <td>6/30/2014</td>\n",
       "      <td>7/31/2014</td>\n",
       "      <td>8/31/2014</td>\n",
       "      <td>197.385</td>\n",
       "      <td>214.816</td>\n",
       "      <td>...</td>\n",
       "      <td>1.0</td>\n",
       "      <td>968</td>\n",
       "      <td>30.40</td>\n",
       "      <td>0.00</td>\n",
       "      <td>101.20</td>\n",
       "      <td>3.58</td>\n",
       "      <td>559.0</td>\n",
       "      <td>252.0</td>\n",
       "      <td>252.0</td>\n",
       "      <td>1</td>\n",
       "    </tr>\n",
       "    <tr>\n",
       "      <td>7</td>\n",
       "      <td>7000701601</td>\n",
       "      <td>109</td>\n",
       "      <td>0.0</td>\n",
       "      <td>0.0</td>\n",
       "      <td>0.0</td>\n",
       "      <td>6/30/2014</td>\n",
       "      <td>7/31/2014</td>\n",
       "      <td>8/31/2014</td>\n",
       "      <td>1069.180</td>\n",
       "      <td>1349.850</td>\n",
       "      <td>...</td>\n",
       "      <td>NaN</td>\n",
       "      <td>802</td>\n",
       "      <td>57.74</td>\n",
       "      <td>19.38</td>\n",
       "      <td>18.74</td>\n",
       "      <td>0.00</td>\n",
       "      <td>1185.0</td>\n",
       "      <td>0.0</td>\n",
       "      <td>0.0</td>\n",
       "      <td>1</td>\n",
       "    </tr>\n",
       "    <tr>\n",
       "      <td>8</td>\n",
       "      <td>7001524846</td>\n",
       "      <td>109</td>\n",
       "      <td>0.0</td>\n",
       "      <td>0.0</td>\n",
       "      <td>0.0</td>\n",
       "      <td>6/30/2014</td>\n",
       "      <td>7/31/2014</td>\n",
       "      <td>8/31/2014</td>\n",
       "      <td>378.721</td>\n",
       "      <td>492.223</td>\n",
       "      <td>...</td>\n",
       "      <td>1.0</td>\n",
       "      <td>315</td>\n",
       "      <td>21.03</td>\n",
       "      <td>910.65</td>\n",
       "      <td>122.16</td>\n",
       "      <td>0.00</td>\n",
       "      <td>696.0</td>\n",
       "      <td>0.0</td>\n",
       "      <td>354.0</td>\n",
       "      <td>0</td>\n",
       "    </tr>\n",
       "    <tr>\n",
       "      <td>21</td>\n",
       "      <td>7002124215</td>\n",
       "      <td>109</td>\n",
       "      <td>0.0</td>\n",
       "      <td>0.0</td>\n",
       "      <td>0.0</td>\n",
       "      <td>6/30/2014</td>\n",
       "      <td>7/31/2014</td>\n",
       "      <td>8/31/2014</td>\n",
       "      <td>514.453</td>\n",
       "      <td>597.753</td>\n",
       "      <td>...</td>\n",
       "      <td>NaN</td>\n",
       "      <td>720</td>\n",
       "      <td>0.00</td>\n",
       "      <td>0.00</td>\n",
       "      <td>0.00</td>\n",
       "      <td>0.00</td>\n",
       "      <td>640.0</td>\n",
       "      <td>0.0</td>\n",
       "      <td>0.0</td>\n",
       "      <td>0</td>\n",
       "    </tr>\n",
       "    <tr>\n",
       "      <td>23</td>\n",
       "      <td>7000887461</td>\n",
       "      <td>109</td>\n",
       "      <td>0.0</td>\n",
       "      <td>0.0</td>\n",
       "      <td>0.0</td>\n",
       "      <td>6/30/2014</td>\n",
       "      <td>7/31/2014</td>\n",
       "      <td>8/31/2014</td>\n",
       "      <td>74.350</td>\n",
       "      <td>193.897</td>\n",
       "      <td>...</td>\n",
       "      <td>1.0</td>\n",
       "      <td>604</td>\n",
       "      <td>40.45</td>\n",
       "      <td>51.86</td>\n",
       "      <td>0.00</td>\n",
       "      <td>0.00</td>\n",
       "      <td>583.0</td>\n",
       "      <td>0.0</td>\n",
       "      <td>712.0</td>\n",
       "      <td>0</td>\n",
       "    </tr>\n",
       "  </tbody>\n",
       "</table>\n",
       "<p>5 rows × 176 columns</p>\n",
       "</div>"
      ],
      "text/plain": [
       "    mobile_number  circle_id  loc_og_t2o_mou  std_og_t2o_mou  loc_ic_t2o_mou  \\\n",
       "0      7000842753        109             0.0             0.0             0.0   \n",
       "7      7000701601        109             0.0             0.0             0.0   \n",
       "8      7001524846        109             0.0             0.0             0.0   \n",
       "21     7002124215        109             0.0             0.0             0.0   \n",
       "23     7000887461        109             0.0             0.0             0.0   \n",
       "\n",
       "   last_date_of_month_6 last_date_of_month_7 last_date_of_month_8    arpu_6  \\\n",
       "0             6/30/2014            7/31/2014            8/31/2014   197.385   \n",
       "7             6/30/2014            7/31/2014            8/31/2014  1069.180   \n",
       "8             6/30/2014            7/31/2014            8/31/2014   378.721   \n",
       "21            6/30/2014            7/31/2014            8/31/2014   514.453   \n",
       "23            6/30/2014            7/31/2014            8/31/2014    74.350   \n",
       "\n",
       "      arpu_7  ...  fb_user_8  aon  aug_vbc_3g  jul_vbc_3g  jun_vbc_3g  \\\n",
       "0    214.816  ...        1.0  968       30.40        0.00      101.20   \n",
       "7   1349.850  ...        NaN  802       57.74       19.38       18.74   \n",
       "8    492.223  ...        1.0  315       21.03      910.65      122.16   \n",
       "21   597.753  ...        NaN  720        0.00        0.00        0.00   \n",
       "23   193.897  ...        1.0  604       40.45       51.86        0.00   \n",
       "\n",
       "    sep_vbc_3g  avg_recharge_amt  total_data_rech_month_6  \\\n",
       "0         3.58             559.0                    252.0   \n",
       "7         0.00            1185.0                      0.0   \n",
       "8         0.00             696.0                      0.0   \n",
       "21        0.00             640.0                      0.0   \n",
       "23        0.00             583.0                      0.0   \n",
       "\n",
       "    total_data_rech_month_7  churn  \n",
       "0                     252.0      1  \n",
       "7                       0.0      1  \n",
       "8                     354.0      0  \n",
       "21                      0.0      0  \n",
       "23                    712.0      0  \n",
       "\n",
       "[5 rows x 176 columns]"
      ]
     },
     "execution_count": 38,
     "metadata": {},
     "output_type": "execute_result"
    }
   ],
   "source": [
    "churn_dataset.head()"
   ]
  },
  {
   "cell_type": "code",
   "execution_count": 39,
   "metadata": {},
   "outputs": [],
   "source": [
    "churn_dataset.to_csv('churndataset.csv')"
   ]
  },
  {
   "cell_type": "code",
   "execution_count": 40,
   "metadata": {},
   "outputs": [
    {
     "name": "stdout",
     "output_type": "stream",
     "text": [
      "[109]\n",
      "0\n"
     ]
    }
   ],
   "source": [
    "print(churn_dataset['circle_id'].unique())\n",
    "print(sum(churn_dataset['circle_id'].isna()))"
   ]
  },
  {
   "cell_type": "markdown",
   "metadata": {},
   "source": [
    "We can eliminate certain columns like date of last recharge,last recharge of data ,last date ,mobile number.As seve on use on business value,afterall the amount of recharge matters."
   ]
  },
  {
   "cell_type": "code",
   "execution_count": 41,
   "metadata": {},
   "outputs": [],
   "source": [
    "churn_dataset = churn_dataset.drop(['last_date_of_month_6','last_date_of_month_7','last_date_of_month_8','date_of_last_rech_6','date_of_last_rech_7','date_of_last_rech_6'],axis = 1)"
   ]
  },
  {
   "cell_type": "code",
   "execution_count": 42,
   "metadata": {},
   "outputs": [],
   "source": [
    "churn_dataset = churn_dataset.drop(['mobile_number'],axis = 1)"
   ]
  },
  {
   "cell_type": "code",
   "execution_count": 43,
   "metadata": {},
   "outputs": [
    {
     "data": {
      "text/plain": [
       "170"
      ]
     },
     "execution_count": 43,
     "metadata": {},
     "output_type": "execute_result"
    }
   ],
   "source": [
    "len(churn_dataset.columns)"
   ]
  },
  {
   "cell_type": "code",
   "execution_count": 44,
   "metadata": {},
   "outputs": [],
   "source": [
    "backup_data_frame = churn_dataset"
   ]
  },
  {
   "cell_type": "code",
   "execution_count": 45,
   "metadata": {},
   "outputs": [],
   "source": [
    "churn_dataset = backup_data_frame"
   ]
  },
  {
   "cell_type": "markdown",
   "metadata": {},
   "source": [
    "First lets consider attributes which could possibly be useful in determining churn.\n"
   ]
  },
  {
   "cell_type": "code",
   "execution_count": 46,
   "metadata": {},
   "outputs": [],
   "source": [
    "#The columns with arpu can be dropped as the revenue could be in way determined by recharge amount,so lets drop the columns with arpu\n",
    "newcols = list(filter(lambda x:('arpu' not in x), list(churn_dataset.columns)))\n",
    "churn_dataset_filtered = churn_dataset[newcols]"
   ]
  },
  {
   "cell_type": "code",
   "execution_count": 47,
   "metadata": {},
   "outputs": [],
   "source": [
    "churn_dataset_filtered = churn_dataset[newcols]"
   ]
  },
  {
   "cell_type": "code",
   "execution_count": 48,
   "metadata": {},
   "outputs": [
    {
     "data": {
      "text/plain": [
       "161"
      ]
     },
     "execution_count": 48,
     "metadata": {},
     "output_type": "execute_result"
    }
   ],
   "source": [
    "#print(newcols)\n",
    "len(churn_dataset_filtered.columns)"
   ]
  },
  {
   "cell_type": "code",
   "execution_count": 49,
   "metadata": {},
   "outputs": [
    {
     "data": {
      "text/plain": [
       "223"
      ]
     },
     "execution_count": 49,
     "metadata": {},
     "output_type": "execute_result"
    }
   ],
   "source": [
    "#Lets consider the categories of attributes one by one.\n",
    "#Firstly lets consider local calls\n",
    "#1.local calls outgoing to other operator fixed line\n",
    "sum(churn_dataset_filtered['loc_og_t2o_mou'].isna())"
   ]
  },
  {
   "cell_type": "code",
   "execution_count": 50,
   "metadata": {},
   "outputs": [
    {
     "data": {
      "text/plain": [
       "0.0"
      ]
     },
     "execution_count": 50,
     "metadata": {},
     "output_type": "execute_result"
    }
   ],
   "source": [
    "cf = churn_dataset_filtered[~churn_dataset_filtered['loc_og_t2o_mou'].isna()]\n",
    "cf['loc_og_t2o_mou'].mean()"
   ]
  },
  {
   "cell_type": "code",
   "execution_count": 51,
   "metadata": {},
   "outputs": [],
   "source": [
    "#Since all the values are zero in it,it does not serve any meaningful info for regression,so drop it.Since the number of \n",
    "#minutes cannot be negative,hence all non null values are zero\n",
    "churn_dataset_filtered_1 = churn_dataset_filtered.drop(['loc_og_t2o_mou'],axis = 1)"
   ]
  },
  {
   "cell_type": "code",
   "execution_count": 52,
   "metadata": {},
   "outputs": [
    {
     "data": {
      "text/plain": [
       "0.0"
      ]
     },
     "execution_count": 52,
     "metadata": {},
     "output_type": "execute_result"
    }
   ],
   "source": [
    "cf = churn_dataset_filtered_1[~churn_dataset_filtered_1['std_og_t2o_mou'].isna()]\n",
    "cf['std_og_t2o_mou'].mean()"
   ]
  },
  {
   "cell_type": "code",
   "execution_count": 53,
   "metadata": {},
   "outputs": [],
   "source": [
    "#Since all the non null values are zero again it does not serve any meaningful infromation for regression.It can be dropped.Since the number of \n",
    "#minutes cannot be negative,hence all non null values are zero\n",
    "churn_dataset_filtered_2 = churn_dataset_filtered_1.drop(['std_og_t2o_mou'],axis = 1)"
   ]
  },
  {
   "cell_type": "code",
   "execution_count": 54,
   "metadata": {},
   "outputs": [
    {
     "data": {
      "text/plain": [
       "0.0"
      ]
     },
     "execution_count": 54,
     "metadata": {},
     "output_type": "execute_result"
    }
   ],
   "source": [
    "#The same goes with loc_ic_t2o_mou as well\n",
    "cf = churn_dataset_filtered_2[~churn_dataset_filtered_2['loc_ic_t2o_mou'].isna()]\n",
    "cf['loc_ic_t2o_mou'].mean()"
   ]
  },
  {
   "cell_type": "code",
   "execution_count": 55,
   "metadata": {},
   "outputs": [],
   "source": [
    "churn_dataset_filtered_3 = churn_dataset_filtered_2.drop(['loc_ic_t2o_mou'],axis = 1)"
   ]
  },
  {
   "cell_type": "markdown",
   "metadata": {},
   "source": [
    "So far we have just dropped certain columns,now it is ideal to split the data into train and test,before imputing the values or checking the distributions as test data should ideally be unseen. "
   ]
  },
  {
   "cell_type": "code",
   "execution_count": 56,
   "metadata": {},
   "outputs": [],
   "source": [
    "churn_dataset_filtered_train,churn_dataset_filtered_test=train_test_split(churn_dataset_filtered_3,train_size=0.7,test_size=0.3,random_state=100)"
   ]
  },
  {
   "cell_type": "code",
   "execution_count": 57,
   "metadata": {},
   "outputs": [
    {
     "name": "stdout",
     "output_type": "stream",
     "text": [
      "(20967, 158)\n",
      "(8986, 158)\n"
     ]
    }
   ],
   "source": [
    "print(churn_dataset_filtered_train.shape)\n",
    "print(churn_dataset_filtered_test.shape)"
   ]
  },
  {
   "cell_type": "code",
   "execution_count": 58,
   "metadata": {},
   "outputs": [
    {
     "name": "stdout",
     "output_type": "stream",
     "text": [
      "(385, 158)\n"
     ]
    }
   ],
   "source": [
    "#The same goes with loc_ic_t2o_mou as well\n",
    "cf = churn_dataset_filtered_train[churn_dataset_filtered_train['loc_og_t2t_mou_6'].isna()]\n",
    "print(cf.shape)\n",
    "#cf['loc_ic_t2o_mou'].mean()"
   ]
  },
  {
   "cell_type": "code",
   "execution_count": 59,
   "metadata": {},
   "outputs": [
    {
     "data": {
      "text/plain": [
       "85.06559615197617"
      ]
     },
     "execution_count": 59,
     "metadata": {},
     "output_type": "execute_result"
    }
   ],
   "source": [
    "cf = churn_dataset_filtered_train[~churn_dataset_filtered_train['loc_og_t2t_mou_6'].isna()]\n",
    "cf['loc_og_t2t_mou_6'].mean()"
   ]
  },
  {
   "cell_type": "code",
   "execution_count": 60,
   "metadata": {},
   "outputs": [
    {
     "data": {
      "text/plain": [
       "{'whiskers': [<matplotlib.lines.Line2D at 0x2d19b878c8>,\n",
       "  <matplotlib.lines.Line2D at 0x2d19b87ec8>],\n",
       " 'caps': [<matplotlib.lines.Line2D at 0x2d19b87fc8>,\n",
       "  <matplotlib.lines.Line2D at 0x2d19b90dc8>],\n",
       " 'boxes': [<matplotlib.lines.Line2D at 0x2d19c7df88>],\n",
       " 'medians': [<matplotlib.lines.Line2D at 0x2d19b90ec8>],\n",
       " 'fliers': [<matplotlib.lines.Line2D at 0x2d19b95ec8>],\n",
       " 'means': []}"
      ]
     },
     "execution_count": 60,
     "metadata": {},
     "output_type": "execute_result"
    },
    {
     "data": {
      "image/png": "[encoded data removed]",
      "text/plain": [
       "<Figure size 432x288 with 1 Axes>"
      ]
     },
     "metadata": {
      "needs_background": "light"
     },
     "output_type": "display_data"
    }
   ],
   "source": [
    "plt.boxplot(cf['loc_og_t2t_mou_6'])"
   ]
  },
  {
   "cell_type": "code",
   "execution_count": 61,
   "metadata": {},
   "outputs": [
    {
     "name": "stdout",
     "output_type": "stream",
     "text": [
      "(20582, 158)\n"
     ]
    },
    {
     "data": {
      "text/plain": [
       "1644"
      ]
     },
     "execution_count": 61,
     "metadata": {},
     "output_type": "execute_result"
    }
   ],
   "source": [
    "#There is of course skewness in the data.However lets check the distribution of churn and not churn in this dataset.\n",
    "#cf.groupby('churn')['onnet_mou_6'].count()\n",
    "print(cf.shape)\n",
    "sum(cf['churn'])\n",
    "#1523 have churned"
   ]
  },
  {
   "cell_type": "code",
   "execution_count": 62,
   "metadata": {},
   "outputs": [
    {
     "data": {
      "text/plain": [
       "14.745000000000001"
      ]
     },
     "execution_count": 62,
     "metadata": {},
     "output_type": "execute_result"
    },
    {
     "data": {
      "image/png": "[encoded data removed]",
      "text/plain": [
       "<Figure size 432x288 with 1 Axes>"
      ]
     },
     "metadata": {
      "needs_background": "light"
     },
     "output_type": "display_data"
    }
   ],
   "source": [
    "churned_nonna_loc_og_t2t_mou_6 = cf[cf['churn'] ==1]\n",
    "plt.boxplot(churned_nonna_loc_og_t2t_mou_6['loc_og_t2t_mou_6'])\n",
    "np.median(churned_nonna_loc_og_t2t_mou_6['loc_og_t2t_mou_6'])"
   ]
  },
  {
   "cell_type": "code",
   "execution_count": 63,
   "metadata": {},
   "outputs": [
    {
     "data": {
      "text/plain": [
       "26.68"
      ]
     },
     "execution_count": 63,
     "metadata": {},
     "output_type": "execute_result"
    },
    {
     "data": {
      "image/png": "[encoded data removed]",
      "text/plain": [
       "<Figure size 432x288 with 1 Axes>"
      ]
     },
     "metadata": {
      "needs_background": "light"
     },
     "output_type": "display_data"
    }
   ],
   "source": [
    "churned_nonna_loc_og_t2t_mou_6 = cf[cf['churn'] ==0]\n",
    "plt.boxplot(churned_nonna_loc_og_t2t_mou_6['loc_og_t2t_mou_6'])\n",
    "np.median(churned_nonna_loc_og_t2t_mou_6['loc_og_t2t_mou_6'])"
   ]
  },
  {
   "cell_type": "code",
   "execution_count": 64,
   "metadata": {},
   "outputs": [
    {
     "name": "stdout",
     "output_type": "stream",
     "text": [
      "(385, 158)\n"
     ]
    },
    {
     "data": {
      "text/plain": [
       "108"
      ]
     },
     "execution_count": 64,
     "metadata": {},
     "output_type": "execute_result"
    }
   ],
   "source": [
    "cf2 = churn_dataset_filtered_train[churn_dataset_filtered_train['loc_og_t2t_mou_6'].isna()]\n",
    "#print(cf2.groupby('churn')['onnet_mou_6'].count())\n",
    "print(cf2.shape)\n",
    "sum(cf2['churn'])\n",
    "#Here 320 have churned which is considerable quite large when the dataset is imbalanced ,we must consider\n",
    "#imputing these values."
   ]
  },
  {
   "cell_type": "code",
   "execution_count": 65,
   "metadata": {},
   "outputs": [
    {
     "name": "stderr",
     "output_type": "stream",
     "text": [
      "C:\\Users\\Jabir_shabbir\\Anaconda3\\lib\\site-packages\\pandas\\core\\indexing.py:494: SettingWithCopyWarning: \n",
      "A value is trying to be set on a copy of a slice from a DataFrame.\n",
      "Try using .loc[row_indexer,col_indexer] = value instead\n",
      "\n",
      "See the caveats in the documentation: http://pandas.pydata.org/pandas-docs/stable/user_guide/indexing.html#returning-a-view-versus-a-copy\n",
      "  self.obj[item] = s\n"
     ]
    }
   ],
   "source": [
    "#impute the values of na's with their respective medians of groups of churned and unchurned\n",
    "#churn_dataset_filtered_train\n",
    "churn_dataset_filtered_train = ImputeMedian(churn_dataset_filtered_train,['loc_og_t2t_mou_6'])"
   ]
  },
  {
   "cell_type": "code",
   "execution_count": 66,
   "metadata": {},
   "outputs": [
    {
     "data": {
      "text/plain": [
       "86.42336797629874"
      ]
     },
     "execution_count": 66,
     "metadata": {},
     "output_type": "execute_result"
    }
   ],
   "source": [
    "cf = churn_dataset_filtered_train[~churn_dataset_filtered_train['loc_og_t2t_mou_7'].isna()]\n",
    "cf['loc_og_t2t_mou_7'].mean()"
   ]
  },
  {
   "cell_type": "code",
   "execution_count": 67,
   "metadata": {},
   "outputs": [
    {
     "data": {
      "text/plain": [
       "10.94"
      ]
     },
     "execution_count": 67,
     "metadata": {},
     "output_type": "execute_result"
    },
    {
     "data": {
      "image/png": "[encoded data removed]",
      "text/plain": [
       "<Figure size 432x288 with 1 Axes>"
      ]
     },
     "metadata": {
      "needs_background": "light"
     },
     "output_type": "display_data"
    }
   ],
   "source": [
    "notna_churn_loc_og_t2t_mou_7 = cf[(cf['churn']==1)]\n",
    "\n",
    "plt.boxplot(notna_churn_loc_og_t2t_mou_7['loc_og_t2t_mou_7'])\n",
    "np.median(notna_churn_loc_og_t2t_mou_7['loc_og_t2t_mou_7'])"
   ]
  },
  {
   "cell_type": "code",
   "execution_count": 68,
   "metadata": {},
   "outputs": [
    {
     "data": {
      "text/plain": [
       "27.01"
      ]
     },
     "execution_count": 68,
     "metadata": {},
     "output_type": "execute_result"
    },
    {
     "data": {
      "image/png": "[encoded data removed]",
      "text/plain": [
       "<Figure size 432x288 with 1 Axes>"
      ]
     },
     "metadata": {
      "needs_background": "light"
     },
     "output_type": "display_data"
    }
   ],
   "source": [
    "notna_churn_loc_og_t2t_mou_7 = cf[(cf['churn']==0)]\n",
    "\n",
    "plt.boxplot(notna_churn_loc_og_t2t_mou_7['loc_og_t2t_mou_7'])\n",
    "np.median(notna_churn_loc_og_t2t_mou_7['loc_og_t2t_mou_7'])"
   ]
  },
  {
   "cell_type": "code",
   "execution_count": 69,
   "metadata": {},
   "outputs": [
    {
     "name": "stdout",
     "output_type": "stream",
     "text": [
      "(376, 158)\n",
      "(151, 158)\n",
      "(225, 158)\n"
     ]
    }
   ],
   "source": [
    "#Print the count churns and non churns when there are nas\n",
    "cf2 = churn_dataset_filtered_train[churn_dataset_filtered_train['loc_og_t2t_mou_7'].isna()]\n",
    "print(cf2.shape)\n",
    "print(cf2[cf2['churn']==1].shape)\n",
    "print(cf2[cf2['churn']==0].shape)"
   ]
  },
  {
   "cell_type": "code",
   "execution_count": 70,
   "metadata": {},
   "outputs": [
    {
     "name": "stderr",
     "output_type": "stream",
     "text": [
      "C:\\Users\\Jabir_shabbir\\Anaconda3\\lib\\site-packages\\pandas\\core\\indexing.py:494: SettingWithCopyWarning: \n",
      "A value is trying to be set on a copy of a slice from a DataFrame.\n",
      "Try using .loc[row_indexer,col_indexer] = value instead\n",
      "\n",
      "See the caveats in the documentation: http://pandas.pydata.org/pandas-docs/stable/user_guide/indexing.html#returning-a-view-versus-a-copy\n",
      "  self.obj[item] = s\n"
     ]
    }
   ],
   "source": [
    "#churn_dataset_filtered_train.loc[((churn_dataset_filtered_train['churn'] ==1) &(churn_dataset_filtered_train['loc_og_t2t_mou_7'].isna())),['loc_og_t2t_mou_7']] =8.23\n",
    "#churn_dataset_filtered_train.loc[((churn_dataset_filtered_train['churn'] ==0 )&(churn_dataset_filtered_train['loc_og_t2t_mou_7'].isna())),['loc_og_t2t_mou_7']] =29.96\n",
    "churn_dataset_filtered_train = ImputeMedian(churn_dataset_filtered_train,['loc_og_t2t_mou_7'])\n"
   ]
  },
  {
   "cell_type": "code",
   "execution_count": 71,
   "metadata": {},
   "outputs": [
    {
     "name": "stdout",
     "output_type": "stream",
     "text": [
      "757.3674999999996\n",
      "0.0\n"
     ]
    }
   ],
   "source": [
    "#The same approach goes with outlier treatment too\n",
    "cf = churn_dataset_filtered_train['loc_og_t2t_mou_7']\n",
    "#cf =churn_dataset_filtered_train[(churn_dataset_filtered_train['churn'] ==1),['loc_og_t2t_mou_6']]\n",
    "print(np.percentile(list(cf),98.5))\n",
    "print(np.percentile(list(cf),1.5))"
   ]
  },
  {
   "cell_type": "code",
   "execution_count": 72,
   "metadata": {},
   "outputs": [],
   "source": [
    "#churn_dataset_filtered_train = churn_dataset_filtered_train[churn_dataset_filtered_train['loc_og_t2t_mou_7']<np.percentile(list(cf),98.5)]\n",
    "#churn_dataset_filtered_train.shape"
   ]
  },
  {
   "cell_type": "code",
   "execution_count": 73,
   "metadata": {},
   "outputs": [
    {
     "data": {
      "text/plain": [
       "80.31443091451202"
      ]
     },
     "execution_count": 73,
     "metadata": {},
     "output_type": "execute_result"
    }
   ],
   "source": [
    "cf = churn_dataset_filtered_train[~churn_dataset_filtered_train['loc_og_t2t_mou_8'].isna()]\n",
    "cf['loc_og_t2t_mou_8'].mean()"
   ]
  },
  {
   "cell_type": "code",
   "execution_count": 74,
   "metadata": {},
   "outputs": [
    {
     "data": {
      "text/plain": [
       "1.0"
      ]
     },
     "execution_count": 74,
     "metadata": {},
     "output_type": "execute_result"
    },
    {
     "data": {
      "image/png": "[encoded data removed]",
      "text/plain": [
       "<Figure size 432x288 with 1 Axes>"
      ]
     },
     "metadata": {
      "needs_background": "light"
     },
     "output_type": "display_data"
    }
   ],
   "source": [
    "notna_churn_loc_og_t2t_mou_8 = cf[(cf['churn']==1)]\n",
    "\n",
    "plt.boxplot(notna_churn_loc_og_t2t_mou_8['loc_og_t2t_mou_8'])\n",
    "np.median(notna_churn_loc_og_t2t_mou_8['loc_og_t2t_mou_8'])"
   ]
  },
  {
   "cell_type": "code",
   "execution_count": 75,
   "metadata": {},
   "outputs": [
    {
     "data": {
      "text/plain": [
       "25.21"
      ]
     },
     "execution_count": 75,
     "metadata": {},
     "output_type": "execute_result"
    },
    {
     "data": {
      "image/png": "[encoded data removed]",
      "text/plain": [
       "<Figure size 432x288 with 1 Axes>"
      ]
     },
     "metadata": {
      "needs_background": "light"
     },
     "output_type": "display_data"
    }
   ],
   "source": [
    "notna_churn_loc_og_t2t_mou_8 = cf[(cf['churn']==0)]\n",
    "\n",
    "plt.boxplot(notna_churn_loc_og_t2t_mou_8['loc_og_t2t_mou_8'])\n",
    "np.median(notna_churn_loc_og_t2t_mou_8['loc_og_t2t_mou_8'])"
   ]
  },
  {
   "cell_type": "code",
   "execution_count": 76,
   "metadata": {},
   "outputs": [
    {
     "name": "stdout",
     "output_type": "stream",
     "text": [
      "(847, 158)\n",
      "(583, 158)\n",
      "(264, 158)\n"
     ]
    }
   ],
   "source": [
    "#Print the count churns and non churns when there are nas\n",
    "cf2 = churn_dataset_filtered_train[churn_dataset_filtered_train['loc_og_t2t_mou_8'].isna()]\n",
    "print(cf2.shape)\n",
    "print(cf2[cf2['churn']==1].shape)\n",
    "print(cf2[cf2['churn']==0].shape)"
   ]
  },
  {
   "cell_type": "code",
   "execution_count": 77,
   "metadata": {},
   "outputs": [
    {
     "name": "stderr",
     "output_type": "stream",
     "text": [
      "C:\\Users\\Jabir_shabbir\\Anaconda3\\lib\\site-packages\\pandas\\core\\indexing.py:494: SettingWithCopyWarning: \n",
      "A value is trying to be set on a copy of a slice from a DataFrame.\n",
      "Try using .loc[row_indexer,col_indexer] = value instead\n",
      "\n",
      "See the caveats in the documentation: http://pandas.pydata.org/pandas-docs/stable/user_guide/indexing.html#returning-a-view-versus-a-copy\n",
      "  self.obj[item] = s\n"
     ]
    }
   ],
   "source": [
    "#churn_dataset_filtered_train.loc[((churn_dataset_filtered_train['churn'] ==1) &(churn_dataset_filtered_train['loc_og_t2t_mou_8'].isna())),['loc_og_t2t_mou_8']] =0.02\n",
    "#churn_dataset_filtered_train.loc[((churn_dataset_filtered_train['churn'] ==0 )&(churn_dataset_filtered_train['loc_og_t2t_mou_8'].isna())),['loc_og_t2t_mou_8']] =28.76\n",
    "churn_dataset_filtered_train = ImputeMedian(churn_dataset_filtered_train,['loc_og_t2t_mou_8'])"
   ]
  },
  {
   "cell_type": "code",
   "execution_count": 78,
   "metadata": {},
   "outputs": [
    {
     "name": "stdout",
     "output_type": "stream",
     "text": [
      "664.8119999999997\n",
      "0.0\n"
     ]
    }
   ],
   "source": [
    "#The same approach goes with outlier treatment too\n",
    "cf = churn_dataset_filtered_train['loc_og_t2t_mou_8']\n",
    "#cf =churn_dataset_filtered_train[(churn_dataset_filtered_train['churn'] ==1),['loc_og_t2t_mou_6']]\n",
    "print(np.percentile(list(cf),98.5))\n",
    "print(np.percentile(list(cf),1.5))"
   ]
  },
  {
   "cell_type": "code",
   "execution_count": 79,
   "metadata": {},
   "outputs": [],
   "source": [
    "#churn_dataset_filtered_train = churn_dataset_filtered_train[churn_dataset_filtered_train['loc_og_t2t_mou_8']<np.percentile(list(cf),98.5)]\n",
    "#churn_dataset_filtered_train.shape"
   ]
  },
  {
   "cell_type": "code",
   "execution_count": 80,
   "metadata": {},
   "outputs": [
    {
     "data": {
      "text/plain": [
       "165.0141740355617"
      ]
     },
     "execution_count": 80,
     "metadata": {},
     "output_type": "execute_result"
    }
   ],
   "source": [
    "#Now lets take the next attribute log_og_t2m_mou_6 and check non na values of it\n",
    "cf = churn_dataset_filtered_train[~churn_dataset_filtered_train['loc_og_t2m_mou_6'].isna()]\n",
    "cf['loc_og_t2m_mou_6'].mean()"
   ]
  },
  {
   "cell_type": "code",
   "execution_count": 81,
   "metadata": {},
   "outputs": [
    {
     "data": {
      "text/plain": [
       "44.59"
      ]
     },
     "execution_count": 81,
     "metadata": {},
     "output_type": "execute_result"
    },
    {
     "data": {
      "image/png": "[encoded data removed]",
      "text/plain": [
       "<Figure size 432x288 with 1 Axes>"
      ]
     },
     "metadata": {
      "needs_background": "light"
     },
     "output_type": "display_data"
    }
   ],
   "source": [
    "notna_churn_loc_og_t2m_mou_6 = cf[(cf['churn']==1)]\n",
    "\n",
    "plt.boxplot(notna_churn_loc_og_t2m_mou_6['loc_og_t2m_mou_6'])\n",
    "np.median(notna_churn_loc_og_t2m_mou_6['loc_og_t2m_mou_6'])"
   ]
  },
  {
   "cell_type": "code",
   "execution_count": 82,
   "metadata": {},
   "outputs": [
    {
     "data": {
      "text/plain": [
       "83.14"
      ]
     },
     "execution_count": 82,
     "metadata": {},
     "output_type": "execute_result"
    },
    {
     "data": {
      "image/png": "[encoded data removed]",
      "text/plain": [
       "<Figure size 432x288 with 1 Axes>"
      ]
     },
     "metadata": {
      "needs_background": "light"
     },
     "output_type": "display_data"
    }
   ],
   "source": [
    "notna_churn_loc_og_t2m_mou_6 = cf[(cf['churn']==0)]\n",
    "\n",
    "plt.boxplot(notna_churn_loc_og_t2m_mou_6['loc_og_t2m_mou_6'])\n",
    "np.median(notna_churn_loc_og_t2m_mou_6['loc_og_t2m_mou_6'])"
   ]
  },
  {
   "cell_type": "code",
   "execution_count": 83,
   "metadata": {},
   "outputs": [
    {
     "name": "stdout",
     "output_type": "stream",
     "text": [
      "(385, 158)\n",
      "(108, 158)\n",
      "(277, 158)\n"
     ]
    }
   ],
   "source": [
    "#Print the count churns and non churns when there are nas\n",
    "cf2 = churn_dataset_filtered_train[churn_dataset_filtered_train['loc_og_t2m_mou_6'].isna()]\n",
    "print(cf2.shape)\n",
    "print(cf2[cf2['churn']==1].shape)\n",
    "print(cf2[cf2['churn']==0].shape)"
   ]
  },
  {
   "cell_type": "markdown",
   "metadata": {},
   "source": [
    "Here we see that they are almost equal the number of churns and non churns in case of nas.We can impute them respectively with\n",
    "the median of their classes as the values for loc_og_t2m_mou_6 are highly skewed"
   ]
  },
  {
   "cell_type": "code",
   "execution_count": 84,
   "metadata": {},
   "outputs": [
    {
     "name": "stderr",
     "output_type": "stream",
     "text": [
      "C:\\Users\\Jabir_shabbir\\Anaconda3\\lib\\site-packages\\pandas\\core\\indexing.py:494: SettingWithCopyWarning: \n",
      "A value is trying to be set on a copy of a slice from a DataFrame.\n",
      "Try using .loc[row_indexer,col_indexer] = value instead\n",
      "\n",
      "See the caveats in the documentation: http://pandas.pydata.org/pandas-docs/stable/user_guide/indexing.html#returning-a-view-versus-a-copy\n",
      "  self.obj[item] = s\n"
     ]
    }
   ],
   "source": [
    "#churn_dataset_filtered_train.loc[((churn_dataset_filtered_train['churn'] ==1) &(churn_dataset_filtered_train['loc_og_t2m_mou_6'].isna())),['loc_og_t2m_mou_6']] =44.98\n",
    "#churn_dataset_filtered_train.loc[((churn_dataset_filtered_train['churn'] ==0 )&(churn_dataset_filtered_train['loc_og_t2m_mou_6'].isna())),['loc_og_t2m_mou_6']] =91.33\n",
    "churn_dataset_filtered_train = ImputeMedian(churn_dataset_filtered_train,['loc_og_t2m_mou_6'])"
   ]
  },
  {
   "cell_type": "code",
   "execution_count": 85,
   "metadata": {},
   "outputs": [
    {
     "name": "stdout",
     "output_type": "stream",
     "text": [
      "989.1502\n",
      "0.0\n"
     ]
    }
   ],
   "source": [
    "#The same approach goes with outlier treatment too\n",
    "cf = churn_dataset_filtered_train['loc_og_t2m_mou_6']\n",
    "#cf =churn_dataset_filtered_train[(churn_dataset_filtered_train['churn'] ==1),['loc_og_t2t_mou_6']]\n",
    "print(np.percentile(list(cf),98.5))\n",
    "print(np.percentile(list(cf),1.5))"
   ]
  },
  {
   "cell_type": "code",
   "execution_count": 86,
   "metadata": {},
   "outputs": [],
   "source": [
    "#churn_dataset_filtered_train = churn_dataset_filtered_train[churn_dataset_filtered_train['loc_og_t2m_mou_6']<np.percentile(list(cf),98.5)]\n",
    "#churn_dataset_filtered_train.shape"
   ]
  },
  {
   "cell_type": "code",
   "execution_count": 87,
   "metadata": {},
   "outputs": [],
   "source": [
    "#Since there are many attributes we can repeat the process iteratively for all of them in a loop\n",
    "attributes = ['loc_og_t2m_mou_7','loc_og_t2m_mou_8','loc_og_t2f_mou_6','loc_og_t2f_mou_7','loc_og_t2f_mou_8']\n",
    "for attribute in attributes:\n",
    "    cf = churn_dataset_filtered_train[~churn_dataset_filtered_train[attribute].isna()]\n",
    "    notna_notchurn_loc_og_t2m_mou = cf[(cf['churn']==0)]\n",
    "    notna_churn_loc_og_t2m_mou = cf[(cf['churn']==1)]\n",
    "    churn_dataset_filtered_train.loc[((churn_dataset_filtered_train['churn'] ==1) &(churn_dataset_filtered_train[attribute].isna())),[attribute]]=np.median(notna_churn_loc_og_t2m_mou[attribute])\n",
    "    churn_dataset_filtered_train.loc[((churn_dataset_filtered_train['churn'] ==0 )&(churn_dataset_filtered_train[attribute].isna())),[attribute]]=np.median(notna_notchurn_loc_og_t2m_mou[attribute])\n",
    "    cf2 = churn_dataset_filtered_train[attribute]\n",
    "    #churn_dataset_filtered_train = churn_dataset_filtered_train[churn_dataset_filtered_train[attribute]<np.percentile(list(cf2),98.5)]"
   ]
  },
  {
   "cell_type": "code",
   "execution_count": 88,
   "metadata": {},
   "outputs": [
    {
     "name": "stdout",
     "output_type": "stream",
     "text": [
      "0.0\n",
      "0.0\n"
     ]
    },
    {
     "data": {
      "image/png": "[encoded data removed]",
      "text/plain": [
       "<Figure size 432x288 with 1 Axes>"
      ]
     },
     "metadata": {
      "needs_background": "light"
     },
     "output_type": "display_data"
    }
   ],
   "source": [
    "cf = churn_dataset_filtered_train[~churn_dataset_filtered_train['loc_og_t2c_mou_6'].isna()]\n",
    "notna_notchurn_loc_og_t2c_mou = cf[(cf['churn']==0)]\n",
    "notna_churn_loc_og_t2c_mou = cf[(cf['churn']==1)]\n",
    "plt.boxplot(notna_notchurn_loc_og_t2c_mou['loc_og_t2c_mou_6'])\n",
    "print(np.median(notna_notchurn_loc_og_t2c_mou['loc_og_t2c_mou_6']))\n",
    "plt.boxplot(notna_churn_loc_og_t2c_mou['loc_og_t2c_mou_6'])\n",
    "print(np.median(notna_churn_loc_og_t2c_mou['loc_og_t2c_mou_6']))"
   ]
  },
  {
   "cell_type": "code",
   "execution_count": 89,
   "metadata": {},
   "outputs": [
    {
     "name": "stdout",
     "output_type": "stream",
     "text": [
      "1.6047227795965806\n",
      "1.7331690997566929\n"
     ]
    }
   ],
   "source": [
    "print(np.mean(notna_notchurn_loc_og_t2c_mou['loc_og_t2c_mou_6']))\n",
    "print(np.mean(notna_churn_loc_og_t2c_mou['loc_og_t2c_mou_6']))"
   ]
  },
  {
   "cell_type": "markdown",
   "metadata": {},
   "source": [
    "As we see both mean and median is more or less similar close to zero and 1 ,this column can be dropped off,however the number\n",
    "of times the person makes calls to call center can be determining factor for churn as if the people are not happy with service\n",
    "they frequently call the call center,we can let the model decide on this.\n"
   ]
  },
  {
   "cell_type": "code",
   "execution_count": 90,
   "metadata": {},
   "outputs": [],
   "source": [
    "attributes = ['loc_og_t2c_mou_6','loc_og_t2c_mou_7','loc_og_t2c_mou_8']"
   ]
  },
  {
   "cell_type": "code",
   "execution_count": 91,
   "metadata": {},
   "outputs": [
    {
     "name": "stderr",
     "output_type": "stream",
     "text": [
      "C:\\Users\\Jabir_shabbir\\Anaconda3\\lib\\site-packages\\pandas\\core\\indexing.py:494: SettingWithCopyWarning: \n",
      "A value is trying to be set on a copy of a slice from a DataFrame.\n",
      "Try using .loc[row_indexer,col_indexer] = value instead\n",
      "\n",
      "See the caveats in the documentation: http://pandas.pydata.org/pandas-docs/stable/user_guide/indexing.html#returning-a-view-versus-a-copy\n",
      "  self.obj[item] = s\n"
     ]
    }
   ],
   "source": [
    "#We observe that the distribution is more or less similar for other month calls to call center,hence they can be imputed similarly\n",
    "churn_dataset_filtered_train = ImputeMedian(churn_dataset_filtered_train,attributes)"
   ]
  },
  {
   "cell_type": "code",
   "execution_count": 92,
   "metadata": {},
   "outputs": [
    {
     "data": {
      "text/plain": [
       "(20967, 155)"
      ]
     },
     "execution_count": 92,
     "metadata": {},
     "output_type": "execute_result"
    }
   ],
   "source": [
    "#Further we can drop the attributes corresponding to total calls,as they are just the sum of columns corresponding to ouutgoing calls\n",
    "churn_dataset_filtered_train = churn_dataset_filtered_train.drop(['loc_og_mou_6','loc_og_mou_7','loc_og_mou_8'],axis = 1)\n",
    "#churn_dataset_filtered_train['log_og_mou_6'].head()\n",
    "churn_dataset_filtered_train.shape"
   ]
  },
  {
   "cell_type": "markdown",
   "metadata": {},
   "source": [
    "Now we can have a look at std outgoing calls"
   ]
  },
  {
   "cell_type": "code",
   "execution_count": 93,
   "metadata": {},
   "outputs": [
    {
     "data": {
      "image/png": "[encoded data removed]",
      "text/plain": [
       "<Figure size 432x288 with 1 Axes>"
      ]
     },
     "metadata": {
      "needs_background": "light"
     },
     "output_type": "display_data"
    },
    {
     "name": "stdout",
     "output_type": "stream",
     "text": [
      "27.75\n"
     ]
    },
    {
     "data": {
      "image/png": "[encoded data removed]",
      "text/plain": [
       "<Figure size 432x288 with 1 Axes>"
      ]
     },
     "metadata": {
      "needs_background": "light"
     },
     "output_type": "display_data"
    },
    {
     "name": "stdout",
     "output_type": "stream",
     "text": [
      "2.58\n"
     ]
    }
   ],
   "source": [
    "cf = churn_dataset_filtered_train[~churn_dataset_filtered_train['std_og_t2t_mou_6'].isna()]\n",
    "churned_std_og_t2t = cf[cf['churn'] ==1]\n",
    "nonchurned_std_og_t2t = cf[cf['churn'] ==0]\n",
    "plt.boxplot(churned_std_og_t2t['std_og_t2t_mou_6'])\n",
    "plt.show()\n",
    "print(np.median(churned_std_og_t2t['std_og_t2t_mou_6']))\n",
    "plt.boxplot(nonchurned_std_og_t2t['std_og_t2t_mou_6'])\n",
    "plt.show()\n",
    "print(np.median(nonchurned_std_og_t2t['std_og_t2t_mou_6']))"
   ]
  },
  {
   "cell_type": "markdown",
   "metadata": {},
   "source": [
    "This is interesting contrary to local calls the churned users have higher std usage for outgoing calls of this category.\n",
    "Lets check for std calls of other categories too"
   ]
  },
  {
   "cell_type": "code",
   "execution_count": 94,
   "metadata": {},
   "outputs": [
    {
     "data": {
      "image/png": "[encoded data removed]",
      "text/plain": [
       "<Figure size 432x288 with 1 Axes>"
      ]
     },
     "metadata": {
      "needs_background": "light"
     },
     "output_type": "display_data"
    },
    {
     "name": "stdout",
     "output_type": "stream",
     "text": [
      "13.68\n"
     ]
    },
    {
     "data": {
      "image/png": "[encoded data removed]",
      "text/plain": [
       "<Figure size 432x288 with 1 Axes>"
      ]
     },
     "metadata": {
      "needs_background": "light"
     },
     "output_type": "display_data"
    },
    {
     "name": "stdout",
     "output_type": "stream",
     "text": [
      "2.7\n"
     ]
    }
   ],
   "source": [
    "cf = churn_dataset_filtered_train[~churn_dataset_filtered_train['std_og_t2t_mou_7'].isna()]\n",
    "churned_std_og_t2t = cf[cf['churn'] ==1]\n",
    "nonchurned_std_og_t2t = cf[cf['churn'] ==0]\n",
    "plt.boxplot(churned_std_og_t2t['std_og_t2t_mou_7'])\n",
    "plt.show()\n",
    "print(np.median(churned_std_og_t2t['std_og_t2t_mou_7']))\n",
    "plt.boxplot(nonchurned_std_og_t2t['std_og_t2t_mou_7'])\n",
    "plt.show()\n",
    "print(np.median(nonchurned_std_og_t2t['std_og_t2t_mou_7']))"
   ]
  },
  {
   "cell_type": "markdown",
   "metadata": {},
   "source": [
    "Again the same is true for month 7 too.We will now impute the missing the missing values with median for all 3 categories of months 6,7,8."
   ]
  },
  {
   "cell_type": "code",
   "execution_count": 95,
   "metadata": {},
   "outputs": [],
   "source": [
    "attributes = ['std_og_t2t_mou_6','std_og_t2t_mou_7','std_og_t2t_mou_8']\n",
    "churn_dataset_filtered_train = ImputeMedian(churn_dataset_filtered_train,attributes)"
   ]
  },
  {
   "cell_type": "markdown",
   "metadata": {},
   "source": [
    "We missed out the analysis of local mobile to fixed line."
   ]
  },
  {
   "cell_type": "code",
   "execution_count": 96,
   "metadata": {},
   "outputs": [
    {
     "data": {
      "image/png": "[encoded data removed]",
      "text/plain": [
       "<Figure size 432x288 with 1 Axes>"
      ]
     },
     "metadata": {
      "needs_background": "light"
     },
     "output_type": "display_data"
    },
    {
     "name": "stdout",
     "output_type": "stream",
     "text": [
      "0.0\n"
     ]
    },
    {
     "data": {
      "image/png": "[encoded data removed]",
      "text/plain": [
       "<Figure size 432x288 with 1 Axes>"
      ]
     },
     "metadata": {
      "needs_background": "light"
     },
     "output_type": "display_data"
    },
    {
     "name": "stdout",
     "output_type": "stream",
     "text": [
      "0.28\n"
     ]
    }
   ],
   "source": [
    "cf = churn_dataset_filtered_train[~churn_dataset_filtered_train['loc_og_t2f_mou_6'].isna()]\n",
    "churned_std_og_t2t = cf[cf['churn'] ==1]\n",
    "nonchurned_std_og_t2t = cf[cf['churn'] ==0]\n",
    "plt.boxplot(churned_std_og_t2t['loc_og_t2f_mou_6'])\n",
    "plt.show()\n",
    "print(np.median(churned_std_og_t2t['loc_og_t2f_mou_6']))\n",
    "plt.boxplot(nonchurned_std_og_t2t['loc_og_t2f_mou_6'])\n",
    "plt.show()\n",
    "print(np.median(nonchurned_std_og_t2t['loc_og_t2f_mou_6']))"
   ]
  },
  {
   "cell_type": "code",
   "execution_count": 97,
   "metadata": {},
   "outputs": [
    {
     "name": "stdout",
     "output_type": "stream",
     "text": [
      "3.1918036529680403\n",
      "6.68691230809255\n"
     ]
    }
   ],
   "source": [
    "print(np.mean(churned_std_og_t2t['loc_og_t2f_mou_6']))\n",
    "print(np.mean(nonchurned_std_og_t2t['loc_og_t2f_mou_6']))"
   ]
  },
  {
   "cell_type": "markdown",
   "metadata": {},
   "source": [
    "There does not seem to be much difference in the means and medians of churns and non churns in case of local outgoing calls to same operator"
   ]
  },
  {
   "cell_type": "code",
   "execution_count": 98,
   "metadata": {},
   "outputs": [
    {
     "data": {
      "image/png": "[encoded data removed]",
      "text/plain": [
       "<Figure size 432x288 with 1 Axes>"
      ]
     },
     "metadata": {
      "needs_background": "light"
     },
     "output_type": "display_data"
    },
    {
     "name": "stdout",
     "output_type": "stream",
     "text": [
      "0.0\n"
     ]
    },
    {
     "data": {
      "image/png": "[encoded data removed]",
      "text/plain": [
       "<Figure size 432x288 with 1 Axes>"
      ]
     },
     "metadata": {
      "needs_background": "light"
     },
     "output_type": "display_data"
    },
    {
     "name": "stdout",
     "output_type": "stream",
     "text": [
      "0.36\n"
     ]
    }
   ],
   "source": [
    "cf = churn_dataset_filtered_train[~churn_dataset_filtered_train['loc_og_t2f_mou_7'].isna()]\n",
    "churned_std_og_t2t = cf[cf['churn'] ==1]\n",
    "nonchurned_std_og_t2t = cf[cf['churn'] ==0]\n",
    "plt.boxplot(churned_std_og_t2t['loc_og_t2f_mou_7'])\n",
    "plt.show()\n",
    "print(np.median(churned_std_og_t2t['loc_og_t2f_mou_7']))\n",
    "plt.boxplot(nonchurned_std_og_t2t['loc_og_t2f_mou_7'])\n",
    "plt.show()\n",
    "print(np.median(nonchurned_std_og_t2t['loc_og_t2f_mou_7']))"
   ]
  },
  {
   "cell_type": "code",
   "execution_count": 99,
   "metadata": {},
   "outputs": [
    {
     "data": {
      "image/png": "[encoded data removed]",
      "text/plain": [
       "<Figure size 432x288 with 1 Axes>"
      ]
     },
     "metadata": {
      "needs_background": "light"
     },
     "output_type": "display_data"
    },
    {
     "name": "stdout",
     "output_type": "stream",
     "text": [
      "0.0\n"
     ]
    },
    {
     "data": {
      "image/png": "[encoded data removed]",
      "text/plain": [
       "<Figure size 432x288 with 1 Axes>"
      ]
     },
     "metadata": {
      "needs_background": "light"
     },
     "output_type": "display_data"
    },
    {
     "name": "stdout",
     "output_type": "stream",
     "text": [
      "0.25\n"
     ]
    }
   ],
   "source": [
    "cf = churn_dataset_filtered_train[~churn_dataset_filtered_train['loc_og_t2f_mou_8'].isna()]\n",
    "churned_std_og_t2t = cf[cf['churn'] ==1]\n",
    "nonchurned_std_og_t2t = cf[cf['churn'] ==0]\n",
    "plt.boxplot(churned_std_og_t2t['loc_og_t2f_mou_8'])\n",
    "plt.show()\n",
    "print(np.median(churned_std_og_t2t['loc_og_t2f_mou_8']))\n",
    "plt.boxplot(nonchurned_std_og_t2t['loc_og_t2f_mou_8'])\n",
    "plt.show()\n",
    "print(np.median(nonchurned_std_og_t2t['loc_og_t2f_mou_8']))"
   ]
  },
  {
   "cell_type": "markdown",
   "metadata": {},
   "source": [
    "We can drop the columns corresponding to fixed lines of same ooperator as there is indeed not\n",
    "much difference in estimates of outgoing calls to fixed lines within same operator"
   ]
  },
  {
   "cell_type": "code",
   "execution_count": 100,
   "metadata": {},
   "outputs": [],
   "source": [
    "churn_dataset_filtered_train = churn_dataset_filtered_train.drop(['loc_og_t2f_mou_8','loc_og_t2f_mou_7','loc_og_t2f_mou_6'],axis = 1)"
   ]
  },
  {
   "cell_type": "code",
   "execution_count": 101,
   "metadata": {},
   "outputs": [
    {
     "data": {
      "image/png": "[encoded data removed]",
      "text/plain": [
       "<Figure size 432x288 with 1 Axes>"
      ]
     },
     "metadata": {
      "needs_background": "light"
     },
     "output_type": "display_data"
    },
    {
     "name": "stdout",
     "output_type": "stream",
     "text": [
      "65.11\n"
     ]
    },
    {
     "data": {
      "image/png": "[encoded data removed]",
      "text/plain": [
       "<Figure size 432x288 with 1 Axes>"
      ]
     },
     "metadata": {
      "needs_background": "light"
     },
     "output_type": "display_data"
    },
    {
     "name": "stdout",
     "output_type": "stream",
     "text": [
      "15.75\n"
     ]
    }
   ],
   "source": [
    "cf = churn_dataset_filtered_train[~churn_dataset_filtered_train['std_og_t2m_mou_6'].isna()]\n",
    "churned_std_og_t2t = cf[cf['churn'] ==1]\n",
    "nonchurned_std_og_t2t = cf[cf['churn'] ==0]\n",
    "plt.boxplot(churned_std_og_t2t['std_og_t2m_mou_6'])\n",
    "plt.show()\n",
    "print(np.median(churned_std_og_t2t['std_og_t2m_mou_6']))\n",
    "plt.boxplot(nonchurned_std_og_t2t['std_og_t2m_mou_6'])\n",
    "plt.show()\n",
    "print(np.median(nonchurned_std_og_t2t['std_og_t2m_mou_6']))"
   ]
  },
  {
   "cell_type": "markdown",
   "metadata": {},
   "source": [
    "Here we see indeed there is difference in median values of outgoing std calls to other operators\n",
    "between those who have churned and those not churned"
   ]
  },
  {
   "cell_type": "code",
   "execution_count": 102,
   "metadata": {},
   "outputs": [],
   "source": [
    "#We can impute missing values with the median for all outgoing std to other lines\n",
    "cf = churn_dataset_filtered_train[churn_dataset_filtered_train['std_og_t2m_mou_6'].isna()]\n",
    "#cf.shape\n",
    "attributes = ['std_og_t2m_mou_6','std_og_t2m_mou_7','std_og_t2m_mou_8']\n",
    "churn_dataset_filtered_train = ImputeMedian(churn_dataset_filtered_train,attributes)"
   ]
  },
  {
   "cell_type": "code",
   "execution_count": 103,
   "metadata": {},
   "outputs": [
    {
     "data": {
      "image/png": "[encoded data removed]",
      "text/plain": [
       "<Figure size 432x288 with 1 Axes>"
      ]
     },
     "metadata": {
      "needs_background": "light"
     },
     "output_type": "display_data"
    },
    {
     "name": "stdout",
     "output_type": "stream",
     "text": [
      "0.0\n"
     ]
    },
    {
     "data": {
      "image/png": "[encoded data removed]",
      "text/plain": [
       "<Figure size 432x288 with 1 Axes>"
      ]
     },
     "metadata": {
      "needs_background": "light"
     },
     "output_type": "display_data"
    },
    {
     "name": "stdout",
     "output_type": "stream",
     "text": [
      "0.0\n"
     ]
    }
   ],
   "source": [
    "cf = churn_dataset_filtered_train[~churn_dataset_filtered_train['std_og_t2f_mou_6'].isna()]\n",
    "churned_std_og_t2t = cf[cf['churn'] ==1]\n",
    "nonchurned_std_og_t2t = cf[cf['churn'] ==0]\n",
    "plt.boxplot(churned_std_og_t2t['std_og_t2f_mou_6'])\n",
    "plt.show()\n",
    "print(np.median(churned_std_og_t2t['std_og_t2f_mou_6']))\n",
    "plt.boxplot(nonchurned_std_og_t2t['std_og_t2f_mou_6'])\n",
    "plt.show()\n",
    "print(np.median(nonchurned_std_og_t2t['std_og_t2f_mou_6']))"
   ]
  },
  {
   "cell_type": "code",
   "execution_count": 104,
   "metadata": {},
   "outputs": [
    {
     "name": "stdout",
     "output_type": "stream",
     "text": [
      "1.9684348928081181\n",
      "0.0\n"
     ]
    }
   ],
   "source": [
    "print(np.mean(nonchurned_std_og_t2t['std_og_t2f_mou_6']))\n",
    "print(np.median(nonchurned_std_og_t2t['std_og_t2f_mou_6']))"
   ]
  },
  {
   "cell_type": "markdown",
   "metadata": {},
   "source": [
    "Although the distribution of churn and not churn seems to be more or less similar there is slight difference in their mean.\n",
    "We can consider this for our model and let model decide if the variable is significant"
   ]
  },
  {
   "cell_type": "code",
   "execution_count": 105,
   "metadata": {},
   "outputs": [],
   "source": [
    "#We can do this for all months of std_t2f 6,7,8\n",
    "attributes = ['std_og_t2f_mou_6','std_og_t2f_mou_7','std_og_t2f_mou_8']\n",
    "churn_dataset_filtered_train = ImputeMedian(churn_dataset_filtered_train,attributes)"
   ]
  },
  {
   "cell_type": "code",
   "execution_count": 106,
   "metadata": {},
   "outputs": [
    {
     "data": {
      "image/png": "[encoded data removed]",
      "text/plain": [
       "<Figure size 432x288 with 1 Axes>"
      ]
     },
     "metadata": {
      "needs_background": "light"
     },
     "output_type": "display_data"
    },
    {
     "name": "stdout",
     "output_type": "stream",
     "text": [
      "0.0\n",
      "1.2862899543379003\n"
     ]
    },
    {
     "data": {
      "image/png": "[encoded data removed]",
      "text/plain": [
       "<Figure size 432x288 with 1 Axes>"
      ]
     },
     "metadata": {
      "needs_background": "light"
     },
     "output_type": "display_data"
    },
    {
     "name": "stdout",
     "output_type": "stream",
     "text": [
      "0.0\n",
      "1.940058287796\n"
     ]
    },
    {
     "data": {
      "image/png": "[encoded data removed]",
      "text/plain": [
       "<Figure size 432x288 with 1 Axes>"
      ]
     },
     "metadata": {
      "needs_background": "light"
     },
     "output_type": "display_data"
    },
    {
     "name": "stdout",
     "output_type": "stream",
     "text": [
      "0.0\n",
      "1.1205593607305953\n"
     ]
    },
    {
     "data": {
      "image/png": "[encoded data removed]",
      "text/plain": [
       "<Figure size 432x288 with 1 Axes>"
      ]
     },
     "metadata": {
      "needs_background": "light"
     },
     "output_type": "display_data"
    },
    {
     "name": "stdout",
     "output_type": "stream",
     "text": [
      "0.0\n",
      "1.983699193338545\n"
     ]
    },
    {
     "data": {
      "image/png": "[encoded data removed]",
      "text/plain": [
       "<Figure size 432x288 with 1 Axes>"
      ]
     },
     "metadata": {
      "needs_background": "light"
     },
     "output_type": "display_data"
    },
    {
     "name": "stdout",
     "output_type": "stream",
     "text": [
      "0.0\n",
      "0.33805365296803647\n"
     ]
    },
    {
     "data": {
      "image/png": "[encoded data removed]",
      "text/plain": [
       "<Figure size 432x288 with 1 Axes>"
      ]
     },
     "metadata": {
      "needs_background": "light"
     },
     "output_type": "display_data"
    },
    {
     "name": "stdout",
     "output_type": "stream",
     "text": [
      "0.0\n",
      "1.7666146239916767\n"
     ]
    }
   ],
   "source": [
    "attributes = ['std_og_t2f_mou_6','std_og_t2f_mou_7','std_og_t2f_mou_8']\n",
    "BoxPlot(churn_dataset_filtered_train,attributes)\n",
    "#churn_dataset_filtered_train.columns"
   ]
  },
  {
   "cell_type": "code",
   "execution_count": 107,
   "metadata": {},
   "outputs": [
    {
     "data": {
      "text/plain": [
       "0.35"
      ]
     },
     "execution_count": 107,
     "metadata": {},
     "output_type": "execute_result"
    }
   ],
   "source": [
    "np.percentile(churn_dataset_filtered_train['std_og_t2f_mou_8'],87)\n"
   ]
  },
  {
   "cell_type": "markdown",
   "metadata": {},
   "source": [
    "We drop these columns as there is indeed some difference in the means atleast though most of the entries are 0 as we see uptill\n",
    "87 percentile the values are zeros"
   ]
  },
  {
   "cell_type": "code",
   "execution_count": 108,
   "metadata": {},
   "outputs": [],
   "source": [
    "churn_dataset_filtered_train = churn_dataset_filtered_train.drop(['std_og_t2f_mou_6','std_og_t2f_mou_7','std_og_t2f_mou_8'],axis = 1)"
   ]
  },
  {
   "cell_type": "markdown",
   "metadata": {},
   "source": [
    "Now lets look at the calls of std to call centers"
   ]
  },
  {
   "cell_type": "code",
   "execution_count": 109,
   "metadata": {},
   "outputs": [
    {
     "name": "stdout",
     "output_type": "stream",
     "text": [
      "0\n",
      "0\n",
      "0\n"
     ]
    }
   ],
   "source": [
    "attributes = ['std_og_t2c_mou_6','std_og_t2c_mou_7','std_og_t2c_mou_8']\n",
    "print(sum(churn_dataset_filtered_train['std_og_t2c_mou_6']>0))\n",
    "print(sum(churn_dataset_filtered_train['std_og_t2c_mou_7']>0))\n",
    "print(sum(churn_dataset_filtered_train['std_og_t2c_mou_8']>0))"
   ]
  },
  {
   "cell_type": "code",
   "execution_count": 110,
   "metadata": {},
   "outputs": [],
   "source": [
    "churn_dataset_filtered_train = churn_dataset_filtered_train.drop(attributes,axis = 1)"
   ]
  },
  {
   "cell_type": "code",
   "execution_count": 111,
   "metadata": {},
   "outputs": [
    {
     "data": {
      "image/png": "[encoded data removed]",
      "text/plain": [
       "<Figure size 432x288 with 1 Axes>"
      ]
     },
     "metadata": {
      "needs_background": "light"
     },
     "output_type": "display_data"
    },
    {
     "name": "stdout",
     "output_type": "stream",
     "text": [
      "0.0\n",
      "4.259519464720196\n"
     ]
    },
    {
     "data": {
      "image/png": "[encoded data removed]",
      "text/plain": [
       "<Figure size 432x288 with 1 Axes>"
      ]
     },
     "metadata": {
      "needs_background": "light"
     },
     "output_type": "display_data"
    },
    {
     "name": "stdout",
     "output_type": "stream",
     "text": [
      "0.0\n",
      "2.080045411342277\n"
     ]
    },
    {
     "data": {
      "image/png": "[encoded data removed]",
      "text/plain": [
       "<Figure size 432x288 with 1 Axes>"
      ]
     },
     "metadata": {
      "needs_background": "light"
     },
     "output_type": "display_data"
    },
    {
     "name": "stdout",
     "output_type": "stream",
     "text": [
      "0.0\n",
      "4.259519464720196\n"
     ]
    },
    {
     "data": {
      "image/png": "[encoded data removed]",
      "text/plain": [
       "<Figure size 432x288 with 1 Axes>"
      ]
     },
     "metadata": {
      "needs_background": "light"
     },
     "output_type": "display_data"
    },
    {
     "name": "stdout",
     "output_type": "stream",
     "text": [
      "0.0\n",
      "2.080045411342277\n"
     ]
    },
    {
     "data": {
      "image/png": "[encoded data removed]",
      "text/plain": [
       "<Figure size 432x288 with 1 Axes>"
      ]
     },
     "metadata": {
      "needs_background": "light"
     },
     "output_type": "display_data"
    },
    {
     "name": "stdout",
     "output_type": "stream",
     "text": [
      "0.0\n",
      "4.259519464720196\n"
     ]
    },
    {
     "data": {
      "image/png": "[encoded data removed]",
      "text/plain": [
       "<Figure size 432x288 with 1 Axes>"
      ]
     },
     "metadata": {
      "needs_background": "light"
     },
     "output_type": "display_data"
    },
    {
     "name": "stdout",
     "output_type": "stream",
     "text": [
      "0.0\n",
      "2.080045411342277\n"
     ]
    }
   ],
   "source": [
    "attributes = ['isd_og_mou_6','isd_og_mou_6','isd_og_mou_6']\n",
    "BoxPlot(churn_dataset_filtered_train,attributes)"
   ]
  },
  {
   "cell_type": "markdown",
   "metadata": {},
   "source": [
    "Although the median is 0 for all 3 months in case isd outgoing calls,however is is some difference in the means.\n",
    "We can impute the data with median as it is quite skewed,isd calls are slightly higher in duration in case of churn\n"
   ]
  },
  {
   "cell_type": "code",
   "execution_count": 112,
   "metadata": {},
   "outputs": [],
   "source": [
    "attributes = ['isd_og_mou_6','isd_og_mou_7','isd_og_mou_8']\n",
    "churn_dataset_filtered_train = ImputeMedian(churn_dataset_filtered_train,attributes)"
   ]
  },
  {
   "cell_type": "code",
   "execution_count": 113,
   "metadata": {},
   "outputs": [
    {
     "data": {
      "text/plain": [
       "(20967, 146)"
      ]
     },
     "execution_count": 113,
     "metadata": {},
     "output_type": "execute_result"
    }
   ],
   "source": [
    "churn_dataset_filtered_train.shape"
   ]
  },
  {
   "cell_type": "markdown",
   "metadata": {},
   "source": [
    "Now lets check the special calls distributions"
   ]
  },
  {
   "cell_type": "code",
   "execution_count": 114,
   "metadata": {},
   "outputs": [
    {
     "data": {
      "image/png": "[encoded data removed]",
      "text/plain": [
       "<Figure size 432x288 with 1 Axes>"
      ]
     },
     "metadata": {
      "needs_background": "light"
     },
     "output_type": "display_data"
    },
    {
     "name": "stdout",
     "output_type": "stream",
     "text": [
      "0.63\n",
      "7.62014598540145\n"
     ]
    },
    {
     "data": {
      "image/png": "[encoded data removed]",
      "text/plain": [
       "<Figure size 432x288 with 1 Axes>"
      ]
     },
     "metadata": {
      "needs_background": "light"
     },
     "output_type": "display_data"
    },
    {
     "name": "stdout",
     "output_type": "stream",
     "text": [
      "0.26\n",
      "5.811069278698855\n"
     ]
    },
    {
     "data": {
      "image/png": "[encoded data removed]",
      "text/plain": [
       "<Figure size 432x288 with 1 Axes>"
      ]
     },
     "metadata": {
      "needs_background": "light"
     },
     "output_type": "display_data"
    },
    {
     "name": "stdout",
     "output_type": "stream",
     "text": [
      "0.78\n",
      "7.846908182386004\n"
     ]
    },
    {
     "data": {
      "image/png": "[encoded data removed]",
      "text/plain": [
       "<Figure size 432x288 with 1 Axes>"
      ]
     },
     "metadata": {
      "needs_background": "light"
     },
     "output_type": "display_data"
    },
    {
     "name": "stdout",
     "output_type": "stream",
     "text": [
      "0.785\n",
      "7.166062664560209\n"
     ]
    },
    {
     "data": {
      "image/png": "[encoded data removed]",
      "text/plain": [
       "<Figure size 432x288 with 1 Axes>"
      ]
     },
     "metadata": {
      "needs_background": "light"
     },
     "output_type": "display_data"
    },
    {
     "name": "stdout",
     "output_type": "stream",
     "text": [
      "0.0\n",
      "4.260153977758771\n"
     ]
    },
    {
     "data": {
      "image/png": "[encoded data removed]",
      "text/plain": [
       "<Figure size 432x288 with 1 Axes>"
      ]
     },
     "metadata": {
      "needs_background": "light"
     },
     "output_type": "display_data"
    },
    {
     "name": "stdout",
     "output_type": "stream",
     "text": [
      "0.73\n",
      "6.9644599229591515\n"
     ]
    }
   ],
   "source": [
    "attributes = ['spl_og_mou_6','spl_og_mou_7','spl_og_mou_8']\n",
    "BoxPlot(churn_dataset_filtered_train,attributes)"
   ]
  },
  {
   "cell_type": "code",
   "execution_count": 115,
   "metadata": {},
   "outputs": [],
   "source": [
    "#We see that the median is close to zero but there are differences in mean,not sure if its statistically significant we cant\n",
    "#let the model decide this.However lets impute the vallues with the median.\n",
    "churn_dataset_filtered_train = ImputeMedian(churn_dataset_filtered_train,attributes)\n"
   ]
  },
  {
   "cell_type": "markdown",
   "metadata": {},
   "source": [
    "We can drop the column og_others as it does not seem to add value in terms of business and it has most of the values as 0 upto 88 percentile"
   ]
  },
  {
   "cell_type": "code",
   "execution_count": 116,
   "metadata": {},
   "outputs": [
    {
     "data": {
      "text/plain": [
       "1.68"
      ]
     },
     "execution_count": 116,
     "metadata": {},
     "output_type": "execute_result"
    }
   ],
   "source": [
    "cf = churn_dataset_filtered_train[~churn_dataset_filtered_train['og_others_6'].isna()]\n",
    "np.percentile(cf['og_others_6'],88)"
   ]
  },
  {
   "cell_type": "code",
   "execution_count": 117,
   "metadata": {},
   "outputs": [],
   "source": [
    "churn_dataset_filtered_train = churn_dataset_filtered_train.drop(['og_others_6','og_others_7','og_others_8'],axis = 1)"
   ]
  },
  {
   "cell_type": "markdown",
   "metadata": {},
   "source": [
    "We can also get rid of the variables corressponding to total minutes of outgoing calls ,as they are already redundant since we have the minutes for individual months"
   ]
  },
  {
   "cell_type": "code",
   "execution_count": 118,
   "metadata": {},
   "outputs": [],
   "source": [
    "churn_dataset_filtered_train = churn_dataset_filtered_train.drop(['total_og_mou_6','total_og_mou_7','total_og_mou_8'],axis = 1)"
   ]
  },
  {
   "cell_type": "markdown",
   "metadata": {},
   "source": [
    "Now lets check the columns corressponding to incoming calls of various types."
   ]
  },
  {
   "cell_type": "code",
   "execution_count": 119,
   "metadata": {},
   "outputs": [
    {
     "data": {
      "image/png": "[encoded data removed]",
      "text/plain": [
       "<Figure size 432x288 with 1 Axes>"
      ]
     },
     "metadata": {
      "needs_background": "light"
     },
     "output_type": "display_data"
    },
    {
     "name": "stdout",
     "output_type": "stream",
     "text": [
      "14.915\n",
      "47.36339416058398\n"
     ]
    },
    {
     "data": {
      "image/png": "[encoded data removed]",
      "text/plain": [
       "<Figure size 432x288 with 1 Axes>"
      ]
     },
     "metadata": {
      "needs_background": "light"
     },
     "output_type": "display_data"
    },
    {
     "name": "stdout",
     "output_type": "stream",
     "text": [
      "26.66\n",
      "66.69264917097905\n"
     ]
    },
    {
     "data": {
      "image/png": "[encoded data removed]",
      "text/plain": [
       "<Figure size 432x288 with 1 Axes>"
      ]
     },
     "metadata": {
      "needs_background": "light"
     },
     "output_type": "display_data"
    },
    {
     "name": "stdout",
     "output_type": "stream",
     "text": [
      "12.06\n",
      "38.69619612742034\n"
     ]
    },
    {
     "data": {
      "image/png": "[encoded data removed]",
      "text/plain": [
       "<Figure size 432x288 with 1 Axes>"
      ]
     },
     "metadata": {
      "needs_background": "light"
     },
     "output_type": "display_data"
    },
    {
     "name": "stdout",
     "output_type": "stream",
     "text": [
      "27.88\n",
      "69.09938335966277\n"
     ]
    },
    {
     "data": {
      "image/png": "[encoded data removed]",
      "text/plain": [
       "<Figure size 432x288 with 1 Axes>"
      ]
     },
     "metadata": {
      "needs_background": "light"
     },
     "output_type": "display_data"
    },
    {
     "name": "stdout",
     "output_type": "stream",
     "text": [
      "1.84\n",
      "17.163267750213855\n"
     ]
    },
    {
     "data": {
      "image/png": "[encoded data removed]",
      "text/plain": [
       "<Figure size 432x288 with 1 Axes>"
      ]
     },
     "metadata": {
      "needs_background": "light"
     },
     "output_type": "display_data"
    },
    {
     "name": "stdout",
     "output_type": "stream",
     "text": [
      "26.74\n",
      "66.59103266318364\n"
     ]
    }
   ],
   "source": [
    "attributes = ['loc_ic_t2t_mou_6','loc_ic_t2t_mou_7','loc_ic_t2t_mou_8']\n",
    "BoxPlot(churn_dataset_filtered_train,attributes)"
   ]
  },
  {
   "cell_type": "code",
   "execution_count": 120,
   "metadata": {},
   "outputs": [],
   "source": [
    "# We see there is a significant difference in the distributions of incoming calls within same operators\n",
    "#More ever the data is highly skewed,hence we can impute the missing values with medians.\n",
    "churn_dataset_filtered_train = ImputeMedian(churn_dataset_filtered_train,attributes)"
   ]
  },
  {
   "cell_type": "markdown",
   "metadata": {},
   "source": [
    "Now lets check the distribution of other incoming calls from operators"
   ]
  },
  {
   "cell_type": "code",
   "execution_count": 121,
   "metadata": {},
   "outputs": [
    {
     "data": {
      "image/png": "[encoded data removed]",
      "text/plain": [
       "<Figure size 432x288 with 1 Axes>"
      ]
     },
     "metadata": {
      "needs_background": "light"
     },
     "output_type": "display_data"
    },
    {
     "name": "stdout",
     "output_type": "stream",
     "text": [
      "52.35\n",
      "115.8866909975668\n"
     ]
    },
    {
     "data": {
      "image/png": "[encoded data removed]",
      "text/plain": [
       "<Figure size 432x288 with 1 Axes>"
      ]
     },
     "metadata": {
      "needs_background": "light"
     },
     "output_type": "display_data"
    },
    {
     "name": "stdout",
     "output_type": "stream",
     "text": [
      "89.68\n",
      "156.8205180061222\n"
     ]
    },
    {
     "data": {
      "image/png": "[encoded data removed]",
      "text/plain": [
       "<Figure size 432x288 with 1 Axes>"
      ]
     },
     "metadata": {
      "needs_background": "light"
     },
     "output_type": "display_data"
    },
    {
     "name": "stdout",
     "output_type": "stream",
     "text": [
      "41.91\n",
      "92.7141286695812\n"
     ]
    },
    {
     "data": {
      "image/png": "[encoded data removed]",
      "text/plain": [
       "<Figure size 432x288 with 1 Axes>"
      ]
     },
     "metadata": {
      "needs_background": "light"
     },
     "output_type": "display_data"
    },
    {
     "name": "stdout",
     "output_type": "stream",
     "text": [
      "92.35\n",
      "159.04197472353482\n"
     ]
    },
    {
     "data": {
      "image/png": "[encoded data removed]",
      "text/plain": [
       "<Figure size 432x288 with 1 Axes>"
      ]
     },
     "metadata": {
      "needs_background": "light"
     },
     "output_type": "display_data"
    },
    {
     "name": "stdout",
     "output_type": "stream",
     "text": [
      "8.56\n",
      "43.718374679213056\n"
     ]
    },
    {
     "data": {
      "image/png": "[encoded data removed]",
      "text/plain": [
       "<Figure size 432x288 with 1 Axes>"
      ]
     },
     "metadata": {
      "needs_background": "light"
     },
     "output_type": "display_data"
    },
    {
     "name": "stdout",
     "output_type": "stream",
     "text": [
      "91.29\n",
      "159.32479394226854\n"
     ]
    }
   ],
   "source": [
    "attributes = ['loc_ic_t2m_mou_6','loc_ic_t2m_mou_7','loc_ic_t2m_mou_8']\n",
    "BoxPlot(churn_dataset_filtered_train,attributes)"
   ]
  },
  {
   "cell_type": "code",
   "execution_count": 122,
   "metadata": {},
   "outputs": [],
   "source": [
    "churn_dataset_filtered_train = ImputeMedian(churn_dataset_filtered_train,attributes)"
   ]
  },
  {
   "cell_type": "code",
   "execution_count": 123,
   "metadata": {},
   "outputs": [
    {
     "data": {
      "image/png": "[encoded data removed]",
      "text/plain": [
       "<Figure size 432x288 with 1 Axes>"
      ]
     },
     "metadata": {
      "needs_background": "light"
     },
     "output_type": "display_data"
    },
    {
     "name": "stdout",
     "output_type": "stream",
     "text": [
      "0.21\n",
      "8.436836982968359\n"
     ]
    },
    {
     "data": {
      "image/png": "[encoded data removed]",
      "text/plain": [
       "<Figure size 432x288 with 1 Axes>"
      ]
     },
     "metadata": {
      "needs_background": "light"
     },
     "output_type": "display_data"
    },
    {
     "name": "stdout",
     "output_type": "stream",
     "text": [
      "2.23\n",
      "16.252404688985155\n"
     ]
    },
    {
     "data": {
      "image/png": "[encoded data removed]",
      "text/plain": [
       "<Figure size 432x288 with 1 Axes>"
      ]
     },
     "metadata": {
      "needs_background": "light"
     },
     "output_type": "display_data"
    },
    {
     "name": "stdout",
     "output_type": "stream",
     "text": [
      "0.0\n",
      "8.036189881324162\n"
     ]
    },
    {
     "data": {
      "image/png": "[encoded data removed]",
      "text/plain": [
       "<Figure size 432x288 with 1 Axes>"
      ]
     },
     "metadata": {
      "needs_background": "light"
     },
     "output_type": "display_data"
    },
    {
     "name": "stdout",
     "output_type": "stream",
     "text": [
      "2.5199999999999996\n",
      "17.23947551342811\n"
     ]
    },
    {
     "data": {
      "image/png": "[encoded data removed]",
      "text/plain": [
       "<Figure size 432x288 with 1 Axes>"
      ]
     },
     "metadata": {
      "needs_background": "light"
     },
     "output_type": "display_data"
    },
    {
     "name": "stdout",
     "output_type": "stream",
     "text": [
      "0.0\n",
      "4.051026518391789\n"
     ]
    },
    {
     "data": {
      "image/png": "[encoded data removed]",
      "text/plain": [
       "<Figure size 432x288 with 1 Axes>"
      ]
     },
     "metadata": {
      "needs_background": "light"
     },
     "output_type": "display_data"
    },
    {
     "name": "stdout",
     "output_type": "stream",
     "text": [
      "2.43\n",
      "15.806816526832332\n"
     ]
    }
   ],
   "source": [
    "attributes = ['loc_ic_t2f_mou_6','loc_ic_t2f_mou_7','loc_ic_t2f_mou_8']\n",
    "BoxPlot(churn_dataset_filtered_train,attributes)"
   ]
  },
  {
   "cell_type": "code",
   "execution_count": 124,
   "metadata": {},
   "outputs": [],
   "source": [
    "churn_dataset_filtered_train = ImputeMedian(churn_dataset_filtered_train,attributes)"
   ]
  },
  {
   "cell_type": "code",
   "execution_count": 125,
   "metadata": {},
   "outputs": [],
   "source": [
    "#These attributes are redundant,they can be dropped as already the individual category values are present\n",
    "attributes = ['loc_ic_mou_6','loc_ic_mou_7','loc_ic_mou_8']\n",
    "churn_dataset_filtered_train = churn_dataset_filtered_train.drop(attributes,axis = 1)"
   ]
  },
  {
   "cell_type": "code",
   "execution_count": 126,
   "metadata": {},
   "outputs": [
    {
     "data": {
      "text/plain": [
       "(20967, 137)"
      ]
     },
     "execution_count": 126,
     "metadata": {},
     "output_type": "execute_result"
    }
   ],
   "source": [
    "churn_dataset_filtered_train.shape"
   ]
  },
  {
   "cell_type": "code",
   "execution_count": 127,
   "metadata": {},
   "outputs": [
    {
     "data": {
      "image/png": "[encoded data removed]",
      "text/plain": [
       "<Figure size 432x288 with 1 Axes>"
      ]
     },
     "metadata": {
      "needs_background": "light"
     },
     "output_type": "display_data"
    },
    {
     "name": "stdout",
     "output_type": "stream",
     "text": [
      "7.595000000000001\n",
      "32.59945255474458\n"
     ]
    },
    {
     "data": {
      "image/png": "[encoded data removed]",
      "text/plain": [
       "<Figure size 432x288 with 1 Axes>"
      ]
     },
     "metadata": {
      "needs_background": "light"
     },
     "output_type": "display_data"
    },
    {
     "name": "stdout",
     "output_type": "stream",
     "text": [
      "5.11\n",
      "29.218823529412113\n"
     ]
    },
    {
     "data": {
      "image/png": "[encoded data removed]",
      "text/plain": [
       "<Figure size 432x288 with 1 Axes>"
      ]
     },
     "metadata": {
      "needs_background": "light"
     },
     "output_type": "display_data"
    },
    {
     "name": "stdout",
     "output_type": "stream",
     "text": [
      "4.53\n",
      "28.13328544659591\n"
     ]
    },
    {
     "data": {
      "image/png": "[encoded data removed]",
      "text/plain": [
       "<Figure size 432x288 with 1 Axes>"
      ]
     },
     "metadata": {
      "needs_background": "light"
     },
     "output_type": "display_data"
    },
    {
     "name": "stdout",
     "output_type": "stream",
     "text": [
      "5.66\n",
      "31.550118483412948\n"
     ]
    },
    {
     "data": {
      "image/png": "[encoded data removed]",
      "text/plain": [
       "<Figure size 432x288 with 1 Axes>"
      ]
     },
     "metadata": {
      "needs_background": "light"
     },
     "output_type": "display_data"
    },
    {
     "name": "stdout",
     "output_type": "stream",
     "text": [
      "0.0\n",
      "13.156920444824625\n"
     ]
    },
    {
     "data": {
      "image/png": "[encoded data removed]",
      "text/plain": [
       "<Figure size 432x288 with 1 Axes>"
      ]
     },
     "metadata": {
      "needs_background": "light"
     },
     "output_type": "display_data"
    },
    {
     "name": "stdout",
     "output_type": "stream",
     "text": [
      "4.84\n",
      "30.066094665189585\n"
     ]
    }
   ],
   "source": [
    "attributes = ['std_ic_t2m_mou_6','std_ic_t2m_mou_7','std_ic_t2m_mou_8']\n",
    "BoxPlot(churn_dataset_filtered_train,attributes)"
   ]
  },
  {
   "cell_type": "code",
   "execution_count": 128,
   "metadata": {},
   "outputs": [],
   "source": [
    "#Again these columns can be included imputed with their median as data is skewed.\n",
    "churn_dataset_filtered_train = ImputeMedian(churn_dataset_filtered_train,attributes)"
   ]
  },
  {
   "cell_type": "code",
   "execution_count": 129,
   "metadata": {},
   "outputs": [
    {
     "data": {
      "image/png": "[encoded data removed]",
      "text/plain": [
       "<Figure size 432x288 with 1 Axes>"
      ]
     },
     "metadata": {
      "needs_background": "light"
     },
     "output_type": "display_data"
    },
    {
     "name": "stdout",
     "output_type": "stream",
     "text": [
      "0.0\n",
      "1.8648965936739679\n"
     ]
    },
    {
     "data": {
      "image/png": "[encoded data removed]",
      "text/plain": [
       "<Figure size 432x288 with 1 Axes>"
      ]
     },
     "metadata": {
      "needs_background": "light"
     },
     "output_type": "display_data"
    },
    {
     "name": "stdout",
     "output_type": "stream",
     "text": [
      "0.0\n",
      "2.827997676629028\n"
     ]
    },
    {
     "data": {
      "image/png": "[encoded data removed]",
      "text/plain": [
       "<Figure size 432x288 with 1 Axes>"
      ]
     },
     "metadata": {
      "needs_background": "light"
     },
     "output_type": "display_data"
    },
    {
     "name": "stdout",
     "output_type": "stream",
     "text": [
      "0.0\n",
      "1.9043910056214877\n"
     ]
    },
    {
     "data": {
      "image/png": "[encoded data removed]",
      "text/plain": [
       "<Figure size 432x288 with 1 Axes>"
      ]
     },
     "metadata": {
      "needs_background": "light"
     },
     "output_type": "display_data"
    },
    {
     "name": "stdout",
     "output_type": "stream",
     "text": [
      "0.0\n",
      "2.9399262769879164\n"
     ]
    },
    {
     "data": {
      "image/png": "[encoded data removed]",
      "text/plain": [
       "<Figure size 432x288 with 1 Axes>"
      ]
     },
     "metadata": {
      "needs_background": "light"
     },
     "output_type": "display_data"
    },
    {
     "name": "stdout",
     "output_type": "stream",
     "text": [
      "0.0\n",
      "0.6971770744225831\n"
     ]
    },
    {
     "data": {
      "image/png": "[encoded data removed]",
      "text/plain": [
       "<Figure size 432x288 with 1 Axes>"
      ]
     },
     "metadata": {
      "needs_background": "light"
     },
     "output_type": "display_data"
    },
    {
     "name": "stdout",
     "output_type": "stream",
     "text": [
      "0.0\n",
      "2.8167442351327368\n"
     ]
    }
   ],
   "source": [
    "attributes = ['std_ic_t2f_mou_6','std_ic_t2f_mou_7','std_ic_t2f_mou_8']\n",
    "BoxPlot(churn_dataset_filtered_train,attributes)"
   ]
  },
  {
   "cell_type": "markdown",
   "metadata": {},
   "source": [
    "Indeed there differences in distributions of 2 groups of churn and non churn.We can impute them with corresponding medians\n",
    "to treat Nas"
   ]
  },
  {
   "cell_type": "code",
   "execution_count": 130,
   "metadata": {},
   "outputs": [],
   "source": [
    "churn_dataset_filtered_train = ImputeMedian(churn_dataset_filtered_train,attributes)"
   ]
  },
  {
   "cell_type": "code",
   "execution_count": 131,
   "metadata": {},
   "outputs": [
    {
     "data": {
      "image/png": "[encoded data removed]",
      "text/plain": [
       "<Figure size 432x288 with 1 Axes>"
      ]
     },
     "metadata": {
      "needs_background": "light"
     },
     "output_type": "display_data"
    },
    {
     "name": "stdout",
     "output_type": "stream",
     "text": [
      "0.0\n",
      "0.0\n"
     ]
    },
    {
     "data": {
      "image/png": "[encoded data removed]",
      "text/plain": [
       "<Figure size 432x288 with 1 Axes>"
      ]
     },
     "metadata": {
      "needs_background": "light"
     },
     "output_type": "display_data"
    },
    {
     "name": "stdout",
     "output_type": "stream",
     "text": [
      "0.0\n",
      "0.0\n"
     ]
    },
    {
     "data": {
      "image/png": "[encoded data removed]",
      "text/plain": [
       "<Figure size 432x288 with 1 Axes>"
      ]
     },
     "metadata": {
      "needs_background": "light"
     },
     "output_type": "display_data"
    },
    {
     "name": "stdout",
     "output_type": "stream",
     "text": [
      "0.0\n",
      "0.0\n"
     ]
    },
    {
     "data": {
      "image/png": "[encoded data removed]",
      "text/plain": [
       "<Figure size 432x288 with 1 Axes>"
      ]
     },
     "metadata": {
      "needs_background": "light"
     },
     "output_type": "display_data"
    },
    {
     "name": "stdout",
     "output_type": "stream",
     "text": [
      "0.0\n",
      "0.0\n"
     ]
    },
    {
     "data": {
      "image/png": "[encoded data removed]",
      "text/plain": [
       "<Figure size 432x288 with 1 Axes>"
      ]
     },
     "metadata": {
      "needs_background": "light"
     },
     "output_type": "display_data"
    },
    {
     "name": "stdout",
     "output_type": "stream",
     "text": [
      "0.0\n",
      "0.0\n"
     ]
    },
    {
     "data": {
      "image/png": "[encoded data removed]",
      "text/plain": [
       "<Figure size 432x288 with 1 Axes>"
      ]
     },
     "metadata": {
      "needs_background": "light"
     },
     "output_type": "display_data"
    },
    {
     "name": "stdout",
     "output_type": "stream",
     "text": [
      "0.0\n",
      "0.0\n"
     ]
    }
   ],
   "source": [
    "attributes = ['std_ic_t2o_mou_6','std_ic_t2o_mou_7','std_ic_t2o_mou_8']\n",
    "BoxPlot(churn_dataset_filtered_train,attributes)"
   ]
  },
  {
   "cell_type": "code",
   "execution_count": 132,
   "metadata": {},
   "outputs": [],
   "source": [
    "#All the value in case of std to other operator fixed line are 0.They can be dropped safely\n",
    "churn_dataset_filtered_train = churn_dataset_filtered_train.drop(['std_ic_t2o_mou_6','std_ic_t2o_mou_7','std_ic_t2o_mou_8'],axis = 1)"
   ]
  },
  {
   "cell_type": "code",
   "execution_count": 133,
   "metadata": {},
   "outputs": [],
   "source": [
    "# The total attributes which can be dropped are\n",
    "attributes = ['std_ic_mou_6','std_ic_mou_7','std_ic_mou_8','total_ic_mou_6','total_ic_mou_7','total_ic_mou_8']\n",
    "churn_dataset_filtered_train = churn_dataset_filtered_train.drop(attributes,axis =1)"
   ]
  },
  {
   "cell_type": "code",
   "execution_count": 134,
   "metadata": {},
   "outputs": [
    {
     "data": {
      "text/plain": [
       "(20967, 128)"
      ]
     },
     "execution_count": 134,
     "metadata": {},
     "output_type": "execute_result"
    }
   ],
   "source": [
    "churn_dataset_filtered_train.shape"
   ]
  },
  {
   "cell_type": "code",
   "execution_count": 135,
   "metadata": {},
   "outputs": [],
   "source": [
    "#Special incomming calls can be dropped the way special outgoing calls were\n",
    "attributes = ['spl_ic_mou_6','spl_ic_mou_7','spl_ic_mou_8']\n",
    "churn_dataset_filtered_train = churn_dataset_filtered_train.drop(attributes,axis =1)"
   ]
  },
  {
   "cell_type": "code",
   "execution_count": 136,
   "metadata": {},
   "outputs": [
    {
     "data": {
      "image/png": "[encoded data removed]",
      "text/plain": [
       "<Figure size 432x288 with 1 Axes>"
      ]
     },
     "metadata": {
      "needs_background": "light"
     },
     "output_type": "display_data"
    },
    {
     "name": "stdout",
     "output_type": "stream",
     "text": [
      "0.0\n",
      "12.669452554744522\n"
     ]
    },
    {
     "data": {
      "image/png": "[encoded data removed]",
      "text/plain": [
       "<Figure size 432x288 with 1 Axes>"
      ]
     },
     "metadata": {
      "needs_background": "light"
     },
     "output_type": "display_data"
    },
    {
     "name": "stdout",
     "output_type": "stream",
     "text": [
      "0.0\n",
      "10.984561199704197\n"
     ]
    },
    {
     "data": {
      "image/png": "[encoded data removed]",
      "text/plain": [
       "<Figure size 432x288 with 1 Axes>"
      ]
     },
     "metadata": {
      "needs_background": "light"
     },
     "output_type": "display_data"
    },
    {
     "name": "stdout",
     "output_type": "stream",
     "text": [
      "0.0\n",
      "11.978569643972522\n"
     ]
    },
    {
     "data": {
      "image/png": "[encoded data removed]",
      "text/plain": [
       "<Figure size 432x288 with 1 Axes>"
      ]
     },
     "metadata": {
      "needs_background": "light"
     },
     "output_type": "display_data"
    },
    {
     "name": "stdout",
     "output_type": "stream",
     "text": [
      "0.0\n",
      "12.675645602948823\n"
     ]
    },
    {
     "data": {
      "image/png": "[encoded data removed]",
      "text/plain": [
       "<Figure size 432x288 with 1 Axes>"
      ]
     },
     "metadata": {
      "needs_background": "light"
     },
     "output_type": "display_data"
    },
    {
     "name": "stdout",
     "output_type": "stream",
     "text": [
      "0.0\n",
      "6.156920444824636\n"
     ]
    },
    {
     "data": {
      "image/png": "[encoded data removed]",
      "text/plain": [
       "<Figure size 432x288 with 1 Axes>"
      ]
     },
     "metadata": {
      "needs_background": "light"
     },
     "output_type": "display_data"
    },
    {
     "name": "stdout",
     "output_type": "stream",
     "text": [
      "0.0\n",
      "12.13422457917782\n"
     ]
    }
   ],
   "source": [
    "attributes = ['isd_ic_mou_6','isd_ic_mou_7','isd_ic_mou_8']\n",
    "BoxPlot(churn_dataset_filtered_train,attributes)"
   ]
  },
  {
   "cell_type": "code",
   "execution_count": 137,
   "metadata": {},
   "outputs": [],
   "source": [
    "#There are differences in both mean  of the groups.So possible incoming isd calls should be an attribute\n",
    "#for seperation between classes.However the data is highly skewed so so median vallues can be used for impution\n",
    "churn_dataset_filtered_train = ImputeMedian(churn_dataset_filtered_train,attributes)"
   ]
  },
  {
   "cell_type": "code",
   "execution_count": 138,
   "metadata": {},
   "outputs": [
    {
     "data": {
      "image/png": "[encoded data removed]",
      "text/plain": [
       "<Figure size 432x288 with 1 Axes>"
      ]
     },
     "metadata": {
      "needs_background": "light"
     },
     "output_type": "display_data"
    },
    {
     "name": "stdout",
     "output_type": "stream",
     "text": [
      "0.0\n",
      "0.8747931873479319\n"
     ]
    },
    {
     "data": {
      "image/png": "[encoded data removed]",
      "text/plain": [
       "<Figure size 432x288 with 1 Axes>"
      ]
     },
     "metadata": {
      "needs_background": "light"
     },
     "output_type": "display_data"
    },
    {
     "name": "stdout",
     "output_type": "stream",
     "text": [
      "0.0\n",
      "1.1595400781497525\n"
     ]
    },
    {
     "data": {
      "image/png": "[encoded data removed]",
      "text/plain": [
       "<Figure size 432x288 with 1 Axes>"
      ]
     },
     "metadata": {
      "needs_background": "light"
     },
     "output_type": "display_data"
    },
    {
     "name": "stdout",
     "output_type": "stream",
     "text": [
      "0.0\n",
      "0.909925046845721\n"
     ]
    },
    {
     "data": {
      "image/png": "[encoded data removed]",
      "text/plain": [
       "<Figure size 432x288 with 1 Axes>"
      ]
     },
     "metadata": {
      "needs_background": "light"
     },
     "output_type": "display_data"
    },
    {
     "name": "stdout",
     "output_type": "stream",
     "text": [
      "0.0\n",
      "1.5679789362822585\n"
     ]
    },
    {
     "data": {
      "image/png": "[encoded data removed]",
      "text/plain": [
       "<Figure size 432x288 with 1 Axes>"
      ]
     },
     "metadata": {
      "needs_background": "light"
     },
     "output_type": "display_data"
    },
    {
     "name": "stdout",
     "output_type": "stream",
     "text": [
      "0.0\n",
      "0.6124037639007702\n"
     ]
    },
    {
     "data": {
      "image/png": "[encoded data removed]",
      "text/plain": [
       "<Figure size 432x288 with 1 Axes>"
      ]
     },
     "metadata": {
      "needs_background": "light"
     },
     "output_type": "display_data"
    },
    {
     "name": "stdout",
     "output_type": "stream",
     "text": [
      "0.0\n",
      "1.3333085325312695\n"
     ]
    }
   ],
   "source": [
    "#Finally with regard to call minutes lets look at other incoming calls\n",
    "attributes = ['ic_others_6','ic_others_7','ic_others_8']\n",
    "BoxPlot(churn_dataset_filtered_train,attributes)"
   ]
  },
  {
   "cell_type": "code",
   "execution_count": 139,
   "metadata": {},
   "outputs": [],
   "source": [
    "#There are some differences in distributions atleast with regard to extreme values\n",
    "#Its good to retain them ,they seem to be highly skewed ,so they can be imputed by median\n",
    "churn_dataset_filtered_train = ImputeMedian(churn_dataset_filtered_train,attributes)"
   ]
  },
  {
   "cell_type": "markdown",
   "metadata": {},
   "source": [
    "We can drop the total recharge num as it has erronous data ,for instance some rows indicate that even though\n",
    "the recharge amount is positive for a month the value for number times of recharge is 0 and vice versa the number of times recharged is positive even though the recharge amount is 0.We can impute the value corresponding to 0 recharge amount with 0 times recharged."
   ]
  },
  {
   "cell_type": "code",
   "execution_count": 140,
   "metadata": {},
   "outputs": [],
   "source": [
    "churn_dataset_filtered_train.loc[churn_dataset_filtered_train['total_rech_amt_6'] ==0,'total_rech_num_6'] = 0\n",
    "churn_dataset_filtered_train.loc[churn_dataset_filtered_train['total_rech_amt_7'] ==0,'total_rech_num_7'] = 0\n",
    "churn_dataset_filtered_train.loc[churn_dataset_filtered_train['total_rech_amt_8'] ==0,'total_rech_num_8'] = 0"
   ]
  },
  {
   "cell_type": "markdown",
   "metadata": {},
   "source": [
    "Total recharge does not have any na or invalid values ,neither does total number of recharge"
   ]
  },
  {
   "cell_type": "markdown",
   "metadata": {},
   "source": [
    "We can drop the columns corressponding to max_recharge_6,max_recharge_7,max_recharge_8"
   ]
  },
  {
   "cell_type": "code",
   "execution_count": 141,
   "metadata": {},
   "outputs": [],
   "source": [
    "churn_dataset_filtered_train = churn_dataset_filtered_train.drop(['max_rech_amt_6','max_rech_amt_7','max_rech_amt_8'],axis = 1)"
   ]
  },
  {
   "cell_type": "code",
   "execution_count": 142,
   "metadata": {},
   "outputs": [],
   "source": [
    "churn_dataset_filtered_train = churn_dataset_filtered_train.drop(['last_day_rch_amt_6','last_day_rch_amt_7','last_day_rch_amt_8'],axis = 1)"
   ]
  },
  {
   "cell_type": "code",
   "execution_count": 143,
   "metadata": {},
   "outputs": [],
   "source": [
    "churn_dataset_filtered_train = churn_dataset_filtered_train.drop(['date_of_last_rech_data_6','date_of_last_rech_data_7','date_of_last_rech_data_8'],axis = 1)"
   ]
  },
  {
   "cell_type": "markdown",
   "metadata": {},
   "source": [
    "Now lets look at the columns with high missing percentage"
   ]
  },
  {
   "cell_type": "code",
   "execution_count": 144,
   "metadata": {},
   "outputs": [],
   "source": [
    "percent_missing = churn_dataset_filtered_train.isnull().sum() * 100 / len(churn_dataset_filtered_train)\n",
    "missing_value_df = pd.DataFrame({'column_name': churn_dataset_filtered_train.columns,'percent_missing': percent_missing})"
   ]
  },
  {
   "cell_type": "code",
   "execution_count": 145,
   "metadata": {},
   "outputs": [
    {
     "data": {
      "text/html": [
       "<div>\n",
       "<style scoped>\n",
       "    .dataframe tbody tr th:only-of-type {\n",
       "        vertical-align: middle;\n",
       "    }\n",
       "\n",
       "    .dataframe tbody tr th {\n",
       "        vertical-align: top;\n",
       "    }\n",
       "\n",
       "    .dataframe thead th {\n",
       "        text-align: right;\n",
       "    }\n",
       "</style>\n",
       "<table border=\"1\" class=\"dataframe\">\n",
       "  <thead>\n",
       "    <tr style=\"text-align: right;\">\n",
       "      <th></th>\n",
       "      <th>column_name</th>\n",
       "      <th>percent_missing</th>\n",
       "    </tr>\n",
       "  </thead>\n",
       "  <tbody>\n",
       "    <tr>\n",
       "      <td>total_rech_data_6</td>\n",
       "      <td>total_rech_data_6</td>\n",
       "      <td>43.878476</td>\n",
       "    </tr>\n",
       "    <tr>\n",
       "      <td>total_rech_data_7</td>\n",
       "      <td>total_rech_data_7</td>\n",
       "      <td>42.977059</td>\n",
       "    </tr>\n",
       "    <tr>\n",
       "      <td>total_rech_data_8</td>\n",
       "      <td>total_rech_data_8</td>\n",
       "      <td>46.725807</td>\n",
       "    </tr>\n",
       "    <tr>\n",
       "      <td>max_rech_data_6</td>\n",
       "      <td>max_rech_data_6</td>\n",
       "      <td>43.878476</td>\n",
       "    </tr>\n",
       "    <tr>\n",
       "      <td>max_rech_data_7</td>\n",
       "      <td>max_rech_data_7</td>\n",
       "      <td>42.977059</td>\n",
       "    </tr>\n",
       "    <tr>\n",
       "      <td>max_rech_data_8</td>\n",
       "      <td>max_rech_data_8</td>\n",
       "      <td>46.725807</td>\n",
       "    </tr>\n",
       "    <tr>\n",
       "      <td>night_pck_user_6</td>\n",
       "      <td>night_pck_user_6</td>\n",
       "      <td>43.878476</td>\n",
       "    </tr>\n",
       "    <tr>\n",
       "      <td>night_pck_user_7</td>\n",
       "      <td>night_pck_user_7</td>\n",
       "      <td>42.977059</td>\n",
       "    </tr>\n",
       "    <tr>\n",
       "      <td>night_pck_user_8</td>\n",
       "      <td>night_pck_user_8</td>\n",
       "      <td>46.725807</td>\n",
       "    </tr>\n",
       "    <tr>\n",
       "      <td>fb_user_6</td>\n",
       "      <td>fb_user_6</td>\n",
       "      <td>43.878476</td>\n",
       "    </tr>\n",
       "    <tr>\n",
       "      <td>fb_user_7</td>\n",
       "      <td>fb_user_7</td>\n",
       "      <td>42.977059</td>\n",
       "    </tr>\n",
       "    <tr>\n",
       "      <td>fb_user_8</td>\n",
       "      <td>fb_user_8</td>\n",
       "      <td>46.725807</td>\n",
       "    </tr>\n",
       "  </tbody>\n",
       "</table>\n",
       "</div>"
      ],
      "text/plain": [
       "                         column_name  percent_missing\n",
       "total_rech_data_6  total_rech_data_6        43.878476\n",
       "total_rech_data_7  total_rech_data_7        42.977059\n",
       "total_rech_data_8  total_rech_data_8        46.725807\n",
       "max_rech_data_6      max_rech_data_6        43.878476\n",
       "max_rech_data_7      max_rech_data_7        42.977059\n",
       "max_rech_data_8      max_rech_data_8        46.725807\n",
       "night_pck_user_6    night_pck_user_6        43.878476\n",
       "night_pck_user_7    night_pck_user_7        42.977059\n",
       "night_pck_user_8    night_pck_user_8        46.725807\n",
       "fb_user_6                  fb_user_6        43.878476\n",
       "fb_user_7                  fb_user_7        42.977059\n",
       "fb_user_8                  fb_user_8        46.725807"
      ]
     },
     "execution_count": 145,
     "metadata": {},
     "output_type": "execute_result"
    }
   ],
   "source": [
    "missing_value_df.loc[(missing_value_df['percent_missing'] >40),['column_name','percent_missing']]"
   ]
  },
  {
   "cell_type": "markdown",
   "metadata": {},
   "source": [
    "We can drop all the variables like total_rech_data_6,7,8 as we have new columns for it which determines it.Also max_rech_data\n",
    "6,7,8 serves no purpose as total recharge is much more significant."
   ]
  },
  {
   "cell_type": "code",
   "execution_count": 146,
   "metadata": {},
   "outputs": [],
   "source": [
    "attributes = ['total_rech_data_6','total_rech_data_7','total_rech_data_8','max_rech_data_6','max_rech_data_7','max_rech_data_8']\n",
    "churn_dataset_filtered_train = churn_dataset_filtered_train.drop(attributes,axis = 1)"
   ]
  },
  {
   "cell_type": "code",
   "execution_count": 147,
   "metadata": {},
   "outputs": [
    {
     "data": {
      "text/plain": [
       "(20967, 110)"
      ]
     },
     "execution_count": 147,
     "metadata": {},
     "output_type": "execute_result"
    }
   ],
   "source": [
    "churn_dataset_filtered_train.shape"
   ]
  },
  {
   "cell_type": "code",
   "execution_count": 148,
   "metadata": {},
   "outputs": [
    {
     "data": {
      "text/html": [
       "<div>\n",
       "<style scoped>\n",
       "    .dataframe tbody tr th:only-of-type {\n",
       "        vertical-align: middle;\n",
       "    }\n",
       "\n",
       "    .dataframe tbody tr th {\n",
       "        vertical-align: top;\n",
       "    }\n",
       "\n",
       "    .dataframe thead th {\n",
       "        text-align: right;\n",
       "    }\n",
       "</style>\n",
       "<table border=\"1\" class=\"dataframe\">\n",
       "  <thead>\n",
       "    <tr style=\"text-align: right;\">\n",
       "      <th></th>\n",
       "      <th>column_name</th>\n",
       "      <th>percent_missing</th>\n",
       "    </tr>\n",
       "  </thead>\n",
       "  <tbody>\n",
       "    <tr>\n",
       "      <td>night_pck_user_6</td>\n",
       "      <td>night_pck_user_6</td>\n",
       "      <td>43.878476</td>\n",
       "    </tr>\n",
       "    <tr>\n",
       "      <td>night_pck_user_7</td>\n",
       "      <td>night_pck_user_7</td>\n",
       "      <td>42.977059</td>\n",
       "    </tr>\n",
       "    <tr>\n",
       "      <td>night_pck_user_8</td>\n",
       "      <td>night_pck_user_8</td>\n",
       "      <td>46.725807</td>\n",
       "    </tr>\n",
       "    <tr>\n",
       "      <td>fb_user_6</td>\n",
       "      <td>fb_user_6</td>\n",
       "      <td>43.878476</td>\n",
       "    </tr>\n",
       "    <tr>\n",
       "      <td>fb_user_7</td>\n",
       "      <td>fb_user_7</td>\n",
       "      <td>42.977059</td>\n",
       "    </tr>\n",
       "    <tr>\n",
       "      <td>fb_user_8</td>\n",
       "      <td>fb_user_8</td>\n",
       "      <td>46.725807</td>\n",
       "    </tr>\n",
       "  </tbody>\n",
       "</table>\n",
       "</div>"
      ],
      "text/plain": [
       "                       column_name  percent_missing\n",
       "night_pck_user_6  night_pck_user_6        43.878476\n",
       "night_pck_user_7  night_pck_user_7        42.977059\n",
       "night_pck_user_8  night_pck_user_8        46.725807\n",
       "fb_user_6                fb_user_6        43.878476\n",
       "fb_user_7                fb_user_7        42.977059\n",
       "fb_user_8                fb_user_8        46.725807"
      ]
     },
     "execution_count": 148,
     "metadata": {},
     "output_type": "execute_result"
    }
   ],
   "source": [
    "percent_missing = churn_dataset_filtered_train.isnull().sum() * 100 / len(churn_dataset_filtered_train)\n",
    "missing_value_df = pd.DataFrame({'column_name': churn_dataset_filtered_train.columns,'percent_missing': percent_missing})\n",
    "missing_value_df.loc[(missing_value_df['percent_missing'] >40),['column_name','percent_missing']]"
   ]
  },
  {
   "cell_type": "code",
   "execution_count": 149,
   "metadata": {},
   "outputs": [],
   "source": [
    "churn_dataset_filtered_train = churn_dataset_filtered_train.drop(['night_pck_user_6','night_pck_user_7','night_pck_user_8','fb_user_6','fb_user_7','fb_user_8'],axis = 1)"
   ]
  },
  {
   "cell_type": "code",
   "execution_count": 150,
   "metadata": {},
   "outputs": [],
   "source": [
    "#We can drop date_of_last_rech_8 and std_ic_t2t_mou_6,std_ic_t2t_mou_7,std_ic_t2t_mou_8 as they are already being handle by \n",
    "#individual months\n",
    "churn_dataset_filtered_train = churn_dataset_filtered_train.drop(['date_of_last_rech_8','std_og_mou_6','std_og_mou_7','std_og_mou_8'],axis = 1)"
   ]
  },
  {
   "cell_type": "code",
   "execution_count": 151,
   "metadata": {},
   "outputs": [
    {
     "data": {
      "image/png": "[encoded data removed]",
      "text/plain": [
       "<Figure size 432x288 with 1 Axes>"
      ]
     },
     "metadata": {
      "needs_background": "light"
     },
     "output_type": "display_data"
    },
    {
     "name": "stdout",
     "output_type": "stream",
     "text": [
      "1.46\n",
      "21.156672749391735\n"
     ]
    },
    {
     "data": {
      "image/png": "[encoded data removed]",
      "text/plain": [
       "<Figure size 432x288 with 1 Axes>"
      ]
     },
     "metadata": {
      "needs_background": "light"
     },
     "output_type": "display_data"
    },
    {
     "name": "stdout",
     "output_type": "stream",
     "text": [
      "0.43\n",
      "14.650636286830592\n"
     ]
    },
    {
     "data": {
      "image/png": "[encoded data removed]",
      "text/plain": [
       "<Figure size 432x288 with 1 Axes>"
      ]
     },
     "metadata": {
      "needs_background": "light"
     },
     "output_type": "display_data"
    },
    {
     "name": "stdout",
     "output_type": "stream",
     "text": [
      "0.7\n",
      "16.6952717051843\n"
     ]
    },
    {
     "data": {
      "image/png": "[encoded data removed]",
      "text/plain": [
       "<Figure size 432x288 with 1 Axes>"
      ]
     },
     "metadata": {
      "needs_background": "light"
     },
     "output_type": "display_data"
    },
    {
     "name": "stdout",
     "output_type": "stream",
     "text": [
      "0.51\n",
      "15.48010689836741\n"
     ]
    },
    {
     "data": {
      "image/png": "[encoded data removed]",
      "text/plain": [
       "<Figure size 432x288 with 1 Axes>"
      ]
     },
     "metadata": {
      "needs_background": "light"
     },
     "output_type": "display_data"
    },
    {
     "name": "stdout",
     "output_type": "stream",
     "text": [
      "0.0\n",
      "6.577647562018822\n"
     ]
    },
    {
     "data": {
      "image/png": "[encoded data removed]",
      "text/plain": [
       "<Figure size 432x288 with 1 Axes>"
      ]
     },
     "metadata": {
      "needs_background": "light"
     },
     "output_type": "display_data"
    },
    {
     "name": "stdout",
     "output_type": "stream",
     "text": [
      "0.38\n",
      "14.853965489947619\n"
     ]
    }
   ],
   "source": [
    "# We can analyze incomming std calls\n",
    "attributes = ['std_ic_t2t_mou_6','std_ic_t2t_mou_7','std_ic_t2t_mou_8']\n",
    "BoxPlot(churn_dataset_filtered_train,attributes)\n",
    "#churn_dataset_filtered_train = ImputeMedian(churn_dataset_filtered_train,attributes)"
   ]
  },
  {
   "cell_type": "code",
   "execution_count": 152,
   "metadata": {},
   "outputs": [],
   "source": [
    "#We can retain these attributes and impute by their median of respective classes\n",
    "churn_dataset_filtered_train = ImputeMedian(churn_dataset_filtered_train,attributes)"
   ]
  },
  {
   "cell_type": "markdown",
   "metadata": {},
   "source": [
    "We can as well drop off the variables onnet,offnet as they are the total of incomming and outgoing calls as they are \n",
    "already taken care by rest of the variables"
   ]
  },
  {
   "cell_type": "code",
   "execution_count": 153,
   "metadata": {},
   "outputs": [],
   "source": [
    "churn_dataset_filtered_train = churn_dataset_filtered_train.drop(['onnet_mou_6','onnet_mou_7','onnet_mou_8','offnet_mou_6','offnet_mou_7','offnet_mou_8'],axis =1 )"
   ]
  },
  {
   "cell_type": "markdown",
   "metadata": {},
   "source": [
    "Now lets analyze the final two types of variables roaming incoming calls and roaming outgoing calls."
   ]
  },
  {
   "cell_type": "code",
   "execution_count": 154,
   "metadata": {},
   "outputs": [
    {
     "data": {
      "image/png": "[encoded data removed]",
      "text/plain": [
       "<Figure size 432x288 with 1 Axes>"
      ]
     },
     "metadata": {
      "needs_background": "light"
     },
     "output_type": "display_data"
    },
    {
     "name": "stdout",
     "output_type": "stream",
     "text": [
      "0.0\n",
      "31.86925790754259\n"
     ]
    },
    {
     "data": {
      "image/png": "[encoded data removed]",
      "text/plain": [
       "<Figure size 432x288 with 1 Axes>"
      ]
     },
     "metadata": {
      "needs_background": "light"
     },
     "output_type": "display_data"
    },
    {
     "name": "stdout",
     "output_type": "stream",
     "text": [
      "0.0\n",
      "15.30852518745378\n"
     ]
    },
    {
     "data": {
      "image/png": "[encoded data removed]",
      "text/plain": [
       "<Figure size 432x288 with 1 Axes>"
      ]
     },
     "metadata": {
      "needs_background": "light"
     },
     "output_type": "display_data"
    },
    {
     "name": "stdout",
     "output_type": "stream",
     "text": [
      "0.0\n",
      "34.50038101186764\n"
     ]
    },
    {
     "data": {
      "image/png": "[encoded data removed]",
      "text/plain": [
       "<Figure size 432x288 with 1 Axes>"
      ]
     },
     "metadata": {
      "needs_background": "light"
     },
     "output_type": "display_data"
    },
    {
     "name": "stdout",
     "output_type": "stream",
     "text": [
      "0.0\n",
      "11.22409741969453\n"
     ]
    },
    {
     "data": {
      "image/png": "[encoded data removed]",
      "text/plain": [
       "<Figure size 432x288 with 1 Axes>"
      ]
     },
     "metadata": {
      "needs_background": "light"
     },
     "output_type": "display_data"
    },
    {
     "name": "stdout",
     "output_type": "stream",
     "text": [
      "1.38\n",
      "41.180547476475596\n"
     ]
    },
    {
     "data": {
      "image/png": "[encoded data removed]",
      "text/plain": [
       "<Figure size 432x288 with 1 Axes>"
      ]
     },
     "metadata": {
      "needs_background": "light"
     },
     "output_type": "display_data"
    },
    {
     "name": "stdout",
     "output_type": "stream",
     "text": [
      "0.0\n",
      "11.253692153448323\n"
     ]
    }
   ],
   "source": [
    "attributes = ['roam_ic_mou_6','roam_ic_mou_7','roam_ic_mou_8']\n",
    "BoxPlot(churn_dataset_filtered_train,attributes)"
   ]
  },
  {
   "cell_type": "markdown",
   "metadata": {},
   "source": [
    "We see that the churners have higher mean and the differences in distribution for both churners and non churners"
   ]
  },
  {
   "cell_type": "code",
   "execution_count": 155,
   "metadata": {},
   "outputs": [],
   "source": [
    "attributes = ['roam_ic_mou_6','roam_ic_mou_7','roam_ic_mou_8']\n",
    "churn_dataset_filtered_train = ImputeMedian(churn_dataset_filtered_train,attributes)"
   ]
  },
  {
   "cell_type": "code",
   "execution_count": 156,
   "metadata": {},
   "outputs": [
    {
     "data": {
      "image/png": "[encoded data removed]",
      "text/plain": [
       "<Figure size 432x288 with 1 Axes>"
      ]
     },
     "metadata": {
      "needs_background": "light"
     },
     "output_type": "display_data"
    },
    {
     "name": "stdout",
     "output_type": "stream",
     "text": [
      "0.0\n",
      "55.61266423357666\n"
     ]
    },
    {
     "data": {
      "image/png": "[encoded data removed]",
      "text/plain": [
       "<Figure size 432x288 with 1 Axes>"
      ]
     },
     "metadata": {
      "needs_background": "light"
     },
     "output_type": "display_data"
    },
    {
     "name": "stdout",
     "output_type": "stream",
     "text": [
      "0.0\n",
      "24.767203506178106\n"
     ]
    },
    {
     "data": {
      "image/png": "[encoded data removed]",
      "text/plain": [
       "<Figure size 432x288 with 1 Axes>"
      ]
     },
     "metadata": {
      "needs_background": "light"
     },
     "output_type": "display_data"
    },
    {
     "name": "stdout",
     "output_type": "stream",
     "text": [
      "0.0\n",
      "55.54542785758895\n"
     ]
    },
    {
     "data": {
      "image/png": "[encoded data removed]",
      "text/plain": [
       "<Figure size 432x288 with 1 Axes>"
      ]
     },
     "metadata": {
      "needs_background": "light"
     },
     "output_type": "display_data"
    },
    {
     "name": "stdout",
     "output_type": "stream",
     "text": [
      "0.0\n",
      "17.458630858346513\n"
     ]
    },
    {
     "data": {
      "image/png": "[encoded data removed]",
      "text/plain": [
       "<Figure size 432x288 with 1 Axes>"
      ]
     },
     "metadata": {
      "needs_background": "light"
     },
     "output_type": "display_data"
    },
    {
     "name": "stdout",
     "output_type": "stream",
     "text": [
      "2.48\n",
      "62.06208725406333\n"
     ]
    },
    {
     "data": {
      "image/png": "[encoded data removed]",
      "text/plain": [
       "<Figure size 432x288 with 1 Axes>"
      ]
     },
     "metadata": {
      "needs_background": "light"
     },
     "output_type": "display_data"
    },
    {
     "name": "stdout",
     "output_type": "stream",
     "text": [
      "0.0\n",
      "17.940404727982653\n"
     ]
    }
   ],
   "source": [
    "attributes = ['roam_og_mou_6','roam_og_mou_7','roam_og_mou_8']\n",
    "BoxPlot(churn_dataset_filtered_train,attributes)"
   ]
  },
  {
   "cell_type": "code",
   "execution_count": 157,
   "metadata": {},
   "outputs": [],
   "source": [
    "churn_dataset_filtered_train = ImputeMedian(churn_dataset_filtered_train,attributes)"
   ]
  },
  {
   "cell_type": "code",
   "execution_count": 158,
   "metadata": {},
   "outputs": [
    {
     "name": "stdout",
     "output_type": "stream",
     "text": [
      "0\n"
     ]
    },
    {
     "data": {
      "text/plain": [
       "(20967, 94)"
      ]
     },
     "execution_count": 158,
     "metadata": {},
     "output_type": "execute_result"
    }
   ],
   "source": [
    "print(sum(churn_dataset_filtered_train.isna().sum()))\n",
    "churn_dataset_filtered_train.shape"
   ]
  },
  {
   "cell_type": "markdown",
   "metadata": {},
   "source": [
    "So finally the data is clean we not have any missing values and useful columns are retained"
   ]
  },
  {
   "cell_type": "markdown",
   "metadata": {},
   "source": [
    "Now we can do some outlier treatment"
   ]
  },
  {
   "cell_type": "code",
   "execution_count": 161,
   "metadata": {},
   "outputs": [],
   "source": [
    "new_columns = churn_dataset_filtered_train.columns\n",
    "strictly_float = []\n",
    "for i in new_columns:\n",
    "     c = list(filter(lambda x:isStrictlyFloat(str(x)),churn_dataset_filtered_train[i]))\n",
    "     if len(c)>0:\n",
    "        strictly_float.append(i)"
   ]
  },
  {
   "cell_type": "code",
   "execution_count": 162,
   "metadata": {},
   "outputs": [
    {
     "data": {
      "text/plain": [
       "73"
      ]
     },
     "execution_count": 162,
     "metadata": {},
     "output_type": "execute_result"
    }
   ],
   "source": [
    "len(strictly_float)"
   ]
  },
  {
   "cell_type": "code",
   "execution_count": 166,
   "metadata": {},
   "outputs": [],
   "source": [
    "t = list(filter(lambda x:(x not in strictly_float),new_columns))"
   ]
  },
  {
   "cell_type": "code",
   "execution_count": 182,
   "metadata": {},
   "outputs": [
    {
     "name": "stdout",
     "output_type": "stream",
     "text": [
      "       circle_id  total_rech_num_6  total_rech_num_7  total_rech_num_8  \\\n",
      "count    20967.0      20967.000000      20967.000000      20967.000000   \n",
      "mean       109.0         11.782515         11.608575          9.820861   \n",
      "std          0.0          9.457346          9.391621          9.386451   \n",
      "min        109.0          0.000000          0.000000          0.000000   \n",
      "25%        109.0          6.000000          6.000000          4.000000   \n",
      "50%        109.0          9.000000          9.000000          7.000000   \n",
      "75%        109.0         15.000000         14.000000         13.000000   \n",
      "max        109.0        307.000000        138.000000        196.000000   \n",
      "\n",
      "       total_rech_amt_6  total_rech_amt_7  total_rech_amt_8  monthly_2g_6  \\\n",
      "count      20967.000000      20967.000000      20967.000000  20967.000000   \n",
      "mean         661.689321        658.112510        584.749416      0.177135   \n",
      "std          576.401653        595.620618        636.929701      0.438974   \n",
      "min            0.000000          0.000000          0.000000      0.000000   \n",
      "25%          360.000000        350.000000        250.000000      0.000000   \n",
      "50%          566.000000        560.000000        491.000000      0.000000   \n",
      "75%          835.000000        826.000000        775.000000      0.000000   \n",
      "max        35190.000000      40335.000000      45320.000000      4.000000   \n",
      "\n",
      "       monthly_2g_7  monthly_2g_8  ...   sachet_2g_7   sachet_2g_8  \\\n",
      "count  20967.000000  20967.000000  ...  20967.000000  20967.000000   \n",
      "mean       0.185911      0.153622  ...      1.216722      1.056708   \n",
      "std        0.455672      0.406248  ...      2.740565      2.545021   \n",
      "min        0.000000      0.000000  ...      0.000000      0.000000   \n",
      "25%        0.000000      0.000000  ...      0.000000      0.000000   \n",
      "50%        0.000000      0.000000  ...      0.000000      0.000000   \n",
      "75%        0.000000      0.000000  ...      1.000000      1.000000   \n",
      "max        5.000000      5.000000  ...     42.000000     44.000000   \n",
      "\n",
      "       monthly_3g_6  monthly_3g_7  monthly_3g_8   sachet_3g_6   sachet_3g_7  \\\n",
      "count  20967.000000  20967.000000  20967.000000  20967.000000  20967.000000   \n",
      "mean       0.222302      0.230791      0.215386      0.212000      0.227023   \n",
      "std        0.621595      0.650516      0.631056      1.003349      1.044269   \n",
      "min        0.000000      0.000000      0.000000      0.000000      0.000000   \n",
      "25%        0.000000      0.000000      0.000000      0.000000      0.000000   \n",
      "50%        0.000000      0.000000      0.000000      0.000000      0.000000   \n",
      "75%        0.000000      0.000000      0.000000      0.000000      0.000000   \n",
      "max       14.000000     12.000000     16.000000     29.000000     24.000000   \n",
      "\n",
      "        sachet_3g_8           aon         churn  \n",
      "count  20967.000000  20967.000000  20967.000000  \n",
      "mean       0.204512   1213.331473      0.083560  \n",
      "std        1.095224    959.995285      0.276733  \n",
      "min        0.000000    180.000000      0.000000  \n",
      "25%        0.000000    460.000000      0.000000  \n",
      "50%        0.000000    850.000000      0.000000  \n",
      "75%        0.000000   1780.000000      0.000000  \n",
      "max       41.000000   4321.000000      1.000000  \n",
      "\n",
      "[8 rows x 21 columns]\n",
      "['total_rech_num_6', 'total_rech_num_7', 'total_rech_num_8', 'total_rech_amt_6', 'total_rech_amt_7', 'total_rech_amt_8', 'monthly_2g_6', 'monthly_2g_7', 'monthly_2g_8', 'sachet_2g_6', 'sachet_2g_7', 'sachet_2g_8', 'monthly_3g_6', 'monthly_3g_7', 'monthly_3g_8', 'sachet_3g_6', 'sachet_3g_7', 'sachet_3g_8', 'aon', 'churn']\n"
     ]
    }
   ],
   "source": [
    "df_ints = churn_dataset_filtered_train[t]\n",
    "print(df_ints.describe())\n",
    "low_max = []\n",
    "for i in t:\n",
    "     if max(df_ints[i]) > 2*np.std(df_ints[i])+np.mean(df_ints[i]):\n",
    "       low_max.append(i) \n",
    "print(low_max)"
   ]
  },
  {
   "cell_type": "code",
   "execution_count": 201,
   "metadata": {},
   "outputs": [],
   "source": [
    "#uniquevals_newcols = list(filter(lambda x:len(churn_dataset_filtered_train[x].unique)>0,new_columns))\n",
    "#print(len(uniquevals_newcols))"
   ]
  },
  {
   "cell_type": "code",
   "execution_count": 202,
   "metadata": {},
   "outputs": [],
   "source": [
    "#print(low_max)"
   ]
  },
  {
   "cell_type": "markdown",
   "metadata": {},
   "source": [
    "For outlier treatment first lets get the mean and standard deviation of each of the numeric columns dropping churn and \n",
    "circle_id.As the circle_id is categorical varaible so it cannot have outliers."
   ]
  },
  {
   "cell_type": "code",
   "execution_count": 240,
   "metadata": {},
   "outputs": [],
   "source": [
    "churn = churn_dataset_filtered_train['churn']\n",
    "circle_id = churn_dataset_filtered_train['circle_id']\n",
    "back_churndataset = churn_dataset_filtered_train\n",
    "churn_dataset_filtered_train = churn_dataset_filtered_train.drop(['circle_id','churn'],axis = 1)"
   ]
  },
  {
   "cell_type": "code",
   "execution_count": 241,
   "metadata": {},
   "outputs": [
    {
     "name": "stdout",
     "output_type": "stream",
     "text": [
      "monthly_2g_6\n",
      "12497\n",
      "5\n"
     ]
    }
   ],
   "source": [
    "uniquevals_newcols = list(filter(lambda x:len(churn_dataset_filtered_train[x].unique())>0,churn_dataset_filtered_train.columns))\n",
    "t = []\n",
    "for j in uniquevals_newcols:\n",
    "    t.append(len(churn_dataset_filtered_train[j].unique()))\n",
    "    if len(churn_dataset_filtered_train[j].unique()) ==5:\n",
    "        print(j)\n",
    "print(max(t))\n",
    "print(min(t))"
   ]
  },
  {
   "cell_type": "markdown",
   "metadata": {},
   "source": [
    "We can drop the outliers that are more than 2 standard deviations away from mean of each column\n"
   ]
  },
  {
   "cell_type": "code",
   "execution_count": 272,
   "metadata": {},
   "outputs": [],
   "source": [
    "indexes_tobedropped = remove_Outliers(churn_dataset_filtered_train)\n"
   ]
  },
  {
   "cell_type": "code",
   "execution_count": 282,
   "metadata": {},
   "outputs": [
    {
     "name": "stdout",
     "output_type": "stream",
     "text": [
      "655\n"
     ]
    }
   ],
   "source": [
    "print(len(indexes_tobedropped))"
   ]
  },
  {
   "cell_type": "code",
   "execution_count": 227,
   "metadata": {},
   "outputs": [],
   "source": [
    "churn_dataset_filtered_train = back_churndataset\n",
    "back_churn_2 = churn_dataset_filtered_train"
   ]
  },
  {
   "cell_type": "code",
   "execution_count": 276,
   "metadata": {},
   "outputs": [
    {
     "name": "stdout",
     "output_type": "stream",
     "text": [
      "(20967, 92)\n"
     ]
    }
   ],
   "source": [
    "print(churn_dataset_filtered_train.shape)"
   ]
  },
  {
   "cell_type": "code",
   "execution_count": 303,
   "metadata": {},
   "outputs": [],
   "source": [
    "cf2 = churn_dataset_filtered_train.drop(churn_dataset_filtered_train.index[indexes_tobedropped])"
   ]
  },
  {
   "cell_type": "code",
   "execution_count": 306,
   "metadata": {},
   "outputs": [
    {
     "data": {
      "text/plain": [
       "Index(['roam_ic_mou_6', 'roam_ic_mou_7', 'roam_ic_mou_8', 'roam_og_mou_6',\n",
       "       'roam_og_mou_7', 'roam_og_mou_8', 'loc_og_t2t_mou_6',\n",
       "       'loc_og_t2t_mou_7', 'loc_og_t2t_mou_8', 'loc_og_t2m_mou_6',\n",
       "       'loc_og_t2m_mou_7', 'loc_og_t2m_mou_8', 'loc_og_t2c_mou_6',\n",
       "       'loc_og_t2c_mou_7', 'loc_og_t2c_mou_8', 'std_og_t2t_mou_6',\n",
       "       'std_og_t2t_mou_7', 'std_og_t2t_mou_8', 'std_og_t2m_mou_6',\n",
       "       'std_og_t2m_mou_7', 'std_og_t2m_mou_8', 'isd_og_mou_6', 'isd_og_mou_7',\n",
       "       'isd_og_mou_8', 'spl_og_mou_6', 'spl_og_mou_7', 'spl_og_mou_8',\n",
       "       'loc_ic_t2t_mou_6', 'loc_ic_t2t_mou_7', 'loc_ic_t2t_mou_8',\n",
       "       'loc_ic_t2m_mou_6', 'loc_ic_t2m_mou_7', 'loc_ic_t2m_mou_8',\n",
       "       'loc_ic_t2f_mou_6', 'loc_ic_t2f_mou_7', 'loc_ic_t2f_mou_8',\n",
       "       'std_ic_t2t_mou_6', 'std_ic_t2t_mou_7', 'std_ic_t2t_mou_8',\n",
       "       'std_ic_t2m_mou_6', 'std_ic_t2m_mou_7', 'std_ic_t2m_mou_8',\n",
       "       'std_ic_t2f_mou_6', 'std_ic_t2f_mou_7', 'std_ic_t2f_mou_8',\n",
       "       'isd_ic_mou_6', 'isd_ic_mou_7', 'isd_ic_mou_8', 'ic_others_6',\n",
       "       'ic_others_7', 'ic_others_8', 'total_rech_num_6', 'total_rech_num_7',\n",
       "       'total_rech_num_8', 'total_rech_amt_6', 'total_rech_amt_7',\n",
       "       'total_rech_amt_8', 'count_rech_2g_6', 'count_rech_2g_7',\n",
       "       'count_rech_2g_8', 'count_rech_3g_6', 'count_rech_3g_7',\n",
       "       'count_rech_3g_8', 'av_rech_amt_data_6', 'av_rech_amt_data_7',\n",
       "       'av_rech_amt_data_8', 'vol_2g_mb_6', 'vol_2g_mb_7', 'vol_2g_mb_8',\n",
       "       'vol_3g_mb_6', 'vol_3g_mb_7', 'vol_3g_mb_8', 'monthly_2g_6',\n",
       "       'monthly_2g_7', 'monthly_2g_8', 'sachet_2g_6', 'sachet_2g_7',\n",
       "       'sachet_2g_8', 'monthly_3g_6', 'monthly_3g_7', 'monthly_3g_8',\n",
       "       'sachet_3g_6', 'sachet_3g_7', 'sachet_3g_8', 'aon', 'aug_vbc_3g',\n",
       "       'jul_vbc_3g', 'jun_vbc_3g', 'sep_vbc_3g', 'avg_recharge_amt',\n",
       "       'total_data_rech_month_6', 'total_data_rech_month_7'],\n",
       "      dtype='object')"
      ]
     },
     "execution_count": 306,
     "metadata": {},
     "output_type": "execute_result"
    }
   ],
   "source": [
    "cf2.shape\n",
    "cf3 = cf2\n",
    "cf3.columns"
   ]
  },
  {
   "cell_type": "code",
   "execution_count": 307,
   "metadata": {},
   "outputs": [],
   "source": [
    "cf3[cf3.columns] = preprocessing.StandardScaler().fit_transform(cf3[cf3.columns])"
   ]
  },
  {
   "cell_type": "code",
   "execution_count": 308,
   "metadata": {},
   "outputs": [
    {
     "data": {
      "text/html": [
       "<div>\n",
       "<style scoped>\n",
       "    .dataframe tbody tr th:only-of-type {\n",
       "        vertical-align: middle;\n",
       "    }\n",
       "\n",
       "    .dataframe tbody tr th {\n",
       "        vertical-align: top;\n",
       "    }\n",
       "\n",
       "    .dataframe thead th {\n",
       "        text-align: right;\n",
       "    }\n",
       "</style>\n",
       "<table border=\"1\" class=\"dataframe\">\n",
       "  <thead>\n",
       "    <tr style=\"text-align: right;\">\n",
       "      <th></th>\n",
       "      <th>roam_ic_mou_6</th>\n",
       "      <th>roam_ic_mou_7</th>\n",
       "      <th>roam_ic_mou_8</th>\n",
       "      <th>roam_og_mou_6</th>\n",
       "      <th>roam_og_mou_7</th>\n",
       "      <th>roam_og_mou_8</th>\n",
       "      <th>loc_og_t2t_mou_6</th>\n",
       "      <th>loc_og_t2t_mou_7</th>\n",
       "      <th>loc_og_t2t_mou_8</th>\n",
       "      <th>loc_og_t2m_mou_6</th>\n",
       "      <th>...</th>\n",
       "      <th>sachet_3g_7</th>\n",
       "      <th>sachet_3g_8</th>\n",
       "      <th>aon</th>\n",
       "      <th>aug_vbc_3g</th>\n",
       "      <th>jul_vbc_3g</th>\n",
       "      <th>jun_vbc_3g</th>\n",
       "      <th>sep_vbc_3g</th>\n",
       "      <th>avg_recharge_amt</th>\n",
       "      <th>total_data_rech_month_6</th>\n",
       "      <th>total_data_rech_month_7</th>\n",
       "    </tr>\n",
       "  </thead>\n",
       "  <tbody>\n",
       "    <tr>\n",
       "      <td>16686</td>\n",
       "      <td>3.207570</td>\n",
       "      <td>6.987704</td>\n",
       "      <td>-0.160753</td>\n",
       "      <td>3.217713</td>\n",
       "      <td>7.937766</td>\n",
       "      <td>-0.200436</td>\n",
       "      <td>-0.337167</td>\n",
       "      <td>-0.286694</td>\n",
       "      <td>-0.011390</td>\n",
       "      <td>-0.413483</td>\n",
       "      <td>...</td>\n",
       "      <td>-0.23514</td>\n",
       "      <td>-0.203137</td>\n",
       "      <td>-0.744716</td>\n",
       "      <td>-0.421421</td>\n",
       "      <td>-0.421666</td>\n",
       "      <td>-0.398497</td>\n",
       "      <td>-0.154014</td>\n",
       "      <td>-0.213274</td>\n",
       "      <td>-0.476146</td>\n",
       "      <td>-0.481603</td>\n",
       "    </tr>\n",
       "    <tr>\n",
       "      <td>84709</td>\n",
       "      <td>-0.202891</td>\n",
       "      <td>-0.133086</td>\n",
       "      <td>-0.064149</td>\n",
       "      <td>-0.222866</td>\n",
       "      <td>-0.195941</td>\n",
       "      <td>-0.128473</td>\n",
       "      <td>-0.110718</td>\n",
       "      <td>-0.351880</td>\n",
       "      <td>-0.365201</td>\n",
       "      <td>-0.381020</td>\n",
       "      <td>...</td>\n",
       "      <td>-0.23514</td>\n",
       "      <td>-0.203137</td>\n",
       "      <td>-1.066380</td>\n",
       "      <td>-0.421421</td>\n",
       "      <td>-0.421666</td>\n",
       "      <td>-0.398497</td>\n",
       "      <td>-0.154014</td>\n",
       "      <td>-0.697346</td>\n",
       "      <td>-0.476146</td>\n",
       "      <td>-0.481603</td>\n",
       "    </tr>\n",
       "    <tr>\n",
       "      <td>33699</td>\n",
       "      <td>-0.202891</td>\n",
       "      <td>-0.160834</td>\n",
       "      <td>-0.160753</td>\n",
       "      <td>-0.222866</td>\n",
       "      <td>-0.206659</td>\n",
       "      <td>-0.200436</td>\n",
       "      <td>-0.379364</td>\n",
       "      <td>-0.359892</td>\n",
       "      <td>-0.340358</td>\n",
       "      <td>-0.542534</td>\n",
       "      <td>...</td>\n",
       "      <td>-0.23514</td>\n",
       "      <td>-0.203137</td>\n",
       "      <td>-0.341857</td>\n",
       "      <td>-0.421421</td>\n",
       "      <td>-0.421666</td>\n",
       "      <td>-0.398497</td>\n",
       "      <td>-0.154014</td>\n",
       "      <td>0.305846</td>\n",
       "      <td>1.301871</td>\n",
       "      <td>0.499850</td>\n",
       "    </tr>\n",
       "    <tr>\n",
       "      <td>25535</td>\n",
       "      <td>-0.202891</td>\n",
       "      <td>-0.160834</td>\n",
       "      <td>-0.160753</td>\n",
       "      <td>-0.222866</td>\n",
       "      <td>-0.206659</td>\n",
       "      <td>-0.200436</td>\n",
       "      <td>0.302637</td>\n",
       "      <td>-0.049281</td>\n",
       "      <td>-0.119745</td>\n",
       "      <td>0.877201</td>\n",
       "      <td>...</td>\n",
       "      <td>-0.23514</td>\n",
       "      <td>-0.203137</td>\n",
       "      <td>-0.972691</td>\n",
       "      <td>-0.421421</td>\n",
       "      <td>-0.421666</td>\n",
       "      <td>-0.398497</td>\n",
       "      <td>-0.154014</td>\n",
       "      <td>0.104150</td>\n",
       "      <td>-0.476146</td>\n",
       "      <td>-0.481603</td>\n",
       "    </tr>\n",
       "    <tr>\n",
       "      <td>49976</td>\n",
       "      <td>-0.202891</td>\n",
       "      <td>-0.160834</td>\n",
       "      <td>-0.160753</td>\n",
       "      <td>-0.222866</td>\n",
       "      <td>-0.206659</td>\n",
       "      <td>-0.200436</td>\n",
       "      <td>-0.292688</td>\n",
       "      <td>-0.332968</td>\n",
       "      <td>-0.247183</td>\n",
       "      <td>-0.452481</td>\n",
       "      <td>...</td>\n",
       "      <td>-0.23514</td>\n",
       "      <td>-0.203137</td>\n",
       "      <td>-0.582323</td>\n",
       "      <td>3.366974</td>\n",
       "      <td>0.330895</td>\n",
       "      <td>-0.398497</td>\n",
       "      <td>5.237052</td>\n",
       "      <td>-0.396455</td>\n",
       "      <td>0.351714</td>\n",
       "      <td>0.244177</td>\n",
       "    </tr>\n",
       "  </tbody>\n",
       "</table>\n",
       "<p>5 rows × 92 columns</p>\n",
       "</div>"
      ],
      "text/plain": [
       "       roam_ic_mou_6  roam_ic_mou_7  roam_ic_mou_8  roam_og_mou_6  \\\n",
       "16686       3.207570       6.987704      -0.160753       3.217713   \n",
       "84709      -0.202891      -0.133086      -0.064149      -0.222866   \n",
       "33699      -0.202891      -0.160834      -0.160753      -0.222866   \n",
       "25535      -0.202891      -0.160834      -0.160753      -0.222866   \n",
       "49976      -0.202891      -0.160834      -0.160753      -0.222866   \n",
       "\n",
       "       roam_og_mou_7  roam_og_mou_8  loc_og_t2t_mou_6  loc_og_t2t_mou_7  \\\n",
       "16686       7.937766      -0.200436         -0.337167         -0.286694   \n",
       "84709      -0.195941      -0.128473         -0.110718         -0.351880   \n",
       "33699      -0.206659      -0.200436         -0.379364         -0.359892   \n",
       "25535      -0.206659      -0.200436          0.302637         -0.049281   \n",
       "49976      -0.206659      -0.200436         -0.292688         -0.332968   \n",
       "\n",
       "       loc_og_t2t_mou_8  loc_og_t2m_mou_6  ...  sachet_3g_7  sachet_3g_8  \\\n",
       "16686         -0.011390         -0.413483  ...     -0.23514    -0.203137   \n",
       "84709         -0.365201         -0.381020  ...     -0.23514    -0.203137   \n",
       "33699         -0.340358         -0.542534  ...     -0.23514    -0.203137   \n",
       "25535         -0.119745          0.877201  ...     -0.23514    -0.203137   \n",
       "49976         -0.247183         -0.452481  ...     -0.23514    -0.203137   \n",
       "\n",
       "            aon  aug_vbc_3g  jul_vbc_3g  jun_vbc_3g  sep_vbc_3g  \\\n",
       "16686 -0.744716   -0.421421   -0.421666   -0.398497   -0.154014   \n",
       "84709 -1.066380   -0.421421   -0.421666   -0.398497   -0.154014   \n",
       "33699 -0.341857   -0.421421   -0.421666   -0.398497   -0.154014   \n",
       "25535 -0.972691   -0.421421   -0.421666   -0.398497   -0.154014   \n",
       "49976 -0.582323    3.366974    0.330895   -0.398497    5.237052   \n",
       "\n",
       "       avg_recharge_amt  total_data_rech_month_6  total_data_rech_month_7  \n",
       "16686         -0.213274                -0.476146                -0.481603  \n",
       "84709         -0.697346                -0.476146                -0.481603  \n",
       "33699          0.305846                 1.301871                 0.499850  \n",
       "25535          0.104150                -0.476146                -0.481603  \n",
       "49976         -0.396455                 0.351714                 0.244177  \n",
       "\n",
       "[5 rows x 92 columns]"
      ]
     },
     "execution_count": 308,
     "metadata": {},
     "output_type": "execute_result"
    }
   ],
   "source": [
    "cf3.head()"
   ]
  },
  {
   "cell_type": "code",
   "execution_count": 310,
   "metadata": {},
   "outputs": [],
   "source": [
    "scaled_churndata = cf3"
   ]
  },
  {
   "cell_type": "code",
   "execution_count": 294,
   "metadata": {},
   "outputs": [
    {
     "name": "stdout",
     "output_type": "stream",
     "text": [
      "20967\n"
     ]
    }
   ],
   "source": [
    "print(circle_id.shape[0])\n",
    "circle_id_filtered = circle_id.drop(circle_id.index[indexes_tobedropped])"
   ]
  },
  {
   "cell_type": "code",
   "execution_count": 295,
   "metadata": {},
   "outputs": [
    {
     "data": {
      "text/plain": [
       "(20312,)"
      ]
     },
     "execution_count": 295,
     "metadata": {},
     "output_type": "execute_result"
    }
   ],
   "source": [
    "circle_id_filtered.shape"
   ]
  },
  {
   "cell_type": "code",
   "execution_count": 318,
   "metadata": {},
   "outputs": [],
   "source": [
    "#cf4 = pd.concat([scaled_churndata,circle_id_filtered],ignore_index = True)\n",
    "scaled_churndata['circle_id'] = circle_id_filtered"
   ]
  },
  {
   "cell_type": "code",
   "execution_count": 320,
   "metadata": {},
   "outputs": [
    {
     "name": "stdout",
     "output_type": "stream",
     "text": [
      "16686    109\n",
      "84709    109\n",
      "33699    109\n",
      "25535    109\n",
      "49976    109\n",
      "Name: circle_id, dtype: int64\n"
     ]
    }
   ],
   "source": [
    "#circle_id_filtered.head()\n",
    "print(scaled_churndata['circle_id'].head())"
   ]
  },
  {
   "cell_type": "code",
   "execution_count": 324,
   "metadata": {},
   "outputs": [],
   "source": [
    "cf5 = scaled_churndata\n",
    "churn_filtered = churn.drop(churn.index[indexes_tobedropped])\n",
    "cf5['churn'] = churn_filtered\n",
    "cf5.to_csv('scaled_no_outlier.csv')"
   ]
  },
  {
   "cell_type": "code",
   "execution_count": 335,
   "metadata": {},
   "outputs": [],
   "source": [
    "sf = scaled_churndata.drop(['circle_id'],axis = 1)"
   ]
  },
  {
   "cell_type": "code",
   "execution_count": null,
   "metadata": {},
   "outputs": [],
   "source": []
  },
  {
   "cell_type": "code",
   "execution_count": null,
   "metadata": {},
   "outputs": [],
   "source": []
  }
 ],
 "metadata": {
  "kernelspec": {
   "display_name": "Python 3",
   "language": "python",
   "name": "python3"
  },
  "language_info": {
   "codemirror_mode": {
    "name": "ipython",
    "version": 3
   },
   "file_extension": ".py",
   "mimetype": "text/x-python",
   "name": "python",
   "nbconvert_exporter": "python",
   "pygments_lexer": "ipython3",
   "version": "3.7.4"
  }
 },
 "nbformat": 4,
 "nbformat_minor": 2
}
