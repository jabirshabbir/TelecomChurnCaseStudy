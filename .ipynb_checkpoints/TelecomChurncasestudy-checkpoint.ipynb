{
 "cells": [
  {
   "cell_type": "code",
   "execution_count": 203,
   "metadata": {},
   "outputs": [],
   "source": [
    "import numpy as np\n",
    "import pandas as pd\n",
    "import re\n",
    "from matplotlib import pyplot as plt\n",
    "from sklearn.model_selection import train_test_split\n",
    "from sklearn import preprocessing"
   ]
  },
  {
   "cell_type": "code",
   "execution_count": 204,
   "metadata": {},
   "outputs": [],
   "source": [
    "def remove_Outliers(churn_dataset_filtered_train):\n",
    "    nrows = churn_dataset_filtered_train.shape[0]\n",
    "    indexes_to_be_dropped = []\n",
    "    for i in range(0,nrows):\n",
    "        count = 0\n",
    "        for col in churn_dataset_filtered_train.columns:\n",
    "            if churn_dataset_filtered_train[col].iloc[[i]].values[0] >np.mean(churn_dataset_filtered_train[col])+2*np.std(churn_dataset_filtered_train[col]):\n",
    "                count = count+1\n",
    "            if count >10:\n",
    "                indexes_to_be_dropped.append(i)\n",
    "                break\n",
    "    return indexes_to_be_dropped"
   ]
  },
  {
   "cell_type": "code",
   "execution_count": 205,
   "metadata": {},
   "outputs": [],
   "source": [
    "#This function checks the validity of float,it is specifically used for the various float columns to check if the strings are\n",
    "#valid floating point strings\n",
    "def isFloat(s):\n",
    "    if re.match(\"^\\d+\\.\\d+$\", s) is None:\n",
    "        if re.match(\"^\\d+\",s) is None:\n",
    "            return False\n",
    "        else:\n",
    "            return True\n",
    "    return True"
   ]
  },
  {
   "cell_type": "code",
   "execution_count": 206,
   "metadata": {},
   "outputs": [],
   "source": [
    "def isStrictlyFloat(s):\n",
    "    if re.match(\"^\\d+\\.\\d+$\", s) is None:\n",
    "        return False\n",
    "    else:\n",
    "        return True"
   ]
  },
  {
   "cell_type": "code",
   "execution_count": 207,
   "metadata": {},
   "outputs": [],
   "source": [
    "#This function visualizes boxplots\n",
    "def BoxPlot(churn_dataset_filtered_train,attributes):\n",
    "    for attribute in attributes:\n",
    "        cf = churn_dataset_filtered_train[~churn_dataset_filtered_train[attribute].isna()]\n",
    "        churned_std_og_t2t = cf[cf['churn'] ==1]\n",
    "        nonchurned_std_og_t2t = cf[cf['churn'] ==0]\n",
    "        plt.boxplot(churned_std_og_t2t[attribute])\n",
    "        plt.show()\n",
    "        print(np.median(churned_std_og_t2t[attribute]))\n",
    "        print(np.mean(churned_std_og_t2t[attribute]))\n",
    "        plt.boxplot(nonchurned_std_og_t2t[attribute])\n",
    "        plt.show()\n",
    "        print(np.median(nonchurned_std_og_t2t[attribute]))\n",
    "        print(np.mean(nonchurned_std_og_t2t[attribute]))"
   ]
  },
  {
   "cell_type": "code",
   "execution_count": 208,
   "metadata": {},
   "outputs": [],
   "source": [
    "#This function imputes with the median\n",
    "def ImputeMedian(churn_dataset_filtered_train,attributes):\n",
    "    for attribute in attributes:\n",
    "        cf = churn_dataset_filtered_train[~churn_dataset_filtered_train[attribute].isna()]\n",
    "        notna_notchurn_loc_og_t2m_mou = cf[(cf['churn']==0)]\n",
    "        notna_churn_loc_og_t2m_mou = cf[(cf['churn']==1)]\n",
    "        churn_dataset_filtered_train.loc[((churn_dataset_filtered_train['churn'] ==1) &(churn_dataset_filtered_train[attribute].isna())),[attribute]]=np.median(notna_churn_loc_og_t2m_mou[attribute])\n",
    "        churn_dataset_filtered_train.loc[((churn_dataset_filtered_train['churn'] ==0 )&(churn_dataset_filtered_train[attribute].isna())),[attribute]]=np.median(notna_notchurn_loc_og_t2m_mou[attribute])\n",
    "        cf2 = churn_dataset_filtered_train[attribute]\n",
    "        #churn_dataset_filtered_train = churn_dataset_filtered_train[churn_dataset_filtered_train[attribute]<np.percentile(list(cf2),98.5)]\n",
    "    return churn_dataset_filtered_train"
   ]
  },
  {
   "cell_type": "code",
   "execution_count": 209,
   "metadata": {},
   "outputs": [],
   "source": [
    "telecom_churn_data = pd.read_csv('telecom_churn_data.csv')"
   ]
  },
  {
   "cell_type": "code",
   "execution_count": 210,
   "metadata": {},
   "outputs": [
    {
     "data": {
      "text/plain": [
       "(99999, 226)"
      ]
     },
     "execution_count": 210,
     "metadata": {},
     "output_type": "execute_result"
    }
   ],
   "source": [
    "telecom_churn_data.shape"
   ]
  },
  {
   "cell_type": "code",
   "execution_count": 211,
   "metadata": {},
   "outputs": [
    {
     "data": {
      "text/plain": [
       "99999"
      ]
     },
     "execution_count": 211,
     "metadata": {},
     "output_type": "execute_result"
    }
   ],
   "source": [
    "len(telecom_churn_data['mobile_number'].unique())"
   ]
  },
  {
   "cell_type": "markdown",
   "metadata": {},
   "source": [
    "The data set has 99999 rows and the number of unique mobile number is too 99999 hence each row corresponds to a unique mobile number"
   ]
  },
  {
   "cell_type": "markdown",
   "metadata": {},
   "source": [
    "The next step to do would be identify the data of interest,the high value customers ,so for that lets look at total_rech_amt_6 and total_rech_amt_7"
   ]
  },
  {
   "cell_type": "code",
   "execution_count": 212,
   "metadata": {},
   "outputs": [
    {
     "name": "stdout",
     "output_type": "stream",
     "text": [
      "0\n",
      "0\n",
      "0\n",
      "0\n"
     ]
    }
   ],
   "source": [
    "print(sum(telecom_churn_data['total_rech_amt_6'].isna()))\n",
    "print(sum(telecom_churn_data['total_rech_amt_7'].isna()))\n",
    "print(sum(telecom_churn_data['total_rech_num_7'].isna()))\n",
    "print(sum(telecom_churn_data['total_rech_num_6'].isna()))"
   ]
  },
  {
   "cell_type": "code",
   "execution_count": 213,
   "metadata": {},
   "outputs": [],
   "source": [
    "filter_amt_6 = list(filter(lambda x:isFloat(str(x)),telecom_churn_data['total_rech_amt_6']))\n",
    "filter_amt_7 = list(filter(lambda x:isFloat(str(x)),telecom_churn_data['total_rech_amt_7']))\n",
    "filter_rech_6 = list(filter(lambda x:isFloat(str(x)),telecom_churn_data['total_rech_num_6']))\n",
    "filter_rech_7 = list(filter(lambda x:isFloat(str(x)),telecom_churn_data['total_rech_num_7']))"
   ]
  },
  {
   "cell_type": "code",
   "execution_count": 214,
   "metadata": {},
   "outputs": [
    {
     "name": "stdout",
     "output_type": "stream",
     "text": [
      "99999\n",
      "99999\n",
      "99999\n",
      "99999\n"
     ]
    }
   ],
   "source": [
    "#len(filter_amt_6.to_list())\n",
    "print(len(filter_amt_6))\n",
    "print(len(filter_amt_7))\n",
    "print(len(filter_rech_6))\n",
    "print(len(filter_rech_7))"
   ]
  },
  {
   "cell_type": "markdown",
   "metadata": {},
   "source": [
    "None of the columns pertaining to recharge amounts of first 2 months and none of the columns pertaining to number of times recharged have values other than floating point and all of them have 99999 values in total with no nan values.Hence data quality is verified "
   ]
  },
  {
   "cell_type": "code",
   "execution_count": 215,
   "metadata": {},
   "outputs": [],
   "source": [
    "#telecom_churn_data['avg_recharge_amt'] = telecom_churn_data.apply(lambda row:((telecom_churn_data['total_rech_amt_6']+telecom_churn_data['total_rech_amt_7'])/(telecom_churn_data['total_rech_num_6']+telecom_churn_data['total_rech_num_7'])),axis =1)\n",
    "telecom_churn_data['avg_recharge_amt'] = 0"
   ]
  },
  {
   "cell_type": "code",
   "execution_count": 216,
   "metadata": {},
   "outputs": [
    {
     "data": {
      "text/plain": [
       "(1607, 227)"
      ]
     },
     "execution_count": 216,
     "metadata": {},
     "output_type": "execute_result"
    }
   ],
   "source": [
    "zeros_data = telecom_churn_data[(telecom_churn_data['total_rech_num_6'] ==0)]\n",
    "zeros_data.shape"
   ]
  },
  {
   "cell_type": "code",
   "execution_count": 217,
   "metadata": {},
   "outputs": [
    {
     "name": "stdout",
     "output_type": "stream",
     "text": [
      "0\n"
     ]
    }
   ],
   "source": [
    "print(sum(zeros_data['total_rech_amt_6']>0))\n"
   ]
  },
  {
   "cell_type": "code",
   "execution_count": 218,
   "metadata": {},
   "outputs": [
    {
     "name": "stdout",
     "output_type": "stream",
     "text": [
      "0\n"
     ]
    }
   ],
   "source": [
    "zeros_data = telecom_churn_data[(telecom_churn_data['total_rech_num_7'] ==0)]\n",
    "print(sum(zeros_data['total_rech_amt_7']>0))"
   ]
  },
  {
   "cell_type": "markdown",
   "metadata": {},
   "source": [
    "The above code was to check that if the total recharge done is zero for months 6 and 7 then\n",
    "the number of times  recharge done should too be zero.Its perfect that way"
   ]
  },
  {
   "cell_type": "code",
   "execution_count": 219,
   "metadata": {},
   "outputs": [],
   "source": [
    "telecom_churn_data.loc[(((telecom_churn_data['count_rech_2g_6']==0)|(telecom_churn_data['count_rech_2g_6'].isna()))&(telecom_churn_data['date_of_last_rech_data_6'].isna())&((telecom_churn_data['count_rech_3g_6']==0)|(telecom_churn_data['count_rech_3g_6'].isna()))&((telecom_churn_data['av_rech_amt_data_6']==0)|(telecom_churn_data['av_rech_amt_data_6'].isna()))),['av_rech_amt_data_6','count_rech_3g_6','count_rech_2g_6']] = 0"
   ]
  },
  {
   "cell_type": "code",
   "execution_count": 220,
   "metadata": {},
   "outputs": [
    {
     "name": "stdout",
     "output_type": "stream",
     "text": [
      "0\n",
      "0\n",
      "0\n"
     ]
    }
   ],
   "source": [
    "print(sum(telecom_churn_data['av_rech_amt_data_6'].isna()))\n",
    "print(sum(telecom_churn_data['count_rech_2g_6'].isna()))\n",
    "print(sum(telecom_churn_data['count_rech_3g_6'].isna()))"
   ]
  },
  {
   "cell_type": "code",
   "execution_count": 221,
   "metadata": {},
   "outputs": [],
   "source": [
    "telecom_churn_data.loc[(((telecom_churn_data['count_rech_2g_7']==0)|(telecom_churn_data['count_rech_2g_7'].isna()))&(telecom_churn_data['date_of_last_rech_data_7'].isna())&((telecom_churn_data['count_rech_3g_7']==0)|(telecom_churn_data['count_rech_3g_7'].isna()))&((telecom_churn_data['av_rech_amt_data_7']==0)|(telecom_churn_data['av_rech_amt_data_7'].isna()))),['av_rech_amt_data_7','count_rech_3g_7','count_rech_2g_7']] = 0"
   ]
  },
  {
   "cell_type": "code",
   "execution_count": 222,
   "metadata": {},
   "outputs": [
    {
     "name": "stdout",
     "output_type": "stream",
     "text": [
      "0\n",
      "0\n",
      "0\n"
     ]
    }
   ],
   "source": [
    "print(sum(telecom_churn_data['av_rech_amt_data_7'].isna()))\n",
    "print(sum(telecom_churn_data['count_rech_2g_7'].isna()))\n",
    "print(sum(telecom_churn_data['count_rech_3g_7'].isna()))"
   ]
  },
  {
   "cell_type": "code",
   "execution_count": 223,
   "metadata": {},
   "outputs": [],
   "source": [
    "telecom_churn_data.loc[(((telecom_churn_data['count_rech_2g_8']==0)|(telecom_churn_data['count_rech_2g_8'].isna()))&(telecom_churn_data['date_of_last_rech_data_8'].isna())&((telecom_churn_data['count_rech_3g_8']==0)|(telecom_churn_data['count_rech_3g_8'].isna()))&((telecom_churn_data['av_rech_amt_data_8']==0)|(telecom_churn_data['av_rech_amt_data_8'].isna()))),['av_rech_amt_data_8','count_rech_3g_8','count_rech_2g_8']] = 0"
   ]
  },
  {
   "cell_type": "code",
   "execution_count": 224,
   "metadata": {},
   "outputs": [
    {
     "name": "stdout",
     "output_type": "stream",
     "text": [
      "0\n",
      "0\n",
      "0\n"
     ]
    }
   ],
   "source": [
    "print(sum(telecom_churn_data['av_rech_amt_data_8'].isna()))\n",
    "print(sum(telecom_churn_data['count_rech_2g_8'].isna()))\n",
    "print(sum(telecom_churn_data['count_rech_3g_8'].isna()))"
   ]
  },
  {
   "cell_type": "code",
   "execution_count": 225,
   "metadata": {},
   "outputs": [],
   "source": [
    "telecom_churn_data['total_data_rech_month_6'] = (telecom_churn_data['count_rech_2g_6']+telecom_churn_data['count_rech_3g_6'])*telecom_churn_data['av_rech_amt_data_6']\n",
    "telecom_churn_data['total_data_rech_month_7'] = (telecom_churn_data['count_rech_2g_7']+telecom_churn_data['count_rech_3g_7'])*telecom_churn_data['av_rech_amt_data_7']"
   ]
  },
  {
   "cell_type": "code",
   "execution_count": 226,
   "metadata": {},
   "outputs": [
    {
     "name": "stdout",
     "output_type": "stream",
     "text": [
      "0\n",
      "0\n"
     ]
    }
   ],
   "source": [
    "print(sum(telecom_churn_data['total_data_rech_month_6'].isna()))\n",
    "print(sum(telecom_churn_data['total_data_rech_month_7'].isna()))"
   ]
  },
  {
   "cell_type": "code",
   "execution_count": 227,
   "metadata": {},
   "outputs": [],
   "source": [
    "#telecom_churn_data['avg_recharge_amt'] = telecom_churn_data.apply(lambda row:((telecom_churn_data['total_rech_amt_6']+telecom_churn_data['total_rech_amt_7'])/(telecom_churn_data['total_rech_num_6']+telecom_churn_data['total_rech_num_7'])),axis =1)\n",
    "telecom_churn_data['avg_recharge_amt'] = (telecom_churn_data['total_rech_amt_6']+telecom_churn_data['total_rech_amt_7']+telecom_churn_data['total_data_rech_month_6']+telecom_churn_data['total_data_rech_month_7'])/(2)\n",
    "#telecom_churn_data.loc[telecom_churn_data['avg_recharge_amt'].isna(),['avg_recharge_amt'] ] =0"
   ]
  },
  {
   "cell_type": "code",
   "execution_count": 228,
   "metadata": {},
   "outputs": [
    {
     "data": {
      "text/plain": [
       "0"
      ]
     },
     "execution_count": 228,
     "metadata": {},
     "output_type": "execute_result"
    }
   ],
   "source": [
    "sum(telecom_churn_data['avg_recharge_amt'].isna())"
   ]
  },
  {
   "cell_type": "code",
   "execution_count": 229,
   "metadata": {},
   "outputs": [
    {
     "data": {
      "text/plain": [
       "(99999,)"
      ]
     },
     "execution_count": 229,
     "metadata": {},
     "output_type": "execute_result"
    }
   ],
   "source": [
    "telecom_churn_data['avg_recharge_amt'].head()\n",
    "telecom_churn_data['avg_recharge_amt'].shape"
   ]
  },
  {
   "cell_type": "code",
   "execution_count": 230,
   "metadata": {},
   "outputs": [
    {
     "data": {
      "text/plain": [
       "478.0"
      ]
     },
     "execution_count": 230,
     "metadata": {},
     "output_type": "execute_result"
    }
   ],
   "source": [
    "np.percentile(list(telecom_churn_data['avg_recharge_amt']),70)"
   ]
  },
  {
   "cell_type": "code",
   "execution_count": 231,
   "metadata": {},
   "outputs": [],
   "source": [
    "high_value_customers = telecom_churn_data[telecom_churn_data['avg_recharge_amt']>np.percentile(list(telecom_churn_data['avg_recharge_amt']),70)]"
   ]
  },
  {
   "cell_type": "code",
   "execution_count": 232,
   "metadata": {},
   "outputs": [
    {
     "data": {
      "text/plain": [
       "(29953, 229)"
      ]
     },
     "execution_count": 232,
     "metadata": {},
     "output_type": "execute_result"
    }
   ],
   "source": [
    "high_value_customers.shape"
   ]
  },
  {
   "cell_type": "code",
   "execution_count": 233,
   "metadata": {},
   "outputs": [
    {
     "name": "stderr",
     "output_type": "stream",
     "text": [
      "C:\\Users\\Jabir_shabbir\\Anaconda3\\lib\\site-packages\\ipykernel_launcher.py:1: SettingWithCopyWarning: \n",
      "A value is trying to be set on a copy of a slice from a DataFrame.\n",
      "Try using .loc[row_indexer,col_indexer] = value instead\n",
      "\n",
      "See the caveats in the documentation: http://pandas.pydata.org/pandas-docs/stable/user_guide/indexing.html#returning-a-view-versus-a-copy\n",
      "  \"\"\"Entry point for launching an IPython kernel.\n"
     ]
    }
   ],
   "source": [
    "high_value_customers['churn'] = 0"
   ]
  },
  {
   "cell_type": "code",
   "execution_count": 234,
   "metadata": {},
   "outputs": [],
   "source": [
    "high_value_customers.loc[((high_value_customers['total_ic_mou_9']==0)&(high_value_customers['total_og_mou_9']==0)&(high_value_customers['vol_2g_mb_9']==0)&(high_value_customers['vol_3g_mb_9']==0)),['churn']] = 1"
   ]
  },
  {
   "cell_type": "code",
   "execution_count": 235,
   "metadata": {},
   "outputs": [
    {
     "data": {
      "text/plain": [
       "2433"
      ]
     },
     "execution_count": 235,
     "metadata": {},
     "output_type": "execute_result"
    }
   ],
   "source": [
    "sum(high_value_customers['churn'])"
   ]
  },
  {
   "cell_type": "code",
   "execution_count": 236,
   "metadata": {},
   "outputs": [
    {
     "data": {
      "text/plain": [
       "Index(['mobile_number', 'circle_id', 'loc_og_t2o_mou', 'std_og_t2o_mou',\n",
       "       'loc_ic_t2o_mou', 'last_date_of_month_6', 'last_date_of_month_7',\n",
       "       'last_date_of_month_8', 'last_date_of_month_9', 'arpu_6',\n",
       "       ...\n",
       "       'fb_user_9', 'aon', 'aug_vbc_3g', 'jul_vbc_3g', 'jun_vbc_3g',\n",
       "       'sep_vbc_3g', 'avg_recharge_amt', 'total_data_rech_month_6',\n",
       "       'total_data_rech_month_7', 'churn'],\n",
       "      dtype='object', length=230)"
      ]
     },
     "execution_count": 236,
     "metadata": {},
     "output_type": "execute_result"
    }
   ],
   "source": [
    "high_value_customers.columns"
   ]
  },
  {
   "cell_type": "markdown",
   "metadata": {},
   "source": [
    "Drop off all the columns ending with _9 after identifying churners."
   ]
  },
  {
   "cell_type": "code",
   "execution_count": 237,
   "metadata": {},
   "outputs": [],
   "source": [
    "cols = list(filter( lambda x: (\"_9\" not in x) ,high_value_customers.columns))"
   ]
  },
  {
   "cell_type": "code",
   "execution_count": 238,
   "metadata": {},
   "outputs": [],
   "source": [
    "churn_dataset = high_value_customers[cols]"
   ]
  },
  {
   "cell_type": "code",
   "execution_count": 239,
   "metadata": {},
   "outputs": [
    {
     "data": {
      "text/html": [
       "<div>\n",
       "<style scoped>\n",
       "    .dataframe tbody tr th:only-of-type {\n",
       "        vertical-align: middle;\n",
       "    }\n",
       "\n",
       "    .dataframe tbody tr th {\n",
       "        vertical-align: top;\n",
       "    }\n",
       "\n",
       "    .dataframe thead th {\n",
       "        text-align: right;\n",
       "    }\n",
       "</style>\n",
       "<table border=\"1\" class=\"dataframe\">\n",
       "  <thead>\n",
       "    <tr style=\"text-align: right;\">\n",
       "      <th></th>\n",
       "      <th>mobile_number</th>\n",
       "      <th>circle_id</th>\n",
       "      <th>loc_og_t2o_mou</th>\n",
       "      <th>std_og_t2o_mou</th>\n",
       "      <th>loc_ic_t2o_mou</th>\n",
       "      <th>last_date_of_month_6</th>\n",
       "      <th>last_date_of_month_7</th>\n",
       "      <th>last_date_of_month_8</th>\n",
       "      <th>arpu_6</th>\n",
       "      <th>arpu_7</th>\n",
       "      <th>...</th>\n",
       "      <th>fb_user_8</th>\n",
       "      <th>aon</th>\n",
       "      <th>aug_vbc_3g</th>\n",
       "      <th>jul_vbc_3g</th>\n",
       "      <th>jun_vbc_3g</th>\n",
       "      <th>sep_vbc_3g</th>\n",
       "      <th>avg_recharge_amt</th>\n",
       "      <th>total_data_rech_month_6</th>\n",
       "      <th>total_data_rech_month_7</th>\n",
       "      <th>churn</th>\n",
       "    </tr>\n",
       "  </thead>\n",
       "  <tbody>\n",
       "    <tr>\n",
       "      <td>0</td>\n",
       "      <td>7000842753</td>\n",
       "      <td>109</td>\n",
       "      <td>0.0</td>\n",
       "      <td>0.0</td>\n",
       "      <td>0.0</td>\n",
       "      <td>6/30/2014</td>\n",
       "      <td>7/31/2014</td>\n",
       "      <td>8/31/2014</td>\n",
       "      <td>197.385</td>\n",
       "      <td>214.816</td>\n",
       "      <td>...</td>\n",
       "      <td>1.0</td>\n",
       "      <td>968</td>\n",
       "      <td>30.40</td>\n",
       "      <td>0.00</td>\n",
       "      <td>101.20</td>\n",
       "      <td>3.58</td>\n",
       "      <td>559.0</td>\n",
       "      <td>252.0</td>\n",
       "      <td>252.0</td>\n",
       "      <td>1</td>\n",
       "    </tr>\n",
       "    <tr>\n",
       "      <td>7</td>\n",
       "      <td>7000701601</td>\n",
       "      <td>109</td>\n",
       "      <td>0.0</td>\n",
       "      <td>0.0</td>\n",
       "      <td>0.0</td>\n",
       "      <td>6/30/2014</td>\n",
       "      <td>7/31/2014</td>\n",
       "      <td>8/31/2014</td>\n",
       "      <td>1069.180</td>\n",
       "      <td>1349.850</td>\n",
       "      <td>...</td>\n",
       "      <td>NaN</td>\n",
       "      <td>802</td>\n",
       "      <td>57.74</td>\n",
       "      <td>19.38</td>\n",
       "      <td>18.74</td>\n",
       "      <td>0.00</td>\n",
       "      <td>1185.0</td>\n",
       "      <td>0.0</td>\n",
       "      <td>0.0</td>\n",
       "      <td>1</td>\n",
       "    </tr>\n",
       "    <tr>\n",
       "      <td>8</td>\n",
       "      <td>7001524846</td>\n",
       "      <td>109</td>\n",
       "      <td>0.0</td>\n",
       "      <td>0.0</td>\n",
       "      <td>0.0</td>\n",
       "      <td>6/30/2014</td>\n",
       "      <td>7/31/2014</td>\n",
       "      <td>8/31/2014</td>\n",
       "      <td>378.721</td>\n",
       "      <td>492.223</td>\n",
       "      <td>...</td>\n",
       "      <td>1.0</td>\n",
       "      <td>315</td>\n",
       "      <td>21.03</td>\n",
       "      <td>910.65</td>\n",
       "      <td>122.16</td>\n",
       "      <td>0.00</td>\n",
       "      <td>696.0</td>\n",
       "      <td>0.0</td>\n",
       "      <td>354.0</td>\n",
       "      <td>0</td>\n",
       "    </tr>\n",
       "    <tr>\n",
       "      <td>21</td>\n",
       "      <td>7002124215</td>\n",
       "      <td>109</td>\n",
       "      <td>0.0</td>\n",
       "      <td>0.0</td>\n",
       "      <td>0.0</td>\n",
       "      <td>6/30/2014</td>\n",
       "      <td>7/31/2014</td>\n",
       "      <td>8/31/2014</td>\n",
       "      <td>514.453</td>\n",
       "      <td>597.753</td>\n",
       "      <td>...</td>\n",
       "      <td>NaN</td>\n",
       "      <td>720</td>\n",
       "      <td>0.00</td>\n",
       "      <td>0.00</td>\n",
       "      <td>0.00</td>\n",
       "      <td>0.00</td>\n",
       "      <td>640.0</td>\n",
       "      <td>0.0</td>\n",
       "      <td>0.0</td>\n",
       "      <td>0</td>\n",
       "    </tr>\n",
       "    <tr>\n",
       "      <td>23</td>\n",
       "      <td>7000887461</td>\n",
       "      <td>109</td>\n",
       "      <td>0.0</td>\n",
       "      <td>0.0</td>\n",
       "      <td>0.0</td>\n",
       "      <td>6/30/2014</td>\n",
       "      <td>7/31/2014</td>\n",
       "      <td>8/31/2014</td>\n",
       "      <td>74.350</td>\n",
       "      <td>193.897</td>\n",
       "      <td>...</td>\n",
       "      <td>1.0</td>\n",
       "      <td>604</td>\n",
       "      <td>40.45</td>\n",
       "      <td>51.86</td>\n",
       "      <td>0.00</td>\n",
       "      <td>0.00</td>\n",
       "      <td>583.0</td>\n",
       "      <td>0.0</td>\n",
       "      <td>712.0</td>\n",
       "      <td>0</td>\n",
       "    </tr>\n",
       "  </tbody>\n",
       "</table>\n",
       "<p>5 rows × 176 columns</p>\n",
       "</div>"
      ],
      "text/plain": [
       "    mobile_number  circle_id  loc_og_t2o_mou  std_og_t2o_mou  loc_ic_t2o_mou  \\\n",
       "0      7000842753        109             0.0             0.0             0.0   \n",
       "7      7000701601        109             0.0             0.0             0.0   \n",
       "8      7001524846        109             0.0             0.0             0.0   \n",
       "21     7002124215        109             0.0             0.0             0.0   \n",
       "23     7000887461        109             0.0             0.0             0.0   \n",
       "\n",
       "   last_date_of_month_6 last_date_of_month_7 last_date_of_month_8    arpu_6  \\\n",
       "0             6/30/2014            7/31/2014            8/31/2014   197.385   \n",
       "7             6/30/2014            7/31/2014            8/31/2014  1069.180   \n",
       "8             6/30/2014            7/31/2014            8/31/2014   378.721   \n",
       "21            6/30/2014            7/31/2014            8/31/2014   514.453   \n",
       "23            6/30/2014            7/31/2014            8/31/2014    74.350   \n",
       "\n",
       "      arpu_7  ...  fb_user_8  aon  aug_vbc_3g  jul_vbc_3g  jun_vbc_3g  \\\n",
       "0    214.816  ...        1.0  968       30.40        0.00      101.20   \n",
       "7   1349.850  ...        NaN  802       57.74       19.38       18.74   \n",
       "8    492.223  ...        1.0  315       21.03      910.65      122.16   \n",
       "21   597.753  ...        NaN  720        0.00        0.00        0.00   \n",
       "23   193.897  ...        1.0  604       40.45       51.86        0.00   \n",
       "\n",
       "    sep_vbc_3g  avg_recharge_amt  total_data_rech_month_6  \\\n",
       "0         3.58             559.0                    252.0   \n",
       "7         0.00            1185.0                      0.0   \n",
       "8         0.00             696.0                      0.0   \n",
       "21        0.00             640.0                      0.0   \n",
       "23        0.00             583.0                      0.0   \n",
       "\n",
       "    total_data_rech_month_7  churn  \n",
       "0                     252.0      1  \n",
       "7                       0.0      1  \n",
       "8                     354.0      0  \n",
       "21                      0.0      0  \n",
       "23                    712.0      0  \n",
       "\n",
       "[5 rows x 176 columns]"
      ]
     },
     "execution_count": 239,
     "metadata": {},
     "output_type": "execute_result"
    }
   ],
   "source": [
    "churn_dataset.head()"
   ]
  },
  {
   "cell_type": "code",
   "execution_count": 240,
   "metadata": {},
   "outputs": [],
   "source": [
    "churn_dataset.to_csv('churndataset.csv')"
   ]
  },
  {
   "cell_type": "code",
   "execution_count": 241,
   "metadata": {},
   "outputs": [
    {
     "name": "stdout",
     "output_type": "stream",
     "text": [
      "[109]\n",
      "0\n"
     ]
    }
   ],
   "source": [
    "print(churn_dataset['circle_id'].unique())\n",
    "print(sum(churn_dataset['circle_id'].isna()))"
   ]
  },
  {
   "cell_type": "markdown",
   "metadata": {},
   "source": [
    "We can eliminate certain columns like date of last recharge,last recharge of data ,last date ,mobile number.As seve on use on business value,afterall the amount of recharge matters."
   ]
  },
  {
   "cell_type": "code",
   "execution_count": 242,
   "metadata": {},
   "outputs": [],
   "source": [
    "churn_dataset = churn_dataset.drop(['last_date_of_month_6','last_date_of_month_7','last_date_of_month_8','date_of_last_rech_6','date_of_last_rech_7','date_of_last_rech_6'],axis = 1)"
   ]
  },
  {
   "cell_type": "code",
   "execution_count": 243,
   "metadata": {},
   "outputs": [],
   "source": [
    "churn_dataset = churn_dataset.drop(['mobile_number'],axis = 1)"
   ]
  },
  {
   "cell_type": "code",
   "execution_count": 244,
   "metadata": {},
   "outputs": [
    {
     "data": {
      "text/plain": [
       "170"
      ]
     },
     "execution_count": 244,
     "metadata": {},
     "output_type": "execute_result"
    }
   ],
   "source": [
    "len(churn_dataset.columns)"
   ]
  },
  {
   "cell_type": "code",
   "execution_count": 245,
   "metadata": {},
   "outputs": [],
   "source": [
    "backup_data_frame = churn_dataset"
   ]
  },
  {
   "cell_type": "code",
   "execution_count": 246,
   "metadata": {},
   "outputs": [],
   "source": [
    "churn_dataset = backup_data_frame"
   ]
  },
  {
   "cell_type": "markdown",
   "metadata": {},
   "source": [
    "First lets consider attributes which could possibly be useful in determining churn.\n"
   ]
  },
  {
   "cell_type": "code",
   "execution_count": 247,
   "metadata": {},
   "outputs": [],
   "source": [
    "#The columns with arpu can be dropped as the revenue could be in way determined by recharge amount,so lets drop the columns with arpu\n",
    "newcols = list(filter(lambda x:('arpu' not in x), list(churn_dataset.columns)))\n",
    "churn_dataset_filtered = churn_dataset[newcols]"
   ]
  },
  {
   "cell_type": "code",
   "execution_count": 248,
   "metadata": {},
   "outputs": [],
   "source": [
    "churn_dataset_filtered = churn_dataset[newcols]"
   ]
  },
  {
   "cell_type": "code",
   "execution_count": 249,
   "metadata": {},
   "outputs": [
    {
     "data": {
      "text/plain": [
       "161"
      ]
     },
     "execution_count": 249,
     "metadata": {},
     "output_type": "execute_result"
    }
   ],
   "source": [
    "#print(newcols)\n",
    "len(churn_dataset_filtered.columns)"
   ]
  },
  {
   "cell_type": "code",
   "execution_count": 250,
   "metadata": {},
   "outputs": [
    {
     "data": {
      "text/plain": [
       "223"
      ]
     },
     "execution_count": 250,
     "metadata": {},
     "output_type": "execute_result"
    }
   ],
   "source": [
    "#Lets consider the categories of attributes one by one.\n",
    "#Firstly lets consider local calls\n",
    "#1.local calls outgoing to other operator fixed line\n",
    "sum(churn_dataset_filtered['loc_og_t2o_mou'].isna())"
   ]
  },
  {
   "cell_type": "code",
   "execution_count": 251,
   "metadata": {},
   "outputs": [
    {
     "data": {
      "text/plain": [
       "0.0"
      ]
     },
     "execution_count": 251,
     "metadata": {},
     "output_type": "execute_result"
    }
   ],
   "source": [
    "cf = churn_dataset_filtered[~churn_dataset_filtered['loc_og_t2o_mou'].isna()]\n",
    "cf['loc_og_t2o_mou'].mean()"
   ]
  },
  {
   "cell_type": "code",
   "execution_count": 252,
   "metadata": {},
   "outputs": [],
   "source": [
    "#Since all the values are zero in it,it does not serve any meaningful info for regression,so drop it.Since the number of \n",
    "#minutes cannot be negative,hence all non null values are zero\n",
    "churn_dataset_filtered_1 = churn_dataset_filtered.drop(['loc_og_t2o_mou'],axis = 1)"
   ]
  },
  {
   "cell_type": "code",
   "execution_count": 253,
   "metadata": {},
   "outputs": [
    {
     "data": {
      "text/plain": [
       "0.0"
      ]
     },
     "execution_count": 253,
     "metadata": {},
     "output_type": "execute_result"
    }
   ],
   "source": [
    "cf = churn_dataset_filtered_1[~churn_dataset_filtered_1['std_og_t2o_mou'].isna()]\n",
    "cf['std_og_t2o_mou'].mean()"
   ]
  },
  {
   "cell_type": "code",
   "execution_count": 254,
   "metadata": {},
   "outputs": [],
   "source": [
    "#Since all the non null values are zero again it does not serve any meaningful infromation for regression.It can be dropped.Since the number of \n",
    "#minutes cannot be negative,hence all non null values are zero\n",
    "churn_dataset_filtered_2 = churn_dataset_filtered_1.drop(['std_og_t2o_mou'],axis = 1)"
   ]
  },
  {
   "cell_type": "code",
   "execution_count": 255,
   "metadata": {},
   "outputs": [
    {
     "data": {
      "text/plain": [
       "0.0"
      ]
     },
     "execution_count": 255,
     "metadata": {},
     "output_type": "execute_result"
    }
   ],
   "source": [
    "#The same goes with loc_ic_t2o_mou as well\n",
    "cf = churn_dataset_filtered_2[~churn_dataset_filtered_2['loc_ic_t2o_mou'].isna()]\n",
    "cf['loc_ic_t2o_mou'].mean()"
   ]
  },
  {
   "cell_type": "code",
   "execution_count": 256,
   "metadata": {},
   "outputs": [],
   "source": [
    "churn_dataset_filtered_3 = churn_dataset_filtered_2.drop(['loc_ic_t2o_mou'],axis = 1)"
   ]
  },
  {
   "cell_type": "markdown",
   "metadata": {},
   "source": [
    "So far we have just dropped certain columns,now it is ideal to split the data into train and test,before imputing the values or checking the distributions as test data should ideally be unseen. "
   ]
  },
  {
   "cell_type": "code",
   "execution_count": 257,
   "metadata": {},
   "outputs": [],
   "source": [
    "#churn_dataset_filtered_train,churn_dataset_filtered_test=train_test_split(churn_dataset_filtered_3,train_size=0.7,test_size=0.3,random_state=100)\n",
    "churn_dataset_filtered_train = churn_dataset_filtered_3"
   ]
  },
  {
   "cell_type": "code",
   "execution_count": 258,
   "metadata": {},
   "outputs": [
    {
     "name": "stdout",
     "output_type": "stream",
     "text": [
      "(29953, 158)\n",
      "(8986, 158)\n"
     ]
    }
   ],
   "source": [
    "print(churn_dataset_filtered_train.shape)\n",
    "print(churn_dataset_filtered_test.shape)"
   ]
  },
  {
   "cell_type": "code",
   "execution_count": 259,
   "metadata": {},
   "outputs": [
    {
     "name": "stdout",
     "output_type": "stream",
     "text": [
      "(542, 158)\n"
     ]
    }
   ],
   "source": [
    "#The same goes with loc_ic_t2o_mou as well\n",
    "cf = churn_dataset_filtered_train[churn_dataset_filtered_train['loc_og_t2t_mou_6'].isna()]\n",
    "print(cf.shape)\n",
    "#cf['loc_ic_t2o_mou'].mean()"
   ]
  },
  {
   "cell_type": "code",
   "execution_count": 260,
   "metadata": {},
   "outputs": [
    {
     "data": {
      "text/plain": [
       "86.13269423004658"
      ]
     },
     "execution_count": 260,
     "metadata": {},
     "output_type": "execute_result"
    }
   ],
   "source": [
    "cf = churn_dataset_filtered_train[~churn_dataset_filtered_train['loc_og_t2t_mou_6'].isna()]\n",
    "cf['loc_og_t2t_mou_6'].mean()"
   ]
  },
  {
   "cell_type": "code",
   "execution_count": 261,
   "metadata": {},
   "outputs": [
    {
     "data": {
      "text/plain": [
       "{'whiskers': [<matplotlib.lines.Line2D at 0xe56d126e08>,\n",
       "  <matplotlib.lines.Line2D at 0xe56d103248>],\n",
       " 'caps': [<matplotlib.lines.Line2D at 0xe56d0f9f08>,\n",
       "  <matplotlib.lines.Line2D at 0xe56d0f0f88>],\n",
       " 'boxes': [<matplotlib.lines.Line2D at 0xe56d103508>],\n",
       " 'medians': [<matplotlib.lines.Line2D at 0xe56d0f1208>],\n",
       " 'fliers': [<matplotlib.lines.Line2D at 0xe56d0e8bc8>],\n",
       " 'means': []}"
      ]
     },
     "execution_count": 261,
     "metadata": {},
     "output_type": "execute_result"
    },
    {
     "data": {
      "image/png": "[encoded data removed]",
      "text/plain": [
       "<Figure size 432x288 with 1 Axes>"
      ]
     },
     "metadata": {
      "needs_background": "light"
     },
     "output_type": "display_data"
    }
   ],
   "source": [
    "plt.boxplot(cf['loc_og_t2t_mou_6'])"
   ]
  },
  {
   "cell_type": "code",
   "execution_count": 262,
   "metadata": {},
   "outputs": [
    {
     "name": "stdout",
     "output_type": "stream",
     "text": [
      "(29411, 158)\n"
     ]
    },
    {
     "data": {
      "text/plain": [
       "2281"
      ]
     },
     "execution_count": 262,
     "metadata": {},
     "output_type": "execute_result"
    }
   ],
   "source": [
    "#There is of course skewness in the data.However lets check the distribution of churn and not churn in this dataset.\n",
    "#cf.groupby('churn')['onnet_mou_6'].count()\n",
    "print(cf.shape)\n",
    "sum(cf['churn'])\n",
    "#1523 have churned"
   ]
  },
  {
   "cell_type": "code",
   "execution_count": 263,
   "metadata": {},
   "outputs": [
    {
     "data": {
      "text/plain": [
       "15.09"
      ]
     },
     "execution_count": 263,
     "metadata": {},
     "output_type": "execute_result"
    },
    {
     "data": {
      "image/png": "[encoded data removed]",
      "text/plain": [
       "<Figure size 432x288 with 1 Axes>"
      ]
     },
     "metadata": {
      "needs_background": "light"
     },
     "output_type": "display_data"
    }
   ],
   "source": [
    "churned_nonna_loc_og_t2t_mou_6 = cf[cf['churn'] ==1]\n",
    "plt.boxplot(churned_nonna_loc_og_t2t_mou_6['loc_og_t2t_mou_6'])\n",
    "np.median(churned_nonna_loc_og_t2t_mou_6['loc_og_t2t_mou_6'])"
   ]
  },
  {
   "cell_type": "code",
   "execution_count": 264,
   "metadata": {},
   "outputs": [
    {
     "data": {
      "text/plain": [
       "26.619999999999997"
      ]
     },
     "execution_count": 264,
     "metadata": {},
     "output_type": "execute_result"
    },
    {
     "data": {
      "image/png": "[encoded data removed]",
      "text/plain": [
       "<Figure size 432x288 with 1 Axes>"
      ]
     },
     "metadata": {
      "needs_background": "light"
     },
     "output_type": "display_data"
    }
   ],
   "source": [
    "churned_nonna_loc_og_t2t_mou_6 = cf[cf['churn'] ==0]\n",
    "plt.boxplot(churned_nonna_loc_og_t2t_mou_6['loc_og_t2t_mou_6'])\n",
    "np.median(churned_nonna_loc_og_t2t_mou_6['loc_og_t2t_mou_6'])"
   ]
  },
  {
   "cell_type": "code",
   "execution_count": 265,
   "metadata": {},
   "outputs": [
    {
     "name": "stdout",
     "output_type": "stream",
     "text": [
      "(542, 158)\n"
     ]
    },
    {
     "data": {
      "text/plain": [
       "152"
      ]
     },
     "execution_count": 265,
     "metadata": {},
     "output_type": "execute_result"
    }
   ],
   "source": [
    "cf2 = churn_dataset_filtered_train[churn_dataset_filtered_train['loc_og_t2t_mou_6'].isna()]\n",
    "#print(cf2.groupby('churn')['onnet_mou_6'].count())\n",
    "print(cf2.shape)\n",
    "sum(cf2['churn'])\n",
    "#Here 320 have churned which is considerable quite large when the dataset is imbalanced ,we must consider\n",
    "#imputing these values."
   ]
  },
  {
   "cell_type": "code",
   "execution_count": 266,
   "metadata": {},
   "outputs": [],
   "source": [
    "#impute the values of na's with their respective medians of groups of churned and unchurned\n",
    "#churn_dataset_filtered_train\n",
    "churn_dataset_filtered_train = ImputeMedian(churn_dataset_filtered_train,['loc_og_t2t_mou_6'])"
   ]
  },
  {
   "cell_type": "code",
   "execution_count": 267,
   "metadata": {},
   "outputs": [
    {
     "data": {
      "text/plain": [
       "87.32549920113934"
      ]
     },
     "execution_count": 267,
     "metadata": {},
     "output_type": "execute_result"
    }
   ],
   "source": [
    "cf = churn_dataset_filtered_train[~churn_dataset_filtered_train['loc_og_t2t_mou_7'].isna()]\n",
    "cf['loc_og_t2t_mou_7'].mean()"
   ]
  },
  {
   "cell_type": "code",
   "execution_count": 268,
   "metadata": {},
   "outputs": [
    {
     "data": {
      "text/plain": [
       "10.96"
      ]
     },
     "execution_count": 268,
     "metadata": {},
     "output_type": "execute_result"
    },
    {
     "data": {
      "image/png": "[encoded data removed]",
      "text/plain": [
       "<Figure size 432x288 with 1 Axes>"
      ]
     },
     "metadata": {
      "needs_background": "light"
     },
     "output_type": "display_data"
    }
   ],
   "source": [
    "notna_churn_loc_og_t2t_mou_7 = cf[(cf['churn']==1)]\n",
    "\n",
    "plt.boxplot(notna_churn_loc_og_t2t_mou_7['loc_og_t2t_mou_7'])\n",
    "np.median(notna_churn_loc_og_t2t_mou_7['loc_og_t2t_mou_7'])"
   ]
  },
  {
   "cell_type": "code",
   "execution_count": 269,
   "metadata": {},
   "outputs": [
    {
     "data": {
      "text/plain": [
       "27.415"
      ]
     },
     "execution_count": 269,
     "metadata": {},
     "output_type": "execute_result"
    },
    {
     "data": {
      "image/png": "[encoded data removed]",
      "text/plain": [
       "<Figure size 432x288 with 1 Axes>"
      ]
     },
     "metadata": {
      "needs_background": "light"
     },
     "output_type": "display_data"
    }
   ],
   "source": [
    "notna_churn_loc_og_t2t_mou_7 = cf[(cf['churn']==0)]\n",
    "\n",
    "plt.boxplot(notna_churn_loc_og_t2t_mou_7['loc_og_t2t_mou_7'])\n",
    "np.median(notna_churn_loc_og_t2t_mou_7['loc_og_t2t_mou_7'])"
   ]
  },
  {
   "cell_type": "code",
   "execution_count": 270,
   "metadata": {},
   "outputs": [
    {
     "name": "stdout",
     "output_type": "stream",
     "text": [
      "(536, 158)\n",
      "(214, 158)\n",
      "(322, 158)\n"
     ]
    }
   ],
   "source": [
    "#Print the count churns and non churns when there are nas\n",
    "cf2 = churn_dataset_filtered_train[churn_dataset_filtered_train['loc_og_t2t_mou_7'].isna()]\n",
    "print(cf2.shape)\n",
    "print(cf2[cf2['churn']==1].shape)\n",
    "print(cf2[cf2['churn']==0].shape)"
   ]
  },
  {
   "cell_type": "code",
   "execution_count": 271,
   "metadata": {},
   "outputs": [],
   "source": [
    "#churn_dataset_filtered_train.loc[((churn_dataset_filtered_train['churn'] ==1) &(churn_dataset_filtered_train['loc_og_t2t_mou_7'].isna())),['loc_og_t2t_mou_7']] =8.23\n",
    "#churn_dataset_filtered_train.loc[((churn_dataset_filtered_train['churn'] ==0 )&(churn_dataset_filtered_train['loc_og_t2t_mou_7'].isna())),['loc_og_t2t_mou_7']] =29.96\n",
    "churn_dataset_filtered_train = ImputeMedian(churn_dataset_filtered_train,['loc_og_t2t_mou_7'])\n"
   ]
  },
  {
   "cell_type": "code",
   "execution_count": 272,
   "metadata": {},
   "outputs": [
    {
     "name": "stdout",
     "output_type": "stream",
     "text": [
      "757.4200000000003\n",
      "0.0\n"
     ]
    }
   ],
   "source": [
    "#The same approach goes with outlier treatment too\n",
    "cf = churn_dataset_filtered_train['loc_og_t2t_mou_7']\n",
    "#cf =churn_dataset_filtered_train[(churn_dataset_filtered_train['churn'] ==1),['loc_og_t2t_mou_6']]\n",
    "print(np.percentile(list(cf),98.5))\n",
    "print(np.percentile(list(cf),1.5))"
   ]
  },
  {
   "cell_type": "code",
   "execution_count": 273,
   "metadata": {},
   "outputs": [],
   "source": [
    "#churn_dataset_filtered_train = churn_dataset_filtered_train[churn_dataset_filtered_train['loc_og_t2t_mou_7']<np.percentile(list(cf),98.5)]\n",
    "#churn_dataset_filtered_train.shape"
   ]
  },
  {
   "cell_type": "code",
   "execution_count": 274,
   "metadata": {},
   "outputs": [
    {
     "data": {
      "text/plain": [
       "81.33583961641112"
      ]
     },
     "execution_count": 274,
     "metadata": {},
     "output_type": "execute_result"
    }
   ],
   "source": [
    "cf = churn_dataset_filtered_train[~churn_dataset_filtered_train['loc_og_t2t_mou_8'].isna()]\n",
    "cf['loc_og_t2t_mou_8'].mean()"
   ]
  },
  {
   "cell_type": "code",
   "execution_count": 275,
   "metadata": {},
   "outputs": [
    {
     "data": {
      "text/plain": [
       "1.02"
      ]
     },
     "execution_count": 275,
     "metadata": {},
     "output_type": "execute_result"
    },
    {
     "data": {
      "image/png": "[encoded data removed]",
      "text/plain": [
       "<Figure size 432x288 with 1 Axes>"
      ]
     },
     "metadata": {
      "needs_background": "light"
     },
     "output_type": "display_data"
    }
   ],
   "source": [
    "notna_churn_loc_og_t2t_mou_8 = cf[(cf['churn']==1)]\n",
    "\n",
    "plt.boxplot(notna_churn_loc_og_t2t_mou_8['loc_og_t2t_mou_8'])\n",
    "np.median(notna_churn_loc_og_t2t_mou_8['loc_og_t2t_mou_8'])"
   ]
  },
  {
   "cell_type": "code",
   "execution_count": 276,
   "metadata": {},
   "outputs": [
    {
     "data": {
      "text/plain": [
       "25.48"
      ]
     },
     "execution_count": 276,
     "metadata": {},
     "output_type": "execute_result"
    },
    {
     "data": {
      "image/png": "[encoded data removed]",
      "text/plain": [
       "<Figure size 432x288 with 1 Axes>"
      ]
     },
     "metadata": {
      "needs_background": "light"
     },
     "output_type": "display_data"
    }
   ],
   "source": [
    "notna_churn_loc_og_t2t_mou_8 = cf[(cf['churn']==0)]\n",
    "\n",
    "plt.boxplot(notna_churn_loc_og_t2t_mou_8['loc_og_t2t_mou_8'])\n",
    "np.median(notna_churn_loc_og_t2t_mou_8['loc_og_t2t_mou_8'])"
   ]
  },
  {
   "cell_type": "code",
   "execution_count": 277,
   "metadata": {},
   "outputs": [
    {
     "name": "stdout",
     "output_type": "stream",
     "text": [
      "(1172, 158)\n",
      "(793, 158)\n",
      "(379, 158)\n"
     ]
    }
   ],
   "source": [
    "#Print the count churns and non churns when there are nas\n",
    "cf2 = churn_dataset_filtered_train[churn_dataset_filtered_train['loc_og_t2t_mou_8'].isna()]\n",
    "print(cf2.shape)\n",
    "print(cf2[cf2['churn']==1].shape)\n",
    "print(cf2[cf2['churn']==0].shape)"
   ]
  },
  {
   "cell_type": "code",
   "execution_count": 278,
   "metadata": {},
   "outputs": [],
   "source": [
    "#churn_dataset_filtered_train.loc[((churn_dataset_filtered_train['churn'] ==1) &(churn_dataset_filtered_train['loc_og_t2t_mou_8'].isna())),['loc_og_t2t_mou_8']] =0.02\n",
    "#churn_dataset_filtered_train.loc[((churn_dataset_filtered_train['churn'] ==0 )&(churn_dataset_filtered_train['loc_og_t2t_mou_8'].isna())),['loc_og_t2t_mou_8']] =28.76\n",
    "churn_dataset_filtered_train = ImputeMedian(churn_dataset_filtered_train,['loc_og_t2t_mou_8'])"
   ]
  },
  {
   "cell_type": "code",
   "execution_count": 279,
   "metadata": {},
   "outputs": [
    {
     "name": "stdout",
     "output_type": "stream",
     "text": [
      "670.9804000000013\n",
      "0.0\n"
     ]
    }
   ],
   "source": [
    "#The same approach goes with outlier treatment too\n",
    "cf = churn_dataset_filtered_train['loc_og_t2t_mou_8']\n",
    "#cf =churn_dataset_filtered_train[(churn_dataset_filtered_train['churn'] ==1),['loc_og_t2t_mou_6']]\n",
    "print(np.percentile(list(cf),98.5))\n",
    "print(np.percentile(list(cf),1.5))"
   ]
  },
  {
   "cell_type": "code",
   "execution_count": 280,
   "metadata": {},
   "outputs": [],
   "source": [
    "#churn_dataset_filtered_train = churn_dataset_filtered_train[churn_dataset_filtered_train['loc_og_t2t_mou_8']<np.percentile(list(cf),98.5)]\n",
    "#churn_dataset_filtered_train.shape"
   ]
  },
  {
   "cell_type": "code",
   "execution_count": 281,
   "metadata": {},
   "outputs": [
    {
     "data": {
      "text/plain": [
       "166.31909251640516"
      ]
     },
     "execution_count": 281,
     "metadata": {},
     "output_type": "execute_result"
    }
   ],
   "source": [
    "#Now lets take the next attribute log_og_t2m_mou_6 and check non na values of it\n",
    "cf = churn_dataset_filtered_train[~churn_dataset_filtered_train['loc_og_t2m_mou_6'].isna()]\n",
    "cf['loc_og_t2m_mou_6'].mean()"
   ]
  },
  {
   "cell_type": "code",
   "execution_count": 282,
   "metadata": {},
   "outputs": [
    {
     "data": {
      "text/plain": [
       "45.34"
      ]
     },
     "execution_count": 282,
     "metadata": {},
     "output_type": "execute_result"
    },
    {
     "data": {
      "image/png": "[encoded data removed]",
      "text/plain": [
       "<Figure size 432x288 with 1 Axes>"
      ]
     },
     "metadata": {
      "needs_background": "light"
     },
     "output_type": "display_data"
    }
   ],
   "source": [
    "notna_churn_loc_og_t2m_mou_6 = cf[(cf['churn']==1)]\n",
    "\n",
    "plt.boxplot(notna_churn_loc_og_t2m_mou_6['loc_og_t2m_mou_6'])\n",
    "np.median(notna_churn_loc_og_t2m_mou_6['loc_og_t2m_mou_6'])"
   ]
  },
  {
   "cell_type": "code",
   "execution_count": 283,
   "metadata": {},
   "outputs": [
    {
     "data": {
      "text/plain": [
       "83.57"
      ]
     },
     "execution_count": 283,
     "metadata": {},
     "output_type": "execute_result"
    },
    {
     "data": {
      "image/png": "[encoded data removed]",
      "text/plain": [
       "<Figure size 432x288 with 1 Axes>"
      ]
     },
     "metadata": {
      "needs_background": "light"
     },
     "output_type": "display_data"
    }
   ],
   "source": [
    "notna_churn_loc_og_t2m_mou_6 = cf[(cf['churn']==0)]\n",
    "\n",
    "plt.boxplot(notna_churn_loc_og_t2m_mou_6['loc_og_t2m_mou_6'])\n",
    "np.median(notna_churn_loc_og_t2m_mou_6['loc_og_t2m_mou_6'])"
   ]
  },
  {
   "cell_type": "code",
   "execution_count": 284,
   "metadata": {},
   "outputs": [
    {
     "name": "stdout",
     "output_type": "stream",
     "text": [
      "(542, 158)\n",
      "(152, 158)\n",
      "(390, 158)\n"
     ]
    }
   ],
   "source": [
    "#Print the count churns and non churns when there are nas\n",
    "cf2 = churn_dataset_filtered_train[churn_dataset_filtered_train['loc_og_t2m_mou_6'].isna()]\n",
    "print(cf2.shape)\n",
    "print(cf2[cf2['churn']==1].shape)\n",
    "print(cf2[cf2['churn']==0].shape)"
   ]
  },
  {
   "cell_type": "markdown",
   "metadata": {},
   "source": [
    "Here we see that they are almost equal the number of churns and non churns in case of nas.We can impute them respectively with\n",
    "the median of their classes as the values for loc_og_t2m_mou_6 are highly skewed"
   ]
  },
  {
   "cell_type": "code",
   "execution_count": 285,
   "metadata": {},
   "outputs": [],
   "source": [
    "#churn_dataset_filtered_train.loc[((churn_dataset_filtered_train['churn'] ==1) &(churn_dataset_filtered_train['loc_og_t2m_mou_6'].isna())),['loc_og_t2m_mou_6']] =44.98\n",
    "#churn_dataset_filtered_train.loc[((churn_dataset_filtered_train['churn'] ==0 )&(churn_dataset_filtered_train['loc_og_t2m_mou_6'].isna())),['loc_og_t2m_mou_6']] =91.33\n",
    "churn_dataset_filtered_train = ImputeMedian(churn_dataset_filtered_train,['loc_og_t2m_mou_6'])"
   ]
  },
  {
   "cell_type": "code",
   "execution_count": 286,
   "metadata": {},
   "outputs": [
    {
     "name": "stdout",
     "output_type": "stream",
     "text": [
      "989.8800000000011\n",
      "0.0\n"
     ]
    }
   ],
   "source": [
    "#The same approach goes with outlier treatment too\n",
    "cf = churn_dataset_filtered_train['loc_og_t2m_mou_6']\n",
    "#cf =churn_dataset_filtered_train[(churn_dataset_filtered_train['churn'] ==1),['loc_og_t2t_mou_6']]\n",
    "print(np.percentile(list(cf),98.5))\n",
    "print(np.percentile(list(cf),1.5))"
   ]
  },
  {
   "cell_type": "code",
   "execution_count": 287,
   "metadata": {},
   "outputs": [],
   "source": [
    "#churn_dataset_filtered_train = churn_dataset_filtered_train[churn_dataset_filtered_train['loc_og_t2m_mou_6']<np.percentile(list(cf),98.5)]\n",
    "#churn_dataset_filtered_train.shape"
   ]
  },
  {
   "cell_type": "code",
   "execution_count": 288,
   "metadata": {},
   "outputs": [],
   "source": [
    "#Since there are many attributes we can repeat the process iteratively for all of them in a loop\n",
    "attributes = ['loc_og_t2m_mou_7','loc_og_t2m_mou_8','loc_og_t2f_mou_6','loc_og_t2f_mou_7','loc_og_t2f_mou_8']\n",
    "for attribute in attributes:\n",
    "    cf = churn_dataset_filtered_train[~churn_dataset_filtered_train[attribute].isna()]\n",
    "    notna_notchurn_loc_og_t2m_mou = cf[(cf['churn']==0)]\n",
    "    notna_churn_loc_og_t2m_mou = cf[(cf['churn']==1)]\n",
    "    churn_dataset_filtered_train.loc[((churn_dataset_filtered_train['churn'] ==1) &(churn_dataset_filtered_train[attribute].isna())),[attribute]]=np.median(notna_churn_loc_og_t2m_mou[attribute])\n",
    "    churn_dataset_filtered_train.loc[((churn_dataset_filtered_train['churn'] ==0 )&(churn_dataset_filtered_train[attribute].isna())),[attribute]]=np.median(notna_notchurn_loc_og_t2m_mou[attribute])\n",
    "    cf2 = churn_dataset_filtered_train[attribute]\n",
    "    #churn_dataset_filtered_train = churn_dataset_filtered_train[churn_dataset_filtered_train[attribute]<np.percentile(list(cf2),98.5)]"
   ]
  },
  {
   "cell_type": "code",
   "execution_count": 289,
   "metadata": {},
   "outputs": [
    {
     "name": "stdout",
     "output_type": "stream",
     "text": [
      "0.0\n",
      "0.0\n"
     ]
    },
    {
     "data": {
      "image/png": "[encoded data removed]",
      "text/plain": [
       "<Figure size 432x288 with 1 Axes>"
      ]
     },
     "metadata": {
      "needs_background": "light"
     },
     "output_type": "display_data"
    }
   ],
   "source": [
    "cf = churn_dataset_filtered_train[~churn_dataset_filtered_train['loc_og_t2c_mou_6'].isna()]\n",
    "notna_notchurn_loc_og_t2c_mou = cf[(cf['churn']==0)]\n",
    "notna_churn_loc_og_t2c_mou = cf[(cf['churn']==1)]\n",
    "plt.boxplot(notna_notchurn_loc_og_t2c_mou['loc_og_t2c_mou_6'])\n",
    "print(np.median(notna_notchurn_loc_og_t2c_mou['loc_og_t2c_mou_6']))\n",
    "plt.boxplot(notna_churn_loc_og_t2c_mou['loc_og_t2c_mou_6'])\n",
    "print(np.median(notna_churn_loc_og_t2c_mou['loc_og_t2c_mou_6']))"
   ]
  },
  {
   "cell_type": "code",
   "execution_count": 290,
   "metadata": {},
   "outputs": [
    {
     "name": "stdout",
     "output_type": "stream",
     "text": [
      "1.6001666052340802\n",
      "1.6811617711530056\n"
     ]
    }
   ],
   "source": [
    "print(np.mean(notna_notchurn_loc_og_t2c_mou['loc_og_t2c_mou_6']))\n",
    "print(np.mean(notna_churn_loc_og_t2c_mou['loc_og_t2c_mou_6']))"
   ]
  },
  {
   "cell_type": "markdown",
   "metadata": {},
   "source": [
    "As we see both mean and median is more or less similar close to zero and 1 ,this column can be dropped off,however the number\n",
    "of times the person makes calls to call center can be determining factor for churn as if the people are not happy with service\n",
    "they frequently call the call center,we can let the model decide on this.\n"
   ]
  },
  {
   "cell_type": "code",
   "execution_count": 291,
   "metadata": {},
   "outputs": [],
   "source": [
    "attributes = ['loc_og_t2c_mou_6','loc_og_t2c_mou_7','loc_og_t2c_mou_8']"
   ]
  },
  {
   "cell_type": "code",
   "execution_count": 292,
   "metadata": {},
   "outputs": [],
   "source": [
    "#We observe that the distribution is more or less similar for other month calls to call center,hence they can be imputed similarly\n",
    "churn_dataset_filtered_train = ImputeMedian(churn_dataset_filtered_train,attributes)"
   ]
  },
  {
   "cell_type": "code",
   "execution_count": 293,
   "metadata": {},
   "outputs": [
    {
     "data": {
      "text/plain": [
       "(29953, 155)"
      ]
     },
     "execution_count": 293,
     "metadata": {},
     "output_type": "execute_result"
    }
   ],
   "source": [
    "#Further we can drop the attributes corresponding to total calls,as they are just the sum of columns corresponding to ouutgoing calls\n",
    "churn_dataset_filtered_train = churn_dataset_filtered_train.drop(['loc_og_mou_6','loc_og_mou_7','loc_og_mou_8'],axis = 1)\n",
    "#churn_dataset_filtered_train['log_og_mou_6'].head()\n",
    "churn_dataset_filtered_train.shape"
   ]
  },
  {
   "cell_type": "markdown",
   "metadata": {},
   "source": [
    "Now we can have a look at std outgoing calls"
   ]
  },
  {
   "cell_type": "code",
   "execution_count": 294,
   "metadata": {},
   "outputs": [
    {
     "data": {
      "image/png": "[encoded data removed]",
      "text/plain": [
       "<Figure size 432x288 with 1 Axes>"
      ]
     },
     "metadata": {
      "needs_background": "light"
     },
     "output_type": "display_data"
    },
    {
     "name": "stdout",
     "output_type": "stream",
     "text": [
      "31.13\n"
     ]
    },
    {
     "data": {
      "image/png": "[encoded data removed]",
      "text/plain": [
       "<Figure size 432x288 with 1 Axes>"
      ]
     },
     "metadata": {
      "needs_background": "light"
     },
     "output_type": "display_data"
    },
    {
     "name": "stdout",
     "output_type": "stream",
     "text": [
      "2.61\n"
     ]
    }
   ],
   "source": [
    "cf = churn_dataset_filtered_train[~churn_dataset_filtered_train['std_og_t2t_mou_6'].isna()]\n",
    "churned_std_og_t2t = cf[cf['churn'] ==1]\n",
    "nonchurned_std_og_t2t = cf[cf['churn'] ==0]\n",
    "plt.boxplot(churned_std_og_t2t['std_og_t2t_mou_6'])\n",
    "plt.show()\n",
    "print(np.median(churned_std_og_t2t['std_og_t2t_mou_6']))\n",
    "plt.boxplot(nonchurned_std_og_t2t['std_og_t2t_mou_6'])\n",
    "plt.show()\n",
    "print(np.median(nonchurned_std_og_t2t['std_og_t2t_mou_6']))"
   ]
  },
  {
   "cell_type": "markdown",
   "metadata": {},
   "source": [
    "This is interesting contrary to local calls the churned users have higher std usage for outgoing calls of this category.\n",
    "Lets check for std calls of other categories too"
   ]
  },
  {
   "cell_type": "code",
   "execution_count": 295,
   "metadata": {},
   "outputs": [
    {
     "data": {
      "image/png": "[encoded data removed]",
      "text/plain": [
       "<Figure size 432x288 with 1 Axes>"
      ]
     },
     "metadata": {
      "needs_background": "light"
     },
     "output_type": "display_data"
    },
    {
     "name": "stdout",
     "output_type": "stream",
     "text": [
      "15.71\n"
     ]
    },
    {
     "data": {
      "image/png": "[encoded data removed]",
      "text/plain": [
       "<Figure size 432x288 with 1 Axes>"
      ]
     },
     "metadata": {
      "needs_background": "light"
     },
     "output_type": "display_data"
    },
    {
     "name": "stdout",
     "output_type": "stream",
     "text": [
      "2.83\n"
     ]
    }
   ],
   "source": [
    "cf = churn_dataset_filtered_train[~churn_dataset_filtered_train['std_og_t2t_mou_7'].isna()]\n",
    "churned_std_og_t2t = cf[cf['churn'] ==1]\n",
    "nonchurned_std_og_t2t = cf[cf['churn'] ==0]\n",
    "plt.boxplot(churned_std_og_t2t['std_og_t2t_mou_7'])\n",
    "plt.show()\n",
    "print(np.median(churned_std_og_t2t['std_og_t2t_mou_7']))\n",
    "plt.boxplot(nonchurned_std_og_t2t['std_og_t2t_mou_7'])\n",
    "plt.show()\n",
    "print(np.median(nonchurned_std_og_t2t['std_og_t2t_mou_7']))"
   ]
  },
  {
   "cell_type": "markdown",
   "metadata": {},
   "source": [
    "Again the same is true for month 7 too.We will now impute the missing the missing values with median for all 3 categories of months 6,7,8."
   ]
  },
  {
   "cell_type": "code",
   "execution_count": 296,
   "metadata": {},
   "outputs": [],
   "source": [
    "attributes = ['std_og_t2t_mou_6','std_og_t2t_mou_7','std_og_t2t_mou_8']\n",
    "churn_dataset_filtered_train = ImputeMedian(churn_dataset_filtered_train,attributes)"
   ]
  },
  {
   "cell_type": "markdown",
   "metadata": {},
   "source": [
    "We missed out the analysis of local mobile to fixed line."
   ]
  },
  {
   "cell_type": "code",
   "execution_count": 297,
   "metadata": {},
   "outputs": [
    {
     "data": {
      "image/png": "[encoded data removed]",
      "text/plain": [
       "<Figure size 432x288 with 1 Axes>"
      ]
     },
     "metadata": {
      "needs_background": "light"
     },
     "output_type": "display_data"
    },
    {
     "name": "stdout",
     "output_type": "stream",
     "text": [
      "0.0\n"
     ]
    },
    {
     "data": {
      "image/png": "[encoded data removed]",
      "text/plain": [
       "<Figure size 432x288 with 1 Axes>"
      ]
     },
     "metadata": {
      "needs_background": "light"
     },
     "output_type": "display_data"
    },
    {
     "name": "stdout",
     "output_type": "stream",
     "text": [
      "0.26\n"
     ]
    }
   ],
   "source": [
    "cf = churn_dataset_filtered_train[~churn_dataset_filtered_train['loc_og_t2f_mou_6'].isna()]\n",
    "churned_std_og_t2t = cf[cf['churn'] ==1]\n",
    "nonchurned_std_og_t2t = cf[cf['churn'] ==0]\n",
    "plt.boxplot(churned_std_og_t2t['loc_og_t2f_mou_6'])\n",
    "plt.show()\n",
    "print(np.median(churned_std_og_t2t['loc_og_t2f_mou_6']))\n",
    "plt.boxplot(nonchurned_std_og_t2t['loc_og_t2f_mou_6'])\n",
    "plt.show()\n",
    "print(np.median(nonchurned_std_og_t2t['loc_og_t2f_mou_6']))"
   ]
  },
  {
   "cell_type": "code",
   "execution_count": 298,
   "metadata": {},
   "outputs": [
    {
     "name": "stdout",
     "output_type": "stream",
     "text": [
      "3.6239457459926014\n",
      "6.5928913517440515\n"
     ]
    }
   ],
   "source": [
    "print(np.mean(churned_std_og_t2t['loc_og_t2f_mou_6']))\n",
    "print(np.mean(nonchurned_std_og_t2t['loc_og_t2f_mou_6']))"
   ]
  },
  {
   "cell_type": "markdown",
   "metadata": {},
   "source": [
    "There does not seem to be much difference in the means and medians of churns and non churns in case of local outgoing calls to same operator"
   ]
  },
  {
   "cell_type": "code",
   "execution_count": 299,
   "metadata": {},
   "outputs": [
    {
     "data": {
      "image/png": "[encoded data removed]",
      "text/plain": [
       "<Figure size 432x288 with 1 Axes>"
      ]
     },
     "metadata": {
      "needs_background": "light"
     },
     "output_type": "display_data"
    },
    {
     "name": "stdout",
     "output_type": "stream",
     "text": [
      "0.0\n"
     ]
    },
    {
     "data": {
      "image/png": "[encoded data removed]",
      "text/plain": [
       "<Figure size 432x288 with 1 Axes>"
      ]
     },
     "metadata": {
      "needs_background": "light"
     },
     "output_type": "display_data"
    },
    {
     "name": "stdout",
     "output_type": "stream",
     "text": [
      "0.33\n"
     ]
    }
   ],
   "source": [
    "cf = churn_dataset_filtered_train[~churn_dataset_filtered_train['loc_og_t2f_mou_7'].isna()]\n",
    "churned_std_og_t2t = cf[cf['churn'] ==1]\n",
    "nonchurned_std_og_t2t = cf[cf['churn'] ==0]\n",
    "plt.boxplot(churned_std_og_t2t['loc_og_t2f_mou_7'])\n",
    "plt.show()\n",
    "print(np.median(churned_std_og_t2t['loc_og_t2f_mou_7']))\n",
    "plt.boxplot(nonchurned_std_og_t2t['loc_og_t2f_mou_7'])\n",
    "plt.show()\n",
    "print(np.median(nonchurned_std_og_t2t['loc_og_t2f_mou_7']))"
   ]
  },
  {
   "cell_type": "code",
   "execution_count": 300,
   "metadata": {},
   "outputs": [
    {
     "data": {
      "image/png": "[encoded data removed]",
      "text/plain": [
       "<Figure size 432x288 with 1 Axes>"
      ]
     },
     "metadata": {
      "needs_background": "light"
     },
     "output_type": "display_data"
    },
    {
     "name": "stdout",
     "output_type": "stream",
     "text": [
      "0.0\n"
     ]
    },
    {
     "data": {
      "image/png": "[encoded data removed]",
      "text/plain": [
       "<Figure size 432x288 with 1 Axes>"
      ]
     },
     "metadata": {
      "needs_background": "light"
     },
     "output_type": "display_data"
    },
    {
     "name": "stdout",
     "output_type": "stream",
     "text": [
      "0.25\n"
     ]
    }
   ],
   "source": [
    "cf = churn_dataset_filtered_train[~churn_dataset_filtered_train['loc_og_t2f_mou_8'].isna()]\n",
    "churned_std_og_t2t = cf[cf['churn'] ==1]\n",
    "nonchurned_std_og_t2t = cf[cf['churn'] ==0]\n",
    "plt.boxplot(churned_std_og_t2t['loc_og_t2f_mou_8'])\n",
    "plt.show()\n",
    "print(np.median(churned_std_og_t2t['loc_og_t2f_mou_8']))\n",
    "plt.boxplot(nonchurned_std_og_t2t['loc_og_t2f_mou_8'])\n",
    "plt.show()\n",
    "print(np.median(nonchurned_std_og_t2t['loc_og_t2f_mou_8']))"
   ]
  },
  {
   "cell_type": "markdown",
   "metadata": {},
   "source": [
    "We can drop the columns corresponding to fixed lines of same ooperator as there is indeed not\n",
    "much difference in estimates of outgoing calls to fixed lines within same operator"
   ]
  },
  {
   "cell_type": "code",
   "execution_count": 301,
   "metadata": {},
   "outputs": [],
   "source": [
    "churn_dataset_filtered_train = churn_dataset_filtered_train.drop(['loc_og_t2f_mou_8','loc_og_t2f_mou_7','loc_og_t2f_mou_6'],axis = 1)"
   ]
  },
  {
   "cell_type": "code",
   "execution_count": 302,
   "metadata": {},
   "outputs": [
    {
     "data": {
      "image/png": "[encoded data removed]",
      "text/plain": [
       "<Figure size 432x288 with 1 Axes>"
      ]
     },
     "metadata": {
      "needs_background": "light"
     },
     "output_type": "display_data"
    },
    {
     "name": "stdout",
     "output_type": "stream",
     "text": [
      "64.49\n"
     ]
    },
    {
     "data": {
      "image/png": "[encoded data removed]",
      "text/plain": [
       "<Figure size 432x288 with 1 Axes>"
      ]
     },
     "metadata": {
      "needs_background": "light"
     },
     "output_type": "display_data"
    },
    {
     "name": "stdout",
     "output_type": "stream",
     "text": [
      "16.21\n"
     ]
    }
   ],
   "source": [
    "cf = churn_dataset_filtered_train[~churn_dataset_filtered_train['std_og_t2m_mou_6'].isna()]\n",
    "churned_std_og_t2t = cf[cf['churn'] ==1]\n",
    "nonchurned_std_og_t2t = cf[cf['churn'] ==0]\n",
    "plt.boxplot(churned_std_og_t2t['std_og_t2m_mou_6'])\n",
    "plt.show()\n",
    "print(np.median(churned_std_og_t2t['std_og_t2m_mou_6']))\n",
    "plt.boxplot(nonchurned_std_og_t2t['std_og_t2m_mou_6'])\n",
    "plt.show()\n",
    "print(np.median(nonchurned_std_og_t2t['std_og_t2m_mou_6']))"
   ]
  },
  {
   "cell_type": "markdown",
   "metadata": {},
   "source": [
    "Here we see indeed there is difference in median values of outgoing std calls to other operators\n",
    "between those who have churned and those not churned"
   ]
  },
  {
   "cell_type": "code",
   "execution_count": 303,
   "metadata": {},
   "outputs": [],
   "source": [
    "#We can impute missing values with the median for all outgoing std to other lines\n",
    "cf = churn_dataset_filtered_train[churn_dataset_filtered_train['std_og_t2m_mou_6'].isna()]\n",
    "#cf.shape\n",
    "attributes = ['std_og_t2m_mou_6','std_og_t2m_mou_7','std_og_t2m_mou_8']\n",
    "churn_dataset_filtered_train = ImputeMedian(churn_dataset_filtered_train,attributes)"
   ]
  },
  {
   "cell_type": "code",
   "execution_count": 304,
   "metadata": {},
   "outputs": [
    {
     "data": {
      "image/png": "[encoded data removed]",
      "text/plain": [
       "<Figure size 432x288 with 1 Axes>"
      ]
     },
     "metadata": {
      "needs_background": "light"
     },
     "output_type": "display_data"
    },
    {
     "name": "stdout",
     "output_type": "stream",
     "text": [
      "0.0\n"
     ]
    },
    {
     "data": {
      "image/png": "[encoded data removed]",
      "text/plain": [
       "<Figure size 432x288 with 1 Axes>"
      ]
     },
     "metadata": {
      "needs_background": "light"
     },
     "output_type": "display_data"
    },
    {
     "name": "stdout",
     "output_type": "stream",
     "text": [
      "0.0\n"
     ]
    }
   ],
   "source": [
    "cf = churn_dataset_filtered_train[~churn_dataset_filtered_train['std_og_t2f_mou_6'].isna()]\n",
    "churned_std_og_t2t = cf[cf['churn'] ==1]\n",
    "nonchurned_std_og_t2t = cf[cf['churn'] ==0]\n",
    "plt.boxplot(churned_std_og_t2t['std_og_t2f_mou_6'])\n",
    "plt.show()\n",
    "print(np.median(churned_std_og_t2t['std_og_t2f_mou_6']))\n",
    "plt.boxplot(nonchurned_std_og_t2t['std_og_t2f_mou_6'])\n",
    "plt.show()\n",
    "print(np.median(nonchurned_std_og_t2t['std_og_t2f_mou_6']))"
   ]
  },
  {
   "cell_type": "code",
   "execution_count": 305,
   "metadata": {},
   "outputs": [
    {
     "name": "stdout",
     "output_type": "stream",
     "text": [
      "1.884336527828988\n",
      "0.0\n"
     ]
    }
   ],
   "source": [
    "print(np.mean(nonchurned_std_og_t2t['std_og_t2f_mou_6']))\n",
    "print(np.median(nonchurned_std_og_t2t['std_og_t2f_mou_6']))"
   ]
  },
  {
   "cell_type": "markdown",
   "metadata": {},
   "source": [
    "Although the distribution of churn and not churn seems to be more or less similar there is slight difference in their mean.\n",
    "We can consider this for our model and let model decide if the variable is significant"
   ]
  },
  {
   "cell_type": "code",
   "execution_count": 306,
   "metadata": {},
   "outputs": [],
   "source": [
    "#We can do this for all months of std_t2f 6,7,8\n",
    "attributes = ['std_og_t2f_mou_6','std_og_t2f_mou_7','std_og_t2f_mou_8']\n",
    "churn_dataset_filtered_train = ImputeMedian(churn_dataset_filtered_train,attributes)"
   ]
  },
  {
   "cell_type": "code",
   "execution_count": 307,
   "metadata": {},
   "outputs": [
    {
     "data": {
      "image/png": "[encoded data removed]",
      "text/plain": [
       "<Figure size 432x288 with 1 Axes>"
      ]
     },
     "metadata": {
      "needs_background": "light"
     },
     "output_type": "display_data"
    },
    {
     "name": "stdout",
     "output_type": "stream",
     "text": [
      "0.0\n",
      "1.225565145910399\n"
     ]
    },
    {
     "data": {
      "image/png": "[encoded data removed]",
      "text/plain": [
       "<Figure size 432x288 with 1 Axes>"
      ]
     },
     "metadata": {
      "needs_background": "light"
     },
     "output_type": "display_data"
    },
    {
     "name": "stdout",
     "output_type": "stream",
     "text": [
      "0.0\n",
      "1.8576326308139697\n"
     ]
    },
    {
     "data": {
      "image/png": "[encoded data removed]",
      "text/plain": [
       "<Figure size 432x288 with 1 Axes>"
      ]
     },
     "metadata": {
      "needs_background": "light"
     },
     "output_type": "display_data"
    },
    {
     "name": "stdout",
     "output_type": "stream",
     "text": [
      "0.0\n",
      "1.0870941224825337\n"
     ]
    },
    {
     "data": {
      "image/png": "[encoded data removed]",
      "text/plain": [
       "<Figure size 432x288 with 1 Axes>"
      ]
     },
     "metadata": {
      "needs_background": "light"
     },
     "output_type": "display_data"
    },
    {
     "name": "stdout",
     "output_type": "stream",
     "text": [
      "0.0\n",
      "1.8938971656976902\n"
     ]
    },
    {
     "data": {
      "image/png": "[encoded data removed]",
      "text/plain": [
       "<Figure size 432x288 with 1 Axes>"
      ]
     },
     "metadata": {
      "needs_background": "light"
     },
     "output_type": "display_data"
    },
    {
     "name": "stdout",
     "output_type": "stream",
     "text": [
      "0.0\n",
      "0.3312166050143856\n"
     ]
    },
    {
     "data": {
      "image/png": "[encoded data removed]",
      "text/plain": [
       "<Figure size 432x288 with 1 Axes>"
      ]
     },
     "metadata": {
      "needs_background": "light"
     },
     "output_type": "display_data"
    },
    {
     "name": "stdout",
     "output_type": "stream",
     "text": [
      "0.0\n",
      "1.6977409156976853\n"
     ]
    }
   ],
   "source": [
    "attributes = ['std_og_t2f_mou_6','std_og_t2f_mou_7','std_og_t2f_mou_8']\n",
    "BoxPlot(churn_dataset_filtered_train,attributes)\n",
    "#churn_dataset_filtered_train.columns"
   ]
  },
  {
   "cell_type": "code",
   "execution_count": 308,
   "metadata": {},
   "outputs": [
    {
     "data": {
      "text/plain": [
       "0.35"
      ]
     },
     "execution_count": 308,
     "metadata": {},
     "output_type": "execute_result"
    }
   ],
   "source": [
    "np.percentile(churn_dataset_filtered_train['std_og_t2f_mou_8'],87)\n"
   ]
  },
  {
   "cell_type": "markdown",
   "metadata": {},
   "source": [
    "We drop these columns as there is indeed some difference in the means atleast though most of the entries are 0 as we see uptill\n",
    "87 percentile the values are zeros"
   ]
  },
  {
   "cell_type": "code",
   "execution_count": 309,
   "metadata": {},
   "outputs": [],
   "source": [
    "churn_dataset_filtered_train = churn_dataset_filtered_train.drop(['std_og_t2f_mou_6','std_og_t2f_mou_7','std_og_t2f_mou_8'],axis = 1)"
   ]
  },
  {
   "cell_type": "markdown",
   "metadata": {},
   "source": [
    "Now lets look at the calls of std to call centers"
   ]
  },
  {
   "cell_type": "code",
   "execution_count": 310,
   "metadata": {},
   "outputs": [
    {
     "name": "stdout",
     "output_type": "stream",
     "text": [
      "0\n",
      "0\n",
      "0\n"
     ]
    }
   ],
   "source": [
    "attributes = ['std_og_t2c_mou_6','std_og_t2c_mou_7','std_og_t2c_mou_8']\n",
    "print(sum(churn_dataset_filtered_train['std_og_t2c_mou_6']>0))\n",
    "print(sum(churn_dataset_filtered_train['std_og_t2c_mou_7']>0))\n",
    "print(sum(churn_dataset_filtered_train['std_og_t2c_mou_8']>0))"
   ]
  },
  {
   "cell_type": "code",
   "execution_count": 311,
   "metadata": {},
   "outputs": [],
   "source": [
    "churn_dataset_filtered_train = churn_dataset_filtered_train.drop(attributes,axis = 1)"
   ]
  },
  {
   "cell_type": "code",
   "execution_count": 312,
   "metadata": {},
   "outputs": [
    {
     "data": {
      "image/png": "[encoded data removed]",
      "text/plain": [
       "<Figure size 432x288 with 1 Axes>"
      ]
     },
     "metadata": {
      "needs_background": "light"
     },
     "output_type": "display_data"
    },
    {
     "name": "stdout",
     "output_type": "stream",
     "text": [
      "0.0\n",
      "4.63994300745287\n"
     ]
    },
    {
     "data": {
      "image/png": "[encoded data removed]",
      "text/plain": [
       "<Figure size 432x288 with 1 Axes>"
      ]
     },
     "metadata": {
      "needs_background": "light"
     },
     "output_type": "display_data"
    },
    {
     "name": "stdout",
     "output_type": "stream",
     "text": [
      "0.0\n",
      "2.0112019904165233\n"
     ]
    },
    {
     "data": {
      "image/png": "[encoded data removed]",
      "text/plain": [
       "<Figure size 432x288 with 1 Axes>"
      ]
     },
     "metadata": {
      "needs_background": "light"
     },
     "output_type": "display_data"
    },
    {
     "name": "stdout",
     "output_type": "stream",
     "text": [
      "0.0\n",
      "4.63994300745287\n"
     ]
    },
    {
     "data": {
      "image/png": "[encoded data removed]",
      "text/plain": [
       "<Figure size 432x288 with 1 Axes>"
      ]
     },
     "metadata": {
      "needs_background": "light"
     },
     "output_type": "display_data"
    },
    {
     "name": "stdout",
     "output_type": "stream",
     "text": [
      "0.0\n",
      "2.0112019904165233\n"
     ]
    },
    {
     "data": {
      "image/png": "[encoded data removed]",
      "text/plain": [
       "<Figure size 432x288 with 1 Axes>"
      ]
     },
     "metadata": {
      "needs_background": "light"
     },
     "output_type": "display_data"
    },
    {
     "name": "stdout",
     "output_type": "stream",
     "text": [
      "0.0\n",
      "4.63994300745287\n"
     ]
    },
    {
     "data": {
      "image/png": "[encoded data removed]",
      "text/plain": [
       "<Figure size 432x288 with 1 Axes>"
      ]
     },
     "metadata": {
      "needs_background": "light"
     },
     "output_type": "display_data"
    },
    {
     "name": "stdout",
     "output_type": "stream",
     "text": [
      "0.0\n",
      "2.0112019904165233\n"
     ]
    }
   ],
   "source": [
    "attributes = ['isd_og_mou_6','isd_og_mou_6','isd_og_mou_6']\n",
    "BoxPlot(churn_dataset_filtered_train,attributes)"
   ]
  },
  {
   "cell_type": "markdown",
   "metadata": {},
   "source": [
    "Although the median is 0 for all 3 months in case isd outgoing calls,however is is some difference in the means.\n",
    "We can impute the data with median as it is quite skewed,isd calls are slightly higher in duration in case of churn\n"
   ]
  },
  {
   "cell_type": "code",
   "execution_count": 313,
   "metadata": {},
   "outputs": [],
   "source": [
    "attributes = ['isd_og_mou_6','isd_og_mou_7','isd_og_mou_8']\n",
    "churn_dataset_filtered_train = ImputeMedian(churn_dataset_filtered_train,attributes)"
   ]
  },
  {
   "cell_type": "code",
   "execution_count": 314,
   "metadata": {},
   "outputs": [
    {
     "data": {
      "text/plain": [
       "(29953, 146)"
      ]
     },
     "execution_count": 314,
     "metadata": {},
     "output_type": "execute_result"
    }
   ],
   "source": [
    "churn_dataset_filtered_train.shape"
   ]
  },
  {
   "cell_type": "markdown",
   "metadata": {},
   "source": [
    "Now lets check the special calls distributions"
   ]
  },
  {
   "cell_type": "code",
   "execution_count": 315,
   "metadata": {},
   "outputs": [
    {
     "data": {
      "image/png": "[encoded data removed]",
      "text/plain": [
       "<Figure size 432x288 with 1 Axes>"
      ]
     },
     "metadata": {
      "needs_background": "light"
     },
     "output_type": "display_data"
    },
    {
     "name": "stdout",
     "output_type": "stream",
     "text": [
      "0.75\n",
      "7.674300745287139\n"
     ]
    },
    {
     "data": {
      "image/png": "[encoded data removed]",
      "text/plain": [
       "<Figure size 432x288 with 1 Axes>"
      ]
     },
     "metadata": {
      "needs_background": "light"
     },
     "output_type": "display_data"
    },
    {
     "name": "stdout",
     "output_type": "stream",
     "text": [
      "0.28\n",
      "5.785973461113038\n"
     ]
    },
    {
     "data": {
      "image/png": "[encoded data removed]",
      "text/plain": [
       "<Figure size 432x288 with 1 Axes>"
      ]
     },
     "metadata": {
      "needs_background": "light"
     },
     "output_type": "display_data"
    },
    {
     "name": "stdout",
     "output_type": "stream",
     "text": [
      "0.78\n",
      "8.053433979269935\n"
     ]
    },
    {
     "data": {
      "image/png": "[encoded data removed]",
      "text/plain": [
       "<Figure size 432x288 with 1 Axes>"
      ]
     },
     "metadata": {
      "needs_background": "light"
     },
     "output_type": "display_data"
    },
    {
     "name": "stdout",
     "output_type": "stream",
     "text": [
      "0.81\n",
      "7.1695297448340325\n"
     ]
    },
    {
     "data": {
      "image/png": "[encoded data removed]",
      "text/plain": [
       "<Figure size 432x288 with 1 Axes>"
      ]
     },
     "metadata": {
      "needs_background": "light"
     },
     "output_type": "display_data"
    },
    {
     "name": "stdout",
     "output_type": "stream",
     "text": [
      "0.0\n",
      "3.9994634146341457\n"
     ]
    },
    {
     "data": {
      "image/png": "[encoded data removed]",
      "text/plain": [
       "<Figure size 432x288 with 1 Axes>"
      ]
     },
     "metadata": {
      "needs_background": "light"
     },
     "output_type": "display_data"
    },
    {
     "name": "stdout",
     "output_type": "stream",
     "text": [
      "0.78\n",
      "6.985881139235673\n"
     ]
    }
   ],
   "source": [
    "attributes = ['spl_og_mou_6','spl_og_mou_7','spl_og_mou_8']\n",
    "BoxPlot(churn_dataset_filtered_train,attributes)"
   ]
  },
  {
   "cell_type": "code",
   "execution_count": 316,
   "metadata": {},
   "outputs": [],
   "source": [
    "#We see that the median is close to zero but there are differences in mean,not sure if its statistically significant we cant\n",
    "#let the model decide this.However lets impute the vallues with the median.\n",
    "churn_dataset_filtered_train = ImputeMedian(churn_dataset_filtered_train,attributes)\n"
   ]
  },
  {
   "cell_type": "markdown",
   "metadata": {},
   "source": [
    "We can drop the column og_others as it does not seem to add value in terms of business and it has most of the values as 0 upto 88 percentile"
   ]
  },
  {
   "cell_type": "code",
   "execution_count": 317,
   "metadata": {},
   "outputs": [
    {
     "data": {
      "text/plain": [
       "1.6799999999999997"
      ]
     },
     "execution_count": 317,
     "metadata": {},
     "output_type": "execute_result"
    }
   ],
   "source": [
    "cf = churn_dataset_filtered_train[~churn_dataset_filtered_train['og_others_6'].isna()]\n",
    "np.percentile(cf['og_others_6'],88)"
   ]
  },
  {
   "cell_type": "code",
   "execution_count": 318,
   "metadata": {},
   "outputs": [],
   "source": [
    "churn_dataset_filtered_train = churn_dataset_filtered_train.drop(['og_others_6','og_others_7','og_others_8'],axis = 1)"
   ]
  },
  {
   "cell_type": "markdown",
   "metadata": {},
   "source": [
    "We can also get rid of the variables corressponding to total minutes of outgoing calls ,as they are already redundant since we have the minutes for individual months"
   ]
  },
  {
   "cell_type": "code",
   "execution_count": 319,
   "metadata": {},
   "outputs": [],
   "source": [
    "churn_dataset_filtered_train = churn_dataset_filtered_train.drop(['total_og_mou_6','total_og_mou_7','total_og_mou_8'],axis = 1)"
   ]
  },
  {
   "cell_type": "markdown",
   "metadata": {},
   "source": [
    "Now lets check the columns corressponding to incoming calls of various types."
   ]
  },
  {
   "cell_type": "code",
   "execution_count": 320,
   "metadata": {},
   "outputs": [
    {
     "data": {
      "image/png": "[encoded data removed]",
      "text/plain": [
       "<Figure size 432x288 with 1 Axes>"
      ]
     },
     "metadata": {
      "needs_background": "light"
     },
     "output_type": "display_data"
    },
    {
     "name": "stdout",
     "output_type": "stream",
     "text": [
      "15.49\n",
      "50.32517316966239\n"
     ]
    },
    {
     "data": {
      "image/png": "[encoded data removed]",
      "text/plain": [
       "<Figure size 432x288 with 1 Axes>"
      ]
     },
     "metadata": {
      "needs_background": "light"
     },
     "output_type": "display_data"
    },
    {
     "name": "stdout",
     "output_type": "stream",
     "text": [
      "26.88\n",
      "68.09424364172307\n"
     ]
    },
    {
     "data": {
      "image/png": "[encoded data removed]",
      "text/plain": [
       "<Figure size 432x288 with 1 Axes>"
      ]
     },
     "metadata": {
      "needs_background": "light"
     },
     "output_type": "display_data"
    },
    {
     "name": "stdout",
     "output_type": "stream",
     "text": [
      "12.79\n",
      "39.115804416403684\n"
     ]
    },
    {
     "data": {
      "image/png": "[encoded data removed]",
      "text/plain": [
       "<Figure size 432x288 with 1 Axes>"
      ]
     },
     "metadata": {
      "needs_background": "light"
     },
     "output_type": "display_data"
    },
    {
     "name": "stdout",
     "output_type": "stream",
     "text": [
      "28.0\n",
      "70.25058349878488\n"
     ]
    },
    {
     "data": {
      "image/png": "[encoded data removed]",
      "text/plain": [
       "<Figure size 432x288 with 1 Axes>"
      ]
     },
     "metadata": {
      "needs_background": "light"
     },
     "output_type": "display_data"
    },
    {
     "name": "stdout",
     "output_type": "stream",
     "text": [
      "1.585\n",
      "18.163658536585405\n"
     ]
    },
    {
     "data": {
      "image/png": "[encoded data removed]",
      "text/plain": [
       "<Figure size 432x288 with 1 Axes>"
      ]
     },
     "metadata": {
      "needs_background": "light"
     },
     "output_type": "display_data"
    },
    {
     "name": "stdout",
     "output_type": "stream",
     "text": [
      "26.83\n",
      "68.05712317158356\n"
     ]
    }
   ],
   "source": [
    "attributes = ['loc_ic_t2t_mou_6','loc_ic_t2t_mou_7','loc_ic_t2t_mou_8']\n",
    "BoxPlot(churn_dataset_filtered_train,attributes)"
   ]
  },
  {
   "cell_type": "code",
   "execution_count": 321,
   "metadata": {},
   "outputs": [],
   "source": [
    "# We see there is a significant difference in the distributions of incoming calls within same operators\n",
    "#More ever the data is highly skewed,hence we can impute the missing values with medians.\n",
    "churn_dataset_filtered_train = ImputeMedian(churn_dataset_filtered_train,attributes)"
   ]
  },
  {
   "cell_type": "markdown",
   "metadata": {},
   "source": [
    "Now lets check the distribution of other incoming calls from operators"
   ]
  },
  {
   "cell_type": "code",
   "execution_count": 322,
   "metadata": {},
   "outputs": [
    {
     "data": {
      "image/png": "[encoded data removed]",
      "text/plain": [
       "<Figure size 432x288 with 1 Axes>"
      ]
     },
     "metadata": {
      "needs_background": "light"
     },
     "output_type": "display_data"
    },
    {
     "name": "stdout",
     "output_type": "stream",
     "text": [
      "54.09\n",
      "116.53852257781647\n"
     ]
    },
    {
     "data": {
      "image/png": "[encoded data removed]",
      "text/plain": [
       "<Figure size 432x288 with 1 Axes>"
      ]
     },
     "metadata": {
      "needs_background": "light"
     },
     "output_type": "display_data"
    },
    {
     "name": "stdout",
     "output_type": "stream",
     "text": [
      "89.685\n",
      "156.333575746402\n"
     ]
    },
    {
     "data": {
      "image/png": "[encoded data removed]",
      "text/plain": [
       "<Figure size 432x288 with 1 Axes>"
      ]
     },
     "metadata": {
      "needs_background": "light"
     },
     "output_type": "display_data"
    },
    {
     "name": "stdout",
     "output_type": "stream",
     "text": [
      "41.84\n",
      "93.59543938711109\n"
     ]
    },
    {
     "data": {
      "image/png": "[encoded data removed]",
      "text/plain": [
       "<Figure size 432x288 with 1 Axes>"
      ]
     },
     "metadata": {
      "needs_background": "light"
     },
     "output_type": "display_data"
    },
    {
     "name": "stdout",
     "output_type": "stream",
     "text": [
      "93.24\n",
      "159.4435822486911\n"
     ]
    },
    {
     "data": {
      "image/png": "[encoded data removed]",
      "text/plain": [
       "<Figure size 432x288 with 1 Axes>"
      ]
     },
     "metadata": {
      "needs_background": "light"
     },
     "output_type": "display_data"
    },
    {
     "name": "stdout",
     "output_type": "stream",
     "text": [
      "8.01\n",
      "44.39848170731709\n"
     ]
    },
    {
     "data": {
      "image/png": "[encoded data removed]",
      "text/plain": [
       "<Figure size 432x288 with 1 Axes>"
      ]
     },
     "metadata": {
      "needs_background": "light"
     },
     "output_type": "display_data"
    },
    {
     "name": "stdout",
     "output_type": "stream",
     "text": [
      "91.79\n",
      "158.7792207361514\n"
     ]
    }
   ],
   "source": [
    "attributes = ['loc_ic_t2m_mou_6','loc_ic_t2m_mou_7','loc_ic_t2m_mou_8']\n",
    "BoxPlot(churn_dataset_filtered_train,attributes)"
   ]
  },
  {
   "cell_type": "code",
   "execution_count": 323,
   "metadata": {},
   "outputs": [],
   "source": [
    "churn_dataset_filtered_train = ImputeMedian(churn_dataset_filtered_train,attributes)"
   ]
  },
  {
   "cell_type": "code",
   "execution_count": 324,
   "metadata": {},
   "outputs": [
    {
     "data": {
      "image/png": "[encoded data removed]",
      "text/plain": [
       "<Figure size 432x288 with 1 Axes>"
      ]
     },
     "metadata": {
      "needs_background": "light"
     },
     "output_type": "display_data"
    },
    {
     "name": "stdout",
     "output_type": "stream",
     "text": [
      "0.23\n",
      "8.812415607189823\n"
     ]
    },
    {
     "data": {
      "image/png": "[encoded data removed]",
      "text/plain": [
       "<Figure size 432x288 with 1 Axes>"
      ]
     },
     "metadata": {
      "needs_background": "light"
     },
     "output_type": "display_data"
    },
    {
     "name": "stdout",
     "output_type": "stream",
     "text": [
      "2.23\n",
      "16.1419760412829\n"
     ]
    },
    {
     "data": {
      "image/png": "[encoded data removed]",
      "text/plain": [
       "<Figure size 432x288 with 1 Axes>"
      ]
     },
     "metadata": {
      "needs_background": "light"
     },
     "output_type": "display_data"
    },
    {
     "name": "stdout",
     "output_type": "stream",
     "text": [
      "0.0\n",
      "7.931099594411886\n"
     ]
    },
    {
     "data": {
      "image/png": "[encoded data removed]",
      "text/plain": [
       "<Figure size 432x288 with 1 Axes>"
      ]
     },
     "metadata": {
      "needs_background": "light"
     },
     "output_type": "display_data"
    },
    {
     "name": "stdout",
     "output_type": "stream",
     "text": [
      "2.49\n",
      "17.02478564600363\n"
     ]
    },
    {
     "data": {
      "image/png": "[encoded data removed]",
      "text/plain": [
       "<Figure size 432x288 with 1 Axes>"
      ]
     },
     "metadata": {
      "needs_background": "light"
     },
     "output_type": "display_data"
    },
    {
     "name": "stdout",
     "output_type": "stream",
     "text": [
      "0.0\n",
      "3.788353658536587\n"
     ]
    },
    {
     "data": {
      "image/png": "[encoded data removed]",
      "text/plain": [
       "<Figure size 432x288 with 1 Axes>"
      ]
     },
     "metadata": {
      "needs_background": "light"
     },
     "output_type": "display_data"
    },
    {
     "name": "stdout",
     "output_type": "stream",
     "text": [
      "2.36\n",
      "15.679451383515921\n"
     ]
    }
   ],
   "source": [
    "attributes = ['loc_ic_t2f_mou_6','loc_ic_t2f_mou_7','loc_ic_t2f_mou_8']\n",
    "BoxPlot(churn_dataset_filtered_train,attributes)"
   ]
  },
  {
   "cell_type": "code",
   "execution_count": 325,
   "metadata": {},
   "outputs": [],
   "source": [
    "churn_dataset_filtered_train = ImputeMedian(churn_dataset_filtered_train,attributes)"
   ]
  },
  {
   "cell_type": "code",
   "execution_count": 326,
   "metadata": {},
   "outputs": [],
   "source": [
    "#These attributes are redundant,they can be dropped as already the individual category values are present\n",
    "attributes = ['loc_ic_mou_6','loc_ic_mou_7','loc_ic_mou_8']\n",
    "churn_dataset_filtered_train = churn_dataset_filtered_train.drop(attributes,axis = 1)"
   ]
  },
  {
   "cell_type": "code",
   "execution_count": 327,
   "metadata": {},
   "outputs": [
    {
     "data": {
      "text/plain": [
       "(29953, 137)"
      ]
     },
     "execution_count": 327,
     "metadata": {},
     "output_type": "execute_result"
    }
   ],
   "source": [
    "churn_dataset_filtered_train.shape"
   ]
  },
  {
   "cell_type": "code",
   "execution_count": 328,
   "metadata": {},
   "outputs": [
    {
     "data": {
      "image/png": "[encoded data removed]",
      "text/plain": [
       "<Figure size 432x288 with 1 Axes>"
      ]
     },
     "metadata": {
      "needs_background": "light"
     },
     "output_type": "display_data"
    },
    {
     "name": "stdout",
     "output_type": "stream",
     "text": [
      "8.04\n",
      "33.36111793073215\n"
     ]
    },
    {
     "data": {
      "image/png": "[encoded data removed]",
      "text/plain": [
       "<Figure size 432x288 with 1 Axes>"
      ]
     },
     "metadata": {
      "needs_background": "light"
     },
     "output_type": "display_data"
    },
    {
     "name": "stdout",
     "output_type": "stream",
     "text": [
      "5.16\n",
      "29.447244747512862\n"
     ]
    },
    {
     "data": {
      "image/png": "[encoded data removed]",
      "text/plain": [
       "<Figure size 432x288 with 1 Axes>"
      ]
     },
     "metadata": {
      "needs_background": "light"
     },
     "output_type": "display_data"
    },
    {
     "name": "stdout",
     "output_type": "stream",
     "text": [
      "4.58\n",
      "28.984407390716544\n"
     ]
    },
    {
     "data": {
      "image/png": "[encoded data removed]",
      "text/plain": [
       "<Figure size 432x288 with 1 Axes>"
      ]
     },
     "metadata": {
      "needs_background": "light"
     },
     "output_type": "display_data"
    },
    {
     "name": "stdout",
     "output_type": "stream",
     "text": [
      "5.63\n",
      "31.586333186264824\n"
     ]
    },
    {
     "data": {
      "image/png": "[encoded data removed]",
      "text/plain": [
       "<Figure size 432x288 with 1 Axes>"
      ]
     },
     "metadata": {
      "needs_background": "light"
     },
     "output_type": "display_data"
    },
    {
     "name": "stdout",
     "output_type": "stream",
     "text": [
      "0.0\n",
      "13.90778048780491\n"
     ]
    },
    {
     "data": {
      "image/png": "[encoded data removed]",
      "text/plain": [
       "<Figure size 432x288 with 1 Axes>"
      ]
     },
     "metadata": {
      "needs_background": "light"
     },
     "output_type": "display_data"
    },
    {
     "name": "stdout",
     "output_type": "stream",
     "text": [
      "4.91\n",
      "29.972726870786857\n"
     ]
    }
   ],
   "source": [
    "attributes = ['std_ic_t2m_mou_6','std_ic_t2m_mou_7','std_ic_t2m_mou_8']\n",
    "BoxPlot(churn_dataset_filtered_train,attributes)"
   ]
  },
  {
   "cell_type": "code",
   "execution_count": 329,
   "metadata": {},
   "outputs": [],
   "source": [
    "#Again these columns can be included imputed with their median as data is skewed.\n",
    "churn_dataset_filtered_train = ImputeMedian(churn_dataset_filtered_train,attributes)"
   ]
  },
  {
   "cell_type": "code",
   "execution_count": 330,
   "metadata": {},
   "outputs": [
    {
     "data": {
      "image/png": "[encoded data removed]",
      "text/plain": [
       "<Figure size 432x288 with 1 Axes>"
      ]
     },
     "metadata": {
      "needs_background": "light"
     },
     "output_type": "display_data"
    },
    {
     "name": "stdout",
     "output_type": "stream",
     "text": [
      "0.0\n",
      "1.7975098640946976\n"
     ]
    },
    {
     "data": {
      "image/png": "[encoded data removed]",
      "text/plain": [
       "<Figure size 432x288 with 1 Axes>"
      ]
     },
     "metadata": {
      "needs_background": "light"
     },
     "output_type": "display_data"
    },
    {
     "name": "stdout",
     "output_type": "stream",
     "text": [
      "0.0\n",
      "2.828525985993375\n"
     ]
    },
    {
     "data": {
      "image/png": "[encoded data removed]",
      "text/plain": [
       "<Figure size 432x288 with 1 Axes>"
      ]
     },
     "metadata": {
      "needs_background": "light"
     },
     "output_type": "display_data"
    },
    {
     "name": "stdout",
     "output_type": "stream",
     "text": [
      "0.0\n",
      "1.7184767913474543\n"
     ]
    },
    {
     "data": {
      "image/png": "[encoded data removed]",
      "text/plain": [
       "<Figure size 432x288 with 1 Axes>"
      ]
     },
     "metadata": {
      "needs_background": "light"
     },
     "output_type": "display_data"
    },
    {
     "name": "stdout",
     "output_type": "stream",
     "text": [
      "0.0\n",
      "2.945424663578222\n"
     ]
    },
    {
     "data": {
      "image/png": "[encoded data removed]",
      "text/plain": [
       "<Figure size 432x288 with 1 Axes>"
      ]
     },
     "metadata": {
      "needs_background": "light"
     },
     "output_type": "display_data"
    },
    {
     "name": "stdout",
     "output_type": "stream",
     "text": [
      "0.0\n",
      "0.7087439024390245\n"
     ]
    },
    {
     "data": {
      "image/png": "[encoded data removed]",
      "text/plain": [
       "<Figure size 432x288 with 1 Axes>"
      ]
     },
     "metadata": {
      "needs_background": "light"
     },
     "output_type": "display_data"
    },
    {
     "name": "stdout",
     "output_type": "stream",
     "text": [
      "0.0\n",
      "2.7878648539110658\n"
     ]
    }
   ],
   "source": [
    "attributes = ['std_ic_t2f_mou_6','std_ic_t2f_mou_7','std_ic_t2f_mou_8']\n",
    "BoxPlot(churn_dataset_filtered_train,attributes)"
   ]
  },
  {
   "cell_type": "markdown",
   "metadata": {},
   "source": [
    "Indeed there differences in distributions of 2 groups of churn and non churn.We can impute them with corresponding medians\n",
    "to treat Nas"
   ]
  },
  {
   "cell_type": "code",
   "execution_count": 331,
   "metadata": {},
   "outputs": [],
   "source": [
    "churn_dataset_filtered_train = ImputeMedian(churn_dataset_filtered_train,attributes)"
   ]
  },
  {
   "cell_type": "code",
   "execution_count": 332,
   "metadata": {},
   "outputs": [
    {
     "data": {
      "image/png": "[encoded data removed]",
      "text/plain": [
       "<Figure size 432x288 with 1 Axes>"
      ]
     },
     "metadata": {
      "needs_background": "light"
     },
     "output_type": "display_data"
    },
    {
     "name": "stdout",
     "output_type": "stream",
     "text": [
      "0.0\n",
      "0.0\n"
     ]
    },
    {
     "data": {
      "image/png": "[encoded data removed]",
      "text/plain": [
       "<Figure size 432x288 with 1 Axes>"
      ]
     },
     "metadata": {
      "needs_background": "light"
     },
     "output_type": "display_data"
    },
    {
     "name": "stdout",
     "output_type": "stream",
     "text": [
      "0.0\n",
      "0.0\n"
     ]
    },
    {
     "data": {
      "image/png": "[encoded data removed]",
      "text/plain": [
       "<Figure size 432x288 with 1 Axes>"
      ]
     },
     "metadata": {
      "needs_background": "light"
     },
     "output_type": "display_data"
    },
    {
     "name": "stdout",
     "output_type": "stream",
     "text": [
      "0.0\n",
      "0.0\n"
     ]
    },
    {
     "data": {
      "image/png": "[encoded data removed]",
      "text/plain": [
       "<Figure size 432x288 with 1 Axes>"
      ]
     },
     "metadata": {
      "needs_background": "light"
     },
     "output_type": "display_data"
    },
    {
     "name": "stdout",
     "output_type": "stream",
     "text": [
      "0.0\n",
      "0.0\n"
     ]
    },
    {
     "data": {
      "image/png": "[encoded data removed]",
      "text/plain": [
       "<Figure size 432x288 with 1 Axes>"
      ]
     },
     "metadata": {
      "needs_background": "light"
     },
     "output_type": "display_data"
    },
    {
     "name": "stdout",
     "output_type": "stream",
     "text": [
      "0.0\n",
      "0.0\n"
     ]
    },
    {
     "data": {
      "image/png": "[encoded data removed]",
      "text/plain": [
       "<Figure size 432x288 with 1 Axes>"
      ]
     },
     "metadata": {
      "needs_background": "light"
     },
     "output_type": "display_data"
    },
    {
     "name": "stdout",
     "output_type": "stream",
     "text": [
      "0.0\n",
      "0.0\n"
     ]
    }
   ],
   "source": [
    "attributes = ['std_ic_t2o_mou_6','std_ic_t2o_mou_7','std_ic_t2o_mou_8']\n",
    "BoxPlot(churn_dataset_filtered_train,attributes)"
   ]
  },
  {
   "cell_type": "code",
   "execution_count": 333,
   "metadata": {},
   "outputs": [],
   "source": [
    "#All the value in case of std to other operator fixed line are 0.They can be dropped safely\n",
    "churn_dataset_filtered_train = churn_dataset_filtered_train.drop(['std_ic_t2o_mou_6','std_ic_t2o_mou_7','std_ic_t2o_mou_8'],axis = 1)"
   ]
  },
  {
   "cell_type": "code",
   "execution_count": 334,
   "metadata": {},
   "outputs": [],
   "source": [
    "# The total attributes which can be dropped are\n",
    "attributes = ['std_ic_mou_6','std_ic_mou_7','std_ic_mou_8','total_ic_mou_6','total_ic_mou_7','total_ic_mou_8']\n",
    "churn_dataset_filtered_train = churn_dataset_filtered_train.drop(attributes,axis =1)"
   ]
  },
  {
   "cell_type": "code",
   "execution_count": 335,
   "metadata": {},
   "outputs": [
    {
     "data": {
      "text/plain": [
       "(29953, 128)"
      ]
     },
     "execution_count": 335,
     "metadata": {},
     "output_type": "execute_result"
    }
   ],
   "source": [
    "churn_dataset_filtered_train.shape"
   ]
  },
  {
   "cell_type": "code",
   "execution_count": 336,
   "metadata": {},
   "outputs": [],
   "source": [
    "#Special incomming calls can be dropped the way special outgoing calls were\n",
    "attributes = ['spl_ic_mou_6','spl_ic_mou_7','spl_ic_mou_8']\n",
    "churn_dataset_filtered_train = churn_dataset_filtered_train.drop(attributes,axis =1)"
   ]
  },
  {
   "cell_type": "code",
   "execution_count": 337,
   "metadata": {},
   "outputs": [
    {
     "data": {
      "image/png": "[encoded data removed]",
      "text/plain": [
       "<Figure size 432x288 with 1 Axes>"
      ]
     },
     "metadata": {
      "needs_background": "light"
     },
     "output_type": "display_data"
    },
    {
     "name": "stdout",
     "output_type": "stream",
     "text": [
      "0.0\n",
      "12.622170100832971\n"
     ]
    },
    {
     "data": {
      "image/png": "[encoded data removed]",
      "text/plain": [
       "<Figure size 432x288 with 1 Axes>"
      ]
     },
     "metadata": {
      "needs_background": "light"
     },
     "output_type": "display_data"
    },
    {
     "name": "stdout",
     "output_type": "stream",
     "text": [
      "0.0\n",
      "10.86366236638408\n"
     ]
    },
    {
     "data": {
      "image/png": "[encoded data removed]",
      "text/plain": [
       "<Figure size 432x288 with 1 Axes>"
      ]
     },
     "metadata": {
      "needs_background": "light"
     },
     "output_type": "display_data"
    },
    {
     "name": "stdout",
     "output_type": "stream",
     "text": [
      "0.0\n",
      "11.309260928346097\n"
     ]
    },
    {
     "data": {
      "image/png": "[encoded data removed]",
      "text/plain": [
       "<Figure size 432x288 with 1 Axes>"
      ]
     },
     "metadata": {
      "needs_background": "light"
     },
     "output_type": "display_data"
    },
    {
     "name": "stdout",
     "output_type": "stream",
     "text": [
      "0.0\n",
      "12.175222442826636\n"
     ]
    },
    {
     "data": {
      "image/png": "[encoded data removed]",
      "text/plain": [
       "<Figure size 432x288 with 1 Axes>"
      ]
     },
     "metadata": {
      "needs_background": "light"
     },
     "output_type": "display_data"
    },
    {
     "name": "stdout",
     "output_type": "stream",
     "text": [
      "0.0\n",
      "5.835810975609756\n"
     ]
    },
    {
     "data": {
      "image/png": "[encoded data removed]",
      "text/plain": [
       "<Figure size 432x288 with 1 Axes>"
      ]
     },
     "metadata": {
      "needs_background": "light"
     },
     "output_type": "display_data"
    },
    {
     "name": "stdout",
     "output_type": "stream",
     "text": [
      "0.0\n",
      "11.803669724770643\n"
     ]
    }
   ],
   "source": [
    "attributes = ['isd_ic_mou_6','isd_ic_mou_7','isd_ic_mou_8']\n",
    "BoxPlot(churn_dataset_filtered_train,attributes)"
   ]
  },
  {
   "cell_type": "code",
   "execution_count": 338,
   "metadata": {},
   "outputs": [],
   "source": [
    "#There are differences in both mean  of the groups.So possible incoming isd calls should be an attribute\n",
    "#for seperation between classes.However the data is highly skewed so so median vallues can be used for impution\n",
    "churn_dataset_filtered_train = ImputeMedian(churn_dataset_filtered_train,attributes)"
   ]
  },
  {
   "cell_type": "code",
   "execution_count": 339,
   "metadata": {},
   "outputs": [
    {
     "data": {
      "image/png": "[encoded data removed]",
      "text/plain": [
       "<Figure size 432x288 with 1 Axes>"
      ]
     },
     "metadata": {
      "needs_background": "light"
     },
     "output_type": "display_data"
    },
    {
     "name": "stdout",
     "output_type": "stream",
     "text": [
      "0.0\n",
      "0.9726260412099967\n"
     ]
    },
    {
     "data": {
      "image/png": "[encoded data removed]",
      "text/plain": [
       "<Figure size 432x288 with 1 Axes>"
      ]
     },
     "metadata": {
      "needs_background": "light"
     },
     "output_type": "display_data"
    },
    {
     "name": "stdout",
     "output_type": "stream",
     "text": [
      "0.0\n",
      "1.1936538886841215\n"
     ]
    },
    {
     "data": {
      "image/png": "[encoded data removed]",
      "text/plain": [
       "<Figure size 432x288 with 1 Axes>"
      ]
     },
     "metadata": {
      "needs_background": "light"
     },
     "output_type": "display_data"
    },
    {
     "name": "stdout",
     "output_type": "stream",
     "text": [
      "0.0\n",
      "0.9192609283461007\n"
     ]
    },
    {
     "data": {
      "image/png": "[encoded data removed]",
      "text/plain": [
       "<Figure size 432x288 with 1 Axes>"
      ]
     },
     "metadata": {
      "needs_background": "light"
     },
     "output_type": "display_data"
    },
    {
     "name": "stdout",
     "output_type": "stream",
     "text": [
      "0.0\n",
      "1.578923817927805\n"
     ]
    },
    {
     "data": {
      "image/png": "[encoded data removed]",
      "text/plain": [
       "<Figure size 432x288 with 1 Axes>"
      ]
     },
     "metadata": {
      "needs_background": "light"
     },
     "output_type": "display_data"
    },
    {
     "name": "stdout",
     "output_type": "stream",
     "text": [
      "0.0\n",
      "0.5951646341463417\n"
     ]
    },
    {
     "data": {
      "image/png": "[encoded data removed]",
      "text/plain": [
       "<Figure size 432x288 with 1 Axes>"
      ]
     },
     "metadata": {
      "needs_background": "light"
     },
     "output_type": "display_data"
    },
    {
     "name": "stdout",
     "output_type": "stream",
     "text": [
      "0.0\n",
      "1.3172440219594108\n"
     ]
    }
   ],
   "source": [
    "#Finally with regard to call minutes lets look at other incoming calls\n",
    "attributes = ['ic_others_6','ic_others_7','ic_others_8']\n",
    "BoxPlot(churn_dataset_filtered_train,attributes)"
   ]
  },
  {
   "cell_type": "code",
   "execution_count": 340,
   "metadata": {},
   "outputs": [],
   "source": [
    "#There are some differences in distributions atleast with regard to extreme values\n",
    "#Its good to retain them ,they seem to be highly skewed ,so they can be imputed by median\n",
    "churn_dataset_filtered_train = ImputeMedian(churn_dataset_filtered_train,attributes)"
   ]
  },
  {
   "cell_type": "markdown",
   "metadata": {},
   "source": [
    "We can drop the total recharge num as it has erronous data ,for instance some rows indicate that even though\n",
    "the recharge amount is positive for a month the value for number times of recharge is 0 and vice versa the number of times recharged is positive even though the recharge amount is 0.We can impute the value corresponding to 0 recharge amount with 0 times recharged."
   ]
  },
  {
   "cell_type": "code",
   "execution_count": 341,
   "metadata": {},
   "outputs": [],
   "source": [
    "churn_dataset_filtered_train.loc[churn_dataset_filtered_train['total_rech_amt_6'] ==0,'total_rech_num_6'] = 0\n",
    "churn_dataset_filtered_train.loc[churn_dataset_filtered_train['total_rech_amt_7'] ==0,'total_rech_num_7'] = 0\n",
    "churn_dataset_filtered_train.loc[churn_dataset_filtered_train['total_rech_amt_8'] ==0,'total_rech_num_8'] = 0"
   ]
  },
  {
   "cell_type": "markdown",
   "metadata": {},
   "source": [
    "Total recharge does not have any na or invalid values ,neither does total number of recharge"
   ]
  },
  {
   "cell_type": "markdown",
   "metadata": {},
   "source": [
    "We can drop the columns corressponding to max_recharge_6,max_recharge_7,max_recharge_8"
   ]
  },
  {
   "cell_type": "code",
   "execution_count": 342,
   "metadata": {},
   "outputs": [],
   "source": [
    "churn_dataset_filtered_train = churn_dataset_filtered_train.drop(['max_rech_amt_6','max_rech_amt_7','max_rech_amt_8'],axis = 1)"
   ]
  },
  {
   "cell_type": "code",
   "execution_count": 343,
   "metadata": {},
   "outputs": [],
   "source": [
    "churn_dataset_filtered_train = churn_dataset_filtered_train.drop(['last_day_rch_amt_6','last_day_rch_amt_7','last_day_rch_amt_8'],axis = 1)"
   ]
  },
  {
   "cell_type": "code",
   "execution_count": 344,
   "metadata": {},
   "outputs": [],
   "source": [
    "churn_dataset_filtered_train = churn_dataset_filtered_train.drop(['date_of_last_rech_data_6','date_of_last_rech_data_7','date_of_last_rech_data_8'],axis = 1)"
   ]
  },
  {
   "cell_type": "markdown",
   "metadata": {},
   "source": [
    "Now lets look at the columns with high missing percentage"
   ]
  },
  {
   "cell_type": "code",
   "execution_count": 345,
   "metadata": {},
   "outputs": [],
   "source": [
    "percent_missing = churn_dataset_filtered_train.isnull().sum() * 100 / len(churn_dataset_filtered_train)\n",
    "missing_value_df = pd.DataFrame({'column_name': churn_dataset_filtered_train.columns,'percent_missing': percent_missing})"
   ]
  },
  {
   "cell_type": "code",
   "execution_count": 346,
   "metadata": {},
   "outputs": [
    {
     "data": {
      "text/html": [
       "<div>\n",
       "<style scoped>\n",
       "    .dataframe tbody tr th:only-of-type {\n",
       "        vertical-align: middle;\n",
       "    }\n",
       "\n",
       "    .dataframe tbody tr th {\n",
       "        vertical-align: top;\n",
       "    }\n",
       "\n",
       "    .dataframe thead th {\n",
       "        text-align: right;\n",
       "    }\n",
       "</style>\n",
       "<table border=\"1\" class=\"dataframe\">\n",
       "  <thead>\n",
       "    <tr style=\"text-align: right;\">\n",
       "      <th></th>\n",
       "      <th>column_name</th>\n",
       "      <th>percent_missing</th>\n",
       "    </tr>\n",
       "  </thead>\n",
       "  <tbody>\n",
       "    <tr>\n",
       "      <td>total_rech_data_6</td>\n",
       "      <td>total_rech_data_6</td>\n",
       "      <td>44.112443</td>\n",
       "    </tr>\n",
       "    <tr>\n",
       "      <td>total_rech_data_7</td>\n",
       "      <td>total_rech_data_7</td>\n",
       "      <td>43.117551</td>\n",
       "    </tr>\n",
       "    <tr>\n",
       "      <td>total_rech_data_8</td>\n",
       "      <td>total_rech_data_8</td>\n",
       "      <td>46.799987</td>\n",
       "    </tr>\n",
       "    <tr>\n",
       "      <td>max_rech_data_6</td>\n",
       "      <td>max_rech_data_6</td>\n",
       "      <td>44.112443</td>\n",
       "    </tr>\n",
       "    <tr>\n",
       "      <td>max_rech_data_7</td>\n",
       "      <td>max_rech_data_7</td>\n",
       "      <td>43.117551</td>\n",
       "    </tr>\n",
       "    <tr>\n",
       "      <td>max_rech_data_8</td>\n",
       "      <td>max_rech_data_8</td>\n",
       "      <td>46.799987</td>\n",
       "    </tr>\n",
       "    <tr>\n",
       "      <td>night_pck_user_6</td>\n",
       "      <td>night_pck_user_6</td>\n",
       "      <td>44.112443</td>\n",
       "    </tr>\n",
       "    <tr>\n",
       "      <td>night_pck_user_7</td>\n",
       "      <td>night_pck_user_7</td>\n",
       "      <td>43.117551</td>\n",
       "    </tr>\n",
       "    <tr>\n",
       "      <td>night_pck_user_8</td>\n",
       "      <td>night_pck_user_8</td>\n",
       "      <td>46.799987</td>\n",
       "    </tr>\n",
       "    <tr>\n",
       "      <td>fb_user_6</td>\n",
       "      <td>fb_user_6</td>\n",
       "      <td>44.112443</td>\n",
       "    </tr>\n",
       "    <tr>\n",
       "      <td>fb_user_7</td>\n",
       "      <td>fb_user_7</td>\n",
       "      <td>43.117551</td>\n",
       "    </tr>\n",
       "    <tr>\n",
       "      <td>fb_user_8</td>\n",
       "      <td>fb_user_8</td>\n",
       "      <td>46.799987</td>\n",
       "    </tr>\n",
       "  </tbody>\n",
       "</table>\n",
       "</div>"
      ],
      "text/plain": [
       "                         column_name  percent_missing\n",
       "total_rech_data_6  total_rech_data_6        44.112443\n",
       "total_rech_data_7  total_rech_data_7        43.117551\n",
       "total_rech_data_8  total_rech_data_8        46.799987\n",
       "max_rech_data_6      max_rech_data_6        44.112443\n",
       "max_rech_data_7      max_rech_data_7        43.117551\n",
       "max_rech_data_8      max_rech_data_8        46.799987\n",
       "night_pck_user_6    night_pck_user_6        44.112443\n",
       "night_pck_user_7    night_pck_user_7        43.117551\n",
       "night_pck_user_8    night_pck_user_8        46.799987\n",
       "fb_user_6                  fb_user_6        44.112443\n",
       "fb_user_7                  fb_user_7        43.117551\n",
       "fb_user_8                  fb_user_8        46.799987"
      ]
     },
     "execution_count": 346,
     "metadata": {},
     "output_type": "execute_result"
    }
   ],
   "source": [
    "missing_value_df.loc[(missing_value_df['percent_missing'] >40),['column_name','percent_missing']]"
   ]
  },
  {
   "cell_type": "markdown",
   "metadata": {},
   "source": [
    "We can drop all the variables like total_rech_data_6,7,8 as we have new columns for it which determines it.Also max_rech_data\n",
    "6,7,8 serves no purpose as total recharge is much more significant."
   ]
  },
  {
   "cell_type": "code",
   "execution_count": 347,
   "metadata": {},
   "outputs": [],
   "source": [
    "attributes = ['total_rech_data_6','total_rech_data_7','total_rech_data_8','max_rech_data_6','max_rech_data_7','max_rech_data_8']\n",
    "churn_dataset_filtered_train = churn_dataset_filtered_train.drop(attributes,axis = 1)"
   ]
  },
  {
   "cell_type": "code",
   "execution_count": 348,
   "metadata": {},
   "outputs": [
    {
     "data": {
      "text/plain": [
       "(29953, 110)"
      ]
     },
     "execution_count": 348,
     "metadata": {},
     "output_type": "execute_result"
    }
   ],
   "source": [
    "churn_dataset_filtered_train.shape"
   ]
  },
  {
   "cell_type": "code",
   "execution_count": 349,
   "metadata": {},
   "outputs": [
    {
     "data": {
      "text/html": [
       "<div>\n",
       "<style scoped>\n",
       "    .dataframe tbody tr th:only-of-type {\n",
       "        vertical-align: middle;\n",
       "    }\n",
       "\n",
       "    .dataframe tbody tr th {\n",
       "        vertical-align: top;\n",
       "    }\n",
       "\n",
       "    .dataframe thead th {\n",
       "        text-align: right;\n",
       "    }\n",
       "</style>\n",
       "<table border=\"1\" class=\"dataframe\">\n",
       "  <thead>\n",
       "    <tr style=\"text-align: right;\">\n",
       "      <th></th>\n",
       "      <th>column_name</th>\n",
       "      <th>percent_missing</th>\n",
       "    </tr>\n",
       "  </thead>\n",
       "  <tbody>\n",
       "    <tr>\n",
       "      <td>night_pck_user_6</td>\n",
       "      <td>night_pck_user_6</td>\n",
       "      <td>44.112443</td>\n",
       "    </tr>\n",
       "    <tr>\n",
       "      <td>night_pck_user_7</td>\n",
       "      <td>night_pck_user_7</td>\n",
       "      <td>43.117551</td>\n",
       "    </tr>\n",
       "    <tr>\n",
       "      <td>night_pck_user_8</td>\n",
       "      <td>night_pck_user_8</td>\n",
       "      <td>46.799987</td>\n",
       "    </tr>\n",
       "    <tr>\n",
       "      <td>fb_user_6</td>\n",
       "      <td>fb_user_6</td>\n",
       "      <td>44.112443</td>\n",
       "    </tr>\n",
       "    <tr>\n",
       "      <td>fb_user_7</td>\n",
       "      <td>fb_user_7</td>\n",
       "      <td>43.117551</td>\n",
       "    </tr>\n",
       "    <tr>\n",
       "      <td>fb_user_8</td>\n",
       "      <td>fb_user_8</td>\n",
       "      <td>46.799987</td>\n",
       "    </tr>\n",
       "  </tbody>\n",
       "</table>\n",
       "</div>"
      ],
      "text/plain": [
       "                       column_name  percent_missing\n",
       "night_pck_user_6  night_pck_user_6        44.112443\n",
       "night_pck_user_7  night_pck_user_7        43.117551\n",
       "night_pck_user_8  night_pck_user_8        46.799987\n",
       "fb_user_6                fb_user_6        44.112443\n",
       "fb_user_7                fb_user_7        43.117551\n",
       "fb_user_8                fb_user_8        46.799987"
      ]
     },
     "execution_count": 349,
     "metadata": {},
     "output_type": "execute_result"
    }
   ],
   "source": [
    "percent_missing = churn_dataset_filtered_train.isnull().sum() * 100 / len(churn_dataset_filtered_train)\n",
    "missing_value_df = pd.DataFrame({'column_name': churn_dataset_filtered_train.columns,'percent_missing': percent_missing})\n",
    "missing_value_df.loc[(missing_value_df['percent_missing'] >40),['column_name','percent_missing']]"
   ]
  },
  {
   "cell_type": "code",
   "execution_count": 350,
   "metadata": {},
   "outputs": [],
   "source": [
    "churn_dataset_filtered_train = churn_dataset_filtered_train.drop(['night_pck_user_6','night_pck_user_7','night_pck_user_8','fb_user_6','fb_user_7','fb_user_8'],axis = 1)"
   ]
  },
  {
   "cell_type": "code",
   "execution_count": 351,
   "metadata": {},
   "outputs": [],
   "source": [
    "#We can drop date_of_last_rech_8 and std_ic_t2t_mou_6,std_ic_t2t_mou_7,std_ic_t2t_mou_8 as they are already being handle by \n",
    "#individual months\n",
    "churn_dataset_filtered_train = churn_dataset_filtered_train.drop(['date_of_last_rech_8','std_og_mou_6','std_og_mou_7','std_og_mou_8'],axis = 1)"
   ]
  },
  {
   "cell_type": "code",
   "execution_count": 352,
   "metadata": {},
   "outputs": [
    {
     "data": {
      "image/png": "[encoded data removed]",
      "text/plain": [
       "<Figure size 432x288 with 1 Axes>"
      ]
     },
     "metadata": {
      "needs_background": "light"
     },
     "output_type": "display_data"
    },
    {
     "name": "stdout",
     "output_type": "stream",
     "text": [
      "1.6\n",
      "22.53370889960551\n"
     ]
    },
    {
     "data": {
      "image/png": "[encoded data removed]",
      "text/plain": [
       "<Figure size 432x288 with 1 Axes>"
      ]
     },
     "metadata": {
      "needs_background": "light"
     },
     "output_type": "display_data"
    },
    {
     "name": "stdout",
     "output_type": "stream",
     "text": [
      "0.41\n",
      "14.552355694802914\n"
     ]
    },
    {
     "data": {
      "image/png": "[encoded data removed]",
      "text/plain": [
       "<Figure size 432x288 with 1 Axes>"
      ]
     },
     "metadata": {
      "needs_background": "light"
     },
     "output_type": "display_data"
    },
    {
     "name": "stdout",
     "output_type": "stream",
     "text": [
      "0.96\n",
      "17.346611086074848\n"
     ]
    },
    {
     "data": {
      "image/png": "[encoded data removed]",
      "text/plain": [
       "<Figure size 432x288 with 1 Axes>"
      ]
     },
     "metadata": {
      "needs_background": "light"
     },
     "output_type": "display_data"
    },
    {
     "name": "stdout",
     "output_type": "stream",
     "text": [
      "0.51\n",
      "15.580839032281956\n"
     ]
    },
    {
     "data": {
      "image/png": "[encoded data removed]",
      "text/plain": [
       "<Figure size 432x288 with 1 Axes>"
      ]
     },
     "metadata": {
      "needs_background": "light"
     },
     "output_type": "display_data"
    },
    {
     "name": "stdout",
     "output_type": "stream",
     "text": [
      "0.0\n",
      "6.839603658536587\n"
     ]
    },
    {
     "data": {
      "image/png": "[encoded data removed]",
      "text/plain": [
       "<Figure size 432x288 with 1 Axes>"
      ]
     },
     "metadata": {
      "needs_background": "light"
     },
     "output_type": "display_data"
    },
    {
     "name": "stdout",
     "output_type": "stream",
     "text": [
      "0.38\n",
      "14.94874580892391\n"
     ]
    }
   ],
   "source": [
    "# We can analyze incomming std calls\n",
    "attributes = ['std_ic_t2t_mou_6','std_ic_t2t_mou_7','std_ic_t2t_mou_8']\n",
    "BoxPlot(churn_dataset_filtered_train,attributes)\n",
    "#churn_dataset_filtered_train = ImputeMedian(churn_dataset_filtered_train,attributes)"
   ]
  },
  {
   "cell_type": "code",
   "execution_count": 353,
   "metadata": {},
   "outputs": [],
   "source": [
    "#We can retain these attributes and impute by their median of respective classes\n",
    "churn_dataset_filtered_train = ImputeMedian(churn_dataset_filtered_train,attributes)"
   ]
  },
  {
   "cell_type": "markdown",
   "metadata": {},
   "source": [
    "We can as well drop off the variables onnet,offnet as they are the total of incomming and outgoing calls as they are \n",
    "already taken care by rest of the variables"
   ]
  },
  {
   "cell_type": "code",
   "execution_count": 354,
   "metadata": {},
   "outputs": [],
   "source": [
    "churn_dataset_filtered_train = churn_dataset_filtered_train.drop(['onnet_mou_6','onnet_mou_7','onnet_mou_8','offnet_mou_6','offnet_mou_7','offnet_mou_8'],axis =1 )"
   ]
  },
  {
   "cell_type": "markdown",
   "metadata": {},
   "source": [
    "Now lets analyze the final two types of variables roaming incoming calls and roaming outgoing calls."
   ]
  },
  {
   "cell_type": "code",
   "execution_count": 355,
   "metadata": {},
   "outputs": [
    {
     "data": {
      "image/png": "[encoded data removed]",
      "text/plain": [
       "<Figure size 432x288 with 1 Axes>"
      ]
     },
     "metadata": {
      "needs_background": "light"
     },
     "output_type": "display_data"
    },
    {
     "name": "stdout",
     "output_type": "stream",
     "text": [
      "0.0\n",
      "30.972700569925458\n"
     ]
    },
    {
     "data": {
      "image/png": "[encoded data removed]",
      "text/plain": [
       "<Figure size 432x288 with 1 Axes>"
      ]
     },
     "metadata": {
      "needs_background": "light"
     },
     "output_type": "display_data"
    },
    {
     "name": "stdout",
     "output_type": "stream",
     "text": [
      "0.0\n",
      "15.197695171397033\n"
     ]
    },
    {
     "data": {
      "image/png": "[encoded data removed]",
      "text/plain": [
       "<Figure size 432x288 with 1 Axes>"
      ]
     },
     "metadata": {
      "needs_background": "light"
     },
     "output_type": "display_data"
    },
    {
     "name": "stdout",
     "output_type": "stream",
     "text": [
      "0.0\n",
      "32.869914375844964\n"
     ]
    },
    {
     "data": {
      "image/png": "[encoded data removed]",
      "text/plain": [
       "<Figure size 432x288 with 1 Axes>"
      ]
     },
     "metadata": {
      "needs_background": "light"
     },
     "output_type": "display_data"
    },
    {
     "name": "stdout",
     "output_type": "stream",
     "text": [
      "0.0\n",
      "11.245372086182822\n"
     ]
    },
    {
     "data": {
      "image/png": "[encoded data removed]",
      "text/plain": [
       "<Figure size 432x288 with 1 Axes>"
      ]
     },
     "metadata": {
      "needs_background": "light"
     },
     "output_type": "display_data"
    },
    {
     "name": "stdout",
     "output_type": "stream",
     "text": [
      "1.56\n",
      "40.474018292682935\n"
     ]
    },
    {
     "data": {
      "image/png": "[encoded data removed]",
      "text/plain": [
       "<Figure size 432x288 with 1 Axes>"
      ]
     },
     "metadata": {
      "needs_background": "light"
     },
     "output_type": "display_data"
    },
    {
     "name": "stdout",
     "output_type": "stream",
     "text": [
      "0.0\n",
      "11.362978888029174\n"
     ]
    }
   ],
   "source": [
    "attributes = ['roam_ic_mou_6','roam_ic_mou_7','roam_ic_mou_8']\n",
    "BoxPlot(churn_dataset_filtered_train,attributes)"
   ]
  },
  {
   "cell_type": "markdown",
   "metadata": {},
   "source": [
    "We see that the churners have higher mean and the differences in distribution for both churners and non churners"
   ]
  },
  {
   "cell_type": "code",
   "execution_count": 356,
   "metadata": {},
   "outputs": [],
   "source": [
    "attributes = ['roam_ic_mou_6','roam_ic_mou_7','roam_ic_mou_8']\n",
    "churn_dataset_filtered_train = ImputeMedian(churn_dataset_filtered_train,attributes)"
   ]
  },
  {
   "cell_type": "code",
   "execution_count": 357,
   "metadata": {},
   "outputs": [
    {
     "data": {
      "image/png": "[encoded data removed]",
      "text/plain": [
       "<Figure size 432x288 with 1 Axes>"
      ]
     },
     "metadata": {
      "needs_background": "light"
     },
     "output_type": "display_data"
    },
    {
     "name": "stdout",
     "output_type": "stream",
     "text": [
      "0.0\n",
      "55.426926786497155\n"
     ]
    },
    {
     "data": {
      "image/png": "[encoded data removed]",
      "text/plain": [
       "<Figure size 432x288 with 1 Axes>"
      ]
     },
     "metadata": {
      "needs_background": "light"
     },
     "output_type": "display_data"
    },
    {
     "name": "stdout",
     "output_type": "stream",
     "text": [
      "0.0\n",
      "24.703360486546366\n"
     ]
    },
    {
     "data": {
      "image/png": "[encoded data removed]",
      "text/plain": [
       "<Figure size 432x288 with 1 Axes>"
      ]
     },
     "metadata": {
      "needs_background": "light"
     },
     "output_type": "display_data"
    },
    {
     "name": "stdout",
     "output_type": "stream",
     "text": [
      "0.0\n",
      "55.018499324019736\n"
     ]
    },
    {
     "data": {
      "image/png": "[encoded data removed]",
      "text/plain": [
       "<Figure size 432x288 with 1 Axes>"
      ]
     },
     "metadata": {
      "needs_background": "light"
     },
     "output_type": "display_data"
    },
    {
     "name": "stdout",
     "output_type": "stream",
     "text": [
      "0.0\n",
      "17.707944701816363\n"
     ]
    },
    {
     "data": {
      "image/png": "[encoded data removed]",
      "text/plain": [
       "<Figure size 432x288 with 1 Axes>"
      ]
     },
     "metadata": {
      "needs_background": "light"
     },
     "output_type": "display_data"
    },
    {
     "name": "stdout",
     "output_type": "stream",
     "text": [
      "3.995\n",
      "64.87507317073171\n"
     ]
    },
    {
     "data": {
      "image/png": "[encoded data removed]",
      "text/plain": [
       "<Figure size 432x288 with 1 Axes>"
      ]
     },
     "metadata": {
      "needs_background": "light"
     },
     "output_type": "display_data"
    },
    {
     "name": "stdout",
     "output_type": "stream",
     "text": [
      "0.0\n",
      "18.029878044287347\n"
     ]
    }
   ],
   "source": [
    "attributes = ['roam_og_mou_6','roam_og_mou_7','roam_og_mou_8']\n",
    "BoxPlot(churn_dataset_filtered_train,attributes)"
   ]
  },
  {
   "cell_type": "code",
   "execution_count": 358,
   "metadata": {},
   "outputs": [],
   "source": [
    "churn_dataset_filtered_train = ImputeMedian(churn_dataset_filtered_train,attributes)"
   ]
  },
  {
   "cell_type": "code",
   "execution_count": 359,
   "metadata": {},
   "outputs": [
    {
     "name": "stdout",
     "output_type": "stream",
     "text": [
      "0\n"
     ]
    },
    {
     "data": {
      "text/plain": [
       "(29953, 94)"
      ]
     },
     "execution_count": 359,
     "metadata": {},
     "output_type": "execute_result"
    }
   ],
   "source": [
    "print(sum(churn_dataset_filtered_train.isna().sum()))\n",
    "churn_dataset_filtered_train.shape"
   ]
  },
  {
   "cell_type": "markdown",
   "metadata": {},
   "source": [
    "So finally the data is clean we not have any missing values and useful columns are retained"
   ]
  },
  {
   "cell_type": "markdown",
   "metadata": {},
   "source": [
    "Now we can do some outlier treatment"
   ]
  },
  {
   "cell_type": "code",
   "execution_count": 360,
   "metadata": {},
   "outputs": [],
   "source": [
    "new_columns = churn_dataset_filtered_train.columns\n",
    "strictly_float = []\n",
    "for i in new_columns:\n",
    "     c = list(filter(lambda x:isStrictlyFloat(str(x)),churn_dataset_filtered_train[i]))\n",
    "     if len(c)>0:\n",
    "        strictly_float.append(i)"
   ]
  },
  {
   "cell_type": "code",
   "execution_count": 361,
   "metadata": {},
   "outputs": [
    {
     "data": {
      "text/plain": [
       "73"
      ]
     },
     "execution_count": 361,
     "metadata": {},
     "output_type": "execute_result"
    }
   ],
   "source": [
    "len(strictly_float)"
   ]
  },
  {
   "cell_type": "code",
   "execution_count": 362,
   "metadata": {},
   "outputs": [],
   "source": [
    "t = list(filter(lambda x:(x not in strictly_float),new_columns))"
   ]
  },
  {
   "cell_type": "code",
   "execution_count": 363,
   "metadata": {},
   "outputs": [
    {
     "name": "stdout",
     "output_type": "stream",
     "text": [
      "       circle_id  total_rech_num_6  total_rech_num_7  total_rech_num_8  \\\n",
      "count    29953.0      29953.000000      29953.000000      29953.000000   \n",
      "mean       109.0         11.812773         11.670317          9.851133   \n",
      "std          0.0          9.472664          9.490505          9.388557   \n",
      "min        109.0          0.000000          0.000000          0.000000   \n",
      "25%        109.0          6.000000          6.000000          4.000000   \n",
      "50%        109.0          9.000000          9.000000          8.000000   \n",
      "75%        109.0         15.000000         15.000000         13.000000   \n",
      "max        109.0        307.000000        138.000000        196.000000   \n",
      "\n",
      "       total_rech_amt_6  total_rech_amt_7  total_rech_amt_8  monthly_2g_6  \\\n",
      "count      29953.000000      29953.000000      29953.000000  29953.000000   \n",
      "mean         661.126732        660.930792        584.712416      0.174473   \n",
      "std          561.326013        582.745461        611.474081      0.435021   \n",
      "min            0.000000          0.000000          0.000000      0.000000   \n",
      "25%          360.000000        352.000000        250.000000      0.000000   \n",
      "50%          566.000000        562.000000        491.000000      0.000000   \n",
      "75%          834.000000        832.000000        776.000000      0.000000   \n",
      "max        35190.000000      40335.000000      45320.000000      4.000000   \n",
      "\n",
      "       monthly_2g_7  monthly_2g_8  ...   sachet_2g_7   sachet_2g_8  \\\n",
      "count  29953.000000  29953.000000  ...  29953.000000  29953.000000   \n",
      "mean       0.183187      0.153541  ...      1.215538      1.055754   \n",
      "std        0.450466      0.406481  ...      2.737921      2.537308   \n",
      "min        0.000000      0.000000  ...      0.000000      0.000000   \n",
      "25%        0.000000      0.000000  ...      0.000000      0.000000   \n",
      "50%        0.000000      0.000000  ...      0.000000      0.000000   \n",
      "75%        0.000000      0.000000  ...      1.000000      1.000000   \n",
      "max        5.000000      5.000000  ...     48.000000     44.000000   \n",
      "\n",
      "       monthly_3g_6  monthly_3g_7  monthly_3g_8   sachet_3g_6   sachet_3g_7  \\\n",
      "count  29953.000000  29953.000000  29953.000000  29953.000000  29953.000000   \n",
      "mean       0.218075      0.229359      0.211264      0.209662      0.227790   \n",
      "std        0.613612      0.659575      0.617885      0.986408      1.090717   \n",
      "min        0.000000      0.000000      0.000000      0.000000      0.000000   \n",
      "25%        0.000000      0.000000      0.000000      0.000000      0.000000   \n",
      "50%        0.000000      0.000000      0.000000      0.000000      0.000000   \n",
      "75%        0.000000      0.000000      0.000000      0.000000      0.000000   \n",
      "max       14.000000     16.000000     16.000000     29.000000     35.000000   \n",
      "\n",
      "        sachet_3g_8           aon         churn  \n",
      "count  29953.000000  29953.000000  29953.000000  \n",
      "mean       0.202451   1209.280573      0.081227  \n",
      "std        1.100735    957.449442      0.273188  \n",
      "min        0.000000    180.000000      0.000000  \n",
      "25%        0.000000    460.000000      0.000000  \n",
      "50%        0.000000    846.000000      0.000000  \n",
      "75%        0.000000   1756.000000      0.000000  \n",
      "max       41.000000   4321.000000      1.000000  \n",
      "\n",
      "[8 rows x 21 columns]\n",
      "['total_rech_num_6', 'total_rech_num_7', 'total_rech_num_8', 'total_rech_amt_6', 'total_rech_amt_7', 'total_rech_amt_8', 'monthly_2g_6', 'monthly_2g_7', 'monthly_2g_8', 'sachet_2g_6', 'sachet_2g_7', 'sachet_2g_8', 'monthly_3g_6', 'monthly_3g_7', 'monthly_3g_8', 'sachet_3g_6', 'sachet_3g_7', 'sachet_3g_8', 'aon', 'churn']\n"
     ]
    }
   ],
   "source": [
    "df_ints = churn_dataset_filtered_train[t]\n",
    "print(df_ints.describe())\n",
    "low_max = []\n",
    "for i in t:\n",
    "     if max(df_ints[i]) > 2*np.std(df_ints[i])+np.mean(df_ints[i]):\n",
    "       low_max.append(i) \n",
    "print(low_max)"
   ]
  },
  {
   "cell_type": "code",
   "execution_count": 364,
   "metadata": {},
   "outputs": [],
   "source": [
    "#uniquevals_newcols = list(filter(lambda x:len(churn_dataset_filtered_train[x].unique)>0,new_columns))\n",
    "#print(len(uniquevals_newcols))"
   ]
  },
  {
   "cell_type": "code",
   "execution_count": 365,
   "metadata": {},
   "outputs": [],
   "source": [
    "#print(low_max)"
   ]
  },
  {
   "cell_type": "markdown",
   "metadata": {},
   "source": [
    "For outlier treatment first lets get the mean and standard deviation of each of the numeric columns dropping churn and \n",
    "circle_id.As the circle_id is categorical varaible so it cannot have outliers."
   ]
  },
  {
   "cell_type": "code",
   "execution_count": 366,
   "metadata": {},
   "outputs": [],
   "source": [
    "churn = churn_dataset_filtered_train['churn']\n",
    "circle_id = churn_dataset_filtered_train['circle_id']\n",
    "back_churndataset = churn_dataset_filtered_train\n",
    "churn_dataset_filtered_train = churn_dataset_filtered_train.drop(['circle_id','churn'],axis = 1)"
   ]
  },
  {
   "cell_type": "code",
   "execution_count": 367,
   "metadata": {},
   "outputs": [
    {
     "name": "stdout",
     "output_type": "stream",
     "text": [
      "monthly_2g_6\n",
      "15660\n",
      "5\n"
     ]
    }
   ],
   "source": [
    "uniquevals_newcols = list(filter(lambda x:len(churn_dataset_filtered_train[x].unique())>0,churn_dataset_filtered_train.columns))\n",
    "t = []\n",
    "for j in uniquevals_newcols:\n",
    "    t.append(len(churn_dataset_filtered_train[j].unique()))\n",
    "    if len(churn_dataset_filtered_train[j].unique()) ==5:\n",
    "        print(j)\n",
    "print(max(t))\n",
    "print(min(t))"
   ]
  },
  {
   "cell_type": "markdown",
   "metadata": {},
   "source": [
    "We can drop the outliers that are more than 2 standard deviations away from mean of each column\n"
   ]
  },
  {
   "cell_type": "code",
   "execution_count": 368,
   "metadata": {},
   "outputs": [],
   "source": [
    "indexes_tobedropped = remove_Outliers(churn_dataset_filtered_train)\n"
   ]
  },
  {
   "cell_type": "code",
   "execution_count": 369,
   "metadata": {},
   "outputs": [
    {
     "name": "stdout",
     "output_type": "stream",
     "text": [
      "921\n"
     ]
    }
   ],
   "source": [
    "print(len(indexes_tobedropped))"
   ]
  },
  {
   "cell_type": "code",
   "execution_count": 371,
   "metadata": {},
   "outputs": [],
   "source": [
    "churn_dataset_filtered_train = back_churndataset\n",
    "back_churn_2 = churn_dataset_filtered_train"
   ]
  },
  {
   "cell_type": "code",
   "execution_count": 372,
   "metadata": {},
   "outputs": [
    {
     "name": "stdout",
     "output_type": "stream",
     "text": [
      "(29953, 94)\n"
     ]
    }
   ],
   "source": [
    "print(churn_dataset_filtered_train.shape)"
   ]
  },
  {
   "cell_type": "code",
   "execution_count": 373,
   "metadata": {},
   "outputs": [],
   "source": [
    "cf2 = churn_dataset_filtered_train.drop(churn_dataset_filtered_train.index[indexes_tobedropped])"
   ]
  },
  {
   "cell_type": "code",
   "execution_count": 377,
   "metadata": {},
   "outputs": [
    {
     "name": "stdout",
     "output_type": "stream",
     "text": [
      "(29032, 94)\n"
     ]
    }
   ],
   "source": [
    "cf2.shape\n",
    "cf3 = cf2\n",
    "cf3.columns\n",
    "print(cf3.shape)"
   ]
  },
  {
   "cell_type": "code",
   "execution_count": 378,
   "metadata": {},
   "outputs": [],
   "source": [
    "cf3[cf3.columns] = preprocessing.StandardScaler().fit_transform(cf3[cf3.columns])"
   ]
  },
  {
   "cell_type": "code",
   "execution_count": 379,
   "metadata": {},
   "outputs": [
    {
     "data": {
      "text/html": [
       "<div>\n",
       "<style scoped>\n",
       "    .dataframe tbody tr th:only-of-type {\n",
       "        vertical-align: middle;\n",
       "    }\n",
       "\n",
       "    .dataframe tbody tr th {\n",
       "        vertical-align: top;\n",
       "    }\n",
       "\n",
       "    .dataframe thead th {\n",
       "        text-align: right;\n",
       "    }\n",
       "</style>\n",
       "<table border=\"1\" class=\"dataframe\">\n",
       "  <thead>\n",
       "    <tr style=\"text-align: right;\">\n",
       "      <th></th>\n",
       "      <th>circle_id</th>\n",
       "      <th>roam_ic_mou_6</th>\n",
       "      <th>roam_ic_mou_7</th>\n",
       "      <th>roam_ic_mou_8</th>\n",
       "      <th>roam_og_mou_6</th>\n",
       "      <th>roam_og_mou_7</th>\n",
       "      <th>roam_og_mou_8</th>\n",
       "      <th>loc_og_t2t_mou_6</th>\n",
       "      <th>loc_og_t2t_mou_7</th>\n",
       "      <th>loc_og_t2t_mou_8</th>\n",
       "      <th>...</th>\n",
       "      <th>sachet_3g_8</th>\n",
       "      <th>aon</th>\n",
       "      <th>aug_vbc_3g</th>\n",
       "      <th>jul_vbc_3g</th>\n",
       "      <th>jun_vbc_3g</th>\n",
       "      <th>sep_vbc_3g</th>\n",
       "      <th>avg_recharge_amt</th>\n",
       "      <th>total_data_rech_month_6</th>\n",
       "      <th>total_data_rech_month_7</th>\n",
       "      <th>churn</th>\n",
       "    </tr>\n",
       "  </thead>\n",
       "  <tbody>\n",
       "    <tr>\n",
       "      <td>0</td>\n",
       "      <td>0.0</td>\n",
       "      <td>-0.210737</td>\n",
       "      <td>-0.167432</td>\n",
       "      <td>-0.168874</td>\n",
       "      <td>-0.228562</td>\n",
       "      <td>-0.210150</td>\n",
       "      <td>-0.192313</td>\n",
       "      <td>-0.305479</td>\n",
       "      <td>-0.314395</td>\n",
       "      <td>-0.351470</td>\n",
       "      <td>...</td>\n",
       "      <td>-0.204639</td>\n",
       "      <td>-0.253676</td>\n",
       "      <td>-0.331738</td>\n",
       "      <td>-0.420258</td>\n",
       "      <td>-0.104234</td>\n",
       "      <td>-0.073020</td>\n",
       "      <td>-0.623055</td>\n",
       "      <td>-0.136459</td>\n",
       "      <td>-0.183639</td>\n",
       "      <td>3.330410</td>\n",
       "    </tr>\n",
       "    <tr>\n",
       "      <td>7</td>\n",
       "      <td>0.0</td>\n",
       "      <td>0.008841</td>\n",
       "      <td>0.297989</td>\n",
       "      <td>0.282723</td>\n",
       "      <td>-0.019695</td>\n",
       "      <td>-0.073461</td>\n",
       "      <td>0.191772</td>\n",
       "      <td>-0.142180</td>\n",
       "      <td>-0.226399</td>\n",
       "      <td>-0.166230</td>\n",
       "      <td>...</td>\n",
       "      <td>-0.204639</td>\n",
       "      <td>-0.426800</td>\n",
       "      <td>-0.254522</td>\n",
       "      <td>-0.367982</td>\n",
       "      <td>-0.342601</td>\n",
       "      <td>-0.146346</td>\n",
       "      <td>0.228486</td>\n",
       "      <td>-0.475723</td>\n",
       "      <td>-0.483632</td>\n",
       "      <td>3.330410</td>\n",
       "    </tr>\n",
       "    <tr>\n",
       "      <td>8</td>\n",
       "      <td>0.0</td>\n",
       "      <td>-0.210737</td>\n",
       "      <td>-0.167432</td>\n",
       "      <td>-0.168874</td>\n",
       "      <td>-0.228562</td>\n",
       "      <td>-0.210150</td>\n",
       "      <td>-0.192313</td>\n",
       "      <td>0.963308</td>\n",
       "      <td>0.576037</td>\n",
       "      <td>-0.294031</td>\n",
       "      <td>...</td>\n",
       "      <td>-0.204639</td>\n",
       "      <td>-0.934700</td>\n",
       "      <td>-0.358202</td>\n",
       "      <td>2.036159</td>\n",
       "      <td>-0.043644</td>\n",
       "      <td>-0.146346</td>\n",
       "      <td>-0.436696</td>\n",
       "      <td>-0.475723</td>\n",
       "      <td>-0.062213</td>\n",
       "      <td>-0.300263</td>\n",
       "    </tr>\n",
       "    <tr>\n",
       "      <td>21</td>\n",
       "      <td>0.0</td>\n",
       "      <td>-0.210737</td>\n",
       "      <td>-0.167432</td>\n",
       "      <td>-0.168874</td>\n",
       "      <td>-0.228562</td>\n",
       "      <td>-0.210150</td>\n",
       "      <td>-0.192313</td>\n",
       "      <td>-0.353209</td>\n",
       "      <td>-0.335080</td>\n",
       "      <td>-0.244134</td>\n",
       "      <td>...</td>\n",
       "      <td>-0.204639</td>\n",
       "      <td>-0.512319</td>\n",
       "      <td>-0.417597</td>\n",
       "      <td>-0.420258</td>\n",
       "      <td>-0.396773</td>\n",
       "      <td>-0.146346</td>\n",
       "      <td>-0.512872</td>\n",
       "      <td>-0.475723</td>\n",
       "      <td>-0.483632</td>\n",
       "      <td>-0.300263</td>\n",
       "    </tr>\n",
       "    <tr>\n",
       "      <td>23</td>\n",
       "      <td>0.0</td>\n",
       "      <td>-0.210737</td>\n",
       "      <td>-0.167432</td>\n",
       "      <td>-0.168874</td>\n",
       "      <td>-0.228562</td>\n",
       "      <td>-0.210150</td>\n",
       "      <td>-0.192313</td>\n",
       "      <td>-0.153111</td>\n",
       "      <td>-0.143316</td>\n",
       "      <td>-0.197042</td>\n",
       "      <td>...</td>\n",
       "      <td>1.139497</td>\n",
       "      <td>-0.633297</td>\n",
       "      <td>-0.303354</td>\n",
       "      <td>-0.280369</td>\n",
       "      <td>-0.396773</td>\n",
       "      <td>-0.146346</td>\n",
       "      <td>-0.590408</td>\n",
       "      <td>-0.475723</td>\n",
       "      <td>0.363967</td>\n",
       "      <td>-0.300263</td>\n",
       "    </tr>\n",
       "  </tbody>\n",
       "</table>\n",
       "<p>5 rows × 94 columns</p>\n",
       "</div>"
      ],
      "text/plain": [
       "    circle_id  roam_ic_mou_6  roam_ic_mou_7  roam_ic_mou_8  roam_og_mou_6  \\\n",
       "0         0.0      -0.210737      -0.167432      -0.168874      -0.228562   \n",
       "7         0.0       0.008841       0.297989       0.282723      -0.019695   \n",
       "8         0.0      -0.210737      -0.167432      -0.168874      -0.228562   \n",
       "21        0.0      -0.210737      -0.167432      -0.168874      -0.228562   \n",
       "23        0.0      -0.210737      -0.167432      -0.168874      -0.228562   \n",
       "\n",
       "    roam_og_mou_7  roam_og_mou_8  loc_og_t2t_mou_6  loc_og_t2t_mou_7  \\\n",
       "0       -0.210150      -0.192313         -0.305479         -0.314395   \n",
       "7       -0.073461       0.191772         -0.142180         -0.226399   \n",
       "8       -0.210150      -0.192313          0.963308          0.576037   \n",
       "21      -0.210150      -0.192313         -0.353209         -0.335080   \n",
       "23      -0.210150      -0.192313         -0.153111         -0.143316   \n",
       "\n",
       "    loc_og_t2t_mou_8  ...  sachet_3g_8       aon  aug_vbc_3g  jul_vbc_3g  \\\n",
       "0          -0.351470  ...    -0.204639 -0.253676   -0.331738   -0.420258   \n",
       "7          -0.166230  ...    -0.204639 -0.426800   -0.254522   -0.367982   \n",
       "8          -0.294031  ...    -0.204639 -0.934700   -0.358202    2.036159   \n",
       "21         -0.244134  ...    -0.204639 -0.512319   -0.417597   -0.420258   \n",
       "23         -0.197042  ...     1.139497 -0.633297   -0.303354   -0.280369   \n",
       "\n",
       "    jun_vbc_3g  sep_vbc_3g  avg_recharge_amt  total_data_rech_month_6  \\\n",
       "0    -0.104234   -0.073020         -0.623055                -0.136459   \n",
       "7    -0.342601   -0.146346          0.228486                -0.475723   \n",
       "8    -0.043644   -0.146346         -0.436696                -0.475723   \n",
       "21   -0.396773   -0.146346         -0.512872                -0.475723   \n",
       "23   -0.396773   -0.146346         -0.590408                -0.475723   \n",
       "\n",
       "    total_data_rech_month_7     churn  \n",
       "0                 -0.183639  3.330410  \n",
       "7                 -0.483632  3.330410  \n",
       "8                 -0.062213 -0.300263  \n",
       "21                -0.483632 -0.300263  \n",
       "23                 0.363967 -0.300263  \n",
       "\n",
       "[5 rows x 94 columns]"
      ]
     },
     "execution_count": 379,
     "metadata": {},
     "output_type": "execute_result"
    }
   ],
   "source": [
    "cf3.head()"
   ]
  },
  {
   "cell_type": "code",
   "execution_count": 383,
   "metadata": {},
   "outputs": [],
   "source": [
    "scaled_churndata = cf3"
   ]
  },
  {
   "cell_type": "code",
   "execution_count": 384,
   "metadata": {},
   "outputs": [],
   "source": [
    "#cf5 = scaled_churndata\n",
    "churn_filtered = churn.drop(churn.index[indexes_tobedropped])\n",
    "scaled_churndata['churn'] = churn_filtered\n"
   ]
  },
  {
   "cell_type": "code",
   "execution_count": 388,
   "metadata": {},
   "outputs": [],
   "source": [
    "scaled_churndata = scaled_churndata.drop(['circle_id'],axis = 1)"
   ]
  },
  {
   "cell_type": "code",
   "execution_count": null,
   "metadata": {},
   "outputs": [],
   "source": []
  },
  {
   "cell_type": "code",
   "execution_count": 202,
   "metadata": {},
   "outputs": [],
   "source": []
  },
  {
   "cell_type": "code",
   "execution_count": null,
   "metadata": {},
   "outputs": [],
   "source": []
  }
 ],
 "metadata": {
  "kernelspec": {
   "display_name": "Python 3",
   "language": "python",
   "name": "python3"
  },
  "language_info": {
   "codemirror_mode": {
    "name": "ipython",
    "version": 3
   },
   "file_extension": ".py",
   "mimetype": "text/x-python",
   "name": "python",
   "nbconvert_exporter": "python",
   "pygments_lexer": "ipython3",
   "version": "3.7.4"
  }
 },
 "nbformat": 4,
 "nbformat_minor": 2
}
