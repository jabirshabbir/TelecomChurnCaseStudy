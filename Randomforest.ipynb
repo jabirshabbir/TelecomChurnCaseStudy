{
 "cells": [
  {
   "cell_type": "code",
   "execution_count": 1,
   "metadata": {},
   "outputs": [],
   "source": [
    "import numpy as np\n",
    "import pandas as pd\n",
    "import re\n",
    "from matplotlib import pyplot as plt\n",
    "from sklearn.model_selection import train_test_split\n",
    "from sklearn import preprocessing\n",
    "import seaborn as snb\n",
    "from sklearn.linear_model import LogisticRegression\n",
    "from sklearn import metrics\n",
    "from sklearn.model_selection import KFold\n",
    "from sklearn.model_selection import cross_val_score\n",
    "from sklearn.model_selection import GridSearchCV\n",
    "from sklearn.model_selection import KFold\n",
    "from sklearn.feature_selection import RFE\n",
    "from matplotlib import pyplot as plt\n",
    "from sklearn.decomposition import IncrementalPCA\n",
    "from sklearn.ensemble import RandomForestClassifier"
   ]
  },
  {
   "cell_type": "code",
   "execution_count": 2,
   "metadata": {},
   "outputs": [],
   "source": [
    "def draw_roc( actual, predicted ):\n",
    "    fpr, tpr, thresholds = metrics.roc_curve( actual, predicted,\n",
    "                                              drop_intermediate = False )\n",
    "    auc_score = metrics.roc_auc_score( actual, predicted )\n",
    "    plt.figure(figsize=(5, 5))\n",
    "    plt.plot( fpr, tpr, label='ROC curve (area = %0.2f)' % auc_score )\n",
    "    plt.plot([0, 1], [0, 1], 'k--')\n",
    "    plt.xlim([0.0, 1.0])\n",
    "    plt.ylim([0.0, 1.05])\n",
    "    plt.xlabel('False Positive Rate')\n",
    "    plt.ylabel('True Positive Rate')\n",
    "    plt.title('ROC curve')\n",
    "    plt.legend(loc=\"lower right\")\n",
    "    plt.show()\n",
    "\n",
    "    return None"
   ]
  },
  {
   "cell_type": "code",
   "execution_count": 3,
   "metadata": {},
   "outputs": [],
   "source": [
    "scaled_churn_data = pd.read_csv('traindata.csv')"
   ]
  },
  {
   "cell_type": "code",
   "execution_count": 4,
   "metadata": {},
   "outputs": [],
   "source": [
    "#t = pd.read_csv('telecom_churn_data.csv')\n",
    "scaled_churn_data['Unnamed: 0'].head()\n",
    "scaled_churn_data = scaled_churn_data.drop(['Unnamed: 0'],axis = 1)"
   ]
  },
  {
   "cell_type": "code",
   "execution_count": 5,
   "metadata": {},
   "outputs": [],
   "source": [
    "churn = scaled_churn_data['churn']\n",
    "scaled_churn_data = scaled_churn_data.drop(['churn'],axis = 1)"
   ]
  },
  {
   "cell_type": "code",
   "execution_count": 6,
   "metadata": {},
   "outputs": [],
   "source": [
    "#load test data\n",
    "scaled_churn_data_test = pd.read_csv('testdata.csv')\n",
    "churn_test = scaled_churn_data_test['churn']\n",
    "scaled_churn_data_test = scaled_churn_data_test.drop(['churn'],axis = 1)"
   ]
  },
  {
   "cell_type": "code",
   "execution_count": 7,
   "metadata": {},
   "outputs": [],
   "source": [
    "scaled_churn_data_test = scaled_churn_data_test.drop(['Unnamed: 0'],axis = 1)"
   ]
  },
  {
   "cell_type": "code",
   "execution_count": 8,
   "metadata": {},
   "outputs": [
    {
     "data": {
      "text/plain": [
       "(8710, 92)"
      ]
     },
     "execution_count": 8,
     "metadata": {},
     "output_type": "execute_result"
    }
   ],
   "source": [
    "scaled_churn_data_test.shape"
   ]
  },
  {
   "cell_type": "code",
   "execution_count": 9,
   "metadata": {},
   "outputs": [
    {
     "data": {
      "text/plain": [
       "PCA(copy=True, iterated_power='auto', n_components=None, random_state=42,\n",
       "    svd_solver='randomized', tol=0.0, whiten=False)"
      ]
     },
     "execution_count": 9,
     "metadata": {},
     "output_type": "execute_result"
    }
   ],
   "source": [
    "from sklearn.decomposition import PCA\n",
    "pca = PCA(svd_solver='randomized', random_state=42)\n",
    "pca.fit(scaled_churn_data)"
   ]
  },
  {
   "cell_type": "code",
   "execution_count": 10,
   "metadata": {},
   "outputs": [
    {
     "data": {
      "image/png": "[encoded data removed]",
      "text/plain": [
       "<Figure size 864x576 with 1 Axes>"
      ]
     },
     "metadata": {
      "needs_background": "light"
     },
     "output_type": "display_data"
    }
   ],
   "source": [
    "%matplotlib inline\n",
    "fig = plt.figure(figsize = (12,8))\n",
    "plt.plot(np.cumsum(pca.explained_variance_ratio_))\n",
    "plt.xlabel('number of components')\n",
    "plt.ylabel('cumulative explained variance')\n",
    "plt.show()"
   ]
  },
  {
   "cell_type": "code",
   "execution_count": 11,
   "metadata": {},
   "outputs": [
    {
     "data": {
      "text/plain": [
       "array([0.09838618, 0.16740066, 0.22079918, 0.27109559, 0.30837961,\n",
       "       0.34285463, 0.37595014, 0.40734188, 0.43596058, 0.4640006 ,\n",
       "       0.49099546, 0.51687521, 0.54225951, 0.56581505, 0.58867173,\n",
       "       0.61075119, 0.63089856, 0.64867243, 0.66642053, 0.68360623,\n",
       "       0.70051108, 0.71489059, 0.72760848, 0.74022213, 0.7520219 ,\n",
       "       0.76301299, 0.77353228, 0.7839335 , 0.79369309, 0.80335742,\n",
       "       0.81272438, 0.82173155, 0.83053093, 0.83834258, 0.84566504,\n",
       "       0.85279727, 0.85939224, 0.86560531, 0.87172574, 0.87736893,\n",
       "       0.88278113, 0.88814958, 0.89334096, 0.89824256, 0.90305048,\n",
       "       0.90767112, 0.91221498, 0.91668393, 0.92084487, 0.92489459,\n",
       "       0.92877229, 0.93253345, 0.93627213, 0.93995475, 0.94355104,\n",
       "       0.94700803, 0.95034958, 0.9534122 , 0.95633781, 0.95919303,\n",
       "       0.96192615, 0.96444992, 0.96690931, 0.96935704, 0.97162356,\n",
       "       0.97383702, 0.97593115, 0.9779681 , 0.9799049 , 0.98174601,\n",
       "       0.98357025, 0.98530431, 0.98698457, 0.98862659, 0.99019369,\n",
       "       0.99168204, 0.99299915, 0.99424558, 0.99539689, 0.9965048 ,\n",
       "       0.99747063, 0.99831008, 0.99904152, 0.99960433, 1.        ,\n",
       "       1.        , 1.        , 1.        , 1.        , 1.        ,\n",
       "       1.        , 1.        ])"
      ]
     },
     "execution_count": 11,
     "metadata": {},
     "output_type": "execute_result"
    }
   ],
   "source": [
    "np.cumsum(pca.explained_variance_ratio_)"
   ]
  },
  {
   "cell_type": "code",
   "execution_count": 12,
   "metadata": {},
   "outputs": [
    {
     "data": {
      "text/plain": [
       "(20322, 57)"
      ]
     },
     "execution_count": 12,
     "metadata": {},
     "output_type": "execute_result"
    }
   ],
   "source": [
    "#however we can take incremental PCA to get the values of data corresponding to new components\n",
    "pca_final = IncrementalPCA(n_components=57)\n",
    "churn_data_pca = pca_final.fit_transform(scaled_churn_data)\n",
    "churn_data_pca.shape"
   ]
  },
  {
   "cell_type": "code",
   "execution_count": 13,
   "metadata": {},
   "outputs": [],
   "source": [
    "churn_test_data = pca_final.transform(scaled_churn_data_test)"
   ]
  },
  {
   "cell_type": "code",
   "execution_count": 40,
   "metadata": {},
   "outputs": [],
   "source": [
    "folds = KFold(n_splits = 5,shuffle = True,random_state = 4)\n",
    "#hyperparameters = {'max_depth': [10,15,20,25,30,35,40,45,50],'min_samples_leaf':range(10,310,10),'n_estimators': range(50,750, 50),'max_features':range(10,45,5)}\n",
    "hyperparameters = {'max_depth': [15,30,50],'min_samples_leaf':[30,150,300],'n_estimators': [50,140,80],'max_features':[5,25,50]}"
   ]
  },
  {
   "cell_type": "code",
   "execution_count": 41,
   "metadata": {},
   "outputs": [
    {
     "name": "stdout",
     "output_type": "stream",
     "text": [
      "Fitting 5 folds for each of 81 candidates, totalling 405 fits\n"
     ]
    },
    {
     "name": "stderr",
     "output_type": "stream",
     "text": [
      "[Parallel(n_jobs=30)]: Using backend LokyBackend with 30 concurrent workers.\n",
      "[Parallel(n_jobs=30)]: Done 140 tasks      | elapsed: 17.3min\n",
      "[Parallel(n_jobs=30)]: Done 405 out of 405 | elapsed: 50.4min finished\n"
     ]
    }
   ],
   "source": [
    "rf = RandomForestClassifier( bootstrap=True,class_weight='balanced')\n",
    "grid_search = GridSearchCV(estimator = rf, param_grid = hyperparameters, \n",
    "                          cv = 5, n_jobs = 30,verbose = 1,scoring = 'f1')\n",
    "grid_search.fit(churn_data_pca,churn)\n",
    "res = pd.DataFrame(grid_search.cv_results_)\n",
    "res.to_csv('RandomForestGridSearchResult.csv')"
   ]
  },
  {
   "cell_type": "code",
   "execution_count": 43,
   "metadata": {},
   "outputs": [
    {
     "data": {
      "text/plain": [
       "RandomForestClassifier(bootstrap=True, class_weight='balanced',\n",
       "                       criterion='gini', max_depth=30, max_features=5,\n",
       "                       max_leaf_nodes=None, min_impurity_decrease=0.0,\n",
       "                       min_impurity_split=None, min_samples_leaf=30,\n",
       "                       min_samples_split=2, min_weight_fraction_leaf=0.0,\n",
       "                       n_estimators=140, n_jobs=None, oob_score=False,\n",
       "                       random_state=None, verbose=0, warm_start=False)"
      ]
     },
     "execution_count": 43,
     "metadata": {},
     "output_type": "execute_result"
    }
   ],
   "source": [
    "rfc = RandomForestClassifier( bootstrap=True,class_weight='balanced',max_depth = 30,max_features = 5,min_samples_leaf = 30,n_estimators = 140)\n",
    "rfc.fit(churn_data_pca,churn)"
   ]
  },
  {
   "cell_type": "code",
   "execution_count": 46,
   "metadata": {},
   "outputs": [],
   "source": [
    "predict_train = rfc.predict(churn_data_pca)\n",
    "predict_test = rfc.predict(churn_test_data)"
   ]
  },
  {
   "cell_type": "code",
   "execution_count": 47,
   "metadata": {},
   "outputs": [
    {
     "name": "stdout",
     "output_type": "stream",
     "text": [
      "[[17296  1350]\n",
      " [  211  1465]]\n",
      "0.9231866942230096\n"
     ]
    }
   ],
   "source": [
    "print(metrics.confusion_matrix(churn,predict_train))\n",
    "print(metrics.accuracy_score(churn,predict_train))"
   ]
  },
  {
   "cell_type": "code",
   "execution_count": 49,
   "metadata": {},
   "outputs": [
    {
     "name": "stdout",
     "output_type": "stream",
     "text": [
      "[[7280  705]\n",
      " [ 251  474]]\n",
      "0.8902411021814007\n"
     ]
    }
   ],
   "source": [
    "print(metrics.confusion_matrix(churn_test,predict_test))\n",
    "print(metrics.accuracy_score(churn_test,predict_test))"
   ]
  },
  {
   "cell_type": "code",
   "execution_count": 50,
   "metadata": {},
   "outputs": [
    {
     "data": {
      "text/plain": [
       "RandomForestClassifier(bootstrap=True, class_weight='balanced',\n",
       "                       criterion='gini', max_depth=15, max_features=25,\n",
       "                       max_leaf_nodes=None, min_impurity_decrease=0.0,\n",
       "                       min_impurity_split=None, min_samples_leaf=30,\n",
       "                       min_samples_split=2, min_weight_fraction_leaf=0.0,\n",
       "                       n_estimators=140, n_jobs=None, oob_score=False,\n",
       "                       random_state=None, verbose=0, warm_start=False)"
      ]
     },
     "execution_count": 50,
     "metadata": {},
     "output_type": "execute_result"
    }
   ],
   "source": [
    "rfc = RandomForestClassifier( bootstrap=True,class_weight='balanced',max_depth = 15,max_features = 25,min_samples_leaf = 30,n_estimators = 140)\n",
    "rfc.fit(churn_data_pca,churn)"
   ]
  },
  {
   "cell_type": "code",
   "execution_count": 51,
   "metadata": {},
   "outputs": [],
   "source": [
    "predict_train = rfc.predict(churn_data_pca)\n",
    "predict_test = rfc.predict(churn_test_data)"
   ]
  },
  {
   "cell_type": "code",
   "execution_count": 52,
   "metadata": {},
   "outputs": [
    {
     "name": "stdout",
     "output_type": "stream",
     "text": [
      "[[17237  1409]\n",
      " [  197  1479]]\n",
      "0.9209723452416101\n"
     ]
    }
   ],
   "source": [
    "print(metrics.confusion_matrix(churn,predict_train))\n",
    "print(metrics.accuracy_score(churn,predict_train))"
   ]
  },
  {
   "cell_type": "code",
   "execution_count": 53,
   "metadata": {},
   "outputs": [
    {
     "name": "stdout",
     "output_type": "stream",
     "text": [
      "[[7271  714]\n",
      " [ 243  482]]\n",
      "0.890126291618829\n"
     ]
    }
   ],
   "source": [
    "print(metrics.confusion_matrix(churn_test,predict_test))\n",
    "print(metrics.accuracy_score(churn_test,predict_test))"
   ]
  },
  {
   "cell_type": "code",
   "execution_count": 66,
   "metadata": {},
   "outputs": [
    {
     "data": {
      "text/plain": [
       "RandomForestClassifier(bootstrap=True, class_weight='balanced',\n",
       "                       criterion='gini', max_depth=15, max_features=40,\n",
       "                       max_leaf_nodes=None, min_impurity_decrease=0.0,\n",
       "                       min_impurity_split=None, min_samples_leaf=400,\n",
       "                       min_samples_split=2, min_weight_fraction_leaf=0.0,\n",
       "                       n_estimators=80, n_jobs=None, oob_score=False,\n",
       "                       random_state=None, verbose=0, warm_start=False)"
      ]
     },
     "execution_count": 66,
     "metadata": {},
     "output_type": "execute_result"
    }
   ],
   "source": [
    "rfc = RandomForestClassifier( bootstrap=True,class_weight='balanced',max_depth = 15,max_features = 40,min_samples_leaf = 400,n_estimators = 80)\n",
    "rfc.fit(churn_data_pca,churn)"
   ]
  },
  {
   "cell_type": "code",
   "execution_count": 67,
   "metadata": {},
   "outputs": [],
   "source": [
    "predict_train = rfc.predict(churn_data_pca)\n",
    "predict_test = rfc.predict(churn_test_data)"
   ]
  },
  {
   "cell_type": "code",
   "execution_count": 68,
   "metadata": {},
   "outputs": [
    {
     "name": "stdout",
     "output_type": "stream",
     "text": [
      "[[14915  3731]\n",
      " [  340  1336]]\n",
      "0.7996752288160615\n"
     ]
    }
   ],
   "source": [
    "print(metrics.confusion_matrix(churn,predict_train))\n",
    "print(metrics.accuracy_score(churn,predict_train))"
   ]
  },
  {
   "cell_type": "code",
   "execution_count": 69,
   "metadata": {},
   "outputs": [
    {
     "name": "stdout",
     "output_type": "stream",
     "text": [
      "[[6264 1721]\n",
      " [ 161  564]]\n",
      "0.7839265212399541\n"
     ]
    }
   ],
   "source": [
    "print(metrics.confusion_matrix(churn_test,predict_test))\n",
    "print(metrics.accuracy_score(churn_test,predict_test))"
   ]
  },
  {
   "cell_type": "code",
   "execution_count": 84,
   "metadata": {},
   "outputs": [
    {
     "data": {
      "text/plain": [
       "RandomForestClassifier(bootstrap=True, class_weight='balanced',\n",
       "                       criterion='gini', max_depth=30, max_features=50,\n",
       "                       max_leaf_nodes=None, min_impurity_decrease=0.0,\n",
       "                       min_impurity_split=None, min_samples_leaf=330,\n",
       "                       min_samples_split=2, min_weight_fraction_leaf=0.0,\n",
       "                       n_estimators=140, n_jobs=None, oob_score=False,\n",
       "                       random_state=None, verbose=0, warm_start=False)"
      ]
     },
     "execution_count": 84,
     "metadata": {},
     "output_type": "execute_result"
    }
   ],
   "source": [
    "rfc = RandomForestClassifier( bootstrap=True,class_weight='balanced',max_depth = 30,max_features = 50,min_samples_leaf = 330,n_estimators = 140)\n",
    "rfc.fit(churn_data_pca,churn)"
   ]
  },
  {
   "cell_type": "code",
   "execution_count": 85,
   "metadata": {},
   "outputs": [],
   "source": [
    "predict_train = rfc.predict(churn_data_pca)\n",
    "predict_test = rfc.predict(churn_test_data)"
   ]
  },
  {
   "cell_type": "code",
   "execution_count": 86,
   "metadata": {},
   "outputs": [
    {
     "name": "stdout",
     "output_type": "stream",
     "text": [
      "[[14908  3738]\n",
      " [  340  1336]]\n",
      "0.799330774530066\n"
     ]
    }
   ],
   "source": [
    "print(metrics.confusion_matrix(churn,predict_train))\n",
    "print(metrics.accuracy_score(churn,predict_train))"
   ]
  },
  {
   "cell_type": "code",
   "execution_count": 87,
   "metadata": {},
   "outputs": [
    {
     "name": "stdout",
     "output_type": "stream",
     "text": [
      "[[6295 1690]\n",
      " [ 160  565]]\n",
      "0.7876004592422503\n"
     ]
    }
   ],
   "source": [
    "print(metrics.confusion_matrix(churn_test,predict_test))\n",
    "print(metrics.accuracy_score(churn_test,predict_test))"
   ]
  },
  {
   "cell_type": "code",
   "execution_count": null,
   "metadata": {},
   "outputs": [],
   "source": [
    "#Gid search with recall score"
   ]
  },
  {
   "cell_type": "code",
   "execution_count": null,
   "metadata": {},
   "outputs": [],
   "source": [
    "folds = KFold(n_splits = 5,shuffle = True,random_state = 4)\n",
    "#hyperparameters = {'max_depth': [10,15,20,25,30,35,40,45,50],'min_samples_leaf':range(10,310,10),'n_estimators': range(50,750, 50),'max_features':range(10,45,5)}\n",
    "hyperparameters = {'max_depth': [15,30,50],'min_samples_leaf':[30,150,300],'n_estimators': [50,140,80],'max_features':[5,25,50]}"
   ]
  },
  {
   "cell_type": "code",
   "execution_count": 88,
   "metadata": {},
   "outputs": [
    {
     "name": "stdout",
     "output_type": "stream",
     "text": [
      "Fitting 5 folds for each of 81 candidates, totalling 405 fits\n"
     ]
    },
    {
     "name": "stderr",
     "output_type": "stream",
     "text": [
      "[Parallel(n_jobs=30)]: Using backend LokyBackend with 30 concurrent workers.\n",
      "[Parallel(n_jobs=30)]: Done 140 tasks      | elapsed: 22.0min\n",
      "[Parallel(n_jobs=30)]: Done 405 out of 405 | elapsed: 56.6min finished\n"
     ]
    }
   ],
   "source": [
    "rf = RandomForestClassifier( bootstrap=True,class_weight='balanced')\n",
    "grid_search = GridSearchCV(estimator = rf, param_grid = hyperparameters, \n",
    "                          cv = 5, n_jobs = 30,verbose = 1,scoring = 'recall',return_train_score = True)\n",
    "grid_search.fit(churn_data_pca,churn)\n",
    "res = pd.DataFrame(grid_search.cv_results_)\n",
    "res.to_csv('RandomForestGridSearchResult_Recall.csv')"
   ]
  },
  {
   "cell_type": "code",
   "execution_count": 89,
   "metadata": {},
   "outputs": [
    {
     "data": {
      "text/plain": [
       "RandomForestClassifier(bootstrap=True, class_weight='balanced',\n",
       "                       criterion='gini', max_depth=50, max_features=25,\n",
       "                       max_leaf_nodes=None, min_impurity_decrease=0.0,\n",
       "                       min_impurity_split=None, min_samples_leaf=300,\n",
       "                       min_samples_split=2, min_weight_fraction_leaf=0.0,\n",
       "                       n_estimators=80, n_jobs=None, oob_score=False,\n",
       "                       random_state=None, verbose=0, warm_start=False)"
      ]
     },
     "execution_count": 89,
     "metadata": {},
     "output_type": "execute_result"
    }
   ],
   "source": [
    "rfc = RandomForestClassifier( bootstrap=True,class_weight='balanced',max_depth = 50,max_features = 25,min_samples_leaf = 300,n_estimators = 80)\n",
    "rfc.fit(churn_data_pca,churn)"
   ]
  },
  {
   "cell_type": "code",
   "execution_count": 90,
   "metadata": {},
   "outputs": [],
   "source": [
    "predict_train = rfc.predict(churn_data_pca)\n",
    "predict_test = rfc.predict(churn_test_data)"
   ]
  },
  {
   "cell_type": "code",
   "execution_count": 91,
   "metadata": {},
   "outputs": [
    {
     "name": "stdout",
     "output_type": "stream",
     "text": [
      "[[15404  3242]\n",
      " [  330  1346]]\n",
      "0.8242298986320244\n"
     ]
    }
   ],
   "source": [
    "print(metrics.confusion_matrix(churn,predict_train))\n",
    "print(metrics.accuracy_score(churn,predict_train))"
   ]
  },
  {
   "cell_type": "code",
   "execution_count": 92,
   "metadata": {},
   "outputs": [
    {
     "name": "stdout",
     "output_type": "stream",
     "text": [
      "[[6501 1484]\n",
      " [ 163  562]]\n",
      "0.8109070034443169\n"
     ]
    }
   ],
   "source": [
    "print(metrics.confusion_matrix(churn_test,predict_test))\n",
    "print(metrics.accuracy_score(churn_test,predict_test))"
   ]
  },
  {
   "cell_type": "code",
   "execution_count": null,
   "metadata": {},
   "outputs": [],
   "source": [
    "#Boosting Model"
   ]
  },
  {
   "cell_type": "code",
   "execution_count": 23,
   "metadata": {},
   "outputs": [],
   "source": [
    "#from sklearn.tree import RandomForestClassifier\n",
    "deep_tree = RandomForestClassifier(max_depth=50,min_samples_leaf = 300, random_state = 100,max_features =25 ,bootstrap=True,class_weight='balanced',n_estimators = 80)"
   ]
  },
  {
   "cell_type": "code",
   "execution_count": 24,
   "metadata": {},
   "outputs": [],
   "source": [
    "#estimators = list(range(1, 80, 3))\n",
    "from sklearn.ensemble import AdaBoostClassifier\n",
    "estimators = [80,90,100]\n",
    "abc_scores = []\n",
    "recall_scores = []\n",
    "for n_est in estimators:\n",
    "    ABC = AdaBoostClassifier(\n",
    "    base_estimator=deep_tree, \n",
    "    n_estimators = n_est)\n",
    "    \n",
    "    ABC.fit(churn_data_pca, churn)\n",
    "    y_pred = ABC.predict(churn_test_data)\n",
    "    accuracy_score = metrics.accuracy_score(churn_test, y_pred)\n",
    "    recall_score = metrics.recall_score(churn_test, y_pred)\n",
    "    recall_scores.append(recall_score)\n",
    "    abc_scores.append(accuracy_score)\n",
    "#print(mean())"
   ]
  },
  {
   "cell_type": "code",
   "execution_count": null,
   "metadata": {},
   "outputs": [],
   "source": []
  },
  {
   "cell_type": "code",
   "execution_count": 25,
   "metadata": {},
   "outputs": [
    {
     "name": "stdout",
     "output_type": "stream",
     "text": [
      "[0.9269804822043628, 0.9269804822043628, 0.9289322617680826]\n",
      "[0.5144827586206897, 0.5089655172413793, 0.49517241379310345]\n"
     ]
    }
   ],
   "source": [
    "print(abc_scores)\n",
    "print(recall_scores)"
   ]
  },
  {
   "cell_type": "code",
   "execution_count": null,
   "metadata": {},
   "outputs": [],
   "source": []
  }
 ],
 "metadata": {
  "kernelspec": {
   "display_name": "Python 3",
   "language": "python",
   "name": "python3"
  },
  "language_info": {
   "codemirror_mode": {
    "name": "ipython",
    "version": 3
   },
   "file_extension": ".py",
   "mimetype": "text/x-python",
   "name": "python",
   "nbconvert_exporter": "python",
   "pygments_lexer": "ipython3",
   "version": "3.7.4"
  }
 },
 "nbformat": 4,
 "nbformat_minor": 2
}
