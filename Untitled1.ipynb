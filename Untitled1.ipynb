{
 "cells": [
  {
   "cell_type": "code",
   "execution_count": 1,
   "metadata": {},
   "outputs": [],
   "source": [
    "import numpy as np\n",
    "import pandas as pd\n",
    "import re\n",
    "from matplotlib import pyplot as plt\n",
    "from sklearn.model_selection import train_test_split\n",
    "from sklearn import preprocessing\n",
    "from sklearn.decomposition import IncrementalPCA\n",
    "import seaborn as snb\n",
    "from sklearn.linear_model import LogisticRegression\n",
    "from sklearn import metrics\n",
    "from sklearn.model_selection import KFold\n",
    "from sklearn.model_selection import cross_val_score\n",
    "from sklearn.model_selection import GridSearchCV\n",
    "from sklearn.svm import SVC"
   ]
  },
  {
   "cell_type": "code",
   "execution_count": 2,
   "metadata": {},
   "outputs": [],
   "source": [
    "def draw_roc( actual, predicted ):\n",
    "    fpr, tpr, thresholds = metrics.roc_curve( actual, predicted,\n",
    "                                              drop_intermediate = False )\n",
    "    auc_score = metrics.roc_auc_score( actual, predicted )\n",
    "    plt.figure(figsize=(5, 5))\n",
    "    plt.plot( fpr, tpr, label='ROC curve (area = %0.2f)' % auc_score )\n",
    "    plt.plot([0, 1], [0, 1], 'k--')\n",
    "    plt.xlim([0.0, 1.0])\n",
    "    plt.ylim([0.0, 1.05])\n",
    "    plt.xlabel('False Positive Rate')\n",
    "    plt.ylabel('True Positive Rate')\n",
    "    plt.title('ROC curve')\n",
    "    plt.legend(loc=\"lower right\")\n",
    "    plt.show()\n",
    "\n",
    "    return None"
   ]
  },
  {
   "cell_type": "code",
   "execution_count": 3,
   "metadata": {},
   "outputs": [],
   "source": [
    "scaled_churn_data = pd.read_csv('traindata.csv')"
   ]
  },
  {
   "cell_type": "code",
   "execution_count": 4,
   "metadata": {},
   "outputs": [],
   "source": [
    "#t = pd.read_csv('telecom_churn_data.csv')\n",
    "scaled_churn_data['Unnamed: 0'].head()\n",
    "scaled_churn_data = scaled_churn_data.drop(['Unnamed: 0'],axis = 1)"
   ]
  },
  {
   "cell_type": "code",
   "execution_count": 5,
   "metadata": {},
   "outputs": [],
   "source": [
    "churn = scaled_churn_data['churn']\n",
    "scaled_churn_data = scaled_churn_data.drop(['churn'],axis = 1)"
   ]
  },
  {
   "cell_type": "code",
   "execution_count": 6,
   "metadata": {},
   "outputs": [
    {
     "data": {
      "text/plain": [
       "PCA(copy=True, iterated_power='auto', n_components=None, random_state=42,\n",
       "    svd_solver='randomized', tol=0.0, whiten=False)"
      ]
     },
     "execution_count": 6,
     "metadata": {},
     "output_type": "execute_result"
    }
   ],
   "source": [
    "from sklearn.decomposition import PCA\n",
    "pca = PCA(svd_solver='randomized', random_state=42)\n",
    "pca.fit(scaled_churn_data)"
   ]
  },
  {
   "cell_type": "code",
   "execution_count": 7,
   "metadata": {},
   "outputs": [
    {
     "data": {
      "image/png": "[encoded data removed]",
      "text/plain": [
       "<Figure size 864x576 with 1 Axes>"
      ]
     },
     "metadata": {
      "needs_background": "light"
     },
     "output_type": "display_data"
    }
   ],
   "source": [
    "%matplotlib inline\n",
    "fig = plt.figure(figsize = (12,8))\n",
    "plt.plot(np.cumsum(pca.explained_variance_ratio_))\n",
    "plt.xlabel('number of components')\n",
    "plt.ylabel('cumulative explained variance')\n",
    "plt.show()"
   ]
  },
  {
   "cell_type": "code",
   "execution_count": 8,
   "metadata": {},
   "outputs": [
    {
     "data": {
      "text/plain": [
       "array([0.09838618, 0.16740066, 0.22079918, 0.27109559, 0.30837961,\n",
       "       0.34285463, 0.37595014, 0.40734188, 0.43596058, 0.4640006 ,\n",
       "       0.49099546, 0.51687521, 0.54225951, 0.56581505, 0.58867173,\n",
       "       0.61075119, 0.63089856, 0.64867243, 0.66642053, 0.68360623,\n",
       "       0.70051108, 0.71489059, 0.72760848, 0.74022213, 0.7520219 ,\n",
       "       0.76301299, 0.77353228, 0.7839335 , 0.79369309, 0.80335742,\n",
       "       0.81272438, 0.82173155, 0.83053093, 0.83834258, 0.84566504,\n",
       "       0.85279727, 0.85939224, 0.86560531, 0.87172574, 0.87736893,\n",
       "       0.88278113, 0.88814958, 0.89334096, 0.89824256, 0.90305048,\n",
       "       0.90767112, 0.91221498, 0.91668393, 0.92084487, 0.92489459,\n",
       "       0.92877229, 0.93253345, 0.93627213, 0.93995475, 0.94355104,\n",
       "       0.94700803, 0.95034958, 0.9534122 , 0.95633781, 0.95919303,\n",
       "       0.96192615, 0.96444992, 0.96690931, 0.96935704, 0.97162356,\n",
       "       0.97383702, 0.97593115, 0.9779681 , 0.9799049 , 0.98174601,\n",
       "       0.98357025, 0.98530431, 0.98698457, 0.98862659, 0.99019369,\n",
       "       0.99168204, 0.99299915, 0.99424558, 0.99539689, 0.9965048 ,\n",
       "       0.99747063, 0.99831008, 0.99904152, 0.99960433, 1.        ,\n",
       "       1.        , 1.        , 1.        , 1.        , 1.        ,\n",
       "       1.        , 1.        ])"
      ]
     },
     "execution_count": 8,
     "metadata": {},
     "output_type": "execute_result"
    }
   ],
   "source": [
    "np.cumsum(pca.explained_variance_ratio_)"
   ]
  },
  {
   "cell_type": "markdown",
   "metadata": {},
   "source": [
    "Here we see that 57 components are sufficient to explain 95%  of the variance"
   ]
  },
  {
   "cell_type": "code",
   "execution_count": 9,
   "metadata": {},
   "outputs": [
    {
     "data": {
      "text/plain": [
       "(20322, 57)"
      ]
     },
     "execution_count": 9,
     "metadata": {},
     "output_type": "execute_result"
    }
   ],
   "source": [
    "#however we can take incremental PCA to get the values of data corresponding to new components\n",
    "pca_final = IncrementalPCA(n_components=57)\n",
    "churn_data_pca = pca_final.fit_transform(scaled_churn_data)\n",
    "churn_data_pca.shape"
   ]
  },
  {
   "cell_type": "code",
   "execution_count": 10,
   "metadata": {},
   "outputs": [],
   "source": [
    "correlation_mat = np.corrcoef(churn_data_pca.transpose())"
   ]
  },
  {
   "cell_type": "code",
   "execution_count": 11,
   "metadata": {},
   "outputs": [
    {
     "name": "stdout",
     "output_type": "stream",
     "text": [
      "0.05886125007163609\n",
      "-0.05574456360837283\n"
     ]
    },
    {
     "data": {
      "text/plain": [
       "(57, 57)"
      ]
     },
     "execution_count": 11,
     "metadata": {},
     "output_type": "execute_result"
    }
   ],
   "source": [
    "corrmat_nodiag = correlation_mat - np.diagflat(correlation_mat.diagonal())\n",
    "print(np.max(corrmat_nodiag))\n",
    "print(np.min(corrmat_nodiag))\n",
    "correlation_mat.shape"
   ]
  },
  {
   "cell_type": "markdown",
   "metadata": {},
   "source": [
    "The correlation is almost close to zero.So now we are good to start with modelling"
   ]
  },
  {
   "cell_type": "markdown",
   "metadata": {},
   "source": [
    "So first lets get our hands dirty with simple logistic regression"
   ]
  },
  {
   "cell_type": "code",
   "execution_count": 12,
   "metadata": {},
   "outputs": [],
   "source": [
    "#load test data\n",
    "scaled_churn_data_test = pd.read_csv('testdata.csv')\n",
    "churn_test = scaled_churn_data_test['churn']\n",
    "scaled_churn_data_test = scaled_churn_data_test.drop(['churn'],axis = 1)"
   ]
  },
  {
   "cell_type": "code",
   "execution_count": 13,
   "metadata": {},
   "outputs": [],
   "source": [
    "scaled_churn_data_test = scaled_churn_data_test.drop(['Unnamed: 0'],axis = 1)"
   ]
  },
  {
   "cell_type": "code",
   "execution_count": 14,
   "metadata": {},
   "outputs": [],
   "source": [
    "churn_test_data = pca_final.transform(scaled_churn_data_test)"
   ]
  },
  {
   "cell_type": "code",
   "execution_count": 15,
   "metadata": {},
   "outputs": [
    {
     "data": {
      "text/plain": [
       "(8710, 57)"
      ]
     },
     "execution_count": 15,
     "metadata": {},
     "output_type": "execute_result"
    }
   ],
   "source": [
    "churn_test_data.shape"
   ]
  },
  {
   "cell_type": "code",
   "execution_count": 16,
   "metadata": {},
   "outputs": [
    {
     "name": "stderr",
     "output_type": "stream",
     "text": [
      "C:\\Users\\Jabir_shabbir\\Anaconda3\\lib\\site-packages\\sklearn\\linear_model\\logistic.py:432: FutureWarning: Default solver will be changed to 'lbfgs' in 0.22. Specify a solver to silence this warning.\n",
      "  FutureWarning)\n"
     ]
    }
   ],
   "source": [
    "learner_pca = LogisticRegression(random_state=0, class_weight='balanced')\n",
    "model_pca = learner_pca.fit(churn_data_pca,churn)"
   ]
  },
  {
   "cell_type": "code",
   "execution_count": 17,
   "metadata": {},
   "outputs": [],
   "source": [
    "pred_prob_train = model_pca.predict_proba(churn_data_pca)[:,1]\n",
    "churn_pred = pd.Series(pred_prob_train).map(lambda x:1 if x>0.5 else 0)"
   ]
  },
  {
   "cell_type": "code",
   "execution_count": 18,
   "metadata": {},
   "outputs": [],
   "source": [
    "#help(metrics.confusion_matrix)"
   ]
  },
  {
   "cell_type": "code",
   "execution_count": 19,
   "metadata": {},
   "outputs": [
    {
     "data": {
      "text/plain": [
       "array([[14947,  3699],\n",
       "       [  272,  1404]], dtype=int64)"
      ]
     },
     "execution_count": 19,
     "metadata": {},
     "output_type": "execute_result"
    }
   ],
   "source": [
    "# Let's take a look at the confusion matrix again \n",
    "confusion = metrics.confusion_matrix(churn,churn_pred )\n",
    "confusion"
   ]
  },
  {
   "cell_type": "code",
   "execution_count": 20,
   "metadata": {},
   "outputs": [
    {
     "data": {
      "text/plain": [
       "0.8045960043302824"
      ]
     },
     "execution_count": 20,
     "metadata": {},
     "output_type": "execute_result"
    }
   ],
   "source": [
    "#help(metrics.confusion_matrix)\n",
    "metrics.accuracy_score(churn, churn_pred)"
   ]
  },
  {
   "cell_type": "markdown",
   "metadata": {},
   "source": [
    "Lets check sensitivity and specificity of the model"
   ]
  },
  {
   "cell_type": "code",
   "execution_count": 21,
   "metadata": {},
   "outputs": [
    {
     "name": "stdout",
     "output_type": "stream",
     "text": [
      "0.837708830548926\n",
      "0.8016196503271479\n"
     ]
    }
   ],
   "source": [
    "sensitivity = confusion[1,1]/(confusion[1,1]+confusion[1,0])\n",
    "specificity = confusion[0,0]/(confusion[0,0]+confusion[0,1])\n",
    "print(sensitivity)\n",
    "print(specificity)"
   ]
  },
  {
   "cell_type": "code",
   "execution_count": 22,
   "metadata": {},
   "outputs": [
    {
     "data": {
      "image/png": "[encoded data removed]",
      "text/plain": [
       "<Figure size 360x360 with 1 Axes>"
      ]
     },
     "metadata": {
      "needs_background": "light"
     },
     "output_type": "display_data"
    }
   ],
   "source": [
    "draw_roc(churn, pred_prob_train)"
   ]
  },
  {
   "cell_type": "code",
   "execution_count": 23,
   "metadata": {},
   "outputs": [
    {
     "name": "stdout",
     "output_type": "stream",
     "text": [
      "0.5:\n",
      "[[14947  3699]\n",
      " [  272  1404]]\n",
      "Sensitivity:\n",
      "0.837708830548926\n",
      "Specificity:\n",
      "0.8016196503271479\n",
      "Accuracy\n",
      "0.8045960043302824\n",
      "\n",
      "0.45:\n",
      "[[14278  4368]\n",
      " [  226  1450]]\n",
      "Sensitivity:\n",
      "0.8651551312649165\n",
      "Specificity:\n",
      "0.7657406414244342\n",
      "Accuracy\n",
      "0.7739395728766854\n",
      "\n",
      "0.4:\n",
      "[[13533  5113]\n",
      " [  198  1478]]\n",
      "Sensitivity:\n",
      "0.8818615751789977\n",
      "Specificity:\n",
      "0.7257856913010834\n",
      "Accuracy\n",
      "0.7386576124397205\n",
      "\n",
      "0.35:\n",
      "[[12749  5897]\n",
      " [  170  1506]]\n",
      "Sensitivity:\n",
      "0.8985680190930787\n",
      "Specificity:\n",
      "0.6837391397618793\n",
      "Accuracy\n",
      "0.7014565495522094\n",
      "\n",
      "0.3:\n",
      "[[11845  6801]\n",
      " [  140  1536]]\n",
      "Sensitivity:\n",
      "0.9164677804295943\n",
      "Specificity:\n",
      "0.6352568915585112\n",
      "Accuracy\n",
      "0.6584489715579175\n",
      "\n",
      "0.25:\n",
      "[[10854  7792]\n",
      " [  113  1563]]\n",
      "Sensitivity:\n",
      "0.9325775656324582\n",
      "Specificity:\n",
      "0.5821087632736244\n",
      "Accuracy\n",
      "0.6110126956008267\n",
      "\n",
      "0.2:\n",
      "[[9690 8956]\n",
      " [  84 1592]]\n",
      "Sensitivity:\n",
      "0.9498806682577565\n",
      "Specificity:\n",
      "0.5196825056312345\n",
      "Accuracy\n",
      "0.5551618935144179\n",
      "\n"
     ]
    }
   ],
   "source": [
    "for cutoff in [0.5,0.45,0.4,0.35,0.3,0.25,0.2]:\n",
    "    churn_pred = pd.Series(pred_prob_train).map(lambda x:1 if x>cutoff else 0)\n",
    "    confusion = metrics.confusion_matrix(churn,churn_pred )\n",
    "    print(str(cutoff)+\":\")\n",
    "    print(confusion)\n",
    "    sensitivity = confusion[1,1]/(confusion[1,1]+confusion[1,0])\n",
    "    specificity = confusion[0,0]/(confusion[0,0]+confusion[0,1])\n",
    "    print(\"Sensitivity:\")\n",
    "    print(sensitivity)\n",
    "    print(\"Specificity:\")\n",
    "    print(specificity)\n",
    "    print(\"Accuracy\")\n",
    "    print(metrics.accuracy_score(churn, churn_pred))\n",
    "    print(\"\")"
   ]
  },
  {
   "cell_type": "markdown",
   "metadata": {},
   "source": [
    "With this model we can pick cuttoff as 0.45 as sensitivity is more important here.It gives almost 86% sensitivity and decent accuracy of 77%.Its important to identify churners"
   ]
  },
  {
   "cell_type": "markdown",
   "metadata": {},
   "source": [
    "We see that model has pretty good sensitivity,specificity and good accuracy.However sensitivity is more important\n",
    "in our model.However this is in case of training data.Lets check for test data."
   ]
  },
  {
   "cell_type": "code",
   "execution_count": 24,
   "metadata": {},
   "outputs": [
    {
     "name": "stdout",
     "output_type": "stream",
     "text": [
      "[[6373 1612]\n",
      " [ 113  612]]\n"
     ]
    }
   ],
   "source": [
    "pred_prob_test = model_pca.predict_proba(churn_test_data)[:,1]\n",
    "churn_pred_test = pd.Series(pred_prob_test).map(lambda x:1 if x>=0.5 else 0)\n",
    "confusion = metrics.confusion_matrix(churn_test,churn_pred_test )\n",
    "print(confusion)"
   ]
  },
  {
   "cell_type": "code",
   "execution_count": 25,
   "metadata": {},
   "outputs": [
    {
     "name": "stdout",
     "output_type": "stream",
     "text": [
      "[[6076 1909]\n",
      " [  95  630]]\n"
     ]
    }
   ],
   "source": [
    "#cutt of 0.45\n",
    "pred_prob_test = model_pca.predict_proba(churn_test_data)[:,1]\n",
    "churn_pred_test = pd.Series(pred_prob_test).map(lambda x:1 if x>0.45 else 0)\n",
    "confusion = metrics.confusion_matrix(churn_test,churn_pred_test )\n",
    "print(confusion)"
   ]
  },
  {
   "cell_type": "code",
   "execution_count": 27,
   "metadata": {},
   "outputs": [
    {
     "name": "stdout",
     "output_type": "stream",
     "text": [
      "0.8689655172413793\n",
      "0.760926737633062\n"
     ]
    },
    {
     "data": {
      "text/plain": [
       "0.7699196326061998"
      ]
     },
     "execution_count": 27,
     "metadata": {},
     "output_type": "execute_result"
    }
   ],
   "source": [
    "sensitivity = confusion[1,1]/(confusion[1,1]+confusion[1,0])\n",
    "specificity = confusion[0,0]/(confusion[0,0]+confusion[0,1])\n",
    "print(sensitivity)\n",
    "print(specificity)\n",
    "metrics.accuracy_score(churn_test, churn_pred_test)"
   ]
  },
  {
   "cell_type": "markdown",
   "metadata": {},
   "source": [
    "The model seems to be doing good job on test data as well with sensitivity ,specificity and accuracy being very much\n",
    "in par with training data set.As of now regularization is not required as there is no significant difference between the\n",
    "metrics of train and test performances,no sign of overfitting"
   ]
  },
  {
   "cell_type": "markdown",
   "metadata": {},
   "source": [
    "Now lets take another model SVM and evaluate the performance"
   ]
  },
  {
   "cell_type": "code",
   "execution_count": 28,
   "metadata": {},
   "outputs": [],
   "source": [
    "svc_model = SVC(C=10,kernel = 'linear',class_weight='balanced')\n",
    "svc_model.fit(churn_data_pca,churn)\n",
    "pred_svm = svc_model.predict(churn_data_pca)\n"
   ]
  },
  {
   "cell_type": "code",
   "execution_count": 34,
   "metadata": {},
   "outputs": [
    {
     "data": {
      "text/plain": [
       "0.8235901978151756"
      ]
     },
     "execution_count": 34,
     "metadata": {},
     "output_type": "execute_result"
    }
   ],
   "source": [
    "metrics.confusion_matrix(churn,pred_svm)\n",
    "metrics.accuracy_score(churn, pred_svm)"
   ]
  },
  {
   "cell_type": "code",
   "execution_count": 33,
   "metadata": {},
   "outputs": [
    {
     "data": {
      "text/plain": [
       "0.8184845005740529"
      ]
     },
     "execution_count": 33,
     "metadata": {},
     "output_type": "execute_result"
    }
   ],
   "source": [
    "pred_svm_test = svc_model.predict(churn_test_data)\n",
    "metrics.accuracy_score(churn_test, pred_svm_test)"
   ]
  },
  {
   "cell_type": "code",
   "execution_count": 32,
   "metadata": {},
   "outputs": [
    {
     "data": {
      "text/plain": [
       "array([[6529, 1456],\n",
       "       [ 125,  600]], dtype=int64)"
      ]
     },
     "execution_count": 32,
     "metadata": {},
     "output_type": "execute_result"
    }
   ],
   "source": [
    "metrics.confusion_matrix(churn_test,pred_svm_test)"
   ]
  },
  {
   "cell_type": "code",
   "execution_count": 36,
   "metadata": {},
   "outputs": [
    {
     "name": "stdout",
     "output_type": "stream",
     "text": [
      "Help on class GridSearchCV in module sklearn.model_selection._search:\n",
      "\n",
      "class GridSearchCV(BaseSearchCV)\n",
      " |  GridSearchCV(estimator, param_grid, scoring=None, n_jobs=None, iid='warn', refit=True, cv='warn', verbose=0, pre_dispatch='2*n_jobs', error_score='raise-deprecating', return_train_score=False)\n",
      " |  \n",
      " |  Exhaustive search over specified parameter values for an estimator.\n",
      " |  \n",
      " |  Important members are fit, predict.\n",
      " |  \n",
      " |  GridSearchCV implements a \"fit\" and a \"score\" method.\n",
      " |  It also implements \"predict\", \"predict_proba\", \"decision_function\",\n",
      " |  \"transform\" and \"inverse_transform\" if they are implemented in the\n",
      " |  estimator used.\n",
      " |  \n",
      " |  The parameters of the estimator used to apply these methods are optimized\n",
      " |  by cross-validated grid-search over a parameter grid.\n",
      " |  \n",
      " |  Read more in the :ref:`User Guide <grid_search>`.\n",
      " |  \n",
      " |  Parameters\n",
      " |  ----------\n",
      " |  estimator : estimator object.\n",
      " |      This is assumed to implement the scikit-learn estimator interface.\n",
      " |      Either estimator needs to provide a ``score`` function,\n",
      " |      or ``scoring`` must be passed.\n",
      " |  \n",
      " |  param_grid : dict or list of dictionaries\n",
      " |      Dictionary with parameters names (string) as keys and lists of\n",
      " |      parameter settings to try as values, or a list of such\n",
      " |      dictionaries, in which case the grids spanned by each dictionary\n",
      " |      in the list are explored. This enables searching over any sequence\n",
      " |      of parameter settings.\n",
      " |  \n",
      " |  scoring : string, callable, list/tuple, dict or None, default: None\n",
      " |      A single string (see :ref:`scoring_parameter`) or a callable\n",
      " |      (see :ref:`scoring`) to evaluate the predictions on the test set.\n",
      " |  \n",
      " |      For evaluating multiple metrics, either give a list of (unique) strings\n",
      " |      or a dict with names as keys and callables as values.\n",
      " |  \n",
      " |      NOTE that when using custom scorers, each scorer should return a single\n",
      " |      value. Metric functions returning a list/array of values can be wrapped\n",
      " |      into multiple scorers that return one value each.\n",
      " |  \n",
      " |      See :ref:`multimetric_grid_search` for an example.\n",
      " |  \n",
      " |      If None, the estimator's score method is used.\n",
      " |  \n",
      " |  n_jobs : int or None, optional (default=None)\n",
      " |      Number of jobs to run in parallel.\n",
      " |      ``None`` means 1 unless in a :obj:`joblib.parallel_backend` context.\n",
      " |      ``-1`` means using all processors. See :term:`Glossary <n_jobs>`\n",
      " |      for more details.\n",
      " |  \n",
      " |  pre_dispatch : int, or string, optional\n",
      " |      Controls the number of jobs that get dispatched during parallel\n",
      " |      execution. Reducing this number can be useful to avoid an\n",
      " |      explosion of memory consumption when more jobs get dispatched\n",
      " |      than CPUs can process. This parameter can be:\n",
      " |  \n",
      " |          - None, in which case all the jobs are immediately\n",
      " |            created and spawned. Use this for lightweight and\n",
      " |            fast-running jobs, to avoid delays due to on-demand\n",
      " |            spawning of the jobs\n",
      " |  \n",
      " |          - An int, giving the exact number of total jobs that are\n",
      " |            spawned\n",
      " |  \n",
      " |          - A string, giving an expression as a function of n_jobs,\n",
      " |            as in '2*n_jobs'\n",
      " |  \n",
      " |  iid : boolean, default='warn'\n",
      " |      If True, return the average score across folds, weighted by the number\n",
      " |      of samples in each test set. In this case, the data is assumed to be\n",
      " |      identically distributed across the folds, and the loss minimized is\n",
      " |      the total loss per sample, and not the mean loss across the folds. If\n",
      " |      False, return the average score across folds. Default is True, but\n",
      " |      will change to False in version 0.22, to correspond to the standard\n",
      " |      definition of cross-validation.\n",
      " |  \n",
      " |      .. versionchanged:: 0.20\n",
      " |          Parameter ``iid`` will change from True to False by default in\n",
      " |          version 0.22, and will be removed in 0.24.\n",
      " |  \n",
      " |  cv : int, cross-validation generator or an iterable, optional\n",
      " |      Determines the cross-validation splitting strategy.\n",
      " |      Possible inputs for cv are:\n",
      " |  \n",
      " |      - None, to use the default 3-fold cross validation,\n",
      " |      - integer, to specify the number of folds in a `(Stratified)KFold`,\n",
      " |      - :term:`CV splitter`,\n",
      " |      - An iterable yielding (train, test) splits as arrays of indices.\n",
      " |  \n",
      " |      For integer/None inputs, if the estimator is a classifier and ``y`` is\n",
      " |      either binary or multiclass, :class:`StratifiedKFold` is used. In all\n",
      " |      other cases, :class:`KFold` is used.\n",
      " |  \n",
      " |      Refer :ref:`User Guide <cross_validation>` for the various\n",
      " |      cross-validation strategies that can be used here.\n",
      " |  \n",
      " |      .. versionchanged:: 0.20\n",
      " |          ``cv`` default value if None will change from 3-fold to 5-fold\n",
      " |          in v0.22.\n",
      " |  \n",
      " |  refit : boolean, string, or callable, default=True\n",
      " |      Refit an estimator using the best found parameters on the whole\n",
      " |      dataset.\n",
      " |  \n",
      " |      For multiple metric evaluation, this needs to be a string denoting the\n",
      " |      scorer that would be used to find the best parameters for refitting\n",
      " |      the estimator at the end.\n",
      " |  \n",
      " |      Where there are considerations other than maximum score in\n",
      " |      choosing a best estimator, ``refit`` can be set to a function which\n",
      " |      returns the selected ``best_index_`` given ``cv_results_``.\n",
      " |  \n",
      " |      The refitted estimator is made available at the ``best_estimator_``\n",
      " |      attribute and permits using ``predict`` directly on this\n",
      " |      ``GridSearchCV`` instance.\n",
      " |  \n",
      " |      Also for multiple metric evaluation, the attributes ``best_index_``,\n",
      " |      ``best_score_`` and ``best_params_`` will only be available if\n",
      " |      ``refit`` is set and all of them will be determined w.r.t this specific\n",
      " |      scorer. ``best_score_`` is not returned if refit is callable.\n",
      " |  \n",
      " |      See ``scoring`` parameter to know more about multiple metric\n",
      " |      evaluation.\n",
      " |  \n",
      " |      .. versionchanged:: 0.20\n",
      " |          Support for callable added.\n",
      " |  \n",
      " |  verbose : integer\n",
      " |      Controls the verbosity: the higher, the more messages.\n",
      " |  \n",
      " |  error_score : 'raise' or numeric\n",
      " |      Value to assign to the score if an error occurs in estimator fitting.\n",
      " |      If set to 'raise', the error is raised. If a numeric value is given,\n",
      " |      FitFailedWarning is raised. This parameter does not affect the refit\n",
      " |      step, which will always raise the error. Default is 'raise' but from\n",
      " |      version 0.22 it will change to np.nan.\n",
      " |  \n",
      " |  return_train_score : boolean, default=False\n",
      " |      If ``False``, the ``cv_results_`` attribute will not include training\n",
      " |      scores.\n",
      " |      Computing training scores is used to get insights on how different\n",
      " |      parameter settings impact the overfitting/underfitting trade-off.\n",
      " |      However computing the scores on the training set can be computationally\n",
      " |      expensive and is not strictly required to select the parameters that\n",
      " |      yield the best generalization performance.\n",
      " |  \n",
      " |  \n",
      " |  Examples\n",
      " |  --------\n",
      " |  >>> from sklearn import svm, datasets\n",
      " |  >>> from sklearn.model_selection import GridSearchCV\n",
      " |  >>> iris = datasets.load_iris()\n",
      " |  >>> parameters = {'kernel':('linear', 'rbf'), 'C':[1, 10]}\n",
      " |  >>> svc = svm.SVC(gamma=\"scale\")\n",
      " |  >>> clf = GridSearchCV(svc, parameters, cv=5)\n",
      " |  >>> clf.fit(iris.data, iris.target)\n",
      " |  ...                             # doctest: +NORMALIZE_WHITESPACE +ELLIPSIS\n",
      " |  GridSearchCV(cv=5, error_score=...,\n",
      " |         estimator=SVC(C=1.0, cache_size=..., class_weight=..., coef0=...,\n",
      " |                       decision_function_shape='ovr', degree=..., gamma=...,\n",
      " |                       kernel='rbf', max_iter=-1, probability=False,\n",
      " |                       random_state=None, shrinking=True, tol=...,\n",
      " |                       verbose=False),\n",
      " |         iid=..., n_jobs=None,\n",
      " |         param_grid=..., pre_dispatch=..., refit=..., return_train_score=...,\n",
      " |         scoring=..., verbose=...)\n",
      " |  >>> sorted(clf.cv_results_.keys())\n",
      " |  ...                             # doctest: +NORMALIZE_WHITESPACE +ELLIPSIS\n",
      " |  ['mean_fit_time', 'mean_score_time', 'mean_test_score',...\n",
      " |   'param_C', 'param_kernel', 'params',...\n",
      " |   'rank_test_score', 'split0_test_score',...\n",
      " |   'split2_test_score', ...\n",
      " |   'std_fit_time', 'std_score_time', 'std_test_score']\n",
      " |  \n",
      " |  Attributes\n",
      " |  ----------\n",
      " |  cv_results_ : dict of numpy (masked) ndarrays\n",
      " |      A dict with keys as column headers and values as columns, that can be\n",
      " |      imported into a pandas ``DataFrame``.\n",
      " |  \n",
      " |      For instance the below given table\n",
      " |  \n",
      " |      +------------+-----------+------------+-----------------+---+---------+\n",
      " |      |param_kernel|param_gamma|param_degree|split0_test_score|...|rank_t...|\n",
      " |      +============+===========+============+=================+===+=========+\n",
      " |      |  'poly'    |     --    |      2     |       0.80      |...|    2    |\n",
      " |      +------------+-----------+------------+-----------------+---+---------+\n",
      " |      |  'poly'    |     --    |      3     |       0.70      |...|    4    |\n",
      " |      +------------+-----------+------------+-----------------+---+---------+\n",
      " |      |  'rbf'     |     0.1   |     --     |       0.80      |...|    3    |\n",
      " |      +------------+-----------+------------+-----------------+---+---------+\n",
      " |      |  'rbf'     |     0.2   |     --     |       0.93      |...|    1    |\n",
      " |      +------------+-----------+------------+-----------------+---+---------+\n",
      " |  \n",
      " |      will be represented by a ``cv_results_`` dict of::\n",
      " |  \n",
      " |          {\n",
      " |          'param_kernel': masked_array(data = ['poly', 'poly', 'rbf', 'rbf'],\n",
      " |                                       mask = [False False False False]...)\n",
      " |          'param_gamma': masked_array(data = [-- -- 0.1 0.2],\n",
      " |                                      mask = [ True  True False False]...),\n",
      " |          'param_degree': masked_array(data = [2.0 3.0 -- --],\n",
      " |                                       mask = [False False  True  True]...),\n",
      " |          'split0_test_score'  : [0.80, 0.70, 0.80, 0.93],\n",
      " |          'split1_test_score'  : [0.82, 0.50, 0.70, 0.78],\n",
      " |          'mean_test_score'    : [0.81, 0.60, 0.75, 0.85],\n",
      " |          'std_test_score'     : [0.01, 0.10, 0.05, 0.08],\n",
      " |          'rank_test_score'    : [2, 4, 3, 1],\n",
      " |          'split0_train_score' : [0.80, 0.92, 0.70, 0.93],\n",
      " |          'split1_train_score' : [0.82, 0.55, 0.70, 0.87],\n",
      " |          'mean_train_score'   : [0.81, 0.74, 0.70, 0.90],\n",
      " |          'std_train_score'    : [0.01, 0.19, 0.00, 0.03],\n",
      " |          'mean_fit_time'      : [0.73, 0.63, 0.43, 0.49],\n",
      " |          'std_fit_time'       : [0.01, 0.02, 0.01, 0.01],\n",
      " |          'mean_score_time'    : [0.01, 0.06, 0.04, 0.04],\n",
      " |          'std_score_time'     : [0.00, 0.00, 0.00, 0.01],\n",
      " |          'params'             : [{'kernel': 'poly', 'degree': 2}, ...],\n",
      " |          }\n",
      " |  \n",
      " |      NOTE\n",
      " |  \n",
      " |      The key ``'params'`` is used to store a list of parameter\n",
      " |      settings dicts for all the parameter candidates.\n",
      " |  \n",
      " |      The ``mean_fit_time``, ``std_fit_time``, ``mean_score_time`` and\n",
      " |      ``std_score_time`` are all in seconds.\n",
      " |  \n",
      " |      For multi-metric evaluation, the scores for all the scorers are\n",
      " |      available in the ``cv_results_`` dict at the keys ending with that\n",
      " |      scorer's name (``'_<scorer_name>'``) instead of ``'_score'`` shown\n",
      " |      above. ('split0_test_precision', 'mean_train_precision' etc.)\n",
      " |  \n",
      " |  best_estimator_ : estimator or dict\n",
      " |      Estimator that was chosen by the search, i.e. estimator\n",
      " |      which gave highest score (or smallest loss if specified)\n",
      " |      on the left out data. Not available if ``refit=False``.\n",
      " |  \n",
      " |      See ``refit`` parameter for more information on allowed values.\n",
      " |  \n",
      " |  best_score_ : float\n",
      " |      Mean cross-validated score of the best_estimator\n",
      " |  \n",
      " |      For multi-metric evaluation, this is present only if ``refit`` is\n",
      " |      specified.\n",
      " |  \n",
      " |  best_params_ : dict\n",
      " |      Parameter setting that gave the best results on the hold out data.\n",
      " |  \n",
      " |      For multi-metric evaluation, this is present only if ``refit`` is\n",
      " |      specified.\n",
      " |  \n",
      " |  best_index_ : int\n",
      " |      The index (of the ``cv_results_`` arrays) which corresponds to the best\n",
      " |      candidate parameter setting.\n",
      " |  \n",
      " |      The dict at ``search.cv_results_['params'][search.best_index_]`` gives\n",
      " |      the parameter setting for the best model, that gives the highest\n",
      " |      mean score (``search.best_score_``).\n",
      " |  \n",
      " |      For multi-metric evaluation, this is present only if ``refit`` is\n",
      " |      specified.\n",
      " |  \n",
      " |  scorer_ : function or a dict\n",
      " |      Scorer function used on the held out data to choose the best\n",
      " |      parameters for the model.\n",
      " |  \n",
      " |      For multi-metric evaluation, this attribute holds the validated\n",
      " |      ``scoring`` dict which maps the scorer key to the scorer callable.\n",
      " |  \n",
      " |  n_splits_ : int\n",
      " |      The number of cross-validation splits (folds/iterations).\n",
      " |  \n",
      " |  refit_time_ : float\n",
      " |      Seconds used for refitting the best model on the whole dataset.\n",
      " |  \n",
      " |      This is present only if ``refit`` is not False.\n",
      " |  \n",
      " |  Notes\n",
      " |  -----\n",
      " |  The parameters selected are those that maximize the score of the left out\n",
      " |  data, unless an explicit score is passed in which case it is used instead.\n",
      " |  \n",
      " |  If `n_jobs` was set to a value higher than one, the data is copied for each\n",
      " |  point in the grid (and not `n_jobs` times). This is done for efficiency\n",
      " |  reasons if individual jobs take very little time, but may raise errors if\n",
      " |  the dataset is large and not enough memory is available.  A workaround in\n",
      " |  this case is to set `pre_dispatch`. Then, the memory is copied only\n",
      " |  `pre_dispatch` many times. A reasonable value for `pre_dispatch` is `2 *\n",
      " |  n_jobs`.\n",
      " |  \n",
      " |  See Also\n",
      " |  ---------\n",
      " |  :class:`ParameterGrid`:\n",
      " |      generates all the combinations of a hyperparameter grid.\n",
      " |  \n",
      " |  :func:`sklearn.model_selection.train_test_split`:\n",
      " |      utility function to split the data into a development set usable\n",
      " |      for fitting a GridSearchCV instance and an evaluation set for\n",
      " |      its final evaluation.\n",
      " |  \n",
      " |  :func:`sklearn.metrics.make_scorer`:\n",
      " |      Make a scorer from a performance metric or loss function.\n",
      " |  \n",
      " |  Method resolution order:\n",
      " |      GridSearchCV\n",
      " |      BaseSearchCV\n",
      " |      sklearn.base.BaseEstimator\n",
      " |      sklearn.base.MetaEstimatorMixin\n",
      " |      builtins.object\n",
      " |  \n",
      " |  Methods defined here:\n",
      " |  \n",
      " |  __init__(self, estimator, param_grid, scoring=None, n_jobs=None, iid='warn', refit=True, cv='warn', verbose=0, pre_dispatch='2*n_jobs', error_score='raise-deprecating', return_train_score=False)\n",
      " |      Initialize self.  See help(type(self)) for accurate signature.\n",
      " |  \n",
      " |  ----------------------------------------------------------------------\n",
      " |  Data and other attributes defined here:\n",
      " |  \n",
      " |  __abstractmethods__ = frozenset()\n",
      " |  \n",
      " |  ----------------------------------------------------------------------\n",
      " |  Methods inherited from BaseSearchCV:\n",
      " |  \n",
      " |  decision_function(self, X)\n",
      " |      Call decision_function on the estimator with the best found parameters.\n",
      " |      \n",
      " |      Only available if ``refit=True`` and the underlying estimator supports\n",
      " |      ``decision_function``.\n",
      " |      \n",
      " |      Parameters\n",
      " |      ----------\n",
      " |      X : indexable, length n_samples\n",
      " |          Must fulfill the input assumptions of the\n",
      " |          underlying estimator.\n",
      " |  \n",
      " |  fit(self, X, y=None, groups=None, **fit_params)\n",
      " |      Run fit with all sets of parameters.\n",
      " |      \n",
      " |      Parameters\n",
      " |      ----------\n",
      " |      \n",
      " |      X : array-like, shape = [n_samples, n_features]\n",
      " |          Training vector, where n_samples is the number of samples and\n",
      " |          n_features is the number of features.\n",
      " |      \n",
      " |      y : array-like, shape = [n_samples] or [n_samples, n_output], optional\n",
      " |          Target relative to X for classification or regression;\n",
      " |          None for unsupervised learning.\n",
      " |      \n",
      " |      groups : array-like, with shape (n_samples,), optional\n",
      " |          Group labels for the samples used while splitting the dataset into\n",
      " |          train/test set. Only used in conjunction with a \"Group\" `cv`\n",
      " |          instance (e.g., `GroupKFold`).\n",
      " |      \n",
      " |      **fit_params : dict of string -> object\n",
      " |          Parameters passed to the ``fit`` method of the estimator\n",
      " |  \n",
      " |  inverse_transform(self, Xt)\n",
      " |      Call inverse_transform on the estimator with the best found params.\n",
      " |      \n",
      " |      Only available if the underlying estimator implements\n",
      " |      ``inverse_transform`` and ``refit=True``.\n",
      " |      \n",
      " |      Parameters\n",
      " |      ----------\n",
      " |      Xt : indexable, length n_samples\n",
      " |          Must fulfill the input assumptions of the\n",
      " |          underlying estimator.\n",
      " |  \n",
      " |  predict(self, X)\n",
      " |      Call predict on the estimator with the best found parameters.\n",
      " |      \n",
      " |      Only available if ``refit=True`` and the underlying estimator supports\n",
      " |      ``predict``.\n",
      " |      \n",
      " |      Parameters\n",
      " |      ----------\n",
      " |      X : indexable, length n_samples\n",
      " |          Must fulfill the input assumptions of the\n",
      " |          underlying estimator.\n",
      " |  \n",
      " |  predict_log_proba(self, X)\n",
      " |      Call predict_log_proba on the estimator with the best found parameters.\n",
      " |      \n",
      " |      Only available if ``refit=True`` and the underlying estimator supports\n",
      " |      ``predict_log_proba``.\n",
      " |      \n",
      " |      Parameters\n",
      " |      ----------\n",
      " |      X : indexable, length n_samples\n",
      " |          Must fulfill the input assumptions of the\n",
      " |          underlying estimator.\n",
      " |  \n",
      " |  predict_proba(self, X)\n",
      " |      Call predict_proba on the estimator with the best found parameters.\n",
      " |      \n",
      " |      Only available if ``refit=True`` and the underlying estimator supports\n",
      " |      ``predict_proba``.\n",
      " |      \n",
      " |      Parameters\n",
      " |      ----------\n",
      " |      X : indexable, length n_samples\n",
      " |          Must fulfill the input assumptions of the\n",
      " |          underlying estimator.\n",
      " |  \n",
      " |  score(self, X, y=None)\n",
      " |      Returns the score on the given data, if the estimator has been refit.\n",
      " |      \n",
      " |      This uses the score defined by ``scoring`` where provided, and the\n",
      " |      ``best_estimator_.score`` method otherwise.\n",
      " |      \n",
      " |      Parameters\n",
      " |      ----------\n",
      " |      X : array-like, shape = [n_samples, n_features]\n",
      " |          Input data, where n_samples is the number of samples and\n",
      " |          n_features is the number of features.\n",
      " |      \n",
      " |      y : array-like, shape = [n_samples] or [n_samples, n_output], optional\n",
      " |          Target relative to X for classification or regression;\n",
      " |          None for unsupervised learning.\n",
      " |      \n",
      " |      Returns\n",
      " |      -------\n",
      " |      score : float\n",
      " |  \n",
      " |  transform(self, X)\n",
      " |      Call transform on the estimator with the best found parameters.\n",
      " |      \n",
      " |      Only available if the underlying estimator supports ``transform`` and\n",
      " |      ``refit=True``.\n",
      " |      \n",
      " |      Parameters\n",
      " |      ----------\n",
      " |      X : indexable, length n_samples\n",
      " |          Must fulfill the input assumptions of the\n",
      " |          underlying estimator.\n",
      " |  \n",
      " |  ----------------------------------------------------------------------\n",
      " |  Data descriptors inherited from BaseSearchCV:\n",
      " |  \n",
      " |  classes_\n",
      " |  \n",
      " |  ----------------------------------------------------------------------\n",
      " |  Methods inherited from sklearn.base.BaseEstimator:\n",
      " |  \n",
      " |  __getstate__(self)\n",
      " |  \n",
      " |  __repr__(self, N_CHAR_MAX=700)\n",
      " |      Return repr(self).\n",
      " |  \n",
      " |  __setstate__(self, state)\n",
      " |  \n",
      " |  get_params(self, deep=True)\n",
      " |      Get parameters for this estimator.\n",
      " |      \n",
      " |      Parameters\n",
      " |      ----------\n",
      " |      deep : boolean, optional\n",
      " |          If True, will return the parameters for this estimator and\n",
      " |          contained subobjects that are estimators.\n",
      " |      \n",
      " |      Returns\n",
      " |      -------\n",
      " |      params : mapping of string to any\n",
      " |          Parameter names mapped to their values.\n",
      " |  \n",
      " |  set_params(self, **params)\n",
      " |      Set the parameters of this estimator.\n",
      " |      \n",
      " |      The method works on simple estimators as well as on nested objects\n",
      " |      (such as pipelines). The latter have parameters of the form\n",
      " |      ``<component>__<parameter>`` so that it's possible to update each\n",
      " |      component of a nested object.\n",
      " |      \n",
      " |      Returns\n",
      " |      -------\n",
      " |      self\n",
      " |  \n",
      " |  ----------------------------------------------------------------------\n",
      " |  Data descriptors inherited from sklearn.base.BaseEstimator:\n",
      " |  \n",
      " |  __dict__\n",
      " |      dictionary for instance variables (if defined)\n",
      " |  \n",
      " |  __weakref__\n",
      " |      list of weak references to the object (if defined)\n",
      "\n"
     ]
    }
   ],
   "source": [
    "help(GridSearchCV)"
   ]
  },
  {
   "cell_type": "code",
   "execution_count": 37,
   "metadata": {},
   "outputs": [
    {
     "name": "stdout",
     "output_type": "stream",
     "text": [
      "Fitting 5 folds for each of 63 candidates, totalling 315 fits\n"
     ]
    },
    {
     "name": "stderr",
     "output_type": "stream",
     "text": [
      "[Parallel(n_jobs=1)]: Using backend SequentialBackend with 1 concurrent workers.\n",
      "[Parallel(n_jobs=1)]: Done 315 out of 315 | elapsed: 709.8min finished\n"
     ]
    },
    {
     "data": {
      "text/plain": [
       "GridSearchCV(cv=KFold(n_splits=5, random_state=4, shuffle=True),\n",
       "             error_score='raise-deprecating',\n",
       "             estimator=SVC(C=1.0, cache_size=200, class_weight='balanced',\n",
       "                           coef0=0.0, decision_function_shape='ovr', degree=3,\n",
       "                           gamma='auto_deprecated', kernel='rbf', max_iter=-1,\n",
       "                           probability=False, random_state=None, shrinking=True,\n",
       "                           tol=0.001, verbose=False),\n",
       "             iid='warn', n_jobs=None,\n",
       "             param_grid=[{'C': [10, 15, 20, 25, 30, 50, 100],\n",
       "                          'gamma': [0.001, 0.01, 0.05, 0.1, 0.5, 10, 30, 50,\n",
       "                                    100]}],\n",
       "             pre_dispatch='2*n_jobs', refit=True, return_train_score=True,\n",
       "             scoring='accuracy', verbose=1)"
      ]
     },
     "execution_count": 37,
     "metadata": {},
     "output_type": "execute_result"
    }
   ],
   "source": [
    "folds = KFold(n_splits = 5,shuffle = True,random_state = 4)\n",
    "hyperparameters = [{'gamma' :[0.001,0.01,0.05,0.1,0.5,10,30,50,100],'C':[10,15,20,25,30,50,100]}]\n",
    "model_svc = SVC(kernel = \"rbf\",class_weight='balanced')  \n",
    "model_grid_search = GridSearchCV(estimator = model_svc,param_grid = hyperparameters,scoring = 'accuracy',cv = folds,verbose = 1,return_train_score = True)\n",
    "model_grid_search.fit(churn_data_pca,churn)"
   ]
  },
  {
   "cell_type": "code",
   "execution_count": 48,
   "metadata": {},
   "outputs": [
    {
     "name": "stdout",
     "output_type": "stream",
     "text": [
      "    mean_fit_time  std_fit_time  mean_score_time  std_score_time param_C  \\\n",
      "0       14.414155      0.351803         1.990405        0.035325      10   \n",
      "1       12.683974      0.327658         1.588498        0.050322      10   \n",
      "2       36.364571      0.387894         1.844207        0.017158      10   \n",
      "3       54.169593      0.526855         2.601498        0.012144      10   \n",
      "4       87.982870      1.275040         4.504721        0.010474      10   \n",
      "..            ...           ...              ...             ...     ...   \n",
      "58      93.352983      1.192997         4.859694        0.257703     100   \n",
      "59     214.268279     21.503034         7.560940        0.590490     100   \n",
      "60     216.336576     14.540577         7.777756        0.392607     100   \n",
      "61     210.313730     19.004017         7.741738        0.168168     100   \n",
      "62     211.466960     19.140123         7.701075        0.130500     100   \n",
      "\n",
      "   param_gamma                     params  split0_test_score  \\\n",
      "0        0.001  {'C': 10, 'gamma': 0.001}           0.840590   \n",
      "1         0.01   {'C': 10, 'gamma': 0.01}           0.871587   \n",
      "2         0.05   {'C': 10, 'gamma': 0.05}           0.910455   \n",
      "3          0.1    {'C': 10, 'gamma': 0.1}           0.912177   \n",
      "4          0.5    {'C': 10, 'gamma': 0.5}           0.913161   \n",
      "..         ...                        ...                ...   \n",
      "58         0.5   {'C': 100, 'gamma': 0.5}           0.912669   \n",
      "59          10    {'C': 100, 'gamma': 10}           0.911931   \n",
      "60          30    {'C': 100, 'gamma': 30}           0.911931   \n",
      "61          50    {'C': 100, 'gamma': 50}           0.911931   \n",
      "62         100   {'C': 100, 'gamma': 100}           0.911931   \n",
      "\n",
      "    split1_test_score  split2_test_score  ...  mean_test_score  \\\n",
      "0            0.848954           0.843258  ...         0.845389   \n",
      "1            0.873063           0.879675  ...         0.877177   \n",
      "2            0.911685           0.913878  ...         0.913985   \n",
      "3            0.914637           0.922736  ...         0.919201   \n",
      "4            0.920295           0.921014  ...         0.918610   \n",
      "..                ...                ...  ...              ...   \n",
      "58           0.920295           0.921014  ...         0.918414   \n",
      "59           0.917589           0.921998  ...         0.917528   \n",
      "60           0.917589           0.921998  ...         0.917528   \n",
      "61           0.917589           0.921998  ...         0.917528   \n",
      "62           0.917589           0.921998  ...         0.917528   \n",
      "\n",
      "    std_test_score  rank_test_score  split0_train_score  split1_train_score  \\\n",
      "0         0.003080               63            0.846897            0.856616   \n",
      "1         0.004392               56            0.917574            0.922679   \n",
      "2         0.003807               48            0.982100            0.980685   \n",
      "3         0.005336                5            0.994771            0.993972   \n",
      "4         0.003283                8            0.999938            1.000000   \n",
      "..             ...              ...                 ...                 ...   \n",
      "58        0.003353                9            1.000000            1.000000   \n",
      "59        0.003723               15            1.000000            1.000000   \n",
      "60        0.003723               15            1.000000            1.000000   \n",
      "61        0.003723               15            1.000000            1.000000   \n",
      "62        0.003723               15            1.000000            1.000000   \n",
      "\n",
      "    split2_train_score  split3_train_score  split4_train_score  \\\n",
      "0             0.855333            0.854656            0.856686   \n",
      "1             0.918502            0.916964            0.919547   \n",
      "2             0.980871            0.981609            0.981548   \n",
      "3             0.994341            0.994157            0.994403   \n",
      "4             1.000000            1.000000            1.000000   \n",
      "..                 ...                 ...                 ...   \n",
      "58            1.000000            1.000000            1.000000   \n",
      "59            1.000000            1.000000            1.000000   \n",
      "60            1.000000            1.000000            1.000000   \n",
      "61            1.000000            1.000000            1.000000   \n",
      "62            1.000000            1.000000            1.000000   \n",
      "\n",
      "    mean_train_score  std_train_score  \n",
      "0           0.854037         0.003653  \n",
      "1           0.919053         0.002013  \n",
      "2           0.981363         0.000518  \n",
      "3           0.994329         0.000268  \n",
      "4           0.999988         0.000025  \n",
      "..               ...              ...  \n",
      "58          1.000000         0.000000  \n",
      "59          1.000000         0.000000  \n",
      "60          1.000000         0.000000  \n",
      "61          1.000000         0.000000  \n",
      "62          1.000000         0.000000  \n",
      "\n",
      "[63 rows x 22 columns]\n"
     ]
    }
   ],
   "source": [
    "model_summary = pd.DataFrame(model_grid_search.cv_results_)\n",
    "print(model_summary)"
   ]
  },
  {
   "cell_type": "code",
   "execution_count": 49,
   "metadata": {},
   "outputs": [],
   "source": [
    "model_summary.to_csv('svm_model.csv')"
   ]
  },
  {
   "cell_type": "code",
   "execution_count": 79,
   "metadata": {},
   "outputs": [
    {
     "data": {
      "image/png": "[encoded data removed]",
      "text/plain": [
       "<Figure size 1152x1152 with 9 Axes>"
      ]
     },
     "metadata": {
      "needs_background": "light"
     },
     "output_type": "display_data"
    }
   ],
   "source": [
    "fig = plt.figure(figsize=(16,16))\n",
    "fig.tight_layout()\n",
    "gamma =[0.001,0.01,0.05,0.1,0.5,10,30,50,100]\n",
    "count = 1\n",
    "for i in gamma:\n",
    "    gamma_filter = model_summary[model_summary['param_gamma'] == i]\n",
    "    C_gamma = gamma_filter['params']\n",
    "    #print(C_gamma)\n",
    "    Cs = list(map(lambda x:x['C'],C_gamma))\n",
    "    mean_test_score = list(gamma_filter['mean_test_score'])\n",
    "    mean_train_score = list(gamma_filter['mean_train_score'])\n",
    "    if count == 1:\n",
    "        ax = fig.add_subplot(331)\n",
    "        plt.title(\"Gamma=0.001\")\n",
    "    if count == 2:\n",
    "        ax = fig.add_subplot(332)\n",
    "        plt.title(\"Gamma=0.01\")\n",
    "    if count == 3:\n",
    "        ax = fig.add_subplot(333)\n",
    "        plt.title(\"Gamma=0.05\")\n",
    "\n",
    "    if count == 4:\n",
    "        ax = fig.add_subplot(334)\n",
    "        plt.title(\"Gamma=0.1\")\n",
    "    if count == 5:\n",
    "        ax = fig.add_subplot(335)\n",
    "        plt.title(\"Gamma=0.5\")\n",
    "    if count == 6:\n",
    "        ax = fig.add_subplot(336)\n",
    "        plt.title(\"Gamma=10\")\n",
    "    if count == 7:\n",
    "        ax = fig.add_subplot(337)\n",
    "        plt.title(\"Gamma=30\")\n",
    "    if count == 8:\n",
    "        ax = fig.add_subplot(338)\n",
    "        plt.title(\"Gamma=50\")\n",
    "    if count == 9:\n",
    "        ax = fig.add_subplot(339)\n",
    "        plt.title(\"Gamma=50\")\n",
    "    count = count+1\n",
    "    ax.plot(Cs, mean_test_score)\n",
    "    ax.plot(Cs, mean_train_score)\n",
    "    plt.xlabel('C')\n",
    "    plt.ylabel('Accuracy')\n",
    "    plt.ylim([0.7, 1.1])\n",
    "    plt.xlim([10,100])\n",
    "#ax.legend(['test accuracy', 'train accuracy'], loc='upper left')"
   ]
  },
  {
   "cell_type": "code",
   "execution_count": 145,
   "metadata": {},
   "outputs": [
    {
     "name": "stdout",
     "output_type": "stream",
     "text": [
      "Fitting 5 folds for each of 9 candidates, totalling 45 fits\n"
     ]
    },
    {
     "name": "stderr",
     "output_type": "stream",
     "text": [
      "[Parallel(n_jobs=5)]: Using backend LokyBackend with 5 concurrent workers.\n",
      "[Parallel(n_jobs=5)]: Done  45 out of  45 | elapsed: 11.4min finished\n",
      "C:\\Users\\Jabir_shabbir\\Anaconda3\\lib\\site-packages\\sklearn\\svm\\base.py:193: FutureWarning: The default value of gamma will change from 'auto' to 'scale' in version 0.22 to account better for unscaled features. Set gamma explicitly to 'auto' or 'scale' to avoid this warning.\n",
      "  \"avoid this warning.\", FutureWarning)\n"
     ]
    }
   ],
   "source": [
    "folds = KFold(n_splits = 5,shuffle = True,random_state = 4)\n",
    "hyperparameters = [{'C':[1,1.5,2,2.5,4,5,6,8]}]\n",
    "model_svc = SVC(kernel = \"poly\",class_weight='balanced')  \n",
    "model_grid_search = GridSearchCV(estimator = model_svc,param_grid = hyperparameters,scoring = 'f1',cv = folds,verbose = 1,return_train_score = True,n_jobs=5)\n",
    "model_grid_search.fit(churn_data_pca,churn)\n",
    "res = pd.DataFrame(model_grid_search.cv_results_)\n",
    "res.to_csv('PolyKernelSVMGridSearch.csv')"
   ]
  },
  {
   "cell_type": "code",
   "execution_count": 148,
   "metadata": {},
   "outputs": [
    {
     "name": "stderr",
     "output_type": "stream",
     "text": [
      "C:\\Users\\Jabir_shabbir\\Anaconda3\\lib\\site-packages\\sklearn\\svm\\base.py:193: FutureWarning: The default value of gamma will change from 'auto' to 'scale' in version 0.22 to account better for unscaled features. Set gamma explicitly to 'auto' or 'scale' to avoid this warning.\n",
      "  \"avoid this warning.\", FutureWarning)\n"
     ]
    },
    {
     "data": {
      "text/plain": [
       "SVC(C=2, cache_size=200, class_weight='balanced', coef0=0.0,\n",
       "    decision_function_shape='ovr', degree=3, gamma='auto_deprecated',\n",
       "    kernel='poly', max_iter=-1, probability=False, random_state=None,\n",
       "    shrinking=True, tol=0.001, verbose=False)"
      ]
     },
     "execution_count": 148,
     "metadata": {},
     "output_type": "execute_result"
    }
   ],
   "source": [
    "#svc_model_1 = SVC(C=10,kernel = 'rbf',class_weight='balanced',gamma = 0.01)\n",
    "svc_model_poly = SVC(C=2,kernel = 'poly',class_weight='balanced')\n",
    "svc_model_poly.fit(churn_data_pca,churn)"
   ]
  },
  {
   "cell_type": "code",
   "execution_count": 151,
   "metadata": {},
   "outputs": [
    {
     "name": "stderr",
     "output_type": "stream",
     "text": [
      "C:\\Users\\Jabir_shabbir\\Anaconda3\\lib\\site-packages\\sklearn\\svm\\base.py:193: FutureWarning: The default value of gamma will change from 'auto' to 'scale' in version 0.22 to account better for unscaled features. Set gamma explicitly to 'auto' or 'scale' to avoid this warning.\n",
      "  \"avoid this warning.\", FutureWarning)\n"
     ]
    },
    {
     "data": {
      "text/plain": [
       "SVC(C=4, cache_size=200, class_weight='balanced', coef0=0.0,\n",
       "    decision_function_shape='ovr', degree=3, gamma='auto_deprecated',\n",
       "    kernel='poly', max_iter=-1, probability=False, random_state=None,\n",
       "    shrinking=True, tol=0.001, verbose=False)"
      ]
     },
     "execution_count": 151,
     "metadata": {},
     "output_type": "execute_result"
    }
   ],
   "source": [
    "#svc_model_1 = SVC(C=10,kernel = 'rbf',class_weight='balanced',gamma = 0.01)\n",
    "svc_model_poly = SVC(C=4,kernel = 'poly',class_weight='balanced')\n",
    "svc_model_poly.fit(churn_data_pca,churn)"
   ]
  },
  {
   "cell_type": "code",
   "execution_count": 152,
   "metadata": {},
   "outputs": [
    {
     "name": "stdout",
     "output_type": "stream",
     "text": [
      "[[17365  1281]\n",
      " [  138  1538]]\n",
      "0.9301741954532035\n"
     ]
    }
   ],
   "source": [
    "svm_model_poly_predict_train = svc_model_poly.predict(churn_data_pca)\n",
    "print(metrics.confusion_matrix(churn,svm_model_poly_predict_train))\n",
    "print(metrics.accuracy_score(churn,svm_model_poly_predict_train))"
   ]
  },
  {
   "cell_type": "code",
   "execution_count": 153,
   "metadata": {},
   "outputs": [
    {
     "name": "stdout",
     "output_type": "stream",
     "text": [
      "[[7207  778]\n",
      " [ 226  499]]\n",
      "0.8847301951779564\n"
     ]
    }
   ],
   "source": [
    "svm_model_poly_predict_test = svc_model_poly.predict(churn_test_data)\n",
    "print(metrics.confusion_matrix(churn_test,svm_model_poly_predict_test))\n",
    "print(metrics.accuracy_score(churn_test,svm_model_poly_predict_test))"
   ]
  },
  {
   "cell_type": "code",
   "execution_count": 125,
   "metadata": {},
   "outputs": [
    {
     "data": {
      "text/plain": [
       "SVC(C=1.5, cache_size=200, class_weight='balanced', coef0=0.0,\n",
       "    decision_function_shape='ovr', degree=3, gamma=0.001, kernel='rbf',\n",
       "    max_iter=-1, probability=False, random_state=None, shrinking=True,\n",
       "    tol=0.001, verbose=False)"
      ]
     },
     "execution_count": 125,
     "metadata": {},
     "output_type": "execute_result"
    }
   ],
   "source": [
    "#svc_model_1 = SVC(C=10,kernel = 'rbf',class_weight='balanced',gamma = 0.01)\n",
    "svc_model_1 = SVC(C=1.5,kernel = 'rbf',class_weight='balanced',gamma = 0.001)\n",
    "svc_model_1.fit(churn_data_pca,churn)"
   ]
  },
  {
   "cell_type": "code",
   "execution_count": 126,
   "metadata": {},
   "outputs": [
    {
     "name": "stdout",
     "output_type": "stream",
     "text": [
      "[[15683  2963]\n",
      " [  300  1376]]\n",
      "0.8394350949709675\n"
     ]
    }
   ],
   "source": [
    "svm_model_1_predict = svc_model_1.predict(churn_data_pca)\n",
    "print(metrics.confusion_matrix(churn,svm_model_1_predict))\n",
    "print(metrics.accuracy_score(churn,svm_model_1_predict))"
   ]
  },
  {
   "cell_type": "code",
   "execution_count": 127,
   "metadata": {},
   "outputs": [
    {
     "name": "stdout",
     "output_type": "stream",
     "text": [
      "[[6652 1333]\n",
      " [ 136  589]]\n",
      "0.8313432835820895\n"
     ]
    }
   ],
   "source": [
    "svm_model_1_predict = svc_model_1.predict(churn_test_data)\n",
    "print(metrics.confusion_matrix(churn_test,svm_model_1_predict))\n",
    "print(metrics.accuracy_score(churn_test,svm_model_1_predict))"
   ]
  },
  {
   "cell_type": "code",
   "execution_count": 121,
   "metadata": {},
   "outputs": [
    {
     "name": "stdout",
     "output_type": "stream",
     "text": [
      "[[17177  1469]\n",
      " [  187  1489]]\n",
      "0.9185119574844995\n"
     ]
    }
   ],
   "source": [
    "svm_model_1_predict = svc_model_1.predict(churn_data_pca)\n",
    "print(metrics.confusion_matrix(churn,svm_model_1_predict))\n",
    "print(metrics.accuracy_score(churn,svm_model_1_predict))"
   ]
  },
  {
   "cell_type": "code",
   "execution_count": 122,
   "metadata": {},
   "outputs": [
    {
     "name": "stdout",
     "output_type": "stream",
     "text": [
      "[[7193  792]\n",
      " [ 212  513]]\n",
      "0.8847301951779564\n"
     ]
    }
   ],
   "source": [
    "svm_model_1_predict = svc_model_1.predict(churn_test_data)\n",
    "print(metrics.confusion_matrix(churn_test,svm_model_1_predict))\n",
    "print(metrics.accuracy_score(churn_test,svm_model_1_predict))"
   ]
  },
  {
   "cell_type": "code",
   "execution_count": 109,
   "metadata": {},
   "outputs": [
    {
     "name": "stdout",
     "output_type": "stream",
     "text": [
      "[[17610  1036]\n",
      " [   71  1605]]\n",
      "0.9455270150575731\n"
     ]
    }
   ],
   "source": [
    "svm_model_1_predict = svc_model_1.predict(churn_data_pca)\n",
    "print(metrics.confusion_matrix(churn,svm_model_1_predict))\n",
    "print(metrics.accuracy_score(churn,svm_model_1_predict))"
   ]
  },
  {
   "cell_type": "code",
   "execution_count": 110,
   "metadata": {},
   "outputs": [
    {
     "name": "stdout",
     "output_type": "stream",
     "text": [
      "[[7236  749]\n",
      " [ 245  480]]\n",
      "0.8858783008036739\n"
     ]
    }
   ],
   "source": [
    "svm_model_1_predict = svc_model_1.predict(churn_test_data)\n",
    "print(metrics.confusion_matrix(churn_test,svm_model_1_predict))\n",
    "print(metrics.accuracy_score(churn_test,svm_model_1_predict))"
   ]
  },
  {
   "cell_type": "code",
   "execution_count": 106,
   "metadata": {},
   "outputs": [
    {
     "name": "stdout",
     "output_type": "stream",
     "text": [
      "[[17694   952]\n",
      " [   61  1615]]\n",
      "0.9501525440409408\n"
     ]
    }
   ],
   "source": [
    "svm_model_1_predict = svc_model_1.predict(churn_data_pca)\n",
    "print(metrics.confusion_matrix(churn,svm_model_1_predict))\n",
    "print(metrics.accuracy_score(churn,svm_model_1_predict))"
   ]
  },
  {
   "cell_type": "code",
   "execution_count": 107,
   "metadata": {},
   "outputs": [
    {
     "name": "stdout",
     "output_type": "stream",
     "text": [
      "[[7263  722]\n",
      " [ 254  471]]\n",
      "0.8879448909299655\n"
     ]
    }
   ],
   "source": [
    "svm_model_1_predict = svc_model_1.predict(churn_test_data)\n",
    "print(metrics.confusion_matrix(churn_test,svm_model_1_predict))\n",
    "print(metrics.accuracy_score(churn_test,svm_model_1_predict))"
   ]
  },
  {
   "cell_type": "code",
   "execution_count": 103,
   "metadata": {},
   "outputs": [
    {
     "name": "stdout",
     "output_type": "stream",
     "text": [
      "[[17800   846]\n",
      " [   50  1626]]\n",
      "0.9559098513925794\n"
     ]
    }
   ],
   "source": [
    "svm_model_1_predict = svc_model_1.predict(churn_data_pca)\n",
    "print(metrics.confusion_matrix(churn,svm_model_1_predict))\n",
    "print(metrics.accuracy_score(churn,svm_model_1_predict))"
   ]
  },
  {
   "cell_type": "code",
   "execution_count": 104,
   "metadata": {},
   "outputs": [
    {
     "name": "stdout",
     "output_type": "stream",
     "text": [
      "[[7279  706]\n",
      " [ 270  455]]\n",
      "0.8879448909299655\n"
     ]
    }
   ],
   "source": [
    "svm_model_1_predict = svc_model_1.predict(churn_test_data)\n",
    "print(metrics.confusion_matrix(churn_test,svm_model_1_predict))\n",
    "print(metrics.accuracy_score(churn_test,svm_model_1_predict))"
   ]
  },
  {
   "cell_type": "code",
   "execution_count": 101,
   "metadata": {},
   "outputs": [
    {
     "name": "stdout",
     "output_type": "stream",
     "text": [
      "[[18064   582]\n",
      " [   21  1655]]\n",
      "0.9703277236492471\n"
     ]
    }
   ],
   "source": [
    "svm_model_1_predict = svc_model_1.predict(churn_data_pca)\n",
    "print(metrics.confusion_matrix(churn,svm_model_1_predict))\n",
    "print(metrics.accuracy_score(churn,svm_model_1_predict))"
   ]
  },
  {
   "cell_type": "code",
   "execution_count": 100,
   "metadata": {},
   "outputs": [
    {
     "name": "stdout",
     "output_type": "stream",
     "text": [
      "[[7229  756]\n",
      " [ 300  425]]\n",
      "0.8787600459242251\n"
     ]
    }
   ],
   "source": [
    "svm_model_1_predict = svc_model_1.predict(churn_test_data)\n",
    "print(metrics.confusion_matrix(churn_test,svm_model_1_predict))\n",
    "print(metrics.accuracy_score(churn_test,svm_model_1_predict))"
   ]
  },
  {
   "cell_type": "code",
   "execution_count": 98,
   "metadata": {},
   "outputs": [
    {
     "name": "stdout",
     "output_type": "stream",
     "text": [
      "[[15350  3296]\n",
      " [  292  1384]]\n",
      "0.823442574549749\n"
     ]
    }
   ],
   "source": [
    "svm_model_1_predict = svc_model_1.predict(churn_data_pca)\n",
    "print(metrics.confusion_matrix(churn,svm_model_1_predict))\n",
    "print(metrics.accuracy_score(churn,svm_model_1_predict))"
   ]
  },
  {
   "cell_type": "code",
   "execution_count": 97,
   "metadata": {},
   "outputs": [
    {
     "name": "stdout",
     "output_type": "stream",
     "text": [
      "[[6530 1455]\n",
      " [ 126  599]]\n",
      "0.8184845005740529\n"
     ]
    }
   ],
   "source": [
    "svm_model_1_predict = svc_model_1.predict(churn_test_data)\n",
    "print(metrics.confusion_matrix(churn_test,svm_model_1_predict))\n",
    "print(metrics.accuracy_score(churn_test,svm_model_1_predict))"
   ]
  },
  {
   "cell_type": "code",
   "execution_count": 90,
   "metadata": {},
   "outputs": [
    {
     "name": "stdout",
     "output_type": "stream",
     "text": [
      "[[7047  938]\n",
      " [ 215  510]]\n",
      "0.8676234213547647\n"
     ]
    }
   ],
   "source": [
    "svc_model_2 = SVC(C =5000,kernel = 'rbf',gamma = 0.001,class_weight = 'balanced')\n",
    "svc_model_2.fit(churn_data_pca,churn)\n",
    "svm_model_2_predict = svc_model_2.predict(churn_test_data)\n",
    "print(metrics.confusion_matrix(churn_test,svm_model_2_predict))\n",
    "print(metrics.accuracy_score(churn_test,svm_model_2_predict))"
   ]
  },
  {
   "cell_type": "code",
   "execution_count": 84,
   "metadata": {},
   "outputs": [
    {
     "ename": "AttributeError",
     "evalue": "'SVC' object has no attribute 'cv_results_'",
     "output_type": "error",
     "traceback": [
      "\u001b[1;31m---------------------------------------------------------------------------\u001b[0m",
      "\u001b[1;31mAttributeError\u001b[0m                            Traceback (most recent call last)",
      "\u001b[1;32m<ipython-input-84-e8b02efb59f7>\u001b[0m in \u001b[0;36m<module>\u001b[1;34m\u001b[0m\n\u001b[1;32m----> 1\u001b[1;33m \u001b[0mpd\u001b[0m\u001b[1;33m.\u001b[0m\u001b[0mDataFrame\u001b[0m\u001b[1;33m(\u001b[0m\u001b[0msvc_model_2\u001b[0m\u001b[1;33m.\u001b[0m\u001b[0mcv_results_\u001b[0m\u001b[1;33m)\u001b[0m\u001b[1;33m\u001b[0m\u001b[1;33m\u001b[0m\u001b[0m\n\u001b[0m",
      "\u001b[1;31mAttributeError\u001b[0m: 'SVC' object has no attribute 'cv_results_'"
     ]
    }
   ],
   "source": [
    "pd.DataFrame(svc_model_2.cv_results_)"
   ]
  },
  {
   "cell_type": "code",
   "execution_count": 38,
   "metadata": {},
   "outputs": [],
   "source": [
    "folds = KFold(n_splits = 5,shuffle = True,random_state = 4)\n",
    "hyperparameters = {'max_depth': [10,15,20,25,30,35,40,45,50],'min_samples_leaf':range(10,310,10),'n_estimators': range(50,750, 50),'max_features':range(10,45,5)}"
   ]
  },
  {
   "cell_type": "code",
   "execution_count": 43,
   "metadata": {},
   "outputs": [
    {
     "ename": "IndexError",
     "evalue": "list index out of range",
     "output_type": "error",
     "traceback": [
      "\u001b[1;31m---------------------------------------------------------------------------\u001b[0m",
      "\u001b[1;31mIndexError\u001b[0m                                Traceback (most recent call last)",
      "\u001b[1;32m<ipython-input-43-6a432abbf5cc>\u001b[0m in \u001b[0;36m<module>\u001b[1;34m\u001b[0m\n\u001b[0;32m      1\u001b[0m \u001b[0mt\u001b[0m \u001b[1;33m=\u001b[0m \u001b[0mlist\u001b[0m\u001b[1;33m(\u001b[0m\u001b[0mrange\u001b[0m\u001b[1;33m(\u001b[0m\u001b[1;36m200\u001b[0m\u001b[1;33m,\u001b[0m \u001b[1;36m500\u001b[0m\u001b[1;33m,\u001b[0m \u001b[1;36m200\u001b[0m\u001b[1;33m)\u001b[0m\u001b[1;33m)\u001b[0m\u001b[1;33m\u001b[0m\u001b[1;33m\u001b[0m\u001b[0m\n\u001b[1;32m----> 2\u001b[1;33m \u001b[0mprint\u001b[0m\u001b[1;33m(\u001b[0m\u001b[0mt\u001b[0m\u001b[1;33m[\u001b[0m\u001b[1;36m3\u001b[0m\u001b[1;33m]\u001b[0m\u001b[1;33m)\u001b[0m\u001b[1;33m\u001b[0m\u001b[1;33m\u001b[0m\u001b[0m\n\u001b[0m",
      "\u001b[1;31mIndexError\u001b[0m: list index out of range"
     ]
    }
   ],
   "source": [
    "rf = RandomForestClassifier( bootstrap=True,class_weight='balanced')\n",
    "grid_search = GridSearchCV(estimator = rf, param_grid = hyperparameters, \n",
    "                          cv = 5, n_jobs = -1,verbose = 1)\n",
    "grid_search.fit(churn_data_pca,churn)"
   ]
  },
  {
   "cell_type": "code",
   "execution_count": null,
   "metadata": {},
   "outputs": [],
   "source": [
    "folds = KFold(n_splits = 5,shuffle = True,random_state = 4)\n",
    "hyperparameters = {'C':[1,1.5,2,2.5,4,5,8,10],'gamma':[0.001,0.01,0.1]}\n",
    "model_svc = SVC(kernel = \"rbf\",class_weight='balanced')  \n",
    "model_grid_search = GridSearchCV(estimator = model_svc,param_grid = hyperparameters,scoring = 'recall',cv = folds,verbose = 1,return_train_score = True,n_jobs=5)\n",
    "model_grid_search.fit(churn_data_pca,churn)\n",
    "res = pd.DataFrame(model_grid_search.cv_results_)\n",
    "res.to_csv('PolyKernelSVMGridSearch_Radial_Recall.csv')"
   ]
  },
  {
   "cell_type": "code",
   "execution_count": null,
   "metadata": {},
   "outputs": [],
   "source": []
  }
 ],
 "metadata": {
  "kernelspec": {
   "display_name": "Python 3",
   "language": "python",
   "name": "python3"
  },
  "language_info": {
   "codemirror_mode": {
    "name": "ipython",
    "version": 3
   },
   "file_extension": ".py",
   "mimetype": "text/x-python",
   "name": "python",
   "nbconvert_exporter": "python",
   "pygments_lexer": "ipython3",
   "version": "3.7.4"
  }
 },
 "nbformat": 4,
 "nbformat_minor": 2
}
