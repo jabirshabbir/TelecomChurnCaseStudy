{
 "cells": [
  {
   "cell_type": "code",
   "execution_count": 91,
   "metadata": {},
   "outputs": [],
   "source": [
    "import numpy as np\n",
    "import pandas as pd\n",
    "import re\n",
    "from matplotlib import pyplot as plt\n",
    "from sklearn.model_selection import train_test_split\n",
    "from sklearn import preprocessing\n",
    "from sklearn.decomposition import IncrementalPCA\n",
    "import seaborn as snb\n",
    "from sklearn.linear_model import LogisticRegression\n",
    "from sklearn import metrics\n",
    "from sklearn.model_selection import KFold\n",
    "from sklearn.model_selection import cross_val_score\n",
    "from sklearn.model_selection import GridSearchCV\n",
    "from sklearn.svm import SVC"
   ]
  },
  {
   "cell_type": "code",
   "execution_count": 88,
   "metadata": {},
   "outputs": [],
   "source": [
    "def draw_roc( actual, predicted ):\n",
    "    fpr, tpr, thresholds = metrics.roc_curve( actual, predicted,\n",
    "                                              drop_intermediate = False )\n",
    "    auc_score = metrics.roc_auc_score( actual, predicted )\n",
    "    plt.figure(figsize=(5, 5))\n",
    "    plt.plot( fpr, tpr, label='ROC curve (area = %0.2f)' % auc_score )\n",
    "    plt.plot([0, 1], [0, 1], 'k--')\n",
    "    plt.xlim([0.0, 1.0])\n",
    "    plt.ylim([0.0, 1.05])\n",
    "    plt.xlabel('False Positive Rate')\n",
    "    plt.ylabel('True Positive Rate')\n",
    "    plt.title('ROC curve')\n",
    "    plt.legend(loc=\"lower right\")\n",
    "    plt.show()\n",
    "\n",
    "    return None"
   ]
  },
  {
   "cell_type": "code",
   "execution_count": 37,
   "metadata": {},
   "outputs": [],
   "source": [
    "scaled_churn_data = pd.read_csv('traindata.csv')"
   ]
  },
  {
   "cell_type": "code",
   "execution_count": 38,
   "metadata": {},
   "outputs": [],
   "source": [
    "#t = pd.read_csv('telecom_churn_data.csv')\n",
    "scaled_churn_data['Unnamed: 0'].head()\n",
    "scaled_churn_data = scaled_churn_data.drop(['Unnamed: 0'],axis = 1)"
   ]
  },
  {
   "cell_type": "code",
   "execution_count": 39,
   "metadata": {},
   "outputs": [],
   "source": [
    "churn = scaled_churn_data['churn']\n",
    "scaled_churn_data = scaled_churn_data.drop(['churn'],axis = 1)"
   ]
  },
  {
   "cell_type": "code",
   "execution_count": 40,
   "metadata": {},
   "outputs": [
    {
     "data": {
      "text/plain": [
       "PCA(copy=True, iterated_power='auto', n_components=None, random_state=42,\n",
       "    svd_solver='randomized', tol=0.0, whiten=False)"
      ]
     },
     "execution_count": 40,
     "metadata": {},
     "output_type": "execute_result"
    }
   ],
   "source": [
    "from sklearn.decomposition import PCA\n",
    "pca = PCA(svd_solver='randomized', random_state=42)\n",
    "pca.fit(scaled_churn_data)"
   ]
  },
  {
   "cell_type": "code",
   "execution_count": 41,
   "metadata": {},
   "outputs": [
    {
     "data": {
      "image/png": "[encoded data removed]",
      "text/plain": [
       "<Figure size 864x576 with 1 Axes>"
      ]
     },
     "metadata": {
      "needs_background": "light"
     },
     "output_type": "display_data"
    }
   ],
   "source": [
    "%matplotlib inline\n",
    "fig = plt.figure(figsize = (12,8))\n",
    "plt.plot(np.cumsum(pca.explained_variance_ratio_))\n",
    "plt.xlabel('number of components')\n",
    "plt.ylabel('cumulative explained variance')\n",
    "plt.show()"
   ]
  },
  {
   "cell_type": "code",
   "execution_count": 44,
   "metadata": {},
   "outputs": [
    {
     "data": {
      "text/plain": [
       "array([0.09838618, 0.16740066, 0.22079918, 0.27109559, 0.30837961,\n",
       "       0.34285463, 0.37595014, 0.40734188, 0.43596058, 0.4640006 ,\n",
       "       0.49099546, 0.51687521, 0.54225951, 0.56581505, 0.58867173,\n",
       "       0.61075119, 0.63089856, 0.64867243, 0.66642053, 0.68360623,\n",
       "       0.70051108, 0.71489059, 0.72760848, 0.74022213, 0.7520219 ,\n",
       "       0.76301299, 0.77353228, 0.7839335 , 0.79369309, 0.80335742,\n",
       "       0.81272438, 0.82173155, 0.83053093, 0.83834258, 0.84566504,\n",
       "       0.85279727, 0.85939224, 0.86560531, 0.87172574, 0.87736893,\n",
       "       0.88278113, 0.88814958, 0.89334096, 0.89824256, 0.90305048,\n",
       "       0.90767112, 0.91221498, 0.91668393, 0.92084487, 0.92489459,\n",
       "       0.92877229, 0.93253345, 0.93627213, 0.93995475, 0.94355104,\n",
       "       0.94700803, 0.95034958, 0.9534122 , 0.95633781, 0.95919303,\n",
       "       0.96192615, 0.96444992, 0.96690931, 0.96935704, 0.97162356,\n",
       "       0.97383702, 0.97593115, 0.9779681 , 0.9799049 , 0.98174601,\n",
       "       0.98357025, 0.98530431, 0.98698457, 0.98862659, 0.99019369,\n",
       "       0.99168204, 0.99299915, 0.99424558, 0.99539689, 0.9965048 ,\n",
       "       0.99747063, 0.99831008, 0.99904152, 0.99960433, 1.        ,\n",
       "       1.        , 1.        , 1.        , 1.        , 1.        ,\n",
       "       1.        , 1.        ])"
      ]
     },
     "execution_count": 44,
     "metadata": {},
     "output_type": "execute_result"
    }
   ],
   "source": [
    "np.cumsum(pca.explained_variance_ratio_)"
   ]
  },
  {
   "cell_type": "markdown",
   "metadata": {},
   "source": [
    "Here we see that 57 components are sufficient to explain 95%  of the variance"
   ]
  },
  {
   "cell_type": "code",
   "execution_count": 46,
   "metadata": {},
   "outputs": [
    {
     "data": {
      "text/plain": [
       "(20322, 57)"
      ]
     },
     "execution_count": 46,
     "metadata": {},
     "output_type": "execute_result"
    }
   ],
   "source": [
    "#however we can take incremental PCA to get the values of data corresponding to new components\n",
    "pca_final = IncrementalPCA(n_components=57)\n",
    "churn_data_pca = pca_final.fit_transform(scaled_churn_data)\n",
    "churn_data_pca.shape"
   ]
  },
  {
   "cell_type": "code",
   "execution_count": 47,
   "metadata": {},
   "outputs": [],
   "source": [
    "correlation_mat = np.corrcoef(churn_data_pca.transpose())"
   ]
  },
  {
   "cell_type": "code",
   "execution_count": 48,
   "metadata": {},
   "outputs": [
    {
     "name": "stdout",
     "output_type": "stream",
     "text": [
      "0.05886125007163609\n",
      "-0.05574456360837283\n"
     ]
    },
    {
     "data": {
      "text/plain": [
       "(57, 57)"
      ]
     },
     "execution_count": 48,
     "metadata": {},
     "output_type": "execute_result"
    }
   ],
   "source": [
    "corrmat_nodiag = correlation_mat - np.diagflat(correlation_mat.diagonal())\n",
    "print(np.max(corrmat_nodiag))\n",
    "print(np.min(corrmat_nodiag))\n",
    "correlation_mat.shape"
   ]
  },
  {
   "cell_type": "markdown",
   "metadata": {},
   "source": [
    "The correlation is almost close to zero.So now we are good to start with modelling"
   ]
  },
  {
   "cell_type": "markdown",
   "metadata": {},
   "source": [
    "So first lets get our hands dirty with simple logistic regression"
   ]
  },
  {
   "cell_type": "code",
   "execution_count": 56,
   "metadata": {},
   "outputs": [],
   "source": [
    "#load test data\n",
    "scaled_churn_data_test = pd.read_csv('testdata.csv')\n",
    "churn_test = scaled_churn_data_test['churn']\n",
    "scaled_churn_data_test = scaled_churn_data_test.drop(['churn'],axis = 1)"
   ]
  },
  {
   "cell_type": "code",
   "execution_count": 57,
   "metadata": {},
   "outputs": [],
   "source": [
    "scaled_churn_data_test = scaled_churn_data_test.drop(['Unnamed: 0'],axis = 1)"
   ]
  },
  {
   "cell_type": "code",
   "execution_count": 58,
   "metadata": {},
   "outputs": [],
   "source": [
    "churn_test_data = pca_final.transform(scaled_churn_data_test)"
   ]
  },
  {
   "cell_type": "code",
   "execution_count": 59,
   "metadata": {},
   "outputs": [
    {
     "data": {
      "text/plain": [
       "(8710, 57)"
      ]
     },
     "execution_count": 59,
     "metadata": {},
     "output_type": "execute_result"
    }
   ],
   "source": [
    "churn_test_data.shape"
   ]
  },
  {
   "cell_type": "code",
   "execution_count": 49,
   "metadata": {},
   "outputs": [
    {
     "name": "stderr",
     "output_type": "stream",
     "text": [
      "C:\\Users\\Jabir_shabbir\\Anaconda3\\lib\\site-packages\\sklearn\\linear_model\\logistic.py:432: FutureWarning: Default solver will be changed to 'lbfgs' in 0.22. Specify a solver to silence this warning.\n",
      "  FutureWarning)\n"
     ]
    }
   ],
   "source": [
    "learner_pca = LogisticRegression(random_state=0, class_weight='balanced')\n",
    "model_pca = learner_pca.fit(churn_data_pca,churn)"
   ]
  },
  {
   "cell_type": "code",
   "execution_count": 71,
   "metadata": {},
   "outputs": [],
   "source": [
    "pred_prob_train = model_pca.predict_proba(churn_data_pca)[:,1]\n",
    "churn_pred = pd.Series(pred_prob_train).map(lambda x:1 if x>0.5 else 0)"
   ]
  },
  {
   "cell_type": "code",
   "execution_count": 74,
   "metadata": {},
   "outputs": [],
   "source": [
    "#help(metrics.confusion_matrix)"
   ]
  },
  {
   "cell_type": "code",
   "execution_count": 75,
   "metadata": {},
   "outputs": [
    {
     "data": {
      "text/plain": [
       "array([[14947,  3699],\n",
       "       [  272,  1404]], dtype=int64)"
      ]
     },
     "execution_count": 75,
     "metadata": {},
     "output_type": "execute_result"
    }
   ],
   "source": [
    "# Let's take a look at the confusion matrix again \n",
    "confusion = metrics.confusion_matrix(churn,churn_pred )\n",
    "confusion"
   ]
  },
  {
   "cell_type": "code",
   "execution_count": 77,
   "metadata": {},
   "outputs": [
    {
     "data": {
      "text/plain": [
       "0.8045960043302824"
      ]
     },
     "execution_count": 77,
     "metadata": {},
     "output_type": "execute_result"
    }
   ],
   "source": [
    "#help(metrics.confusion_matrix)\n",
    "metrics.accuracy_score(churn, churn_pred)"
   ]
  },
  {
   "cell_type": "markdown",
   "metadata": {},
   "source": [
    "Lets check sensitivity and specificity of the model"
   ]
  },
  {
   "cell_type": "code",
   "execution_count": 79,
   "metadata": {},
   "outputs": [
    {
     "name": "stdout",
     "output_type": "stream",
     "text": [
      "0.837708830548926\n",
      "0.8016196503271479\n"
     ]
    }
   ],
   "source": [
    "sensitivity = confusion[1,1]/(confusion[1,1]+confusion[1,0])\n",
    "specificity = confusion[0,0]/(confusion[0,0]+confusion[0,1])\n",
    "print(sensitivity)\n",
    "print(specificity)"
   ]
  },
  {
   "cell_type": "code",
   "execution_count": 89,
   "metadata": {},
   "outputs": [
    {
     "data": {
      "image/png": "[encoded data removed]",
      "text/plain": [
       "<Figure size 360x360 with 1 Axes>"
      ]
     },
     "metadata": {
      "needs_background": "light"
     },
     "output_type": "display_data"
    }
   ],
   "source": [
    "draw_roc(churn, pred_prob_train)"
   ]
  },
  {
   "cell_type": "code",
   "execution_count": 85,
   "metadata": {},
   "outputs": [
    {
     "name": "stdout",
     "output_type": "stream",
     "text": [
      "0.5:\n",
      "[[14947  3699]\n",
      " [  272  1404]]\n",
      "Sensitivity:\n",
      "0.837708830548926\n",
      "Specificity:\n",
      "0.8016196503271479\n",
      "Accuracy\n",
      "0.8045960043302824\n",
      "\n",
      "0.45:\n",
      "[[14278  4368]\n",
      " [  226  1450]]\n",
      "Sensitivity:\n",
      "0.8651551312649165\n",
      "Specificity:\n",
      "0.7657406414244342\n",
      "Accuracy\n",
      "0.7739395728766854\n",
      "\n",
      "0.4:\n",
      "[[13533  5113]\n",
      " [  198  1478]]\n",
      "Sensitivity:\n",
      "0.8818615751789977\n",
      "Specificity:\n",
      "0.7257856913010834\n",
      "Accuracy\n",
      "0.7386576124397205\n",
      "\n",
      "0.35:\n",
      "[[12749  5897]\n",
      " [  170  1506]]\n",
      "Sensitivity:\n",
      "0.8985680190930787\n",
      "Specificity:\n",
      "0.6837391397618793\n",
      "Accuracy\n",
      "0.7014565495522094\n",
      "\n",
      "0.3:\n",
      "[[11845  6801]\n",
      " [  140  1536]]\n",
      "Sensitivity:\n",
      "0.9164677804295943\n",
      "Specificity:\n",
      "0.6352568915585112\n",
      "Accuracy\n",
      "0.6584489715579175\n",
      "\n",
      "0.25:\n",
      "[[10854  7792]\n",
      " [  113  1563]]\n",
      "Sensitivity:\n",
      "0.9325775656324582\n",
      "Specificity:\n",
      "0.5821087632736244\n",
      "Accuracy\n",
      "0.6110126956008267\n",
      "\n",
      "0.2:\n",
      "[[9690 8956]\n",
      " [  84 1592]]\n",
      "Sensitivity:\n",
      "0.9498806682577565\n",
      "Specificity:\n",
      "0.5196825056312345\n",
      "Accuracy\n",
      "0.5551618935144179\n",
      "\n"
     ]
    }
   ],
   "source": [
    "for cutoff in [0.5,0.45,0.4,0.35,0.3,0.25,0.2]:\n",
    "    churn_pred = pd.Series(pred_prob_train).map(lambda x:1 if x>cutoff else 0)\n",
    "    confusion = metrics.confusion_matrix(churn,churn_pred )\n",
    "    print(str(cutoff)+\":\")\n",
    "    print(confusion)\n",
    "    sensitivity = confusion[1,1]/(confusion[1,1]+confusion[1,0])\n",
    "    specificity = confusion[0,0]/(confusion[0,0]+confusion[0,1])\n",
    "    print(\"Sensitivity:\")\n",
    "    print(sensitivity)\n",
    "    print(\"Specificity:\")\n",
    "    print(specificity)\n",
    "    print(\"Accuracy\")\n",
    "    print(metrics.accuracy_score(churn, churn_pred))\n",
    "    print(\"\")"
   ]
  },
  {
   "cell_type": "markdown",
   "metadata": {},
   "source": [
    "With this model we can pick cuttoff as 0.45 as sensitivity is more important here.It gives almost 86% sensitivity and decent accuracy of 77%.Its important to identify churners"
   ]
  },
  {
   "cell_type": "markdown",
   "metadata": {},
   "source": [
    "We see that model has pretty good sensitivity,specificity and good accuracy.However sensitivity is more important\n",
    "in our model.However this is in case of training data.Lets check for test data."
   ]
  },
  {
   "cell_type": "code",
   "execution_count": 86,
   "metadata": {},
   "outputs": [
    {
     "name": "stdout",
     "output_type": "stream",
     "text": [
      "[[6076 1909]\n",
      " [  95  630]]\n"
     ]
    }
   ],
   "source": [
    "pred_prob_test = model_pca.predict_proba(churn_test_data)[:,1]\n",
    "churn_pred_test = pd.Series(pred_prob_test).map(lambda x:1 if x>0.45 else 0)\n",
    "confusion = metrics.confusion_matrix(churn_test,churn_pred_test )\n",
    "print(confusion)"
   ]
  },
  {
   "cell_type": "code",
   "execution_count": 87,
   "metadata": {},
   "outputs": [
    {
     "name": "stdout",
     "output_type": "stream",
     "text": [
      "0.8689655172413793\n",
      "0.760926737633062\n"
     ]
    },
    {
     "data": {
      "text/plain": [
       "0.7699196326061998"
      ]
     },
     "execution_count": 87,
     "metadata": {},
     "output_type": "execute_result"
    }
   ],
   "source": [
    "sensitivity = confusion[1,1]/(confusion[1,1]+confusion[1,0])\n",
    "specificity = confusion[0,0]/(confusion[0,0]+confusion[0,1])\n",
    "print(sensitivity)\n",
    "print(specificity)\n",
    "metrics.accuracy_score(churn_test, churn_pred_test)"
   ]
  },
  {
   "cell_type": "markdown",
   "metadata": {},
   "source": [
    "The model seems to be doing good job on test data as well with sensitivity ,specificity and accuracy being very much\n",
    "in par with training data set.As of now regularization is not required as there is no significant difference between the\n",
    "metrics of train and test performances,no sign of overfitting"
   ]
  },
  {
   "cell_type": "markdown",
   "metadata": {},
   "source": [
    "Now lets take another model SVM and evaluate the performance"
   ]
  },
  {
   "cell_type": "code",
   "execution_count": null,
   "metadata": {},
   "outputs": [],
   "source": [
    "svc_model = SVC(C=10,kernel = 'linear',class_weight='balanced')\n",
    "svc_model.fit(churn_data_pca,churn)\n",
    "pred_svm = svc_model.predict(churn_data_pca)\n"
   ]
  },
  {
   "cell_type": "code",
   "execution_count": null,
   "metadata": {},
   "outputs": [],
   "source": []
  },
  {
   "cell_type": "code",
   "execution_count": null,
   "metadata": {},
   "outputs": [],
   "source": [
    "metrics.confusion_matrix(churn,pred_svm)"
   ]
  },
  {
   "cell_type": "code",
   "execution_count": null,
   "metadata": {},
   "outputs": [],
   "source": [
    "folds = KFold(n_splits = 5,shuffle = True,random_state = 4)\n",
    "hyperparamers = [{'gamma' :[0.001,0.01,0.05,0.1,0.5,10,30,50,100],'C':[10,15,20,25,30,50,100]}]\n",
    "model_svc = SVC(kernel = \"rbf\",class_weight='balanced')  \n",
    "model_grid_search = GridSearchCV(estimator = model_svc,param_grid = hyperparameters,scoring = 'accuracy',fold = folds,verbose = 1,return_train_score = True)\n",
    "model_grid_search.fit(churn_data_pca,churn)"
   ]
  }
 ],
 "metadata": {
  "kernelspec": {
   "display_name": "Python 3",
   "language": "python",
   "name": "python3"
  },
  "language_info": {
   "codemirror_mode": {
    "name": "ipython",
    "version": 3
   },
   "file_extension": ".py",
   "mimetype": "text/x-python",
   "name": "python",
   "nbconvert_exporter": "python",
   "pygments_lexer": "ipython3",
   "version": "3.7.4"
  }
 },
 "nbformat": 4,
 "nbformat_minor": 2
}
